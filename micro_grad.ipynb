{
  "nbformat": 4,
  "nbformat_minor": 0,
  "metadata": {
    "colab": {
      "provenance": []
    },
    "kernelspec": {
      "name": "python3",
      "display_name": "Python 3"
    },
    "language_info": {
      "name": "python"
    }
  },
  "cells": [
    {
      "cell_type": "code",
      "source": [
        "import math\n",
        "import numpy as np\n",
        "import matplotlib.pyplot as plt\n",
        "%matplotlib inline"
      ],
      "metadata": {
        "id": "6T7iWA9BiKwl"
      },
      "execution_count": null,
      "outputs": []
    },
    {
      "cell_type": "code",
      "source": [
        "class Value:\n",
        "    def __init__(self,data, _children=(), _op = \"\", _label = \"\") -> None:\n",
        "        self.data = data\n",
        "        self._prev = set(_children)\n",
        "        self._op = _op\n",
        "        self._label = _label\n",
        "\n",
        "        self.grad = 0.0 # no effect defualt that gradadient does not affect  # this represents derivative of output (L) with respect to this node\n",
        "        self._backward = lambda: None\n",
        "\n",
        "    def __repr__(self) -> str:\n",
        "        return f\"Value(data={self.data})\"\n",
        "\n",
        "    def __add__(self,other):\n",
        "        other = other if isinstance(other, Value) else Value(other)\n",
        "        out = Value(self.data + other.data, (self, other), \"+\")\n",
        "\n",
        "        def _backward():\n",
        "          self.grad += 1.0 * out.grad\n",
        "          other.grad += 1.0 * out.grad\n",
        "\n",
        "        out._backward = _backward\n",
        "\n",
        "        return out\n",
        "\n",
        "    def __mul__(self,other):\n",
        "        other = other if isinstance(other, Value) else Value(other)\n",
        "        out = Value(self.data * other.data, (self, other),\"*\")\n",
        "\n",
        "        def _backward():\n",
        "          self.grad += other.data * out.grad\n",
        "          other.grad += self.data * out.grad\n",
        "\n",
        "        out._backward = _backward\n",
        "        return out\n",
        "\n",
        "    def __pow__(self,other):\n",
        "      assert isinstance(other, (int, float)), \"only supporting int/float powers\"\n",
        "      out = Value(self.data**other, (self,), f'**{other}')\n",
        "\n",
        "      def _backward():\n",
        "        self.grad += other*(self.data**(other-1)) * out.grad\n",
        "      out._backward = _backward\n",
        "\n",
        "      return out\n",
        "\n",
        "    def __rmul__(self,other): # other + self\n",
        "        return self * other\n",
        "\n",
        "    def __truediv__(self, other):\n",
        "      return self * other**-1 # self/other\n",
        "\n",
        "    def __neg__(self):\n",
        "      return self * -1\n",
        "\n",
        "    def __sub__(self,other): #self - other\n",
        "      return self + (-other)\n",
        "\n",
        "    def __radd__(self, other): # other + self\n",
        "        return self + other\n",
        "\n",
        "    def tanh(self):\n",
        "        x = self.data\n",
        "        t = (math.exp(2*x) - 1)/(math.exp(2*x) + 1)\n",
        "        out = Value(t, (self,), 'tanh')\n",
        "\n",
        "        def _backward(): #1 - o**2\n",
        "            self.grad += (1 - t**2) * out.grad\n",
        "\n",
        "        out._backward = _backward\n",
        "\n",
        "        return out\n",
        "\n",
        "    def exp(self):\n",
        "      x = self.data\n",
        "      out = Value(math.exp(x), (self,), 'exp')\n",
        "\n",
        "      def _backward():\n",
        "          self.grad += out.data * out.grad\n",
        "      out._backward = _backward\n",
        "\n",
        "      return out\n",
        "\n",
        "    def backward(self):\n",
        "\n",
        "        topo = []\n",
        "        visited = set()\n",
        "        def build_topo(v):\n",
        "            if v not in visited:\n",
        "              visited.add(v)\n",
        "              for child in v._prev:\n",
        "                build_topo(child)\n",
        "              topo.append(v)\n",
        "        build_topo(self)\n",
        "\n",
        "        self.grad = 1.0\n",
        "\n",
        "        for node in reversed(topo): node._backward()"
      ],
      "metadata": {
        "id": "1KNY1bAQiI7J"
      },
      "execution_count": null,
      "outputs": []
    },
    {
      "cell_type": "code",
      "source": [
        "a = Value(2.0)\n",
        "b = Value(4.0)\n",
        "b / a"
      ],
      "metadata": {
        "colab": {
          "base_uri": "https://localhost:8080/"
        },
        "id": "piktkRxuGbeB",
        "outputId": "03205db2-c80d-4884-eefc-3a6efd7bf704"
      },
      "execution_count": null,
      "outputs": [
        {
          "output_type": "execute_result",
          "data": {
            "text/plain": [
              "Value(data=2.0)"
            ]
          },
          "metadata": {},
          "execution_count": 118
        }
      ]
    },
    {
      "cell_type": "code",
      "execution_count": null,
      "metadata": {
        "id": "NeJHUNWsh0qp"
      },
      "outputs": [],
      "source": [
        "from graphviz import Digraph\n",
        "\n",
        "def trace(root):\n",
        "    nodes,edges = set(), set()\n",
        "    def build(v):\n",
        "        if v not in nodes:\n",
        "            nodes.add(v)\n",
        "            for child in v._prev:\n",
        "                edges.add((child,v))\n",
        "                build(child)\n",
        "    build(root)\n",
        "    return nodes,edges\n",
        "\n",
        "def draw_dot(root):\n",
        "    dot = Digraph(format='svg',graph_attr={'rankdir':'LR'})\n",
        "\n",
        "    nodes, edges = trace(root)\n",
        "    print(edges)\n",
        "    for n in nodes:\n",
        "        uid = str(id(n))\n",
        "\n",
        "        dot.node(name = uid, label = \"{ %s | data %.4f | grad %0.4f}\" % (n._label, n.data,n.grad), shape='record')\n",
        "\n",
        "        if n._op:\n",
        "            dot.node(name = uid + n._op,label=n._op)\n",
        "            dot.edge(uid + n._op, uid)\n",
        "\n",
        "    for n1, n2 in edges:\n",
        "        dot.edge(str(id(n1)), str(id(n2)) + n2._op)\n",
        "\n",
        "    return dot"
      ]
    },
    {
      "cell_type": "code",
      "source": [
        "a = Value(2.0,_label=\"a\")\n",
        "b = Value(-3.0,_label=\"b\")\n",
        "c = Value(10.0,_label=\"c\")\n",
        "e = a*b; e._label = 'e'\n",
        "d = e + c; d._label = 'd'\n",
        "f = Value(-2.0, _label ='f')\n",
        "L = d*f\n",
        "L._label = 'L '\n",
        "d"
      ],
      "metadata": {
        "colab": {
          "base_uri": "https://localhost:8080/"
        },
        "id": "avOI3AbyiB5D",
        "outputId": "f38ecfef-9a46-4904-c1e1-dd498817e81d"
      },
      "execution_count": null,
      "outputs": [
        {
          "output_type": "execute_result",
          "data": {
            "text/plain": [
              "Value(data=4.0)"
            ]
          },
          "metadata": {},
          "execution_count": 4
        }
      ]
    },
    {
      "cell_type": "code",
      "source": [
        "draw_dot(L) #forward pass"
      ],
      "metadata": {
        "colab": {
          "base_uri": "https://localhost:8080/",
          "height": 267
        },
        "id": "6iS3rOHMiVeD",
        "outputId": "61bfeebb-1436-470e-baaf-a048c2793f5d"
      },
      "execution_count": null,
      "outputs": [
        {
          "output_type": "stream",
          "name": "stdout",
          "text": [
            "{(Value(data=4.0), Value(data=-8.0)), (Value(data=-6.0), Value(data=4.0)), (Value(data=-2.0), Value(data=-8.0)), (Value(data=-3.0), Value(data=-6.0)), (Value(data=10.0), Value(data=4.0)), (Value(data=2.0), Value(data=-6.0))}\n"
          ]
        },
        {
          "output_type": "execute_result",
          "data": {
            "image/svg+xml": "<?xml version=\"1.0\" encoding=\"UTF-8\" standalone=\"no\"?>\n<!DOCTYPE svg PUBLIC \"-//W3C//DTD SVG 1.1//EN\"\n \"http://www.w3.org/Graphics/SVG/1.1/DTD/svg11.dtd\">\n<!-- Generated by graphviz version 2.43.0 (0)\n -->\n<!-- Title: %3 Pages: 1 -->\n<svg width=\"1157pt\" height=\"156pt\"\n viewBox=\"0.00 0.00 1157.00 156.00\" xmlns=\"http://www.w3.org/2000/svg\" xmlns:xlink=\"http://www.w3.org/1999/xlink\">\n<g id=\"graph0\" class=\"graph\" transform=\"scale(1 1) rotate(0) translate(4 152)\">\n<title>%3</title>\n<polygon fill=\"white\" stroke=\"transparent\" points=\"-4,4 -4,-152 1153,-152 1153,4 -4,4\"/>\n<!-- 138576375526400 -->\n<g id=\"node1\" class=\"node\">\n<title>138576375526400</title>\n<polygon fill=\"none\" stroke=\"black\" points=\"957,-27.5 957,-63.5 1149,-63.5 1149,-27.5 957,-27.5\"/>\n<text text-anchor=\"middle\" x=\"969.5\" y=\"-41.8\" font-family=\"Times,serif\" font-size=\"14.00\">L</text>\n<polyline fill=\"none\" stroke=\"black\" points=\"982,-27.5 982,-63.5 \"/>\n<text text-anchor=\"middle\" x=\"1024.5\" y=\"-41.8\" font-family=\"Times,serif\" font-size=\"14.00\">data &#45;8.0000</text>\n<polyline fill=\"none\" stroke=\"black\" points=\"1067,-27.5 1067,-63.5 \"/>\n<text text-anchor=\"middle\" x=\"1108\" y=\"-41.8\" font-family=\"Times,serif\" font-size=\"14.00\">grad 1.0000</text>\n</g>\n<!-- 138576375526400* -->\n<g id=\"node2\" class=\"node\">\n<title>138576375526400*</title>\n<ellipse fill=\"none\" stroke=\"black\" cx=\"894\" cy=\"-45.5\" rx=\"27\" ry=\"18\"/>\n<text text-anchor=\"middle\" x=\"894\" y=\"-41.8\" font-family=\"Times,serif\" font-size=\"14.00\">*</text>\n</g>\n<!-- 138576375526400*&#45;&gt;138576375526400 -->\n<g id=\"edge1\" class=\"edge\">\n<title>138576375526400*&#45;&gt;138576375526400</title>\n<path fill=\"none\" stroke=\"black\" d=\"M921.28,-45.5C928.78,-45.5 937.44,-45.5 946.67,-45.5\"/>\n<polygon fill=\"black\" stroke=\"black\" points=\"946.87,-49 956.87,-45.5 946.87,-42 946.87,-49\"/>\n</g>\n<!-- 138576375525968 -->\n<g id=\"node3\" class=\"node\">\n<title>138576375525968</title>\n<polygon fill=\"none\" stroke=\"black\" points=\"321,-83.5 321,-119.5 515,-119.5 515,-83.5 321,-83.5\"/>\n<text text-anchor=\"middle\" x=\"332.5\" y=\"-97.8\" font-family=\"Times,serif\" font-size=\"14.00\">e</text>\n<polyline fill=\"none\" stroke=\"black\" points=\"344,-83.5 344,-119.5 \"/>\n<text text-anchor=\"middle\" x=\"386.5\" y=\"-97.8\" font-family=\"Times,serif\" font-size=\"14.00\">data &#45;6.0000</text>\n<polyline fill=\"none\" stroke=\"black\" points=\"429,-83.5 429,-119.5 \"/>\n<text text-anchor=\"middle\" x=\"472\" y=\"-97.8\" font-family=\"Times,serif\" font-size=\"14.00\">grad &#45;2.0000</text>\n</g>\n<!-- 138576375527744+ -->\n<g id=\"node9\" class=\"node\">\n<title>138576375527744+</title>\n<ellipse fill=\"none\" stroke=\"black\" cx=\"579\" cy=\"-73.5\" rx=\"27\" ry=\"18\"/>\n<text text-anchor=\"middle\" x=\"579\" y=\"-69.8\" font-family=\"Times,serif\" font-size=\"14.00\">+</text>\n</g>\n<!-- 138576375525968&#45;&gt;138576375527744+ -->\n<g id=\"edge5\" class=\"edge\">\n<title>138576375525968&#45;&gt;138576375527744+</title>\n<path fill=\"none\" stroke=\"black\" d=\"M515.16,-84.57C524.82,-82.87 534.13,-81.23 542.49,-79.75\"/>\n<polygon fill=\"black\" stroke=\"black\" points=\"543.3,-83.17 552.54,-77.98 542.08,-76.27 543.3,-83.17\"/>\n</g>\n<!-- 138576375525968* -->\n<g id=\"node4\" class=\"node\">\n<title>138576375525968*</title>\n<ellipse fill=\"none\" stroke=\"black\" cx=\"257\" cy=\"-101.5\" rx=\"27\" ry=\"18\"/>\n<text text-anchor=\"middle\" x=\"257\" y=\"-97.8\" font-family=\"Times,serif\" font-size=\"14.00\">*</text>\n</g>\n<!-- 138576375525968*&#45;&gt;138576375525968 -->\n<g id=\"edge2\" class=\"edge\">\n<title>138576375525968*&#45;&gt;138576375525968</title>\n<path fill=\"none\" stroke=\"black\" d=\"M284.26,-101.5C292.05,-101.5 301.1,-101.5 310.75,-101.5\"/>\n<polygon fill=\"black\" stroke=\"black\" points=\"310.99,-105 320.99,-101.5 310.99,-98 310.99,-105\"/>\n</g>\n<!-- 138576375528560 -->\n<g id=\"node5\" class=\"node\">\n<title>138576375528560</title>\n<polygon fill=\"none\" stroke=\"black\" points=\"320,-28.5 320,-64.5 516,-64.5 516,-28.5 320,-28.5\"/>\n<text text-anchor=\"middle\" x=\"331.5\" y=\"-42.8\" font-family=\"Times,serif\" font-size=\"14.00\">c</text>\n<polyline fill=\"none\" stroke=\"black\" points=\"343,-28.5 343,-64.5 \"/>\n<text text-anchor=\"middle\" x=\"386.5\" y=\"-42.8\" font-family=\"Times,serif\" font-size=\"14.00\">data 10.0000</text>\n<polyline fill=\"none\" stroke=\"black\" points=\"430,-28.5 430,-64.5 \"/>\n<text text-anchor=\"middle\" x=\"473\" y=\"-42.8\" font-family=\"Times,serif\" font-size=\"14.00\">grad &#45;2.0000</text>\n</g>\n<!-- 138576375528560&#45;&gt;138576375527744+ -->\n<g id=\"edge8\" class=\"edge\">\n<title>138576375528560&#45;&gt;138576375527744+</title>\n<path fill=\"none\" stroke=\"black\" d=\"M516.07,-62.98C525.42,-64.57 534.43,-66.1 542.55,-67.48\"/>\n<polygon fill=\"black\" stroke=\"black\" points=\"542.21,-70.97 552.65,-69.2 543.38,-64.07 542.21,-70.97\"/>\n</g>\n<!-- 138576375525008 -->\n<g id=\"node6\" class=\"node\">\n<title>138576375525008</title>\n<polygon fill=\"none\" stroke=\"black\" points=\"0,-111.5 0,-147.5 194,-147.5 194,-111.5 0,-111.5\"/>\n<text text-anchor=\"middle\" x=\"11.5\" y=\"-125.8\" font-family=\"Times,serif\" font-size=\"14.00\">b</text>\n<polyline fill=\"none\" stroke=\"black\" points=\"23,-111.5 23,-147.5 \"/>\n<text text-anchor=\"middle\" x=\"65.5\" y=\"-125.8\" font-family=\"Times,serif\" font-size=\"14.00\">data &#45;3.0000</text>\n<polyline fill=\"none\" stroke=\"black\" points=\"108,-111.5 108,-147.5 \"/>\n<text text-anchor=\"middle\" x=\"151\" y=\"-125.8\" font-family=\"Times,serif\" font-size=\"14.00\">grad &#45;4.0000</text>\n</g>\n<!-- 138576375525008&#45;&gt;138576375525968* -->\n<g id=\"edge7\" class=\"edge\">\n<title>138576375525008&#45;&gt;138576375525968*</title>\n<path fill=\"none\" stroke=\"black\" d=\"M194.01,-112.49C203.35,-110.83 212.37,-109.23 220.49,-107.79\"/>\n<polygon fill=\"black\" stroke=\"black\" points=\"221.37,-111.19 230.6,-106 220.15,-104.3 221.37,-111.19\"/>\n</g>\n<!-- 138576375522512 -->\n<g id=\"node7\" class=\"node\">\n<title>138576375522512</title>\n<polygon fill=\"none\" stroke=\"black\" points=\"4.5,-56.5 4.5,-92.5 189.5,-92.5 189.5,-56.5 4.5,-56.5\"/>\n<text text-anchor=\"middle\" x=\"16\" y=\"-70.8\" font-family=\"Times,serif\" font-size=\"14.00\">a</text>\n<polyline fill=\"none\" stroke=\"black\" points=\"27.5,-56.5 27.5,-92.5 \"/>\n<text text-anchor=\"middle\" x=\"67.5\" y=\"-70.8\" font-family=\"Times,serif\" font-size=\"14.00\">data 2.0000</text>\n<polyline fill=\"none\" stroke=\"black\" points=\"107.5,-56.5 107.5,-92.5 \"/>\n<text text-anchor=\"middle\" x=\"148.5\" y=\"-70.8\" font-family=\"Times,serif\" font-size=\"14.00\">grad 6.0000</text>\n</g>\n<!-- 138576375522512&#45;&gt;138576375525968* -->\n<g id=\"edge9\" class=\"edge\">\n<title>138576375522512&#45;&gt;138576375525968*</title>\n<path fill=\"none\" stroke=\"black\" d=\"M189.91,-90.21C200.76,-92.06 211.28,-93.86 220.61,-95.45\"/>\n<polygon fill=\"black\" stroke=\"black\" points=\"220.16,-98.93 230.6,-97.16 221.34,-92.03 220.16,-98.93\"/>\n</g>\n<!-- 138576375527744 -->\n<g id=\"node8\" class=\"node\">\n<title>138576375527744</title>\n<polygon fill=\"none\" stroke=\"black\" points=\"642,-55.5 642,-91.5 831,-91.5 831,-55.5 642,-55.5\"/>\n<text text-anchor=\"middle\" x=\"653.5\" y=\"-69.8\" font-family=\"Times,serif\" font-size=\"14.00\">d</text>\n<polyline fill=\"none\" stroke=\"black\" points=\"665,-55.5 665,-91.5 \"/>\n<text text-anchor=\"middle\" x=\"705\" y=\"-69.8\" font-family=\"Times,serif\" font-size=\"14.00\">data 4.0000</text>\n<polyline fill=\"none\" stroke=\"black\" points=\"745,-55.5 745,-91.5 \"/>\n<text text-anchor=\"middle\" x=\"788\" y=\"-69.8\" font-family=\"Times,serif\" font-size=\"14.00\">grad &#45;2.0000</text>\n</g>\n<!-- 138576375527744&#45;&gt;138576375526400* -->\n<g id=\"edge4\" class=\"edge\">\n<title>138576375527744&#45;&gt;138576375526400*</title>\n<path fill=\"none\" stroke=\"black\" d=\"M831.1,-56.65C840.4,-54.97 849.38,-53.35 857.49,-51.89\"/>\n<polygon fill=\"black\" stroke=\"black\" points=\"858.37,-55.29 867.59,-50.07 857.13,-48.4 858.37,-55.29\"/>\n</g>\n<!-- 138576375527744+&#45;&gt;138576375527744 -->\n<g id=\"edge3\" class=\"edge\">\n<title>138576375527744+&#45;&gt;138576375527744</title>\n<path fill=\"none\" stroke=\"black\" d=\"M606.03,-73.5C613.66,-73.5 622.52,-73.5 631.94,-73.5\"/>\n<polygon fill=\"black\" stroke=\"black\" points=\"631.94,-77 641.94,-73.5 631.94,-70 631.94,-77\"/>\n</g>\n<!-- 138576375523760 -->\n<g id=\"node10\" class=\"node\">\n<title>138576375523760</title>\n<polygon fill=\"none\" stroke=\"black\" points=\"642.5,-0.5 642.5,-36.5 830.5,-36.5 830.5,-0.5 642.5,-0.5\"/>\n<text text-anchor=\"middle\" x=\"653\" y=\"-14.8\" font-family=\"Times,serif\" font-size=\"14.00\">f</text>\n<polyline fill=\"none\" stroke=\"black\" points=\"663.5,-0.5 663.5,-36.5 \"/>\n<text text-anchor=\"middle\" x=\"706\" y=\"-14.8\" font-family=\"Times,serif\" font-size=\"14.00\">data &#45;2.0000</text>\n<polyline fill=\"none\" stroke=\"black\" points=\"748.5,-0.5 748.5,-36.5 \"/>\n<text text-anchor=\"middle\" x=\"789.5\" y=\"-14.8\" font-family=\"Times,serif\" font-size=\"14.00\">grad 4.0000</text>\n</g>\n<!-- 138576375523760&#45;&gt;138576375526400* -->\n<g id=\"edge6\" class=\"edge\">\n<title>138576375523760&#45;&gt;138576375526400*</title>\n<path fill=\"none\" stroke=\"black\" d=\"M830.65,-34.67C840.2,-36.33 849.43,-37.93 857.72,-39.37\"/>\n<polygon fill=\"black\" stroke=\"black\" points=\"857.24,-42.84 867.69,-41.11 858.44,-35.95 857.24,-42.84\"/>\n</g>\n</g>\n</svg>\n",
            "text/plain": [
              "<graphviz.graphs.Digraph at 0x7e08d3aa3c10>"
            ]
          },
          "metadata": {},
          "execution_count": 8
        }
      ]
    },
    {
      "cell_type": "markdown",
      "source": [
        "backpropagation now\n",
        "derivative of l with respect to all the leaf nodes and not the input\n",
        "\n",
        "\n",
        "L here is a loss function now, weights == leaf nodes -> how weights impact loss function"
      ],
      "metadata": {
        "id": "1iQ8BGLblhi6"
      }
    },
    {
      "cell_type": "code",
      "source": [
        "L = d * f\n",
        "\n",
        "dl/dd = ?\n",
        "(f(x+h)-f(x))/h\n",
        "\n",
        "(d+h)*f - d*f)/h\n",
        "d*f + h*f - d*f = hf/h = f"
      ],
      "metadata": {
        "id": "PZml5f5iqYQw"
      },
      "execution_count": null,
      "outputs": []
    },
    {
      "cell_type": "code",
      "source": [
        "# most important\n",
        "dl/dc\n",
        "\n",
        "dd/dc\n",
        "\n",
        "d = c + e\n",
        "\n",
        "(f(x+h)-f(x))/h\n",
        "\n",
        "c + h + e  - (c+e) = c+ h + e - c + e -> h/h = 1.0\n",
        "\n",
        "dd/dc = 1.0 # local differencial\n",
        "dd/de = 1.0\n",
        "\n",
        "\n",
        "dl/dc = dl/dd * dd/dc ="
      ],
      "metadata": {
        "id": "HvehsDWFsXuO"
      },
      "execution_count": null,
      "outputs": []
    },
    {
      "cell_type": "code",
      "source": [
        "dl/de = -2.0\n",
        "\n",
        "we want\n",
        "dl/da = dl/de * de/da\n",
        "\n",
        "e = a*b\n",
        "de /da = b\n"
      ],
      "metadata": {
        "id": "3kc-s1etvMrA"
      },
      "execution_count": null,
      "outputs": []
    },
    {
      "cell_type": "code",
      "source": [
        "L.grad = 1\n",
        "f.grad = 4.0\n",
        "d.grad = -2\n",
        "c.grad =  d.grad*1\n",
        "e.grad = d.grad*1\n",
        "\n",
        "a.grad = e.grad*-3.00\n",
        "b.grad = e.grad*2"
      ],
      "metadata": {
        "id": "hcsO6OgNqSC_"
      },
      "execution_count": null,
      "outputs": []
    },
    {
      "cell_type": "code",
      "source": [
        "def cal_grad():\n",
        "  h = 0.001\n",
        "  a = Value(2.0,_label=\"a\")\n",
        "  b = Value(-3.0,_label=\"b\")\n",
        "  c = Value(10.0,_label=\"c\")\n",
        "  e = a*b; e._label = 'e'\n",
        "  d = e + c; d._label = 'd'\n",
        "  f = Value(-2.0, _label ='f')\n",
        "  L = d*f;L._label = 'L'\n",
        "  L1 = L.data\n",
        "\n",
        "  a = Value(2.0,_label=\"a\")\n",
        "  b = Value(-3.0,_label=\"b\")\n",
        "  c = Value(10.0,_label=\"c\")\n",
        "  c.data+=h\n",
        "  e = a*b; e._label = 'e'\n",
        "  d = e + c; d._label = 'd'\n",
        "  f = Value(-2.0, _label ='f')\n",
        "  L = d*f; L._label = 'L'\n",
        "  L2 = L.data\n",
        "\n",
        "  print((L2 - L1)/h)\n",
        "\n",
        "cal_grad()\n"
      ],
      "metadata": {
        "colab": {
          "base_uri": "https://localhost:8080/"
        },
        "id": "JVwDx3YbiWG-",
        "outputId": "0d3b9ce0-65bb-47d5-f1a3-77c4b9e035d7"
      },
      "execution_count": null,
      "outputs": [
        {
          "output_type": "stream",
          "name": "stdout",
          "text": [
            "-1.9999999999988916\n"
          ]
        }
      ]
    },
    {
      "cell_type": "markdown",
      "source": [
        "backpropagation inside a neuron"
      ],
      "metadata": {
        "id": "3USg0PRx54yp"
      }
    },
    {
      "cell_type": "code",
      "source": [
        "x1 = Value(2.0, _label='x1')\n",
        "x2 = Value(0.0, _label='x2')\n",
        "\n",
        "w1 = Value(-3.0, _label='w1')\n",
        "w2 = Value(1.0, _label='w2')\n",
        "\n",
        "x1w1 = x1*w1; x1w1._label = 'x1w1'\n",
        "x2w2 = x2*w2; x2w2._label = 'x2w2'\n",
        "\n",
        "b = Value(6.8813735870195432, _label='b')\n",
        "\n",
        "x1w1x2w2 = x1w1 + x2w2; x1w1x2w2._label = 'x1w1x2w2'\n",
        "n = x1w1x2w2 + b; n._label = 'n'\n",
        "o = n.tanh(); o._label = 'o'"
      ],
      "metadata": {
        "id": "5yDjqyN8poeb"
      },
      "execution_count": null,
      "outputs": []
    },
    {
      "cell_type": "code",
      "source": [
        "o.grad = 1.0\n",
        "n.grad = 1.0 - o.data**2\n",
        "x1w1x2w2.grad = n.grad\n",
        "b.grad = n.grad\n",
        "x2w2.grad = n.grad\n",
        "x1w1.grad = n.grad\n",
        "x1.grad = w1.data*x1w1.grad\n",
        "w1.grad = x1.data*x1w1.grad\n",
        "x2.grad = w2.data*x2w2.grad\n",
        "w2.grad = x2.data*x2w2.grad\n"
      ],
      "metadata": {
        "id": "Det24ZZv8n1M"
      },
      "execution_count": null,
      "outputs": []
    },
    {
      "cell_type": "code",
      "source": [
        "# o = tanh(n)\n",
        "# do/dn = 1 - tanh(n)**2 = 1 - o**2\n",
        "\n",
        "x1w1 = x1*w1\n",
        "do/dx1 = dx1w1/dx1 * do/dxw1\n",
        "\n",
        "do/dxw1 = 0.6347\n",
        "\n",
        "\n",
        "x1+h*w1 - x1w1 / h = x1w1 + w1*h1 - x1w1 = w1h1/h1 = w1*do/dxw1"
      ],
      "metadata": {
        "id": "y3aY7rpa_fEk"
      },
      "execution_count": null,
      "outputs": []
    },
    {
      "cell_type": "code",
      "source": [
        "draw_dot(o)"
      ],
      "metadata": {
        "colab": {
          "base_uri": "https://localhost:8080/",
          "height": 339
        },
        "id": "yHNcrzsB-k_D",
        "outputId": "4725d778-7e93-4083-e75d-59eb8bac623f"
      },
      "execution_count": null,
      "outputs": [
        {
          "output_type": "stream",
          "name": "stdout",
          "text": [
            "{(Value(data=-6.0), Value(data=-6.0)), (Value(data=6.7), Value(data=0.7000000000000002)), (Value(data=0.7000000000000002), Value(data=0.6043677771171636)), (Value(data=-6.0), Value(data=0.7000000000000002)), (Value(data=-3.0), Value(data=-6.0)), (Value(data=1.0), Value(data=0.0)), (Value(data=0.0), Value(data=-6.0)), (Value(data=0.0), Value(data=0.0)), (Value(data=2.0), Value(data=-6.0))}\n"
          ]
        },
        {
          "output_type": "execute_result",
          "data": {
            "image/svg+xml": "<?xml version=\"1.0\" encoding=\"UTF-8\" standalone=\"no\"?>\n<!DOCTYPE svg PUBLIC \"-//W3C//DTD SVG 1.1//EN\"\n \"http://www.w3.org/Graphics/SVG/1.1/DTD/svg11.dtd\">\n<!-- Generated by graphviz version 2.43.0 (0)\n -->\n<!-- Title: %3 Pages: 1 -->\n<svg width=\"1540pt\" height=\"210pt\"\n viewBox=\"0.00 0.00 1540.00 210.00\" xmlns=\"http://www.w3.org/2000/svg\" xmlns:xlink=\"http://www.w3.org/1999/xlink\">\n<g id=\"graph0\" class=\"graph\" transform=\"scale(1 1) rotate(0) translate(4 206)\">\n<title>%3</title>\n<polygon fill=\"white\" stroke=\"transparent\" points=\"-4,4 -4,-206 1536,-206 1536,4 -4,4\"/>\n<!-- 138575656165744 -->\n<g id=\"node1\" class=\"node\">\n<title>138575656165744</title>\n<polygon fill=\"none\" stroke=\"black\" points=\"326,-55.5 326,-91.5 540,-91.5 540,-55.5 326,-55.5\"/>\n<text text-anchor=\"middle\" x=\"349.5\" y=\"-69.8\" font-family=\"Times,serif\" font-size=\"14.00\">x1w1</text>\n<polyline fill=\"none\" stroke=\"black\" points=\"373,-55.5 373,-91.5 \"/>\n<text text-anchor=\"middle\" x=\"415.5\" y=\"-69.8\" font-family=\"Times,serif\" font-size=\"14.00\">data &#45;6.0000</text>\n<polyline fill=\"none\" stroke=\"black\" points=\"458,-55.5 458,-91.5 \"/>\n<text text-anchor=\"middle\" x=\"499\" y=\"-69.8\" font-family=\"Times,serif\" font-size=\"14.00\">grad 0.0000</text>\n</g>\n<!-- 138575656170064+ -->\n<g id=\"node4\" class=\"node\">\n<title>138575656170064+</title>\n<ellipse fill=\"none\" stroke=\"black\" cx=\"603\" cy=\"-100.5\" rx=\"27\" ry=\"18\"/>\n<text text-anchor=\"middle\" x=\"603\" y=\"-96.8\" font-family=\"Times,serif\" font-size=\"14.00\">+</text>\n</g>\n<!-- 138575656165744&#45;&gt;138575656170064+ -->\n<g id=\"edge6\" class=\"edge\">\n<title>138575656165744&#45;&gt;138575656170064+</title>\n<path fill=\"none\" stroke=\"black\" d=\"M540.4,-90.6C549.72,-92.1 558.65,-93.53 566.68,-94.82\"/>\n<polygon fill=\"black\" stroke=\"black\" points=\"566.24,-98.3 576.66,-96.43 567.35,-91.39 566.24,-98.3\"/>\n</g>\n<!-- 138575656165744* -->\n<g id=\"node2\" class=\"node\">\n<title>138575656165744*</title>\n<ellipse fill=\"none\" stroke=\"black\" cx=\"263\" cy=\"-73.5\" rx=\"27\" ry=\"18\"/>\n<text text-anchor=\"middle\" x=\"263\" y=\"-69.8\" font-family=\"Times,serif\" font-size=\"14.00\">*</text>\n</g>\n<!-- 138575656165744*&#45;&gt;138575656165744 -->\n<g id=\"edge1\" class=\"edge\">\n<title>138575656165744*&#45;&gt;138575656165744</title>\n<path fill=\"none\" stroke=\"black\" d=\"M290.25,-73.5C297.7,-73.5 306.34,-73.5 315.59,-73.5\"/>\n<polygon fill=\"black\" stroke=\"black\" points=\"315.84,-77 325.84,-73.5 315.84,-70 315.84,-77\"/>\n</g>\n<!-- 138575656170064 -->\n<g id=\"node3\" class=\"node\">\n<title>138575656170064</title>\n<polygon fill=\"none\" stroke=\"black\" points=\"666,-82.5 666,-118.5 910,-118.5 910,-82.5 666,-82.5\"/>\n<text text-anchor=\"middle\" x=\"704.5\" y=\"-96.8\" font-family=\"Times,serif\" font-size=\"14.00\">x1w1x2w2</text>\n<polyline fill=\"none\" stroke=\"black\" points=\"743,-82.5 743,-118.5 \"/>\n<text text-anchor=\"middle\" x=\"785.5\" y=\"-96.8\" font-family=\"Times,serif\" font-size=\"14.00\">data &#45;6.0000</text>\n<polyline fill=\"none\" stroke=\"black\" points=\"828,-82.5 828,-118.5 \"/>\n<text text-anchor=\"middle\" x=\"869\" y=\"-96.8\" font-family=\"Times,serif\" font-size=\"14.00\">grad 0.0000</text>\n</g>\n<!-- 138575656170208+ -->\n<g id=\"node10\" class=\"node\">\n<title>138575656170208+</title>\n<ellipse fill=\"none\" stroke=\"black\" cx=\"973\" cy=\"-127.5\" rx=\"27\" ry=\"18\"/>\n<text text-anchor=\"middle\" x=\"973\" y=\"-123.8\" font-family=\"Times,serif\" font-size=\"14.00\">+</text>\n</g>\n<!-- 138575656170064&#45;&gt;138575656170208+ -->\n<g id=\"edge9\" class=\"edge\">\n<title>138575656170064&#45;&gt;138575656170208+</title>\n<path fill=\"none\" stroke=\"black\" d=\"M910.04,-118.36C919.47,-119.75 928.43,-121.07 936.46,-122.26\"/>\n<polygon fill=\"black\" stroke=\"black\" points=\"936.03,-125.73 946.43,-123.73 937.05,-118.81 936.03,-125.73\"/>\n</g>\n<!-- 138575656170064+&#45;&gt;138575656170064 -->\n<g id=\"edge2\" class=\"edge\">\n<title>138575656170064+&#45;&gt;138575656170064</title>\n<path fill=\"none\" stroke=\"black\" d=\"M630.22,-100.5C637.7,-100.5 646.4,-100.5 655.79,-100.5\"/>\n<polygon fill=\"black\" stroke=\"black\" points=\"655.8,-104 665.8,-100.5 655.8,-97 655.8,-104\"/>\n</g>\n<!-- 138575656164976 -->\n<g id=\"node5\" class=\"node\">\n<title>138575656164976</title>\n<polygon fill=\"none\" stroke=\"black\" points=\"4,-165.5 4,-201.5 196,-201.5 196,-165.5 4,-165.5\"/>\n<text text-anchor=\"middle\" x=\"19\" y=\"-179.8\" font-family=\"Times,serif\" font-size=\"14.00\">x2</text>\n<polyline fill=\"none\" stroke=\"black\" points=\"34,-165.5 34,-201.5 \"/>\n<text text-anchor=\"middle\" x=\"74\" y=\"-179.8\" font-family=\"Times,serif\" font-size=\"14.00\">data 0.0000</text>\n<polyline fill=\"none\" stroke=\"black\" points=\"114,-165.5 114,-201.5 \"/>\n<text text-anchor=\"middle\" x=\"155\" y=\"-179.8\" font-family=\"Times,serif\" font-size=\"14.00\">grad 0.0000</text>\n</g>\n<!-- 138575656162960* -->\n<g id=\"node8\" class=\"node\">\n<title>138575656162960*</title>\n<ellipse fill=\"none\" stroke=\"black\" cx=\"263\" cy=\"-128.5\" rx=\"27\" ry=\"18\"/>\n<text text-anchor=\"middle\" x=\"263\" y=\"-124.8\" font-family=\"Times,serif\" font-size=\"14.00\">*</text>\n</g>\n<!-- 138575656164976&#45;&gt;138575656162960* -->\n<g id=\"edge13\" class=\"edge\">\n<title>138575656164976&#45;&gt;138575656162960*</title>\n<path fill=\"none\" stroke=\"black\" d=\"M172.53,-165.44C181.84,-162.67 191.2,-159.67 200,-156.5 210.53,-152.71 221.75,-147.9 231.72,-143.33\"/>\n<polygon fill=\"black\" stroke=\"black\" points=\"233.25,-146.48 240.82,-139.07 230.28,-140.14 233.25,-146.48\"/>\n</g>\n<!-- 138575656172656 -->\n<g id=\"node6\" class=\"node\">\n<title>138575656172656</title>\n<polygon fill=\"none\" stroke=\"black\" points=\"0,-55.5 0,-91.5 200,-91.5 200,-55.5 0,-55.5\"/>\n<text text-anchor=\"middle\" x=\"16.5\" y=\"-69.8\" font-family=\"Times,serif\" font-size=\"14.00\">w1</text>\n<polyline fill=\"none\" stroke=\"black\" points=\"33,-55.5 33,-91.5 \"/>\n<text text-anchor=\"middle\" x=\"75.5\" y=\"-69.8\" font-family=\"Times,serif\" font-size=\"14.00\">data &#45;3.0000</text>\n<polyline fill=\"none\" stroke=\"black\" points=\"118,-55.5 118,-91.5 \"/>\n<text text-anchor=\"middle\" x=\"159\" y=\"-69.8\" font-family=\"Times,serif\" font-size=\"14.00\">grad 0.0000</text>\n</g>\n<!-- 138575656172656&#45;&gt;138575656165744* -->\n<g id=\"edge10\" class=\"edge\">\n<title>138575656172656&#45;&gt;138575656165744*</title>\n<path fill=\"none\" stroke=\"black\" d=\"M200.21,-73.5C209.2,-73.5 217.86,-73.5 225.7,-73.5\"/>\n<polygon fill=\"black\" stroke=\"black\" points=\"225.85,-77 235.85,-73.5 225.85,-70 225.85,-77\"/>\n</g>\n<!-- 138575656162960 -->\n<g id=\"node7\" class=\"node\">\n<title>138575656162960</title>\n<polygon fill=\"none\" stroke=\"black\" points=\"328.5,-110.5 328.5,-146.5 537.5,-146.5 537.5,-110.5 328.5,-110.5\"/>\n<text text-anchor=\"middle\" x=\"352\" y=\"-124.8\" font-family=\"Times,serif\" font-size=\"14.00\">x2w2</text>\n<polyline fill=\"none\" stroke=\"black\" points=\"375.5,-110.5 375.5,-146.5 \"/>\n<text text-anchor=\"middle\" x=\"415.5\" y=\"-124.8\" font-family=\"Times,serif\" font-size=\"14.00\">data 0.0000</text>\n<polyline fill=\"none\" stroke=\"black\" points=\"455.5,-110.5 455.5,-146.5 \"/>\n<text text-anchor=\"middle\" x=\"496.5\" y=\"-124.8\" font-family=\"Times,serif\" font-size=\"14.00\">grad 0.0000</text>\n</g>\n<!-- 138575656162960&#45;&gt;138575656170064+ -->\n<g id=\"edge12\" class=\"edge\">\n<title>138575656162960&#45;&gt;138575656170064+</title>\n<path fill=\"none\" stroke=\"black\" d=\"M537.53,-111.25C547.8,-109.53 557.66,-107.89 566.45,-106.43\"/>\n<polygon fill=\"black\" stroke=\"black\" points=\"567.3,-109.83 576.59,-104.74 566.15,-102.93 567.3,-109.83\"/>\n</g>\n<!-- 138575656162960*&#45;&gt;138575656162960 -->\n<g id=\"edge3\" class=\"edge\">\n<title>138575656162960*&#45;&gt;138575656162960</title>\n<path fill=\"none\" stroke=\"black\" d=\"M290.25,-128.5C298.43,-128.5 308.03,-128.5 318.31,-128.5\"/>\n<polygon fill=\"black\" stroke=\"black\" points=\"318.35,-132 328.35,-128.5 318.35,-125 318.35,-132\"/>\n</g>\n<!-- 138575656170208 -->\n<g id=\"node9\" class=\"node\">\n<title>138575656170208</title>\n<polygon fill=\"none\" stroke=\"black\" points=\"1036,-109.5 1036,-145.5 1221,-145.5 1221,-109.5 1036,-109.5\"/>\n<text text-anchor=\"middle\" x=\"1047.5\" y=\"-123.8\" font-family=\"Times,serif\" font-size=\"14.00\">n</text>\n<polyline fill=\"none\" stroke=\"black\" points=\"1059,-109.5 1059,-145.5 \"/>\n<text text-anchor=\"middle\" x=\"1099\" y=\"-123.8\" font-family=\"Times,serif\" font-size=\"14.00\">data 0.7000</text>\n<polyline fill=\"none\" stroke=\"black\" points=\"1139,-109.5 1139,-145.5 \"/>\n<text text-anchor=\"middle\" x=\"1180\" y=\"-123.8\" font-family=\"Times,serif\" font-size=\"14.00\">grad 0.0000</text>\n</g>\n<!-- 138575656173424tanh -->\n<g id=\"node13\" class=\"node\">\n<title>138575656173424tanh</title>\n<ellipse fill=\"none\" stroke=\"black\" cx=\"1284\" cy=\"-127.5\" rx=\"27\" ry=\"18\"/>\n<text text-anchor=\"middle\" x=\"1284\" y=\"-123.8\" font-family=\"Times,serif\" font-size=\"14.00\">tanh</text>\n</g>\n<!-- 138575656170208&#45;&gt;138575656173424tanh -->\n<g id=\"edge8\" class=\"edge\">\n<title>138575656170208&#45;&gt;138575656173424tanh</title>\n<path fill=\"none\" stroke=\"black\" d=\"M1221.01,-127.5C1230.01,-127.5 1238.74,-127.5 1246.66,-127.5\"/>\n<polygon fill=\"black\" stroke=\"black\" points=\"1246.91,-131 1256.91,-127.5 1246.91,-124 1246.91,-131\"/>\n</g>\n<!-- 138575656170208+&#45;&gt;138575656170208 -->\n<g id=\"edge4\" class=\"edge\">\n<title>138575656170208+&#45;&gt;138575656170208</title>\n<path fill=\"none\" stroke=\"black\" d=\"M1000.04,-127.5C1007.58,-127.5 1016.3,-127.5 1025.57,-127.5\"/>\n<polygon fill=\"black\" stroke=\"black\" points=\"1025.81,-131 1035.81,-127.5 1025.81,-124 1025.81,-131\"/>\n</g>\n<!-- 138575656172896 -->\n<g id=\"node11\" class=\"node\">\n<title>138575656172896</title>\n<polygon fill=\"none\" stroke=\"black\" points=\"4,-0.5 4,-36.5 196,-36.5 196,-0.5 4,-0.5\"/>\n<text text-anchor=\"middle\" x=\"19\" y=\"-14.8\" font-family=\"Times,serif\" font-size=\"14.00\">x1</text>\n<polyline fill=\"none\" stroke=\"black\" points=\"34,-0.5 34,-36.5 \"/>\n<text text-anchor=\"middle\" x=\"74\" y=\"-14.8\" font-family=\"Times,serif\" font-size=\"14.00\">data 2.0000</text>\n<polyline fill=\"none\" stroke=\"black\" points=\"114,-0.5 114,-36.5 \"/>\n<text text-anchor=\"middle\" x=\"155\" y=\"-14.8\" font-family=\"Times,serif\" font-size=\"14.00\">grad 0.0000</text>\n</g>\n<!-- 138575656172896&#45;&gt;138575656165744* -->\n<g id=\"edge14\" class=\"edge\">\n<title>138575656172896&#45;&gt;138575656165744*</title>\n<path fill=\"none\" stroke=\"black\" d=\"M169.28,-36.5C179.65,-39.61 190.16,-42.98 200,-46.5 210.28,-50.17 221.28,-54.74 231.11,-59.07\"/>\n<polygon fill=\"black\" stroke=\"black\" points=\"229.93,-62.37 240.48,-63.27 232.79,-55.99 229.93,-62.37\"/>\n</g>\n<!-- 138575656173424 -->\n<g id=\"node12\" class=\"node\">\n<title>138575656173424</title>\n<polygon fill=\"none\" stroke=\"black\" points=\"1347,-109.5 1347,-145.5 1532,-145.5 1532,-109.5 1347,-109.5\"/>\n<text text-anchor=\"middle\" x=\"1358.5\" y=\"-123.8\" font-family=\"Times,serif\" font-size=\"14.00\">o</text>\n<polyline fill=\"none\" stroke=\"black\" points=\"1370,-109.5 1370,-145.5 \"/>\n<text text-anchor=\"middle\" x=\"1410\" y=\"-123.8\" font-family=\"Times,serif\" font-size=\"14.00\">data 0.6044</text>\n<polyline fill=\"none\" stroke=\"black\" points=\"1450,-109.5 1450,-145.5 \"/>\n<text text-anchor=\"middle\" x=\"1491\" y=\"-123.8\" font-family=\"Times,serif\" font-size=\"14.00\">grad 0.0000</text>\n</g>\n<!-- 138575656173424tanh&#45;&gt;138575656173424 -->\n<g id=\"edge5\" class=\"edge\">\n<title>138575656173424tanh&#45;&gt;138575656173424</title>\n<path fill=\"none\" stroke=\"black\" d=\"M1311.04,-127.5C1318.58,-127.5 1327.3,-127.5 1336.57,-127.5\"/>\n<polygon fill=\"black\" stroke=\"black\" points=\"1336.81,-131 1346.81,-127.5 1336.81,-124 1336.81,-131\"/>\n</g>\n<!-- 138575656159600 -->\n<g id=\"node14\" class=\"node\">\n<title>138575656159600</title>\n<polygon fill=\"none\" stroke=\"black\" points=\"695.5,-137.5 695.5,-173.5 880.5,-173.5 880.5,-137.5 695.5,-137.5\"/>\n<text text-anchor=\"middle\" x=\"707\" y=\"-151.8\" font-family=\"Times,serif\" font-size=\"14.00\">b</text>\n<polyline fill=\"none\" stroke=\"black\" points=\"718.5,-137.5 718.5,-173.5 \"/>\n<text text-anchor=\"middle\" x=\"758.5\" y=\"-151.8\" font-family=\"Times,serif\" font-size=\"14.00\">data 6.7000</text>\n<polyline fill=\"none\" stroke=\"black\" points=\"798.5,-137.5 798.5,-173.5 \"/>\n<text text-anchor=\"middle\" x=\"839.5\" y=\"-151.8\" font-family=\"Times,serif\" font-size=\"14.00\">grad 0.0000</text>\n</g>\n<!-- 138575656159600&#45;&gt;138575656170208+ -->\n<g id=\"edge7\" class=\"edge\">\n<title>138575656159600&#45;&gt;138575656170208+</title>\n<path fill=\"none\" stroke=\"black\" d=\"M880.77,-141.46C900.52,-138.44 920.26,-135.42 936.29,-132.96\"/>\n<polygon fill=\"black\" stroke=\"black\" points=\"936.9,-136.41 946.26,-131.44 935.85,-129.49 936.9,-136.41\"/>\n</g>\n<!-- 138575656163776 -->\n<g id=\"node15\" class=\"node\">\n<title>138575656163776</title>\n<polygon fill=\"none\" stroke=\"black\" points=\"2.5,-110.5 2.5,-146.5 197.5,-146.5 197.5,-110.5 2.5,-110.5\"/>\n<text text-anchor=\"middle\" x=\"19\" y=\"-124.8\" font-family=\"Times,serif\" font-size=\"14.00\">w2</text>\n<polyline fill=\"none\" stroke=\"black\" points=\"35.5,-110.5 35.5,-146.5 \"/>\n<text text-anchor=\"middle\" x=\"75.5\" y=\"-124.8\" font-family=\"Times,serif\" font-size=\"14.00\">data 1.0000</text>\n<polyline fill=\"none\" stroke=\"black\" points=\"115.5,-110.5 115.5,-146.5 \"/>\n<text text-anchor=\"middle\" x=\"156.5\" y=\"-124.8\" font-family=\"Times,serif\" font-size=\"14.00\">grad 0.0000</text>\n</g>\n<!-- 138575656163776&#45;&gt;138575656162960* -->\n<g id=\"edge11\" class=\"edge\">\n<title>138575656163776&#45;&gt;138575656162960*</title>\n<path fill=\"none\" stroke=\"black\" d=\"M197.91,-128.5C207.65,-128.5 217.05,-128.5 225.52,-128.5\"/>\n<polygon fill=\"black\" stroke=\"black\" points=\"225.7,-132 235.7,-128.5 225.7,-125 225.7,-132\"/>\n</g>\n</g>\n</svg>\n",
            "text/plain": [
              "<graphviz.graphs.Digraph at 0x7e08a8c2bfa0>"
            ]
          },
          "metadata": {},
          "execution_count": 114
        }
      ]
    },
    {
      "cell_type": "code",
      "source": [
        "o.grad = 1.0\n",
        "o._backward()\n",
        "n._backward()\n",
        "b._backward()\n",
        "x1w1x2w2._backward()\n",
        "x2w2._backward()\n",
        "x1w1._backward()\n",
        "x2._backward()"
      ],
      "metadata": {
        "id": "eH034W3Z-q2G"
      },
      "execution_count": null,
      "outputs": []
    },
    {
      "cell_type": "code",
      "source": [
        "o.grad = 1.0\n",
        "\n",
        "topo = []\n",
        "visited = set()\n",
        "def build_topo(v):\n",
        "  if v not in visited:\n",
        "    visited.add(v)\n",
        "    for child in v._prev:\n",
        "      build_topo(child)\n",
        "    topo.append(v)\n",
        "\n",
        "build_topo(o)\n",
        "\n",
        "for node in reversed(topo): node._backward()\n"
      ],
      "metadata": {
        "id": "imFEz5U-KpuW"
      },
      "execution_count": null,
      "outputs": []
    },
    {
      "cell_type": "code",
      "source": [
        "o.backward()"
      ],
      "metadata": {
        "id": "ouc6X0Q2OsVv"
      },
      "execution_count": null,
      "outputs": []
    },
    {
      "cell_type": "code",
      "source": [
        "draw_dot(o)"
      ],
      "metadata": {
        "colab": {
          "base_uri": "https://localhost:8080/",
          "height": 339
        },
        "id": "O9YRuMWWPuvU",
        "outputId": "3b00fc89-16eb-4928-d64e-2da76c905d65"
      },
      "execution_count": null,
      "outputs": [
        {
          "output_type": "stream",
          "name": "stdout",
          "text": [
            "{(Value(data=0.8813735870195432), Value(data=0.7071067811865476)), (Value(data=2.0), Value(data=-6.0)), (Value(data=-6.0), Value(data=-6.0)), (Value(data=0.0), Value(data=-6.0)), (Value(data=6.881373587019543), Value(data=0.8813735870195432)), (Value(data=1.0), Value(data=0.0)), (Value(data=0.0), Value(data=0.0)), (Value(data=-6.0), Value(data=0.8813735870195432)), (Value(data=-3.0), Value(data=-6.0))}\n"
          ]
        },
        {
          "output_type": "execute_result",
          "data": {
            "image/svg+xml": "<?xml version=\"1.0\" encoding=\"UTF-8\" standalone=\"no\"?>\n<!DOCTYPE svg PUBLIC \"-//W3C//DTD SVG 1.1//EN\"\n \"http://www.w3.org/Graphics/SVG/1.1/DTD/svg11.dtd\">\n<!-- Generated by graphviz version 2.43.0 (0)\n -->\n<!-- Title: %3 Pages: 1 -->\n<svg width=\"1540pt\" height=\"210pt\"\n viewBox=\"0.00 0.00 1540.00 210.00\" xmlns=\"http://www.w3.org/2000/svg\" xmlns:xlink=\"http://www.w3.org/1999/xlink\">\n<g id=\"graph0\" class=\"graph\" transform=\"scale(1 1) rotate(0) translate(4 206)\">\n<title>%3</title>\n<polygon fill=\"white\" stroke=\"transparent\" points=\"-4,4 -4,-206 1536,-206 1536,4 -4,4\"/>\n<!-- 138575656105008 -->\n<g id=\"node1\" class=\"node\">\n<title>138575656105008</title>\n<polygon fill=\"none\" stroke=\"black\" points=\"328.5,-55.5 328.5,-91.5 537.5,-91.5 537.5,-55.5 328.5,-55.5\"/>\n<text text-anchor=\"middle\" x=\"352\" y=\"-69.8\" font-family=\"Times,serif\" font-size=\"14.00\">x2w2</text>\n<polyline fill=\"none\" stroke=\"black\" points=\"375.5,-55.5 375.5,-91.5 \"/>\n<text text-anchor=\"middle\" x=\"415.5\" y=\"-69.8\" font-family=\"Times,serif\" font-size=\"14.00\">data 0.0000</text>\n<polyline fill=\"none\" stroke=\"black\" points=\"455.5,-55.5 455.5,-91.5 \"/>\n<text text-anchor=\"middle\" x=\"496.5\" y=\"-69.8\" font-family=\"Times,serif\" font-size=\"14.00\">grad 0.5000</text>\n</g>\n<!-- 138575656101312+ -->\n<g id=\"node12\" class=\"node\">\n<title>138575656101312+</title>\n<ellipse fill=\"none\" stroke=\"black\" cx=\"603\" cy=\"-100.5\" rx=\"27\" ry=\"18\"/>\n<text text-anchor=\"middle\" x=\"603\" y=\"-96.8\" font-family=\"Times,serif\" font-size=\"14.00\">+</text>\n</g>\n<!-- 138575656105008&#45;&gt;138575656101312+ -->\n<g id=\"edge9\" class=\"edge\">\n<title>138575656105008&#45;&gt;138575656101312+</title>\n<path fill=\"none\" stroke=\"black\" d=\"M537.53,-90.14C547.8,-91.79 557.66,-93.37 566.45,-94.79\"/>\n<polygon fill=\"black\" stroke=\"black\" points=\"566.16,-98.28 576.59,-96.42 567.27,-91.37 566.16,-98.28\"/>\n</g>\n<!-- 138575656105008* -->\n<g id=\"node2\" class=\"node\">\n<title>138575656105008*</title>\n<ellipse fill=\"none\" stroke=\"black\" cx=\"263\" cy=\"-73.5\" rx=\"27\" ry=\"18\"/>\n<text text-anchor=\"middle\" x=\"263\" y=\"-69.8\" font-family=\"Times,serif\" font-size=\"14.00\">*</text>\n</g>\n<!-- 138575656105008*&#45;&gt;138575656105008 -->\n<g id=\"edge1\" class=\"edge\">\n<title>138575656105008*&#45;&gt;138575656105008</title>\n<path fill=\"none\" stroke=\"black\" d=\"M290.25,-73.5C298.43,-73.5 308.03,-73.5 318.31,-73.5\"/>\n<polygon fill=\"black\" stroke=\"black\" points=\"318.35,-77 328.35,-73.5 318.35,-70 318.35,-77\"/>\n</g>\n<!-- 138575656106112 -->\n<g id=\"node3\" class=\"node\">\n<title>138575656106112</title>\n<polygon fill=\"none\" stroke=\"black\" points=\"695.5,-137.5 695.5,-173.5 880.5,-173.5 880.5,-137.5 695.5,-137.5\"/>\n<text text-anchor=\"middle\" x=\"707\" y=\"-151.8\" font-family=\"Times,serif\" font-size=\"14.00\">b</text>\n<polyline fill=\"none\" stroke=\"black\" points=\"718.5,-137.5 718.5,-173.5 \"/>\n<text text-anchor=\"middle\" x=\"758.5\" y=\"-151.8\" font-family=\"Times,serif\" font-size=\"14.00\">data 6.8814</text>\n<polyline fill=\"none\" stroke=\"black\" points=\"798.5,-137.5 798.5,-173.5 \"/>\n<text text-anchor=\"middle\" x=\"839.5\" y=\"-151.8\" font-family=\"Times,serif\" font-size=\"14.00\">grad 0.5000</text>\n</g>\n<!-- 138575656097088+ -->\n<g id=\"node9\" class=\"node\">\n<title>138575656097088+</title>\n<ellipse fill=\"none\" stroke=\"black\" cx=\"973\" cy=\"-127.5\" rx=\"27\" ry=\"18\"/>\n<text text-anchor=\"middle\" x=\"973\" y=\"-123.8\" font-family=\"Times,serif\" font-size=\"14.00\">+</text>\n</g>\n<!-- 138575656106112&#45;&gt;138575656097088+ -->\n<g id=\"edge10\" class=\"edge\">\n<title>138575656106112&#45;&gt;138575656097088+</title>\n<path fill=\"none\" stroke=\"black\" d=\"M880.77,-141.46C900.52,-138.44 920.26,-135.42 936.29,-132.96\"/>\n<polygon fill=\"black\" stroke=\"black\" points=\"936.9,-136.41 946.26,-131.44 935.85,-129.49 936.9,-136.41\"/>\n</g>\n<!-- 138575656097424 -->\n<g id=\"node4\" class=\"node\">\n<title>138575656097424</title>\n<polygon fill=\"none\" stroke=\"black\" points=\"2.5,-55.5 2.5,-91.5 197.5,-91.5 197.5,-55.5 2.5,-55.5\"/>\n<text text-anchor=\"middle\" x=\"19\" y=\"-69.8\" font-family=\"Times,serif\" font-size=\"14.00\">w2</text>\n<polyline fill=\"none\" stroke=\"black\" points=\"35.5,-55.5 35.5,-91.5 \"/>\n<text text-anchor=\"middle\" x=\"75.5\" y=\"-69.8\" font-family=\"Times,serif\" font-size=\"14.00\">data 1.0000</text>\n<polyline fill=\"none\" stroke=\"black\" points=\"115.5,-55.5 115.5,-91.5 \"/>\n<text text-anchor=\"middle\" x=\"156.5\" y=\"-69.8\" font-family=\"Times,serif\" font-size=\"14.00\">grad 0.0000</text>\n</g>\n<!-- 138575656097424&#45;&gt;138575656105008* -->\n<g id=\"edge11\" class=\"edge\">\n<title>138575656097424&#45;&gt;138575656105008*</title>\n<path fill=\"none\" stroke=\"black\" d=\"M197.91,-73.5C207.65,-73.5 217.05,-73.5 225.52,-73.5\"/>\n<polygon fill=\"black\" stroke=\"black\" points=\"225.7,-77 235.7,-73.5 225.7,-70 225.7,-77\"/>\n</g>\n<!-- 138575656101120 -->\n<g id=\"node5\" class=\"node\">\n<title>138575656101120</title>\n<polygon fill=\"none\" stroke=\"black\" points=\"326,-110.5 326,-146.5 540,-146.5 540,-110.5 326,-110.5\"/>\n<text text-anchor=\"middle\" x=\"349.5\" y=\"-124.8\" font-family=\"Times,serif\" font-size=\"14.00\">x1w1</text>\n<polyline fill=\"none\" stroke=\"black\" points=\"373,-110.5 373,-146.5 \"/>\n<text text-anchor=\"middle\" x=\"415.5\" y=\"-124.8\" font-family=\"Times,serif\" font-size=\"14.00\">data &#45;6.0000</text>\n<polyline fill=\"none\" stroke=\"black\" points=\"458,-110.5 458,-146.5 \"/>\n<text text-anchor=\"middle\" x=\"499\" y=\"-124.8\" font-family=\"Times,serif\" font-size=\"14.00\">grad 0.5000</text>\n</g>\n<!-- 138575656101120&#45;&gt;138575656101312+ -->\n<g id=\"edge8\" class=\"edge\">\n<title>138575656101120&#45;&gt;138575656101312+</title>\n<path fill=\"none\" stroke=\"black\" d=\"M540.4,-110.77C549.72,-109.21 558.65,-107.72 566.68,-106.39\"/>\n<polygon fill=\"black\" stroke=\"black\" points=\"567.38,-109.82 576.66,-104.72 566.22,-102.91 567.38,-109.82\"/>\n</g>\n<!-- 138575656101120* -->\n<g id=\"node6\" class=\"node\">\n<title>138575656101120*</title>\n<ellipse fill=\"none\" stroke=\"black\" cx=\"263\" cy=\"-128.5\" rx=\"27\" ry=\"18\"/>\n<text text-anchor=\"middle\" x=\"263\" y=\"-124.8\" font-family=\"Times,serif\" font-size=\"14.00\">*</text>\n</g>\n<!-- 138575656101120*&#45;&gt;138575656101120 -->\n<g id=\"edge2\" class=\"edge\">\n<title>138575656101120*&#45;&gt;138575656101120</title>\n<path fill=\"none\" stroke=\"black\" d=\"M290.25,-128.5C297.7,-128.5 306.34,-128.5 315.59,-128.5\"/>\n<polygon fill=\"black\" stroke=\"black\" points=\"315.84,-132 325.84,-128.5 315.84,-125 315.84,-132\"/>\n</g>\n<!-- 138575656100256 -->\n<g id=\"node7\" class=\"node\">\n<title>138575656100256</title>\n<polygon fill=\"none\" stroke=\"black\" points=\"0,-165.5 0,-201.5 200,-201.5 200,-165.5 0,-165.5\"/>\n<text text-anchor=\"middle\" x=\"16.5\" y=\"-179.8\" font-family=\"Times,serif\" font-size=\"14.00\">w1</text>\n<polyline fill=\"none\" stroke=\"black\" points=\"33,-165.5 33,-201.5 \"/>\n<text text-anchor=\"middle\" x=\"75.5\" y=\"-179.8\" font-family=\"Times,serif\" font-size=\"14.00\">data &#45;3.0000</text>\n<polyline fill=\"none\" stroke=\"black\" points=\"118,-165.5 118,-201.5 \"/>\n<text text-anchor=\"middle\" x=\"159\" y=\"-179.8\" font-family=\"Times,serif\" font-size=\"14.00\">grad 1.0000</text>\n</g>\n<!-- 138575656100256&#45;&gt;138575656101120* -->\n<g id=\"edge14\" class=\"edge\">\n<title>138575656100256&#45;&gt;138575656101120*</title>\n<path fill=\"none\" stroke=\"black\" d=\"M172.53,-165.44C181.84,-162.67 191.2,-159.67 200,-156.5 210.53,-152.71 221.75,-147.9 231.72,-143.33\"/>\n<polygon fill=\"black\" stroke=\"black\" points=\"233.25,-146.48 240.82,-139.07 230.28,-140.14 233.25,-146.48\"/>\n</g>\n<!-- 138575656097088 -->\n<g id=\"node8\" class=\"node\">\n<title>138575656097088</title>\n<polygon fill=\"none\" stroke=\"black\" points=\"1036,-109.5 1036,-145.5 1221,-145.5 1221,-109.5 1036,-109.5\"/>\n<text text-anchor=\"middle\" x=\"1047.5\" y=\"-123.8\" font-family=\"Times,serif\" font-size=\"14.00\">n</text>\n<polyline fill=\"none\" stroke=\"black\" points=\"1059,-109.5 1059,-145.5 \"/>\n<text text-anchor=\"middle\" x=\"1099\" y=\"-123.8\" font-family=\"Times,serif\" font-size=\"14.00\">data 0.8814</text>\n<polyline fill=\"none\" stroke=\"black\" points=\"1139,-109.5 1139,-145.5 \"/>\n<text text-anchor=\"middle\" x=\"1180\" y=\"-123.8\" font-family=\"Times,serif\" font-size=\"14.00\">grad 0.5000</text>\n</g>\n<!-- 138575656092624tanh -->\n<g id=\"node14\" class=\"node\">\n<title>138575656092624tanh</title>\n<ellipse fill=\"none\" stroke=\"black\" cx=\"1284\" cy=\"-127.5\" rx=\"27\" ry=\"18\"/>\n<text text-anchor=\"middle\" x=\"1284\" y=\"-123.8\" font-family=\"Times,serif\" font-size=\"14.00\">tanh</text>\n</g>\n<!-- 138575656097088&#45;&gt;138575656092624tanh -->\n<g id=\"edge6\" class=\"edge\">\n<title>138575656097088&#45;&gt;138575656092624tanh</title>\n<path fill=\"none\" stroke=\"black\" d=\"M1221.01,-127.5C1230.01,-127.5 1238.74,-127.5 1246.66,-127.5\"/>\n<polygon fill=\"black\" stroke=\"black\" points=\"1246.91,-131 1256.91,-127.5 1246.91,-124 1246.91,-131\"/>\n</g>\n<!-- 138575656097088+&#45;&gt;138575656097088 -->\n<g id=\"edge3\" class=\"edge\">\n<title>138575656097088+&#45;&gt;138575656097088</title>\n<path fill=\"none\" stroke=\"black\" d=\"M1000.04,-127.5C1007.58,-127.5 1016.3,-127.5 1025.57,-127.5\"/>\n<polygon fill=\"black\" stroke=\"black\" points=\"1025.81,-131 1035.81,-127.5 1025.81,-124 1025.81,-131\"/>\n</g>\n<!-- 138575656092576 -->\n<g id=\"node10\" class=\"node\">\n<title>138575656092576</title>\n<polygon fill=\"none\" stroke=\"black\" points=\"2,-110.5 2,-146.5 198,-146.5 198,-110.5 2,-110.5\"/>\n<text text-anchor=\"middle\" x=\"17\" y=\"-124.8\" font-family=\"Times,serif\" font-size=\"14.00\">x1</text>\n<polyline fill=\"none\" stroke=\"black\" points=\"32,-110.5 32,-146.5 \"/>\n<text text-anchor=\"middle\" x=\"72\" y=\"-124.8\" font-family=\"Times,serif\" font-size=\"14.00\">data 2.0000</text>\n<polyline fill=\"none\" stroke=\"black\" points=\"112,-110.5 112,-146.5 \"/>\n<text text-anchor=\"middle\" x=\"155\" y=\"-124.8\" font-family=\"Times,serif\" font-size=\"14.00\">grad &#45;1.5000</text>\n</g>\n<!-- 138575656092576&#45;&gt;138575656101120* -->\n<g id=\"edge7\" class=\"edge\">\n<title>138575656092576&#45;&gt;138575656101120*</title>\n<path fill=\"none\" stroke=\"black\" d=\"M198.37,-128.5C208.05,-128.5 217.4,-128.5 225.8,-128.5\"/>\n<polygon fill=\"black\" stroke=\"black\" points=\"225.91,-132 235.91,-128.5 225.91,-125 225.91,-132\"/>\n</g>\n<!-- 138575656101312 -->\n<g id=\"node11\" class=\"node\">\n<title>138575656101312</title>\n<polygon fill=\"none\" stroke=\"black\" points=\"666,-82.5 666,-118.5 910,-118.5 910,-82.5 666,-82.5\"/>\n<text text-anchor=\"middle\" x=\"704.5\" y=\"-96.8\" font-family=\"Times,serif\" font-size=\"14.00\">x1w1x2w2</text>\n<polyline fill=\"none\" stroke=\"black\" points=\"743,-82.5 743,-118.5 \"/>\n<text text-anchor=\"middle\" x=\"785.5\" y=\"-96.8\" font-family=\"Times,serif\" font-size=\"14.00\">data &#45;6.0000</text>\n<polyline fill=\"none\" stroke=\"black\" points=\"828,-82.5 828,-118.5 \"/>\n<text text-anchor=\"middle\" x=\"869\" y=\"-96.8\" font-family=\"Times,serif\" font-size=\"14.00\">grad 0.5000</text>\n</g>\n<!-- 138575656101312&#45;&gt;138575656097088+ -->\n<g id=\"edge13\" class=\"edge\">\n<title>138575656101312&#45;&gt;138575656097088+</title>\n<path fill=\"none\" stroke=\"black\" d=\"M910.04,-118.36C919.47,-119.75 928.43,-121.07 936.46,-122.26\"/>\n<polygon fill=\"black\" stroke=\"black\" points=\"936.03,-125.73 946.43,-123.73 937.05,-118.81 936.03,-125.73\"/>\n</g>\n<!-- 138575656101312+&#45;&gt;138575656101312 -->\n<g id=\"edge4\" class=\"edge\">\n<title>138575656101312+&#45;&gt;138575656101312</title>\n<path fill=\"none\" stroke=\"black\" d=\"M630.22,-100.5C637.7,-100.5 646.4,-100.5 655.79,-100.5\"/>\n<polygon fill=\"black\" stroke=\"black\" points=\"655.8,-104 665.8,-100.5 655.8,-97 655.8,-104\"/>\n</g>\n<!-- 138575656092624 -->\n<g id=\"node13\" class=\"node\">\n<title>138575656092624</title>\n<polygon fill=\"none\" stroke=\"black\" points=\"1347,-109.5 1347,-145.5 1532,-145.5 1532,-109.5 1347,-109.5\"/>\n<text text-anchor=\"middle\" x=\"1358.5\" y=\"-123.8\" font-family=\"Times,serif\" font-size=\"14.00\">o</text>\n<polyline fill=\"none\" stroke=\"black\" points=\"1370,-109.5 1370,-145.5 \"/>\n<text text-anchor=\"middle\" x=\"1410\" y=\"-123.8\" font-family=\"Times,serif\" font-size=\"14.00\">data 0.7071</text>\n<polyline fill=\"none\" stroke=\"black\" points=\"1450,-109.5 1450,-145.5 \"/>\n<text text-anchor=\"middle\" x=\"1491\" y=\"-123.8\" font-family=\"Times,serif\" font-size=\"14.00\">grad 1.0000</text>\n</g>\n<!-- 138575656092624tanh&#45;&gt;138575656092624 -->\n<g id=\"edge5\" class=\"edge\">\n<title>138575656092624tanh&#45;&gt;138575656092624</title>\n<path fill=\"none\" stroke=\"black\" d=\"M1311.04,-127.5C1318.58,-127.5 1327.3,-127.5 1336.57,-127.5\"/>\n<polygon fill=\"black\" stroke=\"black\" points=\"1336.81,-131 1346.81,-127.5 1336.81,-124 1336.81,-131\"/>\n</g>\n<!-- 138575656099296 -->\n<g id=\"node15\" class=\"node\">\n<title>138575656099296</title>\n<polygon fill=\"none\" stroke=\"black\" points=\"4,-0.5 4,-36.5 196,-36.5 196,-0.5 4,-0.5\"/>\n<text text-anchor=\"middle\" x=\"19\" y=\"-14.8\" font-family=\"Times,serif\" font-size=\"14.00\">x2</text>\n<polyline fill=\"none\" stroke=\"black\" points=\"34,-0.5 34,-36.5 \"/>\n<text text-anchor=\"middle\" x=\"74\" y=\"-14.8\" font-family=\"Times,serif\" font-size=\"14.00\">data 0.0000</text>\n<polyline fill=\"none\" stroke=\"black\" points=\"114,-0.5 114,-36.5 \"/>\n<text text-anchor=\"middle\" x=\"155\" y=\"-14.8\" font-family=\"Times,serif\" font-size=\"14.00\">grad 0.5000</text>\n</g>\n<!-- 138575656099296&#45;&gt;138575656105008* -->\n<g id=\"edge12\" class=\"edge\">\n<title>138575656099296&#45;&gt;138575656105008*</title>\n<path fill=\"none\" stroke=\"black\" d=\"M169.28,-36.5C179.65,-39.61 190.16,-42.98 200,-46.5 210.28,-50.17 221.28,-54.74 231.11,-59.07\"/>\n<polygon fill=\"black\" stroke=\"black\" points=\"229.93,-62.37 240.48,-63.27 232.79,-55.99 229.93,-62.37\"/>\n</g>\n</g>\n</svg>\n",
            "text/plain": [
              "<graphviz.graphs.Digraph at 0x7e08a8c19030>"
            ]
          },
          "metadata": {},
          "execution_count": 163
        }
      ]
    },
    {
      "cell_type": "code",
      "source": [
        "a = Value(3.0, _label='a')\n",
        "b = a + a; b._label='b'\n",
        "b.backward()\n",
        "draw_dot(b)"
      ],
      "metadata": {
        "colab": {
          "base_uri": "https://localhost:8080/",
          "height": 99
        },
        "id": "JHy5OnIKP4Ro",
        "outputId": "1909c1fc-dab4-420d-ccd1-c438a4f78031"
      },
      "execution_count": null,
      "outputs": [
        {
          "output_type": "stream",
          "name": "stdout",
          "text": [
            "{(Value(data=3.0), Value(data=6.0))}\n"
          ]
        },
        {
          "output_type": "execute_result",
          "data": {
            "image/svg+xml": "<?xml version=\"1.0\" encoding=\"UTF-8\" standalone=\"no\"?>\n<!DOCTYPE svg PUBLIC \"-//W3C//DTD SVG 1.1//EN\"\n \"http://www.w3.org/Graphics/SVG/1.1/DTD/svg11.dtd\">\n<!-- Generated by graphviz version 2.43.0 (0)\n -->\n<!-- Title: %3 Pages: 1 -->\n<svg width=\"504pt\" height=\"45pt\"\n viewBox=\"0.00 0.00 504.00 45.00\" xmlns=\"http://www.w3.org/2000/svg\" xmlns:xlink=\"http://www.w3.org/1999/xlink\">\n<g id=\"graph0\" class=\"graph\" transform=\"scale(1 1) rotate(0) translate(4 41)\">\n<title>%3</title>\n<polygon fill=\"white\" stroke=\"transparent\" points=\"-4,4 -4,-41 500,-41 500,4 -4,4\"/>\n<!-- 138575655648944 -->\n<g id=\"node1\" class=\"node\">\n<title>138575655648944</title>\n<polygon fill=\"none\" stroke=\"black\" points=\"311,-0.5 311,-36.5 496,-36.5 496,-0.5 311,-0.5\"/>\n<text text-anchor=\"middle\" x=\"322.5\" y=\"-14.8\" font-family=\"Times,serif\" font-size=\"14.00\">b</text>\n<polyline fill=\"none\" stroke=\"black\" points=\"334,-0.5 334,-36.5 \"/>\n<text text-anchor=\"middle\" x=\"374\" y=\"-14.8\" font-family=\"Times,serif\" font-size=\"14.00\">data 6.0000</text>\n<polyline fill=\"none\" stroke=\"black\" points=\"414,-0.5 414,-36.5 \"/>\n<text text-anchor=\"middle\" x=\"455\" y=\"-14.8\" font-family=\"Times,serif\" font-size=\"14.00\">grad 1.0000</text>\n</g>\n<!-- 138575655648944+ -->\n<g id=\"node2\" class=\"node\">\n<title>138575655648944+</title>\n<ellipse fill=\"none\" stroke=\"black\" cx=\"248\" cy=\"-18.5\" rx=\"27\" ry=\"18\"/>\n<text text-anchor=\"middle\" x=\"248\" y=\"-14.8\" font-family=\"Times,serif\" font-size=\"14.00\">+</text>\n</g>\n<!-- 138575655648944+&#45;&gt;138575655648944 -->\n<g id=\"edge1\" class=\"edge\">\n<title>138575655648944+&#45;&gt;138575655648944</title>\n<path fill=\"none\" stroke=\"black\" d=\"M275.04,-18.5C282.58,-18.5 291.3,-18.5 300.57,-18.5\"/>\n<polygon fill=\"black\" stroke=\"black\" points=\"300.81,-22 310.81,-18.5 300.81,-15 300.81,-22\"/>\n</g>\n<!-- 138575655639152 -->\n<g id=\"node3\" class=\"node\">\n<title>138575655639152</title>\n<polygon fill=\"none\" stroke=\"black\" points=\"0,-0.5 0,-36.5 185,-36.5 185,-0.5 0,-0.5\"/>\n<text text-anchor=\"middle\" x=\"11.5\" y=\"-14.8\" font-family=\"Times,serif\" font-size=\"14.00\">a</text>\n<polyline fill=\"none\" stroke=\"black\" points=\"23,-0.5 23,-36.5 \"/>\n<text text-anchor=\"middle\" x=\"63\" y=\"-14.8\" font-family=\"Times,serif\" font-size=\"14.00\">data 3.0000</text>\n<polyline fill=\"none\" stroke=\"black\" points=\"103,-0.5 103,-36.5 \"/>\n<text text-anchor=\"middle\" x=\"144\" y=\"-14.8\" font-family=\"Times,serif\" font-size=\"14.00\">grad 2.0000</text>\n</g>\n<!-- 138575655639152&#45;&gt;138575655648944+ -->\n<g id=\"edge2\" class=\"edge\">\n<title>138575655639152&#45;&gt;138575655648944+</title>\n<path fill=\"none\" stroke=\"black\" d=\"M185.01,-18.5C194.01,-18.5 202.74,-18.5 210.66,-18.5\"/>\n<polygon fill=\"black\" stroke=\"black\" points=\"210.91,-22 220.91,-18.5 210.91,-15 210.91,-22\"/>\n</g>\n</g>\n</svg>\n",
            "text/plain": [
              "<graphviz.graphs.Digraph at 0x7e08a8bab460>"
            ]
          },
          "metadata": {},
          "execution_count": 103
        }
      ]
    },
    {
      "cell_type": "code",
      "source": [
        "b.backward()"
      ],
      "metadata": {
        "id": "XOxOdyvSmzfa"
      },
      "execution_count": null,
      "outputs": []
    },
    {
      "cell_type": "code",
      "source": [
        "a + 1"
      ],
      "metadata": {
        "colab": {
          "base_uri": "https://localhost:8080/"
        },
        "id": "dCGY5-orm3wT",
        "outputId": "8784806a-95e4-4ffb-b682-eb86884bb7aa"
      },
      "execution_count": null,
      "outputs": [
        {
          "output_type": "execute_result",
          "data": {
            "text/plain": [
              "Value(data=4.0)"
            ]
          },
          "metadata": {},
          "execution_count": 104
        }
      ]
    },
    {
      "cell_type": "code",
      "source": [
        "2* a"
      ],
      "metadata": {
        "colab": {
          "base_uri": "https://localhost:8080/"
        },
        "id": "L-hDQuSonyeM",
        "outputId": "8a394826-dda7-4fea-93de-0a266565605c"
      },
      "execution_count": null,
      "outputs": [
        {
          "output_type": "execute_result",
          "data": {
            "text/plain": [
              "Value(data=6.0)"
            ]
          },
          "metadata": {},
          "execution_count": 105
        }
      ]
    },
    {
      "cell_type": "code",
      "source": [
        "x1 = Value(2.0, _label='x1')\n",
        "x2 = Value(0.0, _label='x2')\n",
        "\n",
        "w1 = Value(-3.0, _label='w1')\n",
        "w2 = Value(1.0, _label='w2')\n",
        "\n",
        "x1w1 = x1*w1; x1w1._label = 'x1w1'\n",
        "x2w2 = x2*w2; x2w2._label = 'x2w2'\n",
        "\n",
        "b = Value(6.8813735870195432, _label='b')\n",
        "\n",
        "x1w1x2w2 = x1w1 + x2w2; x1w1x2w2._label = 'x1w1x2w2'\n",
        "n = x1w1x2w2 + b; n._label = 'n'\n",
        "\n",
        "e = (2*n).exp()\n",
        "o = (e- 1) / (e + 1)\n",
        "\n",
        "\n",
        "#o = n.tanh();\n",
        "o._label = 'o'\n",
        "\n",
        "o.backward()"
      ],
      "metadata": {
        "id": "AwT4_XCRDdnz"
      },
      "execution_count": null,
      "outputs": []
    },
    {
      "cell_type": "code",
      "source": [
        "draw_dot(o)"
      ],
      "metadata": {
        "colab": {
          "base_uri": "https://localhost:8080/",
          "height": 339
        },
        "id": "aTkjcoWtI1oP",
        "outputId": "396570aa-1ecf-4938-fe18-b3283b72ddef"
      },
      "execution_count": null,
      "outputs": [
        {
          "output_type": "stream",
          "name": "stdout",
          "text": [
            "{(Value(data=0.0), Value(data=0.0)), (Value(data=4.828427124746192), Value(data=0.7071067811865477)), (Value(data=0.1464466094067262), Value(data=0.7071067811865477)), (Value(data=1.7627471740390863), Value(data=5.828427124746192)), (Value(data=0.8813735870195432), Value(data=1.7627471740390863)), (Value(data=2), Value(data=1.7627471740390863)), (Value(data=2.0), Value(data=-6.0)), (Value(data=6.828427124746192), Value(data=0.1464466094067262)), (Value(data=-3.0), Value(data=-6.0)), (Value(data=-6.0), Value(data=-6.0)), (Value(data=0.0), Value(data=-6.0)), (Value(data=-1), Value(data=4.828427124746192)), (Value(data=6.881373587019543), Value(data=0.8813735870195432)), (Value(data=-6.0), Value(data=0.8813735870195432)), (Value(data=5.828427124746192), Value(data=4.828427124746192)), (Value(data=5.828427124746192), Value(data=6.828427124746192)), (Value(data=1.0), Value(data=0.0)), (Value(data=1), Value(data=6.828427124746192))}\n"
          ]
        },
        {
          "output_type": "execute_result",
          "data": {
            "image/svg+xml": "<?xml version=\"1.0\" encoding=\"UTF-8\" standalone=\"no\"?>\n<!DOCTYPE svg PUBLIC \"-//W3C//DTD SVG 1.1//EN\"\n \"http://www.w3.org/Graphics/SVG/1.1/DTD/svg11.dtd\">\n<!-- Generated by graphviz version 2.43.0 (0)\n -->\n<!-- Title: %3 Pages: 1 -->\n<svg width=\"2909pt\" height=\"210pt\"\n viewBox=\"0.00 0.00 2909.00 210.00\" xmlns=\"http://www.w3.org/2000/svg\" xmlns:xlink=\"http://www.w3.org/1999/xlink\">\n<g id=\"graph0\" class=\"graph\" transform=\"scale(1 1) rotate(0) translate(4 206)\">\n<title>%3</title>\n<polygon fill=\"white\" stroke=\"transparent\" points=\"-4,4 -4,-206 2905,-206 2905,4 -4,4\"/>\n<!-- 138575655644672 -->\n<g id=\"node1\" class=\"node\">\n<title>138575655644672</title>\n<polygon fill=\"none\" stroke=\"black\" points=\"695.5,-137.5 695.5,-173.5 880.5,-173.5 880.5,-137.5 695.5,-137.5\"/>\n<text text-anchor=\"middle\" x=\"707\" y=\"-151.8\" font-family=\"Times,serif\" font-size=\"14.00\">b</text>\n<polyline fill=\"none\" stroke=\"black\" points=\"718.5,-137.5 718.5,-173.5 \"/>\n<text text-anchor=\"middle\" x=\"758.5\" y=\"-151.8\" font-family=\"Times,serif\" font-size=\"14.00\">data 6.8814</text>\n<polyline fill=\"none\" stroke=\"black\" points=\"798.5,-137.5 798.5,-173.5 \"/>\n<text text-anchor=\"middle\" x=\"839.5\" y=\"-151.8\" font-family=\"Times,serif\" font-size=\"14.00\">grad 0.5000</text>\n</g>\n<!-- 138575655639632+ -->\n<g id=\"node7\" class=\"node\">\n<title>138575655639632+</title>\n<ellipse fill=\"none\" stroke=\"black\" cx=\"973\" cy=\"-127.5\" rx=\"27\" ry=\"18\"/>\n<text text-anchor=\"middle\" x=\"973\" y=\"-123.8\" font-family=\"Times,serif\" font-size=\"14.00\">+</text>\n</g>\n<!-- 138575655644672&#45;&gt;138575655639632+ -->\n<g id=\"edge23\" class=\"edge\">\n<title>138575655644672&#45;&gt;138575655639632+</title>\n<path fill=\"none\" stroke=\"black\" d=\"M880.77,-141.46C900.52,-138.44 920.26,-135.42 936.29,-132.96\"/>\n<polygon fill=\"black\" stroke=\"black\" points=\"936.9,-136.41 946.26,-131.44 935.85,-129.49 936.9,-136.41\"/>\n</g>\n<!-- 138575655640592 -->\n<g id=\"node2\" class=\"node\">\n<title>138575655640592</title>\n<polygon fill=\"none\" stroke=\"black\" points=\"2408,-106.5 2408,-142.5 2590,-142.5 2590,-106.5 2408,-106.5\"/>\n<text text-anchor=\"middle\" x=\"2418\" y=\"-120.8\" font-family=\"Times,serif\" font-size=\"14.00\"> </text>\n<polyline fill=\"none\" stroke=\"black\" points=\"2428,-106.5 2428,-142.5 \"/>\n<text text-anchor=\"middle\" x=\"2468\" y=\"-120.8\" font-family=\"Times,serif\" font-size=\"14.00\">data 0.1464</text>\n<polyline fill=\"none\" stroke=\"black\" points=\"2508,-106.5 2508,-142.5 \"/>\n<text text-anchor=\"middle\" x=\"2549\" y=\"-120.8\" font-family=\"Times,serif\" font-size=\"14.00\">grad 4.8284</text>\n</g>\n<!-- 138575655641984* -->\n<g id=\"node23\" class=\"node\">\n<title>138575655641984*</title>\n<ellipse fill=\"none\" stroke=\"black\" cx=\"2653\" cy=\"-98.5\" rx=\"27\" ry=\"18\"/>\n<text text-anchor=\"middle\" x=\"2653\" y=\"-94.8\" font-family=\"Times,serif\" font-size=\"14.00\">*</text>\n</g>\n<!-- 138575655640592&#45;&gt;138575655641984* -->\n<g id=\"edge13\" class=\"edge\">\n<title>138575655640592&#45;&gt;138575655641984*</title>\n<path fill=\"none\" stroke=\"black\" d=\"M2590.18,-109.08C2599.42,-107.49 2608.38,-105.96 2616.47,-104.58\"/>\n<polygon fill=\"black\" stroke=\"black\" points=\"2617.29,-107.99 2626.56,-102.85 2616.11,-101.09 2617.29,-107.99\"/>\n</g>\n<!-- 138575655640592**&#45;1 -->\n<g id=\"node3\" class=\"node\">\n<title>138575655640592**&#45;1</title>\n<ellipse fill=\"none\" stroke=\"black\" cx=\"2281\" cy=\"-126.5\" rx=\"27\" ry=\"18\"/>\n<text text-anchor=\"middle\" x=\"2281\" y=\"-122.8\" font-family=\"Times,serif\" font-size=\"14.00\">**&#45;1</text>\n</g>\n<!-- 138575655640592**&#45;1&#45;&gt;138575655640592 -->\n<g id=\"edge1\" class=\"edge\">\n<title>138575655640592**&#45;1&#45;&gt;138575655640592</title>\n<path fill=\"none\" stroke=\"black\" d=\"M2308.05,-126.26C2330.53,-126.05 2364.48,-125.74 2397.5,-125.43\"/>\n<polygon fill=\"black\" stroke=\"black\" points=\"2397.74,-128.93 2407.7,-125.34 2397.67,-121.93 2397.74,-128.93\"/>\n</g>\n<!-- 138575655646784 -->\n<g id=\"node4\" class=\"node\">\n<title>138575655646784</title>\n<polygon fill=\"none\" stroke=\"black\" points=\"1968,-108.5 1968,-144.5 2154,-144.5 2154,-108.5 1968,-108.5\"/>\n<text text-anchor=\"middle\" x=\"1978\" y=\"-122.8\" font-family=\"Times,serif\" font-size=\"14.00\"> </text>\n<polyline fill=\"none\" stroke=\"black\" points=\"1988,-108.5 1988,-144.5 \"/>\n<text text-anchor=\"middle\" x=\"2028\" y=\"-122.8\" font-family=\"Times,serif\" font-size=\"14.00\">data 6.8284</text>\n<polyline fill=\"none\" stroke=\"black\" points=\"2068,-108.5 2068,-144.5 \"/>\n<text text-anchor=\"middle\" x=\"2111\" y=\"-122.8\" font-family=\"Times,serif\" font-size=\"14.00\">grad &#45;0.1036</text>\n</g>\n<!-- 138575655646784&#45;&gt;138575655640592**&#45;1 -->\n<g id=\"edge18\" class=\"edge\">\n<title>138575655646784&#45;&gt;138575655640592**&#45;1</title>\n<path fill=\"none\" stroke=\"black\" d=\"M2154.14,-126.5C2185.72,-126.5 2219.24,-126.5 2243.74,-126.5\"/>\n<polygon fill=\"black\" stroke=\"black\" points=\"2243.98,-130 2253.98,-126.5 2243.98,-123 2243.98,-130\"/>\n</g>\n<!-- 138575655646784+ -->\n<g id=\"node5\" class=\"node\">\n<title>138575655646784+</title>\n<ellipse fill=\"none\" stroke=\"black\" cx=\"1905\" cy=\"-126.5\" rx=\"27\" ry=\"18\"/>\n<text text-anchor=\"middle\" x=\"1905\" y=\"-122.8\" font-family=\"Times,serif\" font-size=\"14.00\">+</text>\n</g>\n<!-- 138575655646784+&#45;&gt;138575655646784 -->\n<g id=\"edge2\" class=\"edge\">\n<title>138575655646784+&#45;&gt;138575655646784</title>\n<path fill=\"none\" stroke=\"black\" d=\"M1932.12,-126.5C1939.62,-126.5 1948.29,-126.5 1957.5,-126.5\"/>\n<polygon fill=\"black\" stroke=\"black\" points=\"1957.69,-130 1967.69,-126.5 1957.69,-123 1957.69,-130\"/>\n</g>\n<!-- 138575655639632 -->\n<g id=\"node6\" class=\"node\">\n<title>138575655639632</title>\n<polygon fill=\"none\" stroke=\"black\" points=\"1036,-109.5 1036,-145.5 1221,-145.5 1221,-109.5 1036,-109.5\"/>\n<text text-anchor=\"middle\" x=\"1047.5\" y=\"-123.8\" font-family=\"Times,serif\" font-size=\"14.00\">n</text>\n<polyline fill=\"none\" stroke=\"black\" points=\"1059,-109.5 1059,-145.5 \"/>\n<text text-anchor=\"middle\" x=\"1099\" y=\"-123.8\" font-family=\"Times,serif\" font-size=\"14.00\">data 0.8814</text>\n<polyline fill=\"none\" stroke=\"black\" points=\"1139,-109.5 1139,-145.5 \"/>\n<text text-anchor=\"middle\" x=\"1180\" y=\"-123.8\" font-family=\"Times,serif\" font-size=\"14.00\">grad 0.5000</text>\n</g>\n<!-- 138575655638432* -->\n<g id=\"node25\" class=\"node\">\n<title>138575655638432*</title>\n<ellipse fill=\"none\" stroke=\"black\" cx=\"1284\" cy=\"-99.5\" rx=\"27\" ry=\"18\"/>\n<text text-anchor=\"middle\" x=\"1284\" y=\"-95.8\" font-family=\"Times,serif\" font-size=\"14.00\">*</text>\n</g>\n<!-- 138575655639632&#45;&gt;138575655638432* -->\n<g id=\"edge15\" class=\"edge\">\n<title>138575655639632&#45;&gt;138575655638432*</title>\n<path fill=\"none\" stroke=\"black\" d=\"M1221.01,-110.81C1230.49,-109.08 1239.66,-107.41 1247.9,-105.9\"/>\n<polygon fill=\"black\" stroke=\"black\" points=\"1248.6,-109.33 1257.81,-104.09 1247.35,-102.45 1248.6,-109.33\"/>\n</g>\n<!-- 138575655639632+&#45;&gt;138575655639632 -->\n<g id=\"edge3\" class=\"edge\">\n<title>138575655639632+&#45;&gt;138575655639632</title>\n<path fill=\"none\" stroke=\"black\" d=\"M1000.04,-127.5C1007.58,-127.5 1016.3,-127.5 1025.57,-127.5\"/>\n<polygon fill=\"black\" stroke=\"black\" points=\"1025.81,-131 1035.81,-127.5 1025.81,-124 1025.81,-131\"/>\n</g>\n<!-- 138575655640208 -->\n<g id=\"node8\" class=\"node\">\n<title>138575655640208</title>\n<polygon fill=\"none\" stroke=\"black\" points=\"1655,-26.5 1655,-62.5 1842,-62.5 1842,-26.5 1655,-26.5\"/>\n<text text-anchor=\"middle\" x=\"1665\" y=\"-40.8\" font-family=\"Times,serif\" font-size=\"14.00\"> </text>\n<polyline fill=\"none\" stroke=\"black\" points=\"1675,-26.5 1675,-62.5 \"/>\n<text text-anchor=\"middle\" x=\"1717.5\" y=\"-40.8\" font-family=\"Times,serif\" font-size=\"14.00\">data &#45;1.0000</text>\n<polyline fill=\"none\" stroke=\"black\" points=\"1760,-26.5 1760,-62.5 \"/>\n<text text-anchor=\"middle\" x=\"1801\" y=\"-40.8\" font-family=\"Times,serif\" font-size=\"14.00\">grad 0.1464</text>\n</g>\n<!-- 138575655637328+ -->\n<g id=\"node21\" class=\"node\">\n<title>138575655637328+</title>\n<ellipse fill=\"none\" stroke=\"black\" cx=\"1905\" cy=\"-71.5\" rx=\"27\" ry=\"18\"/>\n<text text-anchor=\"middle\" x=\"1905\" y=\"-67.8\" font-family=\"Times,serif\" font-size=\"14.00\">+</text>\n</g>\n<!-- 138575655640208&#45;&gt;138575655637328+ -->\n<g id=\"edge22\" class=\"edge\">\n<title>138575655640208&#45;&gt;138575655637328+</title>\n<path fill=\"none\" stroke=\"black\" d=\"M1842.05,-60.67C1851.34,-62.3 1860.33,-63.87 1868.44,-65.29\"/>\n<polygon fill=\"black\" stroke=\"black\" points=\"1868.1,-68.78 1878.55,-67.05 1869.3,-61.88 1868.1,-68.78\"/>\n</g>\n<!-- 138575655636128 -->\n<g id=\"node9\" class=\"node\">\n<title>138575655636128</title>\n<polygon fill=\"none\" stroke=\"black\" points=\"1655.5,-136.5 1655.5,-172.5 1841.5,-172.5 1841.5,-136.5 1655.5,-136.5\"/>\n<text text-anchor=\"middle\" x=\"1665.5\" y=\"-150.8\" font-family=\"Times,serif\" font-size=\"14.00\"> </text>\n<polyline fill=\"none\" stroke=\"black\" points=\"1675.5,-136.5 1675.5,-172.5 \"/>\n<text text-anchor=\"middle\" x=\"1715.5\" y=\"-150.8\" font-family=\"Times,serif\" font-size=\"14.00\">data 1.0000</text>\n<polyline fill=\"none\" stroke=\"black\" points=\"1755.5,-136.5 1755.5,-172.5 \"/>\n<text text-anchor=\"middle\" x=\"1798.5\" y=\"-150.8\" font-family=\"Times,serif\" font-size=\"14.00\">grad &#45;0.1036</text>\n</g>\n<!-- 138575655636128&#45;&gt;138575655646784+ -->\n<g id=\"edge28\" class=\"edge\">\n<title>138575655636128&#45;&gt;138575655646784+</title>\n<path fill=\"none\" stroke=\"black\" d=\"M1841.6,-137.81C1851.15,-136.08 1860.37,-134.41 1868.68,-132.9\"/>\n<polygon fill=\"black\" stroke=\"black\" points=\"1869.43,-136.32 1878.65,-131.09 1868.18,-129.43 1869.43,-136.32\"/>\n</g>\n<!-- 138575655643328 -->\n<g id=\"node10\" class=\"node\">\n<title>138575655643328</title>\n<polygon fill=\"none\" stroke=\"black\" points=\"1657.5,-81.5 1657.5,-117.5 1839.5,-117.5 1839.5,-81.5 1657.5,-81.5\"/>\n<text text-anchor=\"middle\" x=\"1667.5\" y=\"-95.8\" font-family=\"Times,serif\" font-size=\"14.00\"> </text>\n<polyline fill=\"none\" stroke=\"black\" points=\"1677.5,-81.5 1677.5,-117.5 \"/>\n<text text-anchor=\"middle\" x=\"1717.5\" y=\"-95.8\" font-family=\"Times,serif\" font-size=\"14.00\">data 5.8284</text>\n<polyline fill=\"none\" stroke=\"black\" points=\"1757.5,-81.5 1757.5,-117.5 \"/>\n<text text-anchor=\"middle\" x=\"1798.5\" y=\"-95.8\" font-family=\"Times,serif\" font-size=\"14.00\">grad 0.0429</text>\n</g>\n<!-- 138575655643328&#45;&gt;138575655646784+ -->\n<g id=\"edge26\" class=\"edge\">\n<title>138575655643328&#45;&gt;138575655646784+</title>\n<path fill=\"none\" stroke=\"black\" d=\"M1839.82,-115.28C1850.07,-117.08 1860.01,-118.81 1868.88,-120.36\"/>\n<polygon fill=\"black\" stroke=\"black\" points=\"1868.3,-123.81 1878.75,-122.09 1869.5,-116.92 1868.3,-123.81\"/>\n</g>\n<!-- 138575655643328&#45;&gt;138575655637328+ -->\n<g id=\"edge25\" class=\"edge\">\n<title>138575655643328&#45;&gt;138575655637328+</title>\n<path fill=\"none\" stroke=\"black\" d=\"M1839.82,-83.13C1850.07,-81.27 1860.01,-79.47 1868.88,-77.87\"/>\n<polygon fill=\"black\" stroke=\"black\" points=\"1869.54,-81.3 1878.75,-76.08 1868.29,-74.42 1869.54,-81.3\"/>\n</g>\n<!-- 138575655643328exp -->\n<g id=\"node11\" class=\"node\">\n<title>138575655643328exp</title>\n<ellipse fill=\"none\" stroke=\"black\" cx=\"1592\" cy=\"-99.5\" rx=\"27\" ry=\"18\"/>\n<text text-anchor=\"middle\" x=\"1592\" y=\"-95.8\" font-family=\"Times,serif\" font-size=\"14.00\">exp</text>\n</g>\n<!-- 138575655643328exp&#45;&gt;138575655643328 -->\n<g id=\"edge4\" class=\"edge\">\n<title>138575655643328exp&#45;&gt;138575655643328</title>\n<path fill=\"none\" stroke=\"black\" d=\"M1619.21,-99.5C1627.34,-99.5 1636.85,-99.5 1646.94,-99.5\"/>\n<polygon fill=\"black\" stroke=\"black\" points=\"1647.19,-103 1657.19,-99.5 1647.19,-96 1647.19,-103\"/>\n</g>\n<!-- 138575655638720 -->\n<g id=\"node12\" class=\"node\">\n<title>138575655638720</title>\n<polygon fill=\"none\" stroke=\"black\" points=\"666,-82.5 666,-118.5 910,-118.5 910,-82.5 666,-82.5\"/>\n<text text-anchor=\"middle\" x=\"704.5\" y=\"-96.8\" font-family=\"Times,serif\" font-size=\"14.00\">x1w1x2w2</text>\n<polyline fill=\"none\" stroke=\"black\" points=\"743,-82.5 743,-118.5 \"/>\n<text text-anchor=\"middle\" x=\"785.5\" y=\"-96.8\" font-family=\"Times,serif\" font-size=\"14.00\">data &#45;6.0000</text>\n<polyline fill=\"none\" stroke=\"black\" points=\"828,-82.5 828,-118.5 \"/>\n<text text-anchor=\"middle\" x=\"869\" y=\"-96.8\" font-family=\"Times,serif\" font-size=\"14.00\">grad 0.5000</text>\n</g>\n<!-- 138575655638720&#45;&gt;138575655639632+ -->\n<g id=\"edge24\" class=\"edge\">\n<title>138575655638720&#45;&gt;138575655639632+</title>\n<path fill=\"none\" stroke=\"black\" d=\"M910.04,-118.36C919.47,-119.75 928.43,-121.07 936.46,-122.26\"/>\n<polygon fill=\"black\" stroke=\"black\" points=\"936.03,-125.73 946.43,-123.73 937.05,-118.81 936.03,-125.73\"/>\n</g>\n<!-- 138575655638720+ -->\n<g id=\"node13\" class=\"node\">\n<title>138575655638720+</title>\n<ellipse fill=\"none\" stroke=\"black\" cx=\"603\" cy=\"-100.5\" rx=\"27\" ry=\"18\"/>\n<text text-anchor=\"middle\" x=\"603\" y=\"-96.8\" font-family=\"Times,serif\" font-size=\"14.00\">+</text>\n</g>\n<!-- 138575655638720+&#45;&gt;138575655638720 -->\n<g id=\"edge5\" class=\"edge\">\n<title>138575655638720+&#45;&gt;138575655638720</title>\n<path fill=\"none\" stroke=\"black\" d=\"M630.22,-100.5C637.7,-100.5 646.4,-100.5 655.79,-100.5\"/>\n<polygon fill=\"black\" stroke=\"black\" points=\"655.8,-104 665.8,-100.5 655.8,-97 655.8,-104\"/>\n</g>\n<!-- 138575658021072 -->\n<g id=\"node14\" class=\"node\">\n<title>138575658021072</title>\n<polygon fill=\"none\" stroke=\"black\" points=\"4,-55.5 4,-91.5 196,-91.5 196,-55.5 4,-55.5\"/>\n<text text-anchor=\"middle\" x=\"19\" y=\"-69.8\" font-family=\"Times,serif\" font-size=\"14.00\">x2</text>\n<polyline fill=\"none\" stroke=\"black\" points=\"34,-55.5 34,-91.5 \"/>\n<text text-anchor=\"middle\" x=\"74\" y=\"-69.8\" font-family=\"Times,serif\" font-size=\"14.00\">data 0.0000</text>\n<polyline fill=\"none\" stroke=\"black\" points=\"114,-55.5 114,-91.5 \"/>\n<text text-anchor=\"middle\" x=\"155\" y=\"-69.8\" font-family=\"Times,serif\" font-size=\"14.00\">grad 0.5000</text>\n</g>\n<!-- 138575655644624* -->\n<g id=\"node28\" class=\"node\">\n<title>138575655644624*</title>\n<ellipse fill=\"none\" stroke=\"black\" cx=\"263\" cy=\"-73.5\" rx=\"27\" ry=\"18\"/>\n<text text-anchor=\"middle\" x=\"263\" y=\"-69.8\" font-family=\"Times,serif\" font-size=\"14.00\">*</text>\n</g>\n<!-- 138575658021072&#45;&gt;138575655644624* -->\n<g id=\"edge11\" class=\"edge\">\n<title>138575658021072&#45;&gt;138575655644624*</title>\n<path fill=\"none\" stroke=\"black\" d=\"M196.05,-73.5C206.52,-73.5 216.65,-73.5 225.71,-73.5\"/>\n<polygon fill=\"black\" stroke=\"black\" points=\"225.79,-77 235.79,-73.5 225.79,-70 225.79,-77\"/>\n</g>\n<!-- 138575655637712 -->\n<g id=\"node15\" class=\"node\">\n<title>138575655637712</title>\n<polygon fill=\"none\" stroke=\"black\" points=\"326,-110.5 326,-146.5 540,-146.5 540,-110.5 326,-110.5\"/>\n<text text-anchor=\"middle\" x=\"349.5\" y=\"-124.8\" font-family=\"Times,serif\" font-size=\"14.00\">x1w1</text>\n<polyline fill=\"none\" stroke=\"black\" points=\"373,-110.5 373,-146.5 \"/>\n<text text-anchor=\"middle\" x=\"415.5\" y=\"-124.8\" font-family=\"Times,serif\" font-size=\"14.00\">data &#45;6.0000</text>\n<polyline fill=\"none\" stroke=\"black\" points=\"458,-110.5 458,-146.5 \"/>\n<text text-anchor=\"middle\" x=\"499\" y=\"-124.8\" font-family=\"Times,serif\" font-size=\"14.00\">grad 0.5000</text>\n</g>\n<!-- 138575655637712&#45;&gt;138575655638720+ -->\n<g id=\"edge20\" class=\"edge\">\n<title>138575655637712&#45;&gt;138575655638720+</title>\n<path fill=\"none\" stroke=\"black\" d=\"M540.4,-110.77C549.72,-109.21 558.65,-107.72 566.68,-106.39\"/>\n<polygon fill=\"black\" stroke=\"black\" points=\"567.38,-109.82 576.66,-104.72 566.22,-102.91 567.38,-109.82\"/>\n</g>\n<!-- 138575655637712* -->\n<g id=\"node16\" class=\"node\">\n<title>138575655637712*</title>\n<ellipse fill=\"none\" stroke=\"black\" cx=\"263\" cy=\"-128.5\" rx=\"27\" ry=\"18\"/>\n<text text-anchor=\"middle\" x=\"263\" y=\"-124.8\" font-family=\"Times,serif\" font-size=\"14.00\">*</text>\n</g>\n<!-- 138575655637712*&#45;&gt;138575655637712 -->\n<g id=\"edge6\" class=\"edge\">\n<title>138575655637712*&#45;&gt;138575655637712</title>\n<path fill=\"none\" stroke=\"black\" d=\"M290.25,-128.5C297.7,-128.5 306.34,-128.5 315.59,-128.5\"/>\n<polygon fill=\"black\" stroke=\"black\" points=\"315.84,-132 325.84,-128.5 315.84,-125 315.84,-132\"/>\n</g>\n<!-- 138575655638240 -->\n<g id=\"node17\" class=\"node\">\n<title>138575655638240</title>\n<polygon fill=\"none\" stroke=\"black\" points=\"1037.5,-54.5 1037.5,-90.5 1219.5,-90.5 1219.5,-54.5 1037.5,-54.5\"/>\n<text text-anchor=\"middle\" x=\"1047.5\" y=\"-68.8\" font-family=\"Times,serif\" font-size=\"14.00\"> </text>\n<polyline fill=\"none\" stroke=\"black\" points=\"1057.5,-54.5 1057.5,-90.5 \"/>\n<text text-anchor=\"middle\" x=\"1097.5\" y=\"-68.8\" font-family=\"Times,serif\" font-size=\"14.00\">data 2.0000</text>\n<polyline fill=\"none\" stroke=\"black\" points=\"1137.5,-54.5 1137.5,-90.5 \"/>\n<text text-anchor=\"middle\" x=\"1178.5\" y=\"-68.8\" font-family=\"Times,serif\" font-size=\"14.00\">grad 0.2203</text>\n</g>\n<!-- 138575655638240&#45;&gt;138575655638432* -->\n<g id=\"edge16\" class=\"edge\">\n<title>138575655638240&#45;&gt;138575655638432*</title>\n<path fill=\"none\" stroke=\"black\" d=\"M1219.68,-88.36C1229.61,-90.11 1239.23,-91.8 1247.84,-93.32\"/>\n<polygon fill=\"black\" stroke=\"black\" points=\"1247.36,-96.78 1257.81,-95.07 1248.57,-89.89 1247.36,-96.78\"/>\n</g>\n<!-- 138575655647504 -->\n<g id=\"node18\" class=\"node\">\n<title>138575655647504</title>\n<polygon fill=\"none\" stroke=\"black\" points=\"2.5,-0.5 2.5,-36.5 197.5,-36.5 197.5,-0.5 2.5,-0.5\"/>\n<text text-anchor=\"middle\" x=\"19\" y=\"-14.8\" font-family=\"Times,serif\" font-size=\"14.00\">w2</text>\n<polyline fill=\"none\" stroke=\"black\" points=\"35.5,-0.5 35.5,-36.5 \"/>\n<text text-anchor=\"middle\" x=\"75.5\" y=\"-14.8\" font-family=\"Times,serif\" font-size=\"14.00\">data 1.0000</text>\n<polyline fill=\"none\" stroke=\"black\" points=\"115.5,-0.5 115.5,-36.5 \"/>\n<text text-anchor=\"middle\" x=\"156.5\" y=\"-14.8\" font-family=\"Times,serif\" font-size=\"14.00\">grad 0.0000</text>\n</g>\n<!-- 138575655647504&#45;&gt;138575655644624* -->\n<g id=\"edge27\" class=\"edge\">\n<title>138575655647504&#45;&gt;138575655644624*</title>\n<path fill=\"none\" stroke=\"black\" d=\"M172.53,-36.56C181.84,-39.33 191.2,-42.33 200,-45.5 210.53,-49.29 221.75,-54.1 231.72,-58.67\"/>\n<polygon fill=\"black\" stroke=\"black\" points=\"230.28,-61.86 240.82,-62.93 233.25,-55.52 230.28,-61.86\"/>\n</g>\n<!-- 138575655646592 -->\n<g id=\"node19\" class=\"node\">\n<title>138575655646592</title>\n<polygon fill=\"none\" stroke=\"black\" points=\"2,-165.5 2,-201.5 198,-201.5 198,-165.5 2,-165.5\"/>\n<text text-anchor=\"middle\" x=\"17\" y=\"-179.8\" font-family=\"Times,serif\" font-size=\"14.00\">x1</text>\n<polyline fill=\"none\" stroke=\"black\" points=\"32,-165.5 32,-201.5 \"/>\n<text text-anchor=\"middle\" x=\"72\" y=\"-179.8\" font-family=\"Times,serif\" font-size=\"14.00\">data 2.0000</text>\n<polyline fill=\"none\" stroke=\"black\" points=\"112,-165.5 112,-201.5 \"/>\n<text text-anchor=\"middle\" x=\"155\" y=\"-179.8\" font-family=\"Times,serif\" font-size=\"14.00\">grad &#45;1.5000</text>\n</g>\n<!-- 138575655646592&#45;&gt;138575655637712* -->\n<g id=\"edge17\" class=\"edge\">\n<title>138575655646592&#45;&gt;138575655637712*</title>\n<path fill=\"none\" stroke=\"black\" d=\"M172.53,-165.44C181.84,-162.67 191.2,-159.67 200,-156.5 210.53,-152.71 221.75,-147.9 231.72,-143.33\"/>\n<polygon fill=\"black\" stroke=\"black\" points=\"233.25,-146.48 240.82,-139.07 230.28,-140.14 233.25,-146.48\"/>\n</g>\n<!-- 138575655637328 -->\n<g id=\"node20\" class=\"node\">\n<title>138575655637328</title>\n<polygon fill=\"none\" stroke=\"black\" points=\"2190,-53.5 2190,-89.5 2372,-89.5 2372,-53.5 2190,-53.5\"/>\n<text text-anchor=\"middle\" x=\"2200\" y=\"-67.8\" font-family=\"Times,serif\" font-size=\"14.00\"> </text>\n<polyline fill=\"none\" stroke=\"black\" points=\"2210,-53.5 2210,-89.5 \"/>\n<text text-anchor=\"middle\" x=\"2250\" y=\"-67.8\" font-family=\"Times,serif\" font-size=\"14.00\">data 4.8284</text>\n<polyline fill=\"none\" stroke=\"black\" points=\"2290,-53.5 2290,-89.5 \"/>\n<text text-anchor=\"middle\" x=\"2331\" y=\"-67.8\" font-family=\"Times,serif\" font-size=\"14.00\">grad 0.1464</text>\n</g>\n<!-- 138575655637328&#45;&gt;138575655641984* -->\n<g id=\"edge12\" class=\"edge\">\n<title>138575655637328&#45;&gt;138575655641984*</title>\n<path fill=\"none\" stroke=\"black\" d=\"M2372.04,-78.07C2450.41,-83.79 2559.98,-91.79 2615.96,-95.87\"/>\n<polygon fill=\"black\" stroke=\"black\" points=\"2615.87,-99.37 2626.1,-96.61 2616.38,-92.39 2615.87,-99.37\"/>\n</g>\n<!-- 138575655637328+&#45;&gt;138575655637328 -->\n<g id=\"edge7\" class=\"edge\">\n<title>138575655637328+&#45;&gt;138575655637328</title>\n<path fill=\"none\" stroke=\"black\" d=\"M1932,-71.5C1982.46,-71.5 2096.06,-71.5 2179.81,-71.5\"/>\n<polygon fill=\"black\" stroke=\"black\" points=\"2179.87,-75 2189.87,-71.5 2179.87,-68 2179.87,-75\"/>\n</g>\n<!-- 138575655641984 -->\n<g id=\"node22\" class=\"node\">\n<title>138575655641984</title>\n<polygon fill=\"none\" stroke=\"black\" points=\"2716,-80.5 2716,-116.5 2901,-116.5 2901,-80.5 2716,-80.5\"/>\n<text text-anchor=\"middle\" x=\"2727.5\" y=\"-94.8\" font-family=\"Times,serif\" font-size=\"14.00\">o</text>\n<polyline fill=\"none\" stroke=\"black\" points=\"2739,-80.5 2739,-116.5 \"/>\n<text text-anchor=\"middle\" x=\"2779\" y=\"-94.8\" font-family=\"Times,serif\" font-size=\"14.00\">data 0.7071</text>\n<polyline fill=\"none\" stroke=\"black\" points=\"2819,-80.5 2819,-116.5 \"/>\n<text text-anchor=\"middle\" x=\"2860\" y=\"-94.8\" font-family=\"Times,serif\" font-size=\"14.00\">grad 1.0000</text>\n</g>\n<!-- 138575655641984*&#45;&gt;138575655641984 -->\n<g id=\"edge8\" class=\"edge\">\n<title>138575655641984*&#45;&gt;138575655641984</title>\n<path fill=\"none\" stroke=\"black\" d=\"M2680.04,-98.5C2687.58,-98.5 2696.3,-98.5 2705.57,-98.5\"/>\n<polygon fill=\"black\" stroke=\"black\" points=\"2705.81,-102 2715.81,-98.5 2705.81,-95 2705.81,-102\"/>\n</g>\n<!-- 138575655638432 -->\n<g id=\"node24\" class=\"node\">\n<title>138575655638432</title>\n<polygon fill=\"none\" stroke=\"black\" points=\"1347,-81.5 1347,-117.5 1529,-117.5 1529,-81.5 1347,-81.5\"/>\n<text text-anchor=\"middle\" x=\"1357\" y=\"-95.8\" font-family=\"Times,serif\" font-size=\"14.00\"> </text>\n<polyline fill=\"none\" stroke=\"black\" points=\"1367,-81.5 1367,-117.5 \"/>\n<text text-anchor=\"middle\" x=\"1407\" y=\"-95.8\" font-family=\"Times,serif\" font-size=\"14.00\">data 1.7627</text>\n<polyline fill=\"none\" stroke=\"black\" points=\"1447,-81.5 1447,-117.5 \"/>\n<text text-anchor=\"middle\" x=\"1488\" y=\"-95.8\" font-family=\"Times,serif\" font-size=\"14.00\">grad 0.2500</text>\n</g>\n<!-- 138575655638432&#45;&gt;138575655643328exp -->\n<g id=\"edge14\" class=\"edge\">\n<title>138575655638432&#45;&gt;138575655643328exp</title>\n<path fill=\"none\" stroke=\"black\" d=\"M1529.18,-99.5C1538.14,-99.5 1546.83,-99.5 1554.73,-99.5\"/>\n<polygon fill=\"black\" stroke=\"black\" points=\"1554.96,-103 1564.96,-99.5 1554.96,-96 1554.96,-103\"/>\n</g>\n<!-- 138575655638432*&#45;&gt;138575655638432 -->\n<g id=\"edge9\" class=\"edge\">\n<title>138575655638432*&#45;&gt;138575655638432</title>\n<path fill=\"none\" stroke=\"black\" d=\"M1311.13,-99.5C1318.67,-99.5 1327.39,-99.5 1336.64,-99.5\"/>\n<polygon fill=\"black\" stroke=\"black\" points=\"1336.87,-103 1346.87,-99.5 1336.87,-96 1336.87,-103\"/>\n</g>\n<!-- 138575658017712 -->\n<g id=\"node26\" class=\"node\">\n<title>138575658017712</title>\n<polygon fill=\"none\" stroke=\"black\" points=\"0,-110.5 0,-146.5 200,-146.5 200,-110.5 0,-110.5\"/>\n<text text-anchor=\"middle\" x=\"16.5\" y=\"-124.8\" font-family=\"Times,serif\" font-size=\"14.00\">w1</text>\n<polyline fill=\"none\" stroke=\"black\" points=\"33,-110.5 33,-146.5 \"/>\n<text text-anchor=\"middle\" x=\"75.5\" y=\"-124.8\" font-family=\"Times,serif\" font-size=\"14.00\">data &#45;3.0000</text>\n<polyline fill=\"none\" stroke=\"black\" points=\"118,-110.5 118,-146.5 \"/>\n<text text-anchor=\"middle\" x=\"159\" y=\"-124.8\" font-family=\"Times,serif\" font-size=\"14.00\">grad 1.0000</text>\n</g>\n<!-- 138575658017712&#45;&gt;138575655637712* -->\n<g id=\"edge19\" class=\"edge\">\n<title>138575658017712&#45;&gt;138575655637712*</title>\n<path fill=\"none\" stroke=\"black\" d=\"M200.21,-128.5C209.2,-128.5 217.86,-128.5 225.7,-128.5\"/>\n<polygon fill=\"black\" stroke=\"black\" points=\"225.85,-132 235.85,-128.5 225.85,-125 225.85,-132\"/>\n</g>\n<!-- 138575655644624 -->\n<g id=\"node27\" class=\"node\">\n<title>138575655644624</title>\n<polygon fill=\"none\" stroke=\"black\" points=\"328.5,-55.5 328.5,-91.5 537.5,-91.5 537.5,-55.5 328.5,-55.5\"/>\n<text text-anchor=\"middle\" x=\"352\" y=\"-69.8\" font-family=\"Times,serif\" font-size=\"14.00\">x2w2</text>\n<polyline fill=\"none\" stroke=\"black\" points=\"375.5,-55.5 375.5,-91.5 \"/>\n<text text-anchor=\"middle\" x=\"415.5\" y=\"-69.8\" font-family=\"Times,serif\" font-size=\"14.00\">data 0.0000</text>\n<polyline fill=\"none\" stroke=\"black\" points=\"455.5,-55.5 455.5,-91.5 \"/>\n<text text-anchor=\"middle\" x=\"496.5\" y=\"-69.8\" font-family=\"Times,serif\" font-size=\"14.00\">grad 0.5000</text>\n</g>\n<!-- 138575655644624&#45;&gt;138575655638720+ -->\n<g id=\"edge21\" class=\"edge\">\n<title>138575655644624&#45;&gt;138575655638720+</title>\n<path fill=\"none\" stroke=\"black\" d=\"M537.53,-90.14C547.8,-91.79 557.66,-93.37 566.45,-94.79\"/>\n<polygon fill=\"black\" stroke=\"black\" points=\"566.16,-98.28 576.59,-96.42 567.27,-91.37 566.16,-98.28\"/>\n</g>\n<!-- 138575655644624*&#45;&gt;138575655644624 -->\n<g id=\"edge10\" class=\"edge\">\n<title>138575655644624*&#45;&gt;138575655644624</title>\n<path fill=\"none\" stroke=\"black\" d=\"M290.25,-73.5C298.43,-73.5 308.03,-73.5 318.31,-73.5\"/>\n<polygon fill=\"black\" stroke=\"black\" points=\"318.35,-77 328.35,-73.5 318.35,-70 318.35,-77\"/>\n</g>\n</g>\n</svg>\n",
            "text/plain": [
              "<graphviz.graphs.Digraph at 0x7e08a8ded720>"
            ]
          },
          "metadata": {},
          "execution_count": 180
        }
      ]
    },
    {
      "cell_type": "markdown",
      "source": [
        "**working with torch**"
      ],
      "metadata": {
        "id": "4REbYYS9UCwD"
      }
    },
    {
      "cell_type": "code",
      "source": [
        "import torch"
      ],
      "metadata": {
        "id": "7PaZ2BdaI6oI"
      },
      "execution_count": null,
      "outputs": []
    },
    {
      "cell_type": "code",
      "source": [
        "x1 = torch.Tensor([2.0]).double()                ; x1.requires_grad = True\n",
        "x2 = torch.Tensor([0.0]).double()                ; x2.requires_grad = True\n",
        "w1 = torch.Tensor([-3.0]).double()               ; w1.requires_grad = True\n",
        "w2 = torch.Tensor([1.0]).double()                ; w2.requires_grad = True\n",
        "b = torch.Tensor([6.8813735870195432]).double()  ; b.requires_grad = True\n",
        "n = x1*w1 + x2*w2 + b\n",
        "o = torch.tanh(n)\n",
        "\n",
        "print(o.data.item())\n",
        "o.backward()\n",
        "\n",
        "print('---')\n",
        "print('x2', x2.grad.item())\n",
        "print('w2', w2.grad.item())\n",
        "print('x1', x1.grad.item())\n",
        "print('w1', w1.grad.item())"
      ],
      "metadata": {
        "colab": {
          "base_uri": "https://localhost:8080/"
        },
        "id": "jAEV2VKNUHPN",
        "outputId": "a6830c8f-ca9c-42ab-b5a3-6ac657514522"
      },
      "execution_count": null,
      "outputs": [
        {
          "output_type": "stream",
          "name": "stdout",
          "text": [
            "0.7071066904050358\n",
            "---\n",
            "x2 0.5000001283844369\n",
            "w2 0.0\n",
            "x1 -1.5000003851533106\n",
            "w1 1.0000002567688737\n"
          ]
        }
      ]
    },
    {
      "cell_type": "code",
      "source": [
        "import random"
      ],
      "metadata": {
        "id": "q9ozPHF5WFOz"
      },
      "execution_count": null,
      "outputs": []
    },
    {
      "cell_type": "code",
      "source": [
        "class Neuron:\n",
        "\n",
        "  def __init__(self,nin):\n",
        "    self.w = [Value(random.uniform(-1,1)) for _ in range(nin)]\n",
        "    self.b = Value(random.uniform(-1,1))\n",
        "\n",
        "  def __call__(self,x):\n",
        "    # w * x + b\n",
        "    act = sum((wi*xi for wi,xi in zip(self.w,x)), self.b)\n",
        "    out = act.tanh()\n",
        "    return out\n",
        "\n",
        "  def parameters(self):\n",
        "    return self.w + [self.b]\n",
        "\n",
        "\n",
        "class Layer:\n",
        "\n",
        "  def __init__(self, nin, nout):\n",
        "    self.neurons = [Neuron(nin) for _ in range(nout)]\n",
        "\n",
        "  def __call__(self,x):\n",
        "    outs = [n(x) for n in self.neurons]\n",
        "    return outs[0] if len(outs) == 1 else outs\n",
        "\n",
        "  def parameters(self):\n",
        "    params = []\n",
        "\n",
        "    for neuron in self.neurons:\n",
        "      ps = neuron.parameters()\n",
        "      params.extend(ps)\n",
        "    return params\n",
        "\n",
        "class MLP:\n",
        "  def __init__(self, nin, nouts):\n",
        "    sz = [nin] + nouts\n",
        "    self.layers = [Layer(sz[i], sz[i+1]) for i in range(len(nouts))]\n",
        "\n",
        "  def __call__(self,x):\n",
        "    for layer in self.layers: x = layer(x)\n",
        "\n",
        "    return x\n",
        "\n",
        "  def parameters(self):\n",
        "    return [p for layer in self.layers for p in layer.parameters()]\n",
        "\n",
        "x = [2.0,3.0, -1.0]\n",
        "n = MLP(3,[4,4,1])\n",
        "n(x)"
      ],
      "metadata": {
        "colab": {
          "base_uri": "https://localhost:8080/"
        },
        "id": "RUyfqodvULOo",
        "outputId": "8b29138d-1175-4302-fea8-d8b73ffd5ae6"
      },
      "execution_count": null,
      "outputs": [
        {
          "output_type": "execute_result",
          "data": {
            "text/plain": [
              "Value(data=0.9783011677192919)"
            ]
          },
          "metadata": {},
          "execution_count": 306
        }
      ]
    },
    {
      "cell_type": "code",
      "source": [
        "len(n.parameters())"
      ],
      "metadata": {
        "colab": {
          "base_uri": "https://localhost:8080/"
        },
        "id": "r06stXsHov0I",
        "outputId": "3caf4220-3af0-4a37-8f89-aff52bc52dff"
      },
      "execution_count": null,
      "outputs": [
        {
          "output_type": "execute_result",
          "data": {
            "text/plain": [
              "41"
            ]
          },
          "metadata": {},
          "execution_count": 282
        }
      ]
    },
    {
      "cell_type": "code",
      "source": [
        "draw_dot(n(x))"
      ],
      "metadata": {
        "colab": {
          "base_uri": "https://localhost:8080/",
          "height": 1000
        },
        "collapsed": true,
        "id": "hRhRiEvKWncA",
        "outputId": "2b5cd515-d58b-43f3-ab8b-7c043dc16202"
      },
      "execution_count": null,
      "outputs": [
        {
          "output_type": "stream",
          "name": "stdout",
          "text": [
            "{(Value(data=0.8366953679450206), Value(data=0.28481236494995443)), (Value(data=0.9906036551472802), Value(data=0.9570762151298057)), (Value(data=0.3112018699300002), Value(data=0.49555323850560273)), (Value(data=-0.1700115078783513), Value(data=0.48530078919204156)), (Value(data=0.04949336993551845), Value(data=-0.5499923655040442)), (Value(data=2.0), Value(data=-1.7734774352856557)), (Value(data=0.14716073159792575), Value(data=0.2943214631958515)), (Value(data=0.3673113471317131), Value(data=-0.5442718281083376)), (Value(data=0.585144825046692), Value(data=-0.5197869009415924)), (Value(data=1.200336141110477), Value(data=1.724856796225003)), (Value(data=0.09970279955635863), Value(data=0.05118404620883745)), (Value(data=-0.3854391721049415), Value(data=-0.770878344209883)), (Value(data=0.05118404620883745), Value(data=1.7279740410934081)), (Value(data=-0.40017392769847593), Value(data=-0.39924809133501943)), (Value(data=0.3191088569073885), Value(data=-1.5179146166455153)), (Value(data=0.49555323850560273), Value(data=0.6052212967466644)), (Value(data=0.9906036551472802), Value(data=0.0009258363634564835)), (Value(data=0.5672898999701971), Value(data=0.5133661886786322)), (Value(data=0.28481236494995443), Value(data=1.6767899948845706)), (Value(data=0.5281016529938773), Value(data=0.4955944594733415)), (Value(data=0.30926664100797185), Value(data=-0.5994857354395626)), (Value(data=0.8609339859216776), Value(data=0.5672898999701971)), (Value(data=-0.8883047045662854), Value(data=-0.5197869009415924)), (Value(data=2.6054091518660636), Value(data=2.061137323757726)), (Value(data=0.9661545363342217), Value(data=0.9570762151298057)), (Value(data=-0.6134377751522482), Value(data=0.3436384399775575)), (Value(data=0.23341870194213948), Value(data=1.2100529376519102)), (Value(data=-0.5003330092610465), Value(data=-0.6207236663789535)), (Value(data=0.40831632687478114), Value(data=-0.1700115078783513)), (Value(data=-1.0), Value(data=0.5245206551145261)), (Value(data=2.67793622390673), Value(data=0.9906036551472802)), (Value(data=-0.2936440859514805), Value(data=0.5672898999701971)), (Value(data=1.2100529376519102), Value(data=0.8366953679450206)), (Value(data=0.9384451964195751), Value(data=0.3112018699300002)), (Value(data=-0.04949336993551845), Value(data=0.04949336993551845)), (Value(data=-0.5499923655040442), Value(data=-0.50051448927002)), (Value(data=1.6767899948845706), Value(data=1.7279740410934081)), (Value(data=-0.9782014813210924), Value(data=-0.917988481276292)), (Value(data=-0.9063050446722938), Value(data=0.805075034954556)), (Value(data=-0.50051448927002), Value(data=0.3191088569073885)), (Value(data=-1.5124819913990502), Value(data=-1.6756085428312402)), (Value(data=-1.23669822830035), Value(data=1.200336141110477)), (Value(data=-0.6207236663789535), Value(data=0.18435136857560253)), (Value(data=0.2943214631958515), Value(data=-0.16312655143219001)), (Value(data=-0.45579158762002536), Value(data=-0.9115831752400507)), (Value(data=0.18435136857560253), Value(data=0.49555323850560273)), (Value(data=0.4810397762364293), Value(data=0.9766342357097708)), (Value(data=0.34040150795799495), Value(data=0.28481236494995443)), (Value(data=0.6052212967466644), Value(data=0.540754502993895)), (Value(data=-1.5179146166455153), Value(data=-0.9083335522180176)), (Value(data=-0.9083335522180176), Value(data=0.7307032884272344)), (Value(data=-0.9087523764475345), Value(data=-0.5994857354395626)), (Value(data=-0.50051448927002), Value(data=0.23341870194213948)), (Value(data=-1.0), Value(data=0.2617784745824483)), (Value(data=-0.12039065711790697), Value(data=-0.6207236663789535)), (Value(data=0.9384451964195751), Value(data=0.3756331967296361)), (Value(data=3.0), Value(data=-1.5124819913990502)), (Value(data=2.437034369410827), Value(data=1.200336141110477)), (Value(data=-0.9115831752400507), Value(data=-0.5442718281083376)), (Value(data=-0.8883047045662854), Value(data=0.805075034954556)), (Value(data=2.0), Value(data=-0.9115831752400507)), (Value(data=0.10966805824106167), Value(data=0.6052212967466644)), (Value(data=0.8684697172886879), Value(data=2.6054091518660636)), (Value(data=3.0), Value(data=0.30926664100797185)), (Value(data=0.0009346183598715196), Value(data=0.0009258363634564835)), (Value(data=-0.5197869009415924), Value(data=-0.9190349922766119)), (Value(data=-0.8867387176428279), Value(data=-1.7734774352856557)), (Value(data=0.9384451964195751), Value(data=-0.917988481276292)), (Value(data=-1.0), Value(data=0.616798900149004)), (Value(data=-0.5838135481815361), Value(data=-0.5783278347531324)), (Value(data=0.1374013362588718), Value(data=0.4810397762364293)), (Value(data=0.8123447898036089), Value(data=2.437034369410827)), (Value(data=-0.5245206551145261), Value(data=0.5245206551145261)), (Value(data=0.6612743415073817), Value(data=1.3919776299346163)), (Value(data=1.724856796225003), Value(data=0.9384451964195751)), (Value(data=-0.770878344209883), Value(data=-1.23669822830035)), (Value(data=1.7279740410934081), Value(data=0.9388160618716266)), (Value(data=-0.5994857354395626), Value(data=-0.5499923655040442)), (Value(data=-0.5442718281083376), Value(data=2.061137323757726)), (Value(data=-1.4138300682487919), Value(data=-0.8883047045662854)), (Value(data=-0.4574480146280415), Value(data=-0.16312655143219001)), (Value(data=0.5866844861569311), Value(data=-0.2936440859514805)), (Value(data=0.6553122970703928), Value(data=0.48530078919204156)), (Value(data=0.9570762151298057), Value(data=0.3436384399775575)), (Value(data=0.8647250588381212), Value(data=-0.9087523764475345)), (Value(data=-0.2617784745824483), Value(data=0.2617784745824483)), (Value(data=-0.5050789048286506), Value(data=-0.5003330092610465)), (Value(data=3.0), Value(data=2.6054091518660636)), (Value(data=0.9906036551472802), Value(data=-0.5003330092610465)), (Value(data=0.6877912004815796), Value(data=0.6612743415073817)), (Value(data=-0.46581988409046704), Value(data=-1.23669822830035)), (Value(data=-0.5783278347531324), Value(data=-0.1700115078783513)), (Value(data=0.9906036551472802), Value(data=-0.5783278347531324)), (Value(data=0.10308888033599062), Value(data=0.30926664100797185)), (Value(data=2.0), Value(data=-0.770878344209883)), (Value(data=1.3919776299346163), Value(data=1.6767899948845706)), (Value(data=-0.39924809133501943), Value(data=-0.9190349922766119)), (Value(data=0.9384451964195751), Value(data=0.4955944594733415)), (Value(data=0.540754502993895), Value(data=-0.026516858974197897)), (Value(data=-0.8883047045662854), Value(data=0.6553122970703928)), (Value(data=2.0), Value(data=0.2943214631958515)), (Value(data=0.2617784745824483), Value(data=-1.4138300682487919)), (Value(data=-0.7377111634125015), Value(data=0.6553122970703928)), (Value(data=0.616798900149004), Value(data=2.67793622390673)), (Value(data=-0.50051448927002), Value(data=0.10966805824106167)), (Value(data=-0.917988481276292), Value(data=-1.8370234735529039)), (Value(data=0.3756331967296361), Value(data=0.8609339859216776)), (Value(data=0.48530078919204156), Value(data=0.8609339859216776)), (Value(data=-0.04903677884767843), Value(data=-0.026516858974197897)), (Value(data=0.4002718519555317), Value(data=0.3756331967296361)), (Value(data=2.061137323757726), Value(data=2.67793622390673)), (Value(data=-0.026516858974197897), Value(data=0.6612743415073817)), (Value(data=0.3436384399775575), Value(data=0.4810397762364293)), (Value(data=-0.9190349922766119), Value(data=-1.8370234735529039)), (Value(data=-0.5041606637996834), Value(data=-1.5124819913990502)), (Value(data=-0.46635753199187335), Value(data=0.23341870194213948)), (Value(data=-0.21911065631887716), Value(data=0.10966805824106167)), (Value(data=-0.15467815891615477), Value(data=0.1374013362588718)), (Value(data=0.805075034954556), Value(data=0.18435136857560253)), (Value(data=0.33161432454161455), Value(data=0.3112018699300002)), (Value(data=-1.7734774352856557), Value(data=-0.9087523764475345)), (Value(data=0.5133661886786322), Value(data=0.05118404620883745)), (Value(data=0.9766342357097708), Value(data=1.2100529376519102)), (Value(data=-0.50051448927002), Value(data=-0.2936440859514805)), (Value(data=-0.6375616765316741), Value(data=0.3191088569073885)), (Value(data=0.0009258363634564835), Value(data=-0.39924809133501943)), (Value(data=-0.616798900149004), Value(data=0.616798900149004)), (Value(data=-0.8044437934093307), Value(data=0.7307032884272344)), (Value(data=-1.8370234735529039), Value(data=-1.5179146166455153)), (Value(data=0.7307032884272344), Value(data=1.3919776299346163)), (Value(data=-1.0), Value(data=0.04949336993551845)), (Value(data=0.4955944594733415), Value(data=0.9766342357097708)), (Value(data=3.0), Value(data=2.437034369410827)), (Value(data=-0.16312655143219001), Value(data=-1.6756085428312402)), (Value(data=-1.6756085428312402), Value(data=-1.4138300682487919)), (Value(data=-0.8883047045662854), Value(data=0.1374013362588718)), (Value(data=0.5245206551145261), Value(data=1.724856796225003))}\n"
          ]
        },
        {
          "output_type": "execute_result",
          "data": {
            "image/svg+xml": "<?xml version=\"1.0\" encoding=\"UTF-8\" standalone=\"no\"?>\n<!DOCTYPE svg PUBLIC \"-//W3C//DTD SVG 1.1//EN\"\n \"http://www.w3.org/Graphics/SVG/1.1/DTD/svg11.dtd\">\n<!-- Generated by graphviz version 2.43.0 (0)\n -->\n<!-- Title: %3 Pages: 1 -->\n<svg width=\"5619pt\" height=\"980pt\"\n viewBox=\"0.00 0.00 5619.00 980.00\" xmlns=\"http://www.w3.org/2000/svg\" xmlns:xlink=\"http://www.w3.org/1999/xlink\">\n<g id=\"graph0\" class=\"graph\" transform=\"scale(1 1) rotate(0) translate(4 976)\">\n<title>%3</title>\n<polygon fill=\"white\" stroke=\"transparent\" points=\"-4,4 -4,-976 5615,-976 5615,4 -4,4\"/>\n<!-- 138572727361568 -->\n<g id=\"node1\" class=\"node\">\n<title>138572727361568</title>\n<polygon fill=\"none\" stroke=\"black\" points=\"626,-605.5 626,-641.5 813,-641.5 813,-605.5 626,-605.5\"/>\n<text text-anchor=\"middle\" x=\"636\" y=\"-619.8\" font-family=\"Times,serif\" font-size=\"14.00\"> </text>\n<polyline fill=\"none\" stroke=\"black\" points=\"646,-605.5 646,-641.5 \"/>\n<text text-anchor=\"middle\" x=\"688.5\" y=\"-619.8\" font-family=\"Times,serif\" font-size=\"14.00\">data &#45;0.4574</text>\n<polyline fill=\"none\" stroke=\"black\" points=\"731,-605.5 731,-641.5 \"/>\n<text text-anchor=\"middle\" x=\"772\" y=\"-619.8\" font-family=\"Times,serif\" font-size=\"14.00\">grad 0.0000</text>\n</g>\n<!-- 138572727367280+ -->\n<g id=\"node131\" class=\"node\">\n<title>138572727367280+</title>\n<ellipse fill=\"none\" stroke=\"black\" cx=\"876\" cy=\"-623.5\" rx=\"27\" ry=\"18\"/>\n<text text-anchor=\"middle\" x=\"876\" y=\"-619.8\" font-family=\"Times,serif\" font-size=\"14.00\">+</text>\n</g>\n<!-- 138572727361568&#45;&gt;138572727367280+ -->\n<g id=\"edge154\" class=\"edge\">\n<title>138572727361568&#45;&gt;138572727367280+</title>\n<path fill=\"none\" stroke=\"black\" d=\"M813.05,-623.5C822.06,-623.5 830.79,-623.5 838.7,-623.5\"/>\n<polygon fill=\"black\" stroke=\"black\" points=\"838.95,-627 848.95,-623.5 838.95,-620 838.95,-627\"/>\n</g>\n<!-- 138572754468928 -->\n<g id=\"node2\" class=\"node\">\n<title>138572754468928</title>\n<polygon fill=\"none\" stroke=\"black\" points=\"1878,-605.5 1878,-641.5 2065,-641.5 2065,-605.5 1878,-605.5\"/>\n<text text-anchor=\"middle\" x=\"1888\" y=\"-619.8\" font-family=\"Times,serif\" font-size=\"14.00\"> </text>\n<polyline fill=\"none\" stroke=\"black\" points=\"1898,-605.5 1898,-641.5 \"/>\n<text text-anchor=\"middle\" x=\"1940.5\" y=\"-619.8\" font-family=\"Times,serif\" font-size=\"14.00\">data &#45;0.4002</text>\n<polyline fill=\"none\" stroke=\"black\" points=\"1983,-605.5 1983,-641.5 \"/>\n<text text-anchor=\"middle\" x=\"2024\" y=\"-619.8\" font-family=\"Times,serif\" font-size=\"14.00\">grad 0.0000</text>\n</g>\n<!-- 138572753739040+ -->\n<g id=\"node178\" class=\"node\">\n<title>138572753739040+</title>\n<ellipse fill=\"none\" stroke=\"black\" cx=\"2128\" cy=\"-623.5\" rx=\"27\" ry=\"18\"/>\n<text text-anchor=\"middle\" x=\"2128\" y=\"-619.8\" font-family=\"Times,serif\" font-size=\"14.00\">+</text>\n</g>\n<!-- 138572754468928&#45;&gt;138572753739040+ -->\n<g id=\"edge87\" class=\"edge\">\n<title>138572754468928&#45;&gt;138572753739040+</title>\n<path fill=\"none\" stroke=\"black\" d=\"M2065.05,-623.5C2074.06,-623.5 2082.79,-623.5 2090.7,-623.5\"/>\n<polygon fill=\"black\" stroke=\"black\" points=\"2090.95,-627 2100.95,-623.5 2090.95,-620 2090.95,-627\"/>\n</g>\n<!-- 138572727361616 -->\n<g id=\"node3\" class=\"node\">\n<title>138572727361616</title>\n<polygon fill=\"none\" stroke=\"black\" points=\"939,-550.5 939,-586.5 1126,-586.5 1126,-550.5 939,-550.5\"/>\n<text text-anchor=\"middle\" x=\"949\" y=\"-564.8\" font-family=\"Times,serif\" font-size=\"14.00\"> </text>\n<polyline fill=\"none\" stroke=\"black\" points=\"959,-550.5 959,-586.5 \"/>\n<text text-anchor=\"middle\" x=\"1001.5\" y=\"-564.8\" font-family=\"Times,serif\" font-size=\"14.00\">data &#45;0.2618</text>\n<polyline fill=\"none\" stroke=\"black\" points=\"1044,-550.5 1044,-586.5 \"/>\n<text text-anchor=\"middle\" x=\"1085\" y=\"-564.8\" font-family=\"Times,serif\" font-size=\"14.00\">grad 0.0000</text>\n</g>\n<!-- 138572727366080* -->\n<g id=\"node116\" class=\"node\">\n<title>138572727366080*</title>\n<ellipse fill=\"none\" stroke=\"black\" cx=\"1189\" cy=\"-568.5\" rx=\"27\" ry=\"18\"/>\n<text text-anchor=\"middle\" x=\"1189\" y=\"-564.8\" font-family=\"Times,serif\" font-size=\"14.00\">*</text>\n</g>\n<!-- 138572727361616&#45;&gt;138572727366080* -->\n<g id=\"edge159\" class=\"edge\">\n<title>138572727361616&#45;&gt;138572727366080*</title>\n<path fill=\"none\" stroke=\"black\" d=\"M1126.05,-568.5C1135.06,-568.5 1143.79,-568.5 1151.7,-568.5\"/>\n<polygon fill=\"black\" stroke=\"black\" points=\"1151.95,-572 1161.95,-568.5 1151.95,-565 1151.95,-572\"/>\n</g>\n<!-- 138572727361664 -->\n<g id=\"node4\" class=\"node\">\n<title>138572727361664</title>\n<polygon fill=\"none\" stroke=\"black\" points=\"626,-715.5 626,-751.5 813,-751.5 813,-715.5 626,-715.5\"/>\n<text text-anchor=\"middle\" x=\"636\" y=\"-729.8\" font-family=\"Times,serif\" font-size=\"14.00\"> </text>\n<polyline fill=\"none\" stroke=\"black\" points=\"646,-715.5 646,-751.5 \"/>\n<text text-anchor=\"middle\" x=\"688.5\" y=\"-729.8\" font-family=\"Times,serif\" font-size=\"14.00\">data &#45;0.5042</text>\n<polyline fill=\"none\" stroke=\"black\" points=\"731,-715.5 731,-751.5 \"/>\n<text text-anchor=\"middle\" x=\"772\" y=\"-729.8\" font-family=\"Times,serif\" font-size=\"14.00\">grad 0.0000</text>\n</g>\n<!-- 138572727366176* -->\n<g id=\"node118\" class=\"node\">\n<title>138572727366176*</title>\n<ellipse fill=\"none\" stroke=\"black\" cx=\"876\" cy=\"-678.5\" rx=\"27\" ry=\"18\"/>\n<text text-anchor=\"middle\" x=\"876\" y=\"-674.8\" font-family=\"Times,serif\" font-size=\"14.00\">*</text>\n</g>\n<!-- 138572727361664&#45;&gt;138572727366176* -->\n<g id=\"edge188\" class=\"edge\">\n<title>138572727361664&#45;&gt;138572727366176*</title>\n<path fill=\"none\" stroke=\"black\" d=\"M786.56,-715.45C795.51,-712.64 804.53,-709.63 813,-706.5 823.49,-702.62 834.71,-697.78 844.68,-693.22\"/>\n<polygon fill=\"black\" stroke=\"black\" points=\"846.2,-696.37 853.79,-688.97 843.25,-690.02 846.2,-696.37\"/>\n</g>\n<!-- 138572754469024 -->\n<g id=\"node5\" class=\"node\">\n<title>138572754469024</title>\n<polygon fill=\"none\" stroke=\"black\" points=\"4197,-437.5 4197,-473.5 4379,-473.5 4379,-437.5 4197,-437.5\"/>\n<text text-anchor=\"middle\" x=\"4207\" y=\"-451.8\" font-family=\"Times,serif\" font-size=\"14.00\"> </text>\n<polyline fill=\"none\" stroke=\"black\" points=\"4217,-437.5 4217,-473.5 \"/>\n<text text-anchor=\"middle\" x=\"4257\" y=\"-451.8\" font-family=\"Times,serif\" font-size=\"14.00\">data 0.2848</text>\n<polyline fill=\"none\" stroke=\"black\" points=\"4297,-437.5 4297,-473.5 \"/>\n<text text-anchor=\"middle\" x=\"4338\" y=\"-451.8\" font-family=\"Times,serif\" font-size=\"14.00\">grad 0.0000</text>\n</g>\n<!-- 138572754473056+ -->\n<g id=\"node102\" class=\"node\">\n<title>138572754473056+</title>\n<ellipse fill=\"none\" stroke=\"black\" cx=\"4750\" cy=\"-455.5\" rx=\"27\" ry=\"18\"/>\n<text text-anchor=\"middle\" x=\"4750\" y=\"-451.8\" font-family=\"Times,serif\" font-size=\"14.00\">+</text>\n</g>\n<!-- 138572754469024&#45;&gt;138572754473056+ -->\n<g id=\"edge92\" class=\"edge\">\n<title>138572754469024&#45;&gt;138572754473056+</title>\n<path fill=\"none\" stroke=\"black\" d=\"M4379.06,-455.5C4480.56,-455.5 4640.73,-455.5 4712.31,-455.5\"/>\n<polygon fill=\"black\" stroke=\"black\" points=\"4712.62,-459 4722.62,-455.5 4712.62,-452 4712.62,-459\"/>\n</g>\n<!-- 138572754469024* -->\n<g id=\"node6\" class=\"node\">\n<title>138572754469024*</title>\n<ellipse fill=\"none\" stroke=\"black\" cx=\"3693\" cy=\"-455.5\" rx=\"27\" ry=\"18\"/>\n<text text-anchor=\"middle\" x=\"3693\" y=\"-451.8\" font-family=\"Times,serif\" font-size=\"14.00\">*</text>\n</g>\n<!-- 138572754469024*&#45;&gt;138572754469024 -->\n<g id=\"edge1\" class=\"edge\">\n<title>138572754469024*&#45;&gt;138572754469024</title>\n<path fill=\"none\" stroke=\"black\" d=\"M3720.25,-455.5C3800.61,-455.5 4046.33,-455.5 4186.42,-455.5\"/>\n<polygon fill=\"black\" stroke=\"black\" points=\"4186.74,-459 4196.74,-455.5 4186.74,-452 4186.74,-459\"/>\n</g>\n<!-- 138572754469072 -->\n<g id=\"node7\" class=\"node\">\n<title>138572754469072</title>\n<polygon fill=\"none\" stroke=\"black\" points=\"3445.5,-331.5 3445.5,-367.5 3627.5,-367.5 3627.5,-331.5 3445.5,-331.5\"/>\n<text text-anchor=\"middle\" x=\"3455.5\" y=\"-345.8\" font-family=\"Times,serif\" font-size=\"14.00\"> </text>\n<polyline fill=\"none\" stroke=\"black\" points=\"3465.5,-331.5 3465.5,-367.5 \"/>\n<text text-anchor=\"middle\" x=\"3505.5\" y=\"-345.8\" font-family=\"Times,serif\" font-size=\"14.00\">data 0.0997</text>\n<polyline fill=\"none\" stroke=\"black\" points=\"3545.5,-331.5 3545.5,-367.5 \"/>\n<text text-anchor=\"middle\" x=\"3586.5\" y=\"-345.8\" font-family=\"Times,serif\" font-size=\"14.00\">grad 0.0000</text>\n</g>\n<!-- 138572754473296* -->\n<g id=\"node110\" class=\"node\">\n<title>138572754473296*</title>\n<ellipse fill=\"none\" stroke=\"black\" cx=\"3693\" cy=\"-349.5\" rx=\"27\" ry=\"18\"/>\n<text text-anchor=\"middle\" x=\"3693\" y=\"-345.8\" font-family=\"Times,serif\" font-size=\"14.00\">*</text>\n</g>\n<!-- 138572754469072&#45;&gt;138572754473296* -->\n<g id=\"edge84\" class=\"edge\">\n<title>138572754469072&#45;&gt;138572754473296*</title>\n<path fill=\"none\" stroke=\"black\" d=\"M3627.82,-349.5C3637.57,-349.5 3647.04,-349.5 3655.57,-349.5\"/>\n<polygon fill=\"black\" stroke=\"black\" points=\"3655.83,-353 3665.83,-349.5 3655.83,-346 3655.83,-353\"/>\n</g>\n<!-- 138572754469120 -->\n<g id=\"node8\" class=\"node\">\n<title>138572754469120</title>\n<polygon fill=\"none\" stroke=\"black\" points=\"3758.5,-551.5 3758.5,-587.5 3940.5,-587.5 3940.5,-551.5 3758.5,-551.5\"/>\n<text text-anchor=\"middle\" x=\"3768.5\" y=\"-565.8\" font-family=\"Times,serif\" font-size=\"14.00\"> </text>\n<polyline fill=\"none\" stroke=\"black\" points=\"3778.5,-551.5 3778.5,-587.5 \"/>\n<text text-anchor=\"middle\" x=\"3818.5\" y=\"-565.8\" font-family=\"Times,serif\" font-size=\"14.00\">data 0.6878</text>\n<polyline fill=\"none\" stroke=\"black\" points=\"3858.5,-551.5 3858.5,-587.5 \"/>\n<text text-anchor=\"middle\" x=\"3899.5\" y=\"-565.8\" font-family=\"Times,serif\" font-size=\"14.00\">grad 0.0000</text>\n</g>\n<!-- 138572754470032+ -->\n<g id=\"node33\" class=\"node\">\n<title>138572754470032+</title>\n<ellipse fill=\"none\" stroke=\"black\" cx=\"4070\" cy=\"-569.5\" rx=\"27\" ry=\"18\"/>\n<text text-anchor=\"middle\" x=\"4070\" y=\"-565.8\" font-family=\"Times,serif\" font-size=\"14.00\">+</text>\n</g>\n<!-- 138572754469120&#45;&gt;138572754470032+ -->\n<g id=\"edge163\" class=\"edge\">\n<title>138572754469120&#45;&gt;138572754470032+</title>\n<path fill=\"none\" stroke=\"black\" d=\"M3940.63,-569.5C3972.93,-569.5 4007.53,-569.5 4032.66,-569.5\"/>\n<polygon fill=\"black\" stroke=\"black\" points=\"4032.82,-573 4042.82,-569.5 4032.82,-566 4032.82,-573\"/>\n</g>\n<!-- 138572727361856 -->\n<g id=\"node9\" class=\"node\">\n<title>138572727361856</title>\n<polygon fill=\"none\" stroke=\"black\" points=\"3445.5,-661.5 3445.5,-697.5 3627.5,-697.5 3627.5,-661.5 3445.5,-661.5\"/>\n<text text-anchor=\"middle\" x=\"3455.5\" y=\"-675.8\" font-family=\"Times,serif\" font-size=\"14.00\"> </text>\n<polyline fill=\"none\" stroke=\"black\" points=\"3465.5,-661.5 3465.5,-697.5 \"/>\n<text text-anchor=\"middle\" x=\"3505.5\" y=\"-675.8\" font-family=\"Times,serif\" font-size=\"14.00\">data 0.5408</text>\n<polyline fill=\"none\" stroke=\"black\" points=\"3545.5,-661.5 3545.5,-697.5 \"/>\n<text text-anchor=\"middle\" x=\"3586.5\" y=\"-675.8\" font-family=\"Times,serif\" font-size=\"14.00\">grad 0.0000</text>\n</g>\n<!-- 138572754469840* -->\n<g id=\"node29\" class=\"node\">\n<title>138572754469840*</title>\n<ellipse fill=\"none\" stroke=\"black\" cx=\"3693\" cy=\"-624.5\" rx=\"27\" ry=\"18\"/>\n<text text-anchor=\"middle\" x=\"3693\" y=\"-620.8\" font-family=\"Times,serif\" font-size=\"14.00\">*</text>\n</g>\n<!-- 138572727361856&#45;&gt;138572754469840* -->\n<g id=\"edge172\" class=\"edge\">\n<title>138572727361856&#45;&gt;138572754469840*</title>\n<path fill=\"none\" stroke=\"black\" d=\"M3603.56,-661.45C3612.51,-658.64 3621.53,-655.63 3630,-652.5 3640.49,-648.62 3651.71,-643.78 3661.68,-639.22\"/>\n<polygon fill=\"black\" stroke=\"black\" points=\"3663.2,-642.37 3670.79,-634.97 3660.25,-636.02 3663.2,-642.37\"/>\n</g>\n<!-- 138572727361856tanh -->\n<g id=\"node10\" class=\"node\">\n<title>138572727361856tanh</title>\n<ellipse fill=\"none\" stroke=\"black\" cx=\"3380\" cy=\"-679.5\" rx=\"27\" ry=\"18\"/>\n<text text-anchor=\"middle\" x=\"3380\" y=\"-675.8\" font-family=\"Times,serif\" font-size=\"14.00\">tanh</text>\n</g>\n<!-- 138572727361856tanh&#45;&gt;138572727361856 -->\n<g id=\"edge2\" class=\"edge\">\n<title>138572727361856tanh&#45;&gt;138572727361856</title>\n<path fill=\"none\" stroke=\"black\" d=\"M3407.21,-679.5C3415.34,-679.5 3424.85,-679.5 3434.94,-679.5\"/>\n<polygon fill=\"black\" stroke=\"black\" points=\"3435.19,-683 3445.19,-679.5 3435.19,-676 3435.19,-683\"/>\n</g>\n<!-- 138572727361904 -->\n<g id=\"node11\" class=\"node\">\n<title>138572727361904</title>\n<polygon fill=\"none\" stroke=\"black\" points=\"315.5,-605.5 315.5,-641.5 497.5,-641.5 497.5,-605.5 315.5,-605.5\"/>\n<text text-anchor=\"middle\" x=\"325.5\" y=\"-619.8\" font-family=\"Times,serif\" font-size=\"14.00\"> </text>\n<polyline fill=\"none\" stroke=\"black\" points=\"335.5,-605.5 335.5,-641.5 \"/>\n<text text-anchor=\"middle\" x=\"375.5\" y=\"-619.8\" font-family=\"Times,serif\" font-size=\"14.00\">data 0.1472</text>\n<polyline fill=\"none\" stroke=\"black\" points=\"415.5,-605.5 415.5,-641.5 \"/>\n<text text-anchor=\"middle\" x=\"456.5\" y=\"-619.8\" font-family=\"Times,serif\" font-size=\"14.00\">grad 0.0000</text>\n</g>\n<!-- 138572727362240* -->\n<g id=\"node22\" class=\"node\">\n<title>138572727362240*</title>\n<ellipse fill=\"none\" stroke=\"black\" cx=\"563\" cy=\"-568.5\" rx=\"27\" ry=\"18\"/>\n<text text-anchor=\"middle\" x=\"563\" y=\"-564.8\" font-family=\"Times,serif\" font-size=\"14.00\">*</text>\n</g>\n<!-- 138572727361904&#45;&gt;138572727362240* -->\n<g id=\"edge80\" class=\"edge\">\n<title>138572727361904&#45;&gt;138572727362240*</title>\n<path fill=\"none\" stroke=\"black\" d=\"M473.56,-605.45C482.51,-602.64 491.53,-599.63 500,-596.5 510.49,-592.62 521.71,-587.78 531.68,-583.22\"/>\n<polygon fill=\"black\" stroke=\"black\" points=\"533.2,-586.37 540.79,-578.97 530.25,-580.02 533.2,-586.37\"/>\n</g>\n<!-- 138572754477520 -->\n<g id=\"node12\" class=\"node\">\n<title>138572754477520</title>\n<polygon fill=\"none\" stroke=\"black\" points=\"2506.5,-386.5 2506.5,-422.5 2688.5,-422.5 2688.5,-386.5 2506.5,-386.5\"/>\n<text text-anchor=\"middle\" x=\"2516.5\" y=\"-400.8\" font-family=\"Times,serif\" font-size=\"14.00\"> </text>\n<polyline fill=\"none\" stroke=\"black\" points=\"2526.5,-386.5 2526.5,-422.5 \"/>\n<text text-anchor=\"middle\" x=\"2566.5\" y=\"-400.8\" font-family=\"Times,serif\" font-size=\"14.00\">data 0.4810</text>\n<polyline fill=\"none\" stroke=\"black\" points=\"2606.5,-386.5 2606.5,-422.5 \"/>\n<text text-anchor=\"middle\" x=\"2647.5\" y=\"-400.8\" font-family=\"Times,serif\" font-size=\"14.00\">grad 0.0000</text>\n</g>\n<!-- 138572754476176+ -->\n<g id=\"node168\" class=\"node\">\n<title>138572754476176+</title>\n<ellipse fill=\"none\" stroke=\"black\" cx=\"2754\" cy=\"-376.5\" rx=\"27\" ry=\"18\"/>\n<text text-anchor=\"middle\" x=\"2754\" y=\"-372.8\" font-family=\"Times,serif\" font-size=\"14.00\">+</text>\n</g>\n<!-- 138572754477520&#45;&gt;138572754476176+ -->\n<g id=\"edge120\" class=\"edge\">\n<title>138572754477520&#45;&gt;138572754476176+</title>\n<path fill=\"none\" stroke=\"black\" d=\"M2688.82,-388.13C2699.07,-386.27 2709.01,-384.47 2717.88,-382.87\"/>\n<polygon fill=\"black\" stroke=\"black\" points=\"2718.54,-386.3 2727.75,-381.08 2717.29,-379.42 2718.54,-386.3\"/>\n</g>\n<!-- 138572754477520+ -->\n<g id=\"node13\" class=\"node\">\n<title>138572754477520+</title>\n<ellipse fill=\"none\" stroke=\"black\" cx=\"2441\" cy=\"-404.5\" rx=\"27\" ry=\"18\"/>\n<text text-anchor=\"middle\" x=\"2441\" y=\"-400.8\" font-family=\"Times,serif\" font-size=\"14.00\">+</text>\n</g>\n<!-- 138572754477520+&#45;&gt;138572754477520 -->\n<g id=\"edge3\" class=\"edge\">\n<title>138572754477520+&#45;&gt;138572754477520</title>\n<path fill=\"none\" stroke=\"black\" d=\"M2468.21,-404.5C2476.34,-404.5 2485.85,-404.5 2495.94,-404.5\"/>\n<polygon fill=\"black\" stroke=\"black\" points=\"2496.19,-408 2506.19,-404.5 2496.19,-401 2496.19,-408\"/>\n</g>\n<!-- 138572754469408 -->\n<g id=\"node14\" class=\"node\">\n<title>138572754469408</title>\n<polygon fill=\"none\" stroke=\"black\" points=\"1565,-247.5 1565,-283.5 1752,-283.5 1752,-247.5 1565,-247.5\"/>\n<text text-anchor=\"middle\" x=\"1575\" y=\"-261.8\" font-family=\"Times,serif\" font-size=\"14.00\"> </text>\n<polyline fill=\"none\" stroke=\"black\" points=\"1585,-247.5 1585,-283.5 \"/>\n<text text-anchor=\"middle\" x=\"1627.5\" y=\"-261.8\" font-family=\"Times,serif\" font-size=\"14.00\">data &#45;0.5838</text>\n<polyline fill=\"none\" stroke=\"black\" points=\"1670,-247.5 1670,-283.5 \"/>\n<text text-anchor=\"middle\" x=\"1711\" y=\"-261.8\" font-family=\"Times,serif\" font-size=\"14.00\">grad 0.0000</text>\n</g>\n<!-- 138572754479536* -->\n<g id=\"node66\" class=\"node\">\n<title>138572754479536*</title>\n<ellipse fill=\"none\" stroke=\"black\" cx=\"1815\" cy=\"-265.5\" rx=\"27\" ry=\"18\"/>\n<text text-anchor=\"middle\" x=\"1815\" y=\"-261.8\" font-family=\"Times,serif\" font-size=\"14.00\">*</text>\n</g>\n<!-- 138572754469408&#45;&gt;138572754479536* -->\n<g id=\"edge143\" class=\"edge\">\n<title>138572754469408&#45;&gt;138572754479536*</title>\n<path fill=\"none\" stroke=\"black\" d=\"M1752.05,-265.5C1761.06,-265.5 1769.79,-265.5 1777.7,-265.5\"/>\n<polygon fill=\"black\" stroke=\"black\" points=\"1777.95,-269 1787.95,-265.5 1777.95,-262 1777.95,-269\"/>\n</g>\n<!-- 138572727362096 -->\n<g id=\"node15\" class=\"node\">\n<title>138572727362096</title>\n<polygon fill=\"none\" stroke=\"black\" points=\"2.5,-413.5 2.5,-449.5 184.5,-449.5 184.5,-413.5 2.5,-413.5\"/>\n<text text-anchor=\"middle\" x=\"12.5\" y=\"-427.8\" font-family=\"Times,serif\" font-size=\"14.00\"> </text>\n<polyline fill=\"none\" stroke=\"black\" points=\"22.5,-413.5 22.5,-449.5 \"/>\n<text text-anchor=\"middle\" x=\"62.5\" y=\"-427.8\" font-family=\"Times,serif\" font-size=\"14.00\">data 2.0000</text>\n<polyline fill=\"none\" stroke=\"black\" points=\"102.5,-413.5 102.5,-449.5 \"/>\n<text text-anchor=\"middle\" x=\"143.5\" y=\"-427.8\" font-family=\"Times,serif\" font-size=\"14.00\">grad 0.0000</text>\n</g>\n<!-- 138572727362288* -->\n<g id=\"node24\" class=\"node\">\n<title>138572727362288*</title>\n<ellipse fill=\"none\" stroke=\"black\" cx=\"250\" cy=\"-403.5\" rx=\"27\" ry=\"18\"/>\n<text text-anchor=\"middle\" x=\"250\" y=\"-399.8\" font-family=\"Times,serif\" font-size=\"14.00\">*</text>\n</g>\n<!-- 138572727362096&#45;&gt;138572727362288* -->\n<g id=\"edge134\" class=\"edge\">\n<title>138572727362096&#45;&gt;138572727362288*</title>\n<path fill=\"none\" stroke=\"black\" d=\"M184.82,-415.13C195.07,-413.27 205.01,-411.47 213.88,-409.87\"/>\n<polygon fill=\"black\" stroke=\"black\" points=\"214.54,-413.3 223.75,-408.08 213.29,-406.42 214.54,-413.3\"/>\n</g>\n<!-- 138572727362192 -->\n<g id=\"node16\" class=\"node\">\n<title>138572727362192</title>\n<polygon fill=\"none\" stroke=\"black\" points=\"315.5,-550.5 315.5,-586.5 497.5,-586.5 497.5,-550.5 315.5,-550.5\"/>\n<text text-anchor=\"middle\" x=\"325.5\" y=\"-564.8\" font-family=\"Times,serif\" font-size=\"14.00\"> </text>\n<polyline fill=\"none\" stroke=\"black\" points=\"335.5,-550.5 335.5,-586.5 \"/>\n<text text-anchor=\"middle\" x=\"375.5\" y=\"-564.8\" font-family=\"Times,serif\" font-size=\"14.00\">data 2.0000</text>\n<polyline fill=\"none\" stroke=\"black\" points=\"415.5,-550.5 415.5,-586.5 \"/>\n<text text-anchor=\"middle\" x=\"456.5\" y=\"-564.8\" font-family=\"Times,serif\" font-size=\"14.00\">grad 0.0000</text>\n</g>\n<!-- 138572727362192&#45;&gt;138572727362240* -->\n<g id=\"edge174\" class=\"edge\">\n<title>138572727362192&#45;&gt;138572727362240*</title>\n<path fill=\"none\" stroke=\"black\" d=\"M497.82,-568.5C507.57,-568.5 517.04,-568.5 525.57,-568.5\"/>\n<polygon fill=\"black\" stroke=\"black\" points=\"525.83,-572 535.83,-568.5 525.83,-565 525.83,-572\"/>\n</g>\n<!-- 138572754477712 -->\n<g id=\"node17\" class=\"node\">\n<title>138572754477712</title>\n<polygon fill=\"none\" stroke=\"black\" points=\"2506.5,-221.5 2506.5,-257.5 2688.5,-257.5 2688.5,-221.5 2506.5,-221.5\"/>\n<text text-anchor=\"middle\" x=\"2516.5\" y=\"-235.8\" font-family=\"Times,serif\" font-size=\"14.00\"> </text>\n<polyline fill=\"none\" stroke=\"black\" points=\"2526.5,-221.5 2526.5,-257.5 \"/>\n<text text-anchor=\"middle\" x=\"2566.5\" y=\"-235.8\" font-family=\"Times,serif\" font-size=\"14.00\">data 0.4956</text>\n<polyline fill=\"none\" stroke=\"black\" points=\"2606.5,-221.5 2606.5,-257.5 \"/>\n<text text-anchor=\"middle\" x=\"2647.5\" y=\"-235.8\" font-family=\"Times,serif\" font-size=\"14.00\">grad 0.0000</text>\n</g>\n<!-- 138572754477712&#45;&gt;138572754476176+ -->\n<g id=\"edge205\" class=\"edge\">\n<title>138572754477712&#45;&gt;138572754476176+</title>\n<path fill=\"none\" stroke=\"black\" d=\"M2677.39,-257.7C2682.22,-260.25 2686.81,-263.17 2691,-266.5 2705.35,-277.89 2727.38,-321.28 2740.96,-350.04\"/>\n<polygon fill=\"black\" stroke=\"black\" points=\"2737.81,-351.58 2745.21,-359.17 2744.16,-348.62 2737.81,-351.58\"/>\n</g>\n<!-- 138572754477712* -->\n<g id=\"node18\" class=\"node\">\n<title>138572754477712*</title>\n<ellipse fill=\"none\" stroke=\"black\" cx=\"2441\" cy=\"-238.5\" rx=\"27\" ry=\"18\"/>\n<text text-anchor=\"middle\" x=\"2441\" y=\"-234.8\" font-family=\"Times,serif\" font-size=\"14.00\">*</text>\n</g>\n<!-- 138572754477712*&#45;&gt;138572754477712 -->\n<g id=\"edge4\" class=\"edge\">\n<title>138572754477712*&#45;&gt;138572754477712</title>\n<path fill=\"none\" stroke=\"black\" d=\"M2468.21,-238.67C2476.34,-238.72 2485.85,-238.78 2495.94,-238.85\"/>\n<polygon fill=\"black\" stroke=\"black\" points=\"2496.17,-242.35 2506.19,-238.92 2496.21,-235.35 2496.17,-242.35\"/>\n</g>\n<!-- 138572754469552 -->\n<g id=\"node19\" class=\"node\">\n<title>138572754469552</title>\n<polygon fill=\"none\" stroke=\"black\" points=\"3445.5,-276.5 3445.5,-312.5 3627.5,-312.5 3627.5,-276.5 3445.5,-276.5\"/>\n<text text-anchor=\"middle\" x=\"3455.5\" y=\"-290.8\" font-family=\"Times,serif\" font-size=\"14.00\"> </text>\n<polyline fill=\"none\" stroke=\"black\" points=\"3465.5,-276.5 3465.5,-312.5 \"/>\n<text text-anchor=\"middle\" x=\"3505.5\" y=\"-290.8\" font-family=\"Times,serif\" font-size=\"14.00\">data 0.5134</text>\n<polyline fill=\"none\" stroke=\"black\" points=\"3545.5,-276.5 3545.5,-312.5 \"/>\n<text text-anchor=\"middle\" x=\"3586.5\" y=\"-290.8\" font-family=\"Times,serif\" font-size=\"14.00\">grad 0.0000</text>\n</g>\n<!-- 138572754469552&#45;&gt;138572754473296* -->\n<g id=\"edge195\" class=\"edge\">\n<title>138572754469552&#45;&gt;138572754473296*</title>\n<path fill=\"none\" stroke=\"black\" d=\"M3603.56,-312.55C3612.51,-315.36 3621.53,-318.37 3630,-321.5 3640.49,-325.38 3651.71,-330.22 3661.68,-334.78\"/>\n<polygon fill=\"black\" stroke=\"black\" points=\"3660.25,-337.98 3670.79,-339.03 3663.2,-331.63 3660.25,-337.98\"/>\n</g>\n<!-- 138572754469552tanh -->\n<g id=\"node20\" class=\"node\">\n<title>138572754469552tanh</title>\n<ellipse fill=\"none\" stroke=\"black\" cx=\"3380\" cy=\"-294.5\" rx=\"27\" ry=\"18\"/>\n<text text-anchor=\"middle\" x=\"3380\" y=\"-290.8\" font-family=\"Times,serif\" font-size=\"14.00\">tanh</text>\n</g>\n<!-- 138572754469552tanh&#45;&gt;138572754469552 -->\n<g id=\"edge5\" class=\"edge\">\n<title>138572754469552tanh&#45;&gt;138572754469552</title>\n<path fill=\"none\" stroke=\"black\" d=\"M3407.21,-294.5C3415.34,-294.5 3424.85,-294.5 3434.94,-294.5\"/>\n<polygon fill=\"black\" stroke=\"black\" points=\"3435.19,-298 3445.19,-294.5 3435.19,-291 3435.19,-298\"/>\n</g>\n<!-- 138572727362240 -->\n<g id=\"node21\" class=\"node\">\n<title>138572727362240</title>\n<polygon fill=\"none\" stroke=\"black\" points=\"628.5,-550.5 628.5,-586.5 810.5,-586.5 810.5,-550.5 628.5,-550.5\"/>\n<text text-anchor=\"middle\" x=\"638.5\" y=\"-564.8\" font-family=\"Times,serif\" font-size=\"14.00\"> </text>\n<polyline fill=\"none\" stroke=\"black\" points=\"648.5,-550.5 648.5,-586.5 \"/>\n<text text-anchor=\"middle\" x=\"688.5\" y=\"-564.8\" font-family=\"Times,serif\" font-size=\"14.00\">data 0.2943</text>\n<polyline fill=\"none\" stroke=\"black\" points=\"728.5,-550.5 728.5,-586.5 \"/>\n<text text-anchor=\"middle\" x=\"769.5\" y=\"-564.8\" font-family=\"Times,serif\" font-size=\"14.00\">grad 0.0000</text>\n</g>\n<!-- 138572727362240&#45;&gt;138572727367280+ -->\n<g id=\"edge117\" class=\"edge\">\n<title>138572727362240&#45;&gt;138572727367280+</title>\n<path fill=\"none\" stroke=\"black\" d=\"M784.02,-586.65C793.79,-589.76 803.71,-593.08 813,-596.5 823.25,-600.27 834.23,-604.86 844.07,-609.18\"/>\n<polygon fill=\"black\" stroke=\"black\" points=\"842.89,-612.49 853.45,-613.37 845.74,-606.1 842.89,-612.49\"/>\n</g>\n<!-- 138572727362240*&#45;&gt;138572727362240 -->\n<g id=\"edge6\" class=\"edge\">\n<title>138572727362240*&#45;&gt;138572727362240</title>\n<path fill=\"none\" stroke=\"black\" d=\"M590.21,-568.5C598.34,-568.5 607.85,-568.5 617.94,-568.5\"/>\n<polygon fill=\"black\" stroke=\"black\" points=\"618.19,-572 628.19,-568.5 618.19,-565 618.19,-572\"/>\n</g>\n<!-- 138572727362288 -->\n<g id=\"node23\" class=\"node\">\n<title>138572727362288</title>\n<polygon fill=\"none\" stroke=\"black\" points=\"313,-385.5 313,-421.5 500,-421.5 500,-385.5 313,-385.5\"/>\n<text text-anchor=\"middle\" x=\"323\" y=\"-399.8\" font-family=\"Times,serif\" font-size=\"14.00\"> </text>\n<polyline fill=\"none\" stroke=\"black\" points=\"333,-385.5 333,-421.5 \"/>\n<text text-anchor=\"middle\" x=\"375.5\" y=\"-399.8\" font-family=\"Times,serif\" font-size=\"14.00\">data &#45;0.9116</text>\n<polyline fill=\"none\" stroke=\"black\" points=\"418,-385.5 418,-421.5 \"/>\n<text text-anchor=\"middle\" x=\"459\" y=\"-399.8\" font-family=\"Times,serif\" font-size=\"14.00\">grad 0.0000</text>\n</g>\n<!-- 138572727369296+ -->\n<g id=\"node191\" class=\"node\">\n<title>138572727369296+</title>\n<ellipse fill=\"none\" stroke=\"black\" cx=\"563\" cy=\"-403.5\" rx=\"27\" ry=\"18\"/>\n<text text-anchor=\"middle\" x=\"563\" y=\"-399.8\" font-family=\"Times,serif\" font-size=\"14.00\">+</text>\n</g>\n<!-- 138572727362288&#45;&gt;138572727369296+ -->\n<g id=\"edge132\" class=\"edge\">\n<title>138572727362288&#45;&gt;138572727369296+</title>\n<path fill=\"none\" stroke=\"black\" d=\"M500.05,-403.5C509.06,-403.5 517.79,-403.5 525.7,-403.5\"/>\n<polygon fill=\"black\" stroke=\"black\" points=\"525.95,-407 535.95,-403.5 525.95,-400 525.95,-407\"/>\n</g>\n<!-- 138572727362288*&#45;&gt;138572727362288 -->\n<g id=\"edge7\" class=\"edge\">\n<title>138572727362288*&#45;&gt;138572727362288</title>\n<path fill=\"none\" stroke=\"black\" d=\"M277.21,-403.5C284.73,-403.5 293.43,-403.5 302.67,-403.5\"/>\n<polygon fill=\"black\" stroke=\"black\" points=\"302.89,-407 312.89,-403.5 302.89,-400 302.89,-407\"/>\n</g>\n<!-- 138572753732368 -->\n<g id=\"node25\" class=\"node\">\n<title>138572753732368</title>\n<polygon fill=\"none\" stroke=\"black\" points=\"2504,-606.5 2504,-642.5 2691,-642.5 2691,-606.5 2504,-606.5\"/>\n<text text-anchor=\"middle\" x=\"2514\" y=\"-620.8\" font-family=\"Times,serif\" font-size=\"14.00\"> </text>\n<polyline fill=\"none\" stroke=\"black\" points=\"2524,-606.5 2524,-642.5 \"/>\n<text text-anchor=\"middle\" x=\"2566.5\" y=\"-620.8\" font-family=\"Times,serif\" font-size=\"14.00\">data &#45;0.9190</text>\n<polyline fill=\"none\" stroke=\"black\" points=\"2609,-606.5 2609,-642.5 \"/>\n<text text-anchor=\"middle\" x=\"2650\" y=\"-620.8\" font-family=\"Times,serif\" font-size=\"14.00\">grad 0.0000</text>\n</g>\n<!-- 138572754475600+ -->\n<g id=\"node145\" class=\"node\">\n<title>138572754475600+</title>\n<ellipse fill=\"none\" stroke=\"black\" cx=\"2754\" cy=\"-431.5\" rx=\"27\" ry=\"18\"/>\n<text text-anchor=\"middle\" x=\"2754\" y=\"-427.8\" font-family=\"Times,serif\" font-size=\"14.00\">+</text>\n</g>\n<!-- 138572753732368&#45;&gt;138572754475600+ -->\n<g id=\"edge187\" class=\"edge\">\n<title>138572753732368&#45;&gt;138572754475600+</title>\n<path fill=\"none\" stroke=\"black\" d=\"M2680.15,-606.39C2684.08,-603.81 2687.74,-600.86 2691,-597.5 2735.17,-552.04 2696.51,-515.07 2727,-459.5 2728.09,-457.52 2729.35,-455.56 2730.72,-453.67\"/>\n<polygon fill=\"black\" stroke=\"black\" points=\"2733.53,-455.76 2737.19,-445.82 2728.13,-451.31 2733.53,-455.76\"/>\n</g>\n<!-- 138572753732368+ -->\n<g id=\"node26\" class=\"node\">\n<title>138572753732368+</title>\n<ellipse fill=\"none\" stroke=\"black\" cx=\"2441\" cy=\"-624.5\" rx=\"27\" ry=\"18\"/>\n<text text-anchor=\"middle\" x=\"2441\" y=\"-620.8\" font-family=\"Times,serif\" font-size=\"14.00\">+</text>\n</g>\n<!-- 138572753732368+&#45;&gt;138572753732368 -->\n<g id=\"edge8\" class=\"edge\">\n<title>138572753732368+&#45;&gt;138572753732368</title>\n<path fill=\"none\" stroke=\"black\" d=\"M2468.21,-624.5C2475.73,-624.5 2484.43,-624.5 2493.67,-624.5\"/>\n<polygon fill=\"black\" stroke=\"black\" points=\"2493.89,-628 2503.89,-624.5 2493.89,-621 2493.89,-628\"/>\n</g>\n<!-- 138572727362384 -->\n<g id=\"node27\" class=\"node\">\n<title>138572727362384</title>\n<polygon fill=\"none\" stroke=\"black\" points=\"626,-330.5 626,-366.5 813,-366.5 813,-330.5 626,-330.5\"/>\n<text text-anchor=\"middle\" x=\"636\" y=\"-344.8\" font-family=\"Times,serif\" font-size=\"14.00\"> </text>\n<polyline fill=\"none\" stroke=\"black\" points=\"646,-330.5 646,-366.5 \"/>\n<text text-anchor=\"middle\" x=\"688.5\" y=\"-344.8\" font-family=\"Times,serif\" font-size=\"14.00\">data &#45;1.0000</text>\n<polyline fill=\"none\" stroke=\"black\" points=\"731,-330.5 731,-366.5 \"/>\n<text text-anchor=\"middle\" x=\"772\" y=\"-344.8\" font-family=\"Times,serif\" font-size=\"14.00\">grad 0.0000</text>\n</g>\n<!-- 138572727369440* -->\n<g id=\"node195\" class=\"node\">\n<title>138572727369440*</title>\n<ellipse fill=\"none\" stroke=\"black\" cx=\"876\" cy=\"-348.5\" rx=\"27\" ry=\"18\"/>\n<text text-anchor=\"middle\" x=\"876\" y=\"-344.8\" font-family=\"Times,serif\" font-size=\"14.00\">*</text>\n</g>\n<!-- 138572727362384&#45;&gt;138572727369440* -->\n<g id=\"edge142\" class=\"edge\">\n<title>138572727362384&#45;&gt;138572727369440*</title>\n<path fill=\"none\" stroke=\"black\" d=\"M813.05,-348.5C822.06,-348.5 830.79,-348.5 838.7,-348.5\"/>\n<polygon fill=\"black\" stroke=\"black\" points=\"838.95,-352 848.95,-348.5 838.95,-345 838.95,-352\"/>\n</g>\n<!-- 138572754469840 -->\n<g id=\"node28\" class=\"node\">\n<title>138572754469840</title>\n<polygon fill=\"none\" stroke=\"black\" points=\"3756,-606.5 3756,-642.5 3943,-642.5 3943,-606.5 3756,-606.5\"/>\n<text text-anchor=\"middle\" x=\"3766\" y=\"-620.8\" font-family=\"Times,serif\" font-size=\"14.00\"> </text>\n<polyline fill=\"none\" stroke=\"black\" points=\"3776,-606.5 3776,-642.5 \"/>\n<text text-anchor=\"middle\" x=\"3818.5\" y=\"-620.8\" font-family=\"Times,serif\" font-size=\"14.00\">data &#45;0.0265</text>\n<polyline fill=\"none\" stroke=\"black\" points=\"3861,-606.5 3861,-642.5 \"/>\n<text text-anchor=\"middle\" x=\"3902\" y=\"-620.8\" font-family=\"Times,serif\" font-size=\"14.00\">grad 0.0000</text>\n</g>\n<!-- 138572754469840&#45;&gt;138572754470032+ -->\n<g id=\"edge185\" class=\"edge\">\n<title>138572754469840&#45;&gt;138572754470032+</title>\n<path fill=\"none\" stroke=\"black\" d=\"M3922.05,-606.49C3959.79,-596.99 4004.37,-585.77 4034.46,-578.2\"/>\n<polygon fill=\"black\" stroke=\"black\" points=\"4035.61,-581.51 4044.46,-575.68 4033.9,-574.73 4035.61,-581.51\"/>\n</g>\n<!-- 138572754469840*&#45;&gt;138572754469840 -->\n<g id=\"edge9\" class=\"edge\">\n<title>138572754469840*&#45;&gt;138572754469840</title>\n<path fill=\"none\" stroke=\"black\" d=\"M3720.21,-624.5C3727.73,-624.5 3736.43,-624.5 3745.67,-624.5\"/>\n<polygon fill=\"black\" stroke=\"black\" points=\"3745.89,-628 3755.89,-624.5 3745.89,-621 3745.89,-628\"/>\n</g>\n<!-- 138572754478048 -->\n<g id=\"node30\" class=\"node\">\n<title>138572754478048</title>\n<polygon fill=\"none\" stroke=\"black\" points=\"2191,-275.5 2191,-311.5 2378,-311.5 2378,-275.5 2191,-275.5\"/>\n<text text-anchor=\"middle\" x=\"2201\" y=\"-289.8\" font-family=\"Times,serif\" font-size=\"14.00\"> </text>\n<polyline fill=\"none\" stroke=\"black\" points=\"2211,-275.5 2211,-311.5 \"/>\n<text text-anchor=\"middle\" x=\"2253.5\" y=\"-289.8\" font-family=\"Times,serif\" font-size=\"14.00\">data &#45;0.1700</text>\n<polyline fill=\"none\" stroke=\"black\" points=\"2296,-275.5 2296,-311.5 \"/>\n<text text-anchor=\"middle\" x=\"2337\" y=\"-289.8\" font-family=\"Times,serif\" font-size=\"14.00\">grad 0.0000</text>\n</g>\n<!-- 138572754481360+ -->\n<g id=\"node104\" class=\"node\">\n<title>138572754481360+</title>\n<ellipse fill=\"none\" stroke=\"black\" cx=\"2441\" cy=\"-294.5\" rx=\"27\" ry=\"18\"/>\n<text text-anchor=\"middle\" x=\"2441\" y=\"-290.8\" font-family=\"Times,serif\" font-size=\"14.00\">+</text>\n</g>\n<!-- 138572754478048&#45;&gt;138572754481360+ -->\n<g id=\"edge77\" class=\"edge\">\n<title>138572754478048&#45;&gt;138572754481360+</title>\n<path fill=\"none\" stroke=\"black\" d=\"M2378.05,-294.1C2387.06,-294.16 2395.79,-294.21 2403.7,-294.27\"/>\n<polygon fill=\"black\" stroke=\"black\" points=\"2403.93,-297.77 2413.95,-294.33 2403.97,-290.77 2403.93,-297.77\"/>\n</g>\n<!-- 138572754478048+ -->\n<g id=\"node31\" class=\"node\">\n<title>138572754478048+</title>\n<ellipse fill=\"none\" stroke=\"black\" cx=\"2128\" cy=\"-238.5\" rx=\"27\" ry=\"18\"/>\n<text text-anchor=\"middle\" x=\"2128\" y=\"-234.8\" font-family=\"Times,serif\" font-size=\"14.00\">+</text>\n</g>\n<!-- 138572754478048+&#45;&gt;138572754478048 -->\n<g id=\"edge10\" class=\"edge\">\n<title>138572754478048+&#45;&gt;138572754478048</title>\n<path fill=\"none\" stroke=\"black\" d=\"M2150.55,-248.63C2162.36,-253.98 2177.34,-260.48 2191,-265.5 2197.24,-267.8 2203.77,-270.05 2210.34,-272.22\"/>\n<polygon fill=\"black\" stroke=\"black\" points=\"2209.39,-275.59 2219.98,-275.35 2211.55,-268.93 2209.39,-275.59\"/>\n</g>\n<!-- 138572754470032 -->\n<g id=\"node32\" class=\"node\">\n<title>138572754470032</title>\n<polygon fill=\"none\" stroke=\"black\" points=\"4197,-547.5 4197,-583.5 4379,-583.5 4379,-547.5 4197,-547.5\"/>\n<text text-anchor=\"middle\" x=\"4207\" y=\"-561.8\" font-family=\"Times,serif\" font-size=\"14.00\"> </text>\n<polyline fill=\"none\" stroke=\"black\" points=\"4217,-547.5 4217,-583.5 \"/>\n<text text-anchor=\"middle\" x=\"4257\" y=\"-561.8\" font-family=\"Times,serif\" font-size=\"14.00\">data 0.6613</text>\n<polyline fill=\"none\" stroke=\"black\" points=\"4297,-547.5 4297,-583.5 \"/>\n<text text-anchor=\"middle\" x=\"4338\" y=\"-561.8\" font-family=\"Times,serif\" font-size=\"14.00\">grad 0.0000</text>\n</g>\n<!-- 138572754471088+ -->\n<g id=\"node56\" class=\"node\">\n<title>138572754471088+</title>\n<ellipse fill=\"none\" stroke=\"black\" cx=\"4442\" cy=\"-514.5\" rx=\"27\" ry=\"18\"/>\n<text text-anchor=\"middle\" x=\"4442\" y=\"-510.8\" font-family=\"Times,serif\" font-size=\"14.00\">+</text>\n</g>\n<!-- 138572754470032&#45;&gt;138572754471088+ -->\n<g id=\"edge147\" class=\"edge\">\n<title>138572754470032&#45;&gt;138572754471088+</title>\n<path fill=\"none\" stroke=\"black\" d=\"M4343.02,-547.38C4364.72,-540.1 4389.03,-531.94 4408.01,-525.57\"/>\n<polygon fill=\"black\" stroke=\"black\" points=\"4409.31,-528.82 4417.68,-522.32 4407.09,-522.19 4409.31,-528.82\"/>\n</g>\n<!-- 138572754470032+&#45;&gt;138572754470032 -->\n<g id=\"edge11\" class=\"edge\">\n<title>138572754470032+&#45;&gt;138572754470032</title>\n<path fill=\"none\" stroke=\"black\" d=\"M4097.05,-569.02C4119.53,-568.6 4153.48,-567.97 4186.5,-567.36\"/>\n<polygon fill=\"black\" stroke=\"black\" points=\"4186.77,-570.86 4196.7,-567.17 4186.64,-563.86 4186.77,-570.86\"/>\n</g>\n<!-- 138572754478288 -->\n<g id=\"node34\" class=\"node\">\n<title>138572754478288</title>\n<polygon fill=\"none\" stroke=\"black\" points=\"2819.5,-276.5 2819.5,-312.5 3001.5,-312.5 3001.5,-276.5 2819.5,-276.5\"/>\n<text text-anchor=\"middle\" x=\"2829.5\" y=\"-290.8\" font-family=\"Times,serif\" font-size=\"14.00\"> </text>\n<polyline fill=\"none\" stroke=\"black\" points=\"2839.5,-276.5 2839.5,-312.5 \"/>\n<text text-anchor=\"middle\" x=\"2879.5\" y=\"-290.8\" font-family=\"Times,serif\" font-size=\"14.00\">data 0.8609</text>\n<polyline fill=\"none\" stroke=\"black\" points=\"2919.5,-276.5 2919.5,-312.5 \"/>\n<text text-anchor=\"middle\" x=\"2960.5\" y=\"-290.8\" font-family=\"Times,serif\" font-size=\"14.00\">grad 0.0000</text>\n</g>\n<!-- 138572754476656+ -->\n<g id=\"node193\" class=\"node\">\n<title>138572754476656+</title>\n<ellipse fill=\"none\" stroke=\"black\" cx=\"3067\" cy=\"-294.5\" rx=\"27\" ry=\"18\"/>\n<text text-anchor=\"middle\" x=\"3067\" y=\"-290.8\" font-family=\"Times,serif\" font-size=\"14.00\">+</text>\n</g>\n<!-- 138572754478288&#45;&gt;138572754476656+ -->\n<g id=\"edge95\" class=\"edge\">\n<title>138572754478288&#45;&gt;138572754476656+</title>\n<path fill=\"none\" stroke=\"black\" d=\"M3001.82,-294.5C3011.57,-294.5 3021.04,-294.5 3029.57,-294.5\"/>\n<polygon fill=\"black\" stroke=\"black\" points=\"3029.83,-298 3039.83,-294.5 3029.83,-291 3029.83,-298\"/>\n</g>\n<!-- 138572754478288+ -->\n<g id=\"node35\" class=\"node\">\n<title>138572754478288+</title>\n<ellipse fill=\"none\" stroke=\"black\" cx=\"2754\" cy=\"-294.5\" rx=\"27\" ry=\"18\"/>\n<text text-anchor=\"middle\" x=\"2754\" y=\"-290.8\" font-family=\"Times,serif\" font-size=\"14.00\">+</text>\n</g>\n<!-- 138572754478288+&#45;&gt;138572754478288 -->\n<g id=\"edge12\" class=\"edge\">\n<title>138572754478288+&#45;&gt;138572754478288</title>\n<path fill=\"none\" stroke=\"black\" d=\"M2781.21,-294.5C2789.34,-294.5 2798.85,-294.5 2808.94,-294.5\"/>\n<polygon fill=\"black\" stroke=\"black\" points=\"2809.19,-298 2819.19,-294.5 2809.19,-291 2809.19,-298\"/>\n</g>\n<!-- 138572754470224 -->\n<g id=\"node36\" class=\"node\">\n<title>138572754470224</title>\n<polygon fill=\"none\" stroke=\"black\" points=\"3979,-496.5 3979,-532.5 4161,-532.5 4161,-496.5 3979,-496.5\"/>\n<text text-anchor=\"middle\" x=\"3989\" y=\"-510.8\" font-family=\"Times,serif\" font-size=\"14.00\"> </text>\n<polyline fill=\"none\" stroke=\"black\" points=\"3999,-496.5 3999,-532.5 \"/>\n<text text-anchor=\"middle\" x=\"4039\" y=\"-510.8\" font-family=\"Times,serif\" font-size=\"14.00\">data 0.7307</text>\n<polyline fill=\"none\" stroke=\"black\" points=\"4079,-496.5 4079,-532.5 \"/>\n<text text-anchor=\"middle\" x=\"4120\" y=\"-510.8\" font-family=\"Times,serif\" font-size=\"14.00\">grad 0.0000</text>\n</g>\n<!-- 138572754470224&#45;&gt;138572754471088+ -->\n<g id=\"edge203\" class=\"edge\">\n<title>138572754470224&#45;&gt;138572754471088+</title>\n<path fill=\"none\" stroke=\"black\" d=\"M4161.04,-514.5C4239.21,-514.5 4348.42,-514.5 4404.53,-514.5\"/>\n<polygon fill=\"black\" stroke=\"black\" points=\"4404.7,-518 4414.7,-514.5 4404.7,-511 4404.7,-518\"/>\n</g>\n<!-- 138572754470224* -->\n<g id=\"node37\" class=\"node\">\n<title>138572754470224*</title>\n<ellipse fill=\"none\" stroke=\"black\" cx=\"3693\" cy=\"-514.5\" rx=\"27\" ry=\"18\"/>\n<text text-anchor=\"middle\" x=\"3693\" y=\"-510.8\" font-family=\"Times,serif\" font-size=\"14.00\">*</text>\n</g>\n<!-- 138572754470224*&#45;&gt;138572754470224 -->\n<g id=\"edge13\" class=\"edge\">\n<title>138572754470224*&#45;&gt;138572754470224</title>\n<path fill=\"none\" stroke=\"black\" d=\"M3720.07,-514.5C3770.67,-514.5 3884.57,-514.5 3968.54,-514.5\"/>\n<polygon fill=\"black\" stroke=\"black\" points=\"3968.63,-518 3978.63,-514.5 3968.63,-511 3968.63,-518\"/>\n</g>\n<!-- 138572754470272 -->\n<g id=\"node38\" class=\"node\">\n<title>138572754470272</title>\n<polygon fill=\"none\" stroke=\"black\" points=\"1567.5,-330.5 1567.5,-366.5 1749.5,-366.5 1749.5,-330.5 1567.5,-330.5\"/>\n<text text-anchor=\"middle\" x=\"1577.5\" y=\"-344.8\" font-family=\"Times,serif\" font-size=\"14.00\"> </text>\n<polyline fill=\"none\" stroke=\"black\" points=\"1587.5,-330.5 1587.5,-366.5 \"/>\n<text text-anchor=\"middle\" x=\"1627.5\" y=\"-344.8\" font-family=\"Times,serif\" font-size=\"14.00\">data 0.9662</text>\n<polyline fill=\"none\" stroke=\"black\" points=\"1667.5,-330.5 1667.5,-366.5 \"/>\n<text text-anchor=\"middle\" x=\"1708.5\" y=\"-344.8\" font-family=\"Times,serif\" font-size=\"14.00\">grad 0.0000</text>\n</g>\n<!-- 138572754480544* -->\n<g id=\"node87\" class=\"node\">\n<title>138572754480544*</title>\n<ellipse fill=\"none\" stroke=\"black\" cx=\"1815\" cy=\"-348.5\" rx=\"27\" ry=\"18\"/>\n<text text-anchor=\"middle\" x=\"1815\" y=\"-344.8\" font-family=\"Times,serif\" font-size=\"14.00\">*</text>\n</g>\n<!-- 138572754470272&#45;&gt;138572754480544* -->\n<g id=\"edge98\" class=\"edge\">\n<title>138572754470272&#45;&gt;138572754480544*</title>\n<path fill=\"none\" stroke=\"black\" d=\"M1749.82,-348.5C1759.57,-348.5 1769.04,-348.5 1777.57,-348.5\"/>\n<polygon fill=\"black\" stroke=\"black\" points=\"1777.83,-352 1787.83,-348.5 1777.83,-345 1777.83,-352\"/>\n</g>\n<!-- 138572754470368 -->\n<g id=\"node39\" class=\"node\">\n<title>138572754470368</title>\n<polygon fill=\"none\" stroke=\"black\" points=\"1878,-715.5 1878,-751.5 2065,-751.5 2065,-715.5 1878,-715.5\"/>\n<text text-anchor=\"middle\" x=\"1888\" y=\"-729.8\" font-family=\"Times,serif\" font-size=\"14.00\"> </text>\n<polyline fill=\"none\" stroke=\"black\" points=\"1898,-715.5 1898,-751.5 \"/>\n<text text-anchor=\"middle\" x=\"1940.5\" y=\"-729.8\" font-family=\"Times,serif\" font-size=\"14.00\">data &#45;0.9063</text>\n<polyline fill=\"none\" stroke=\"black\" points=\"1983,-715.5 1983,-751.5 \"/>\n<text text-anchor=\"middle\" x=\"2024\" y=\"-729.8\" font-family=\"Times,serif\" font-size=\"14.00\">grad 0.0000</text>\n</g>\n<!-- 138572727363392* -->\n<g id=\"node48\" class=\"node\">\n<title>138572727363392*</title>\n<ellipse fill=\"none\" stroke=\"black\" cx=\"2128\" cy=\"-733.5\" rx=\"27\" ry=\"18\"/>\n<text text-anchor=\"middle\" x=\"2128\" y=\"-729.8\" font-family=\"Times,serif\" font-size=\"14.00\">*</text>\n</g>\n<!-- 138572754470368&#45;&gt;138572727363392* -->\n<g id=\"edge112\" class=\"edge\">\n<title>138572754470368&#45;&gt;138572727363392*</title>\n<path fill=\"none\" stroke=\"black\" d=\"M2065.05,-733.5C2074.06,-733.5 2082.79,-733.5 2090.7,-733.5\"/>\n<polygon fill=\"black\" stroke=\"black\" points=\"2090.95,-737 2100.95,-733.5 2090.95,-730 2090.95,-737\"/>\n</g>\n<!-- 138572754470464 -->\n<g id=\"node40\" class=\"node\">\n<title>138572754470464</title>\n<polygon fill=\"none\" stroke=\"black\" points=\"3443,-551.5 3443,-587.5 3630,-587.5 3630,-551.5 3443,-551.5\"/>\n<text text-anchor=\"middle\" x=\"3453\" y=\"-565.8\" font-family=\"Times,serif\" font-size=\"14.00\"> </text>\n<polyline fill=\"none\" stroke=\"black\" points=\"3463,-551.5 3463,-587.5 \"/>\n<text text-anchor=\"middle\" x=\"3505.5\" y=\"-565.8\" font-family=\"Times,serif\" font-size=\"14.00\">data &#45;0.8044</text>\n<polyline fill=\"none\" stroke=\"black\" points=\"3548,-551.5 3548,-587.5 \"/>\n<text text-anchor=\"middle\" x=\"3589\" y=\"-565.8\" font-family=\"Times,serif\" font-size=\"14.00\">grad 0.0000</text>\n</g>\n<!-- 138572754470464&#45;&gt;138572754470224* -->\n<g id=\"edge201\" class=\"edge\">\n<title>138572754470464&#45;&gt;138572754470224*</title>\n<path fill=\"none\" stroke=\"black\" d=\"M3601.02,-551.35C3610.79,-548.24 3620.71,-544.92 3630,-541.5 3640.25,-537.73 3651.23,-533.14 3661.07,-528.82\"/>\n<polygon fill=\"black\" stroke=\"black\" points=\"3662.74,-531.9 3670.45,-524.63 3659.89,-525.51 3662.74,-531.9\"/>\n</g>\n<!-- 138572727363152 -->\n<g id=\"node41\" class=\"node\">\n<title>138572727363152</title>\n<polygon fill=\"none\" stroke=\"black\" points=\"2506.5,-551.5 2506.5,-587.5 2688.5,-587.5 2688.5,-551.5 2506.5,-551.5\"/>\n<text text-anchor=\"middle\" x=\"2516.5\" y=\"-565.8\" font-family=\"Times,serif\" font-size=\"14.00\"> </text>\n<polyline fill=\"none\" stroke=\"black\" points=\"2526.5,-551.5 2526.5,-587.5 \"/>\n<text text-anchor=\"middle\" x=\"2566.5\" y=\"-565.8\" font-family=\"Times,serif\" font-size=\"14.00\">data 0.3112</text>\n<polyline fill=\"none\" stroke=\"black\" points=\"2606.5,-551.5 2606.5,-587.5 \"/>\n<text text-anchor=\"middle\" x=\"2647.5\" y=\"-565.8\" font-family=\"Times,serif\" font-size=\"14.00\">grad 0.0000</text>\n</g>\n<!-- 138572727360848+ -->\n<g id=\"node180\" class=\"node\">\n<title>138572727360848+</title>\n<ellipse fill=\"none\" stroke=\"black\" cx=\"2754\" cy=\"-679.5\" rx=\"27\" ry=\"18\"/>\n<text text-anchor=\"middle\" x=\"2754\" y=\"-675.8\" font-family=\"Times,serif\" font-size=\"14.00\">+</text>\n</g>\n<!-- 138572727363152&#45;&gt;138572727360848+ -->\n<g id=\"edge76\" class=\"edge\">\n<title>138572727363152&#45;&gt;138572727360848+</title>\n<path fill=\"none\" stroke=\"black\" d=\"M2673.64,-587.68C2679.75,-590.51 2685.63,-593.76 2691,-597.5 2711.7,-611.93 2728.44,-635.42 2739.29,-653.57\"/>\n<polygon fill=\"black\" stroke=\"black\" points=\"2736.4,-655.57 2744.41,-662.5 2742.47,-652.09 2736.4,-655.57\"/>\n</g>\n<!-- 138572727363152* -->\n<g id=\"node42\" class=\"node\">\n<title>138572727363152*</title>\n<ellipse fill=\"none\" stroke=\"black\" cx=\"2441\" cy=\"-568.5\" rx=\"27\" ry=\"18\"/>\n<text text-anchor=\"middle\" x=\"2441\" y=\"-564.8\" font-family=\"Times,serif\" font-size=\"14.00\">*</text>\n</g>\n<!-- 138572727363152*&#45;&gt;138572727363152 -->\n<g id=\"edge14\" class=\"edge\">\n<title>138572727363152*&#45;&gt;138572727363152</title>\n<path fill=\"none\" stroke=\"black\" d=\"M2468.21,-568.67C2476.34,-568.72 2485.85,-568.78 2495.94,-568.85\"/>\n<polygon fill=\"black\" stroke=\"black\" points=\"2496.17,-572.35 2506.19,-568.92 2496.21,-565.35 2496.17,-572.35\"/>\n</g>\n<!-- 138572754470512 -->\n<g id=\"node43\" class=\"node\">\n<title>138572754470512</title>\n<polygon fill=\"none\" stroke=\"black\" points=\"5121,-405.5 5121,-441.5 5303,-441.5 5303,-405.5 5121,-405.5\"/>\n<text text-anchor=\"middle\" x=\"5131\" y=\"-419.8\" font-family=\"Times,serif\" font-size=\"14.00\"> </text>\n<polyline fill=\"none\" stroke=\"black\" points=\"5141,-405.5 5141,-441.5 \"/>\n<text text-anchor=\"middle\" x=\"5181\" y=\"-419.8\" font-family=\"Times,serif\" font-size=\"14.00\">data 1.7280</text>\n<polyline fill=\"none\" stroke=\"black\" points=\"5221,-405.5 5221,-441.5 \"/>\n<text text-anchor=\"middle\" x=\"5262\" y=\"-419.8\" font-family=\"Times,serif\" font-size=\"14.00\">grad 0.0000</text>\n</g>\n<!-- 138572754473248tanh -->\n<g id=\"node108\" class=\"node\">\n<title>138572754473248tanh</title>\n<ellipse fill=\"none\" stroke=\"black\" cx=\"5366\" cy=\"-423.5\" rx=\"27\" ry=\"18\"/>\n<text text-anchor=\"middle\" x=\"5366\" y=\"-419.8\" font-family=\"Times,serif\" font-size=\"14.00\">tanh</text>\n</g>\n<!-- 138572754470512&#45;&gt;138572754473248tanh -->\n<g id=\"edge150\" class=\"edge\">\n<title>138572754470512&#45;&gt;138572754473248tanh</title>\n<path fill=\"none\" stroke=\"black\" d=\"M5303.18,-423.5C5312.14,-423.5 5320.83,-423.5 5328.73,-423.5\"/>\n<polygon fill=\"black\" stroke=\"black\" points=\"5328.96,-427 5338.96,-423.5 5328.96,-420 5328.96,-427\"/>\n</g>\n<!-- 138572754470512+ -->\n<g id=\"node44\" class=\"node\">\n<title>138572754470512+</title>\n<ellipse fill=\"none\" stroke=\"black\" cx=\"5058\" cy=\"-423.5\" rx=\"27\" ry=\"18\"/>\n<text text-anchor=\"middle\" x=\"5058\" y=\"-419.8\" font-family=\"Times,serif\" font-size=\"14.00\">+</text>\n</g>\n<!-- 138572754470512+&#45;&gt;138572754470512 -->\n<g id=\"edge15\" class=\"edge\">\n<title>138572754470512+&#45;&gt;138572754470512</title>\n<path fill=\"none\" stroke=\"black\" d=\"M5085.13,-423.5C5092.67,-423.5 5101.39,-423.5 5110.64,-423.5\"/>\n<polygon fill=\"black\" stroke=\"black\" points=\"5110.87,-427 5120.87,-423.5 5110.87,-420 5110.87,-427\"/>\n</g>\n<!-- 138572754470560 -->\n<g id=\"node45\" class=\"node\">\n<title>138572754470560</title>\n<polygon fill=\"none\" stroke=\"black\" points=\"1567.5,-468.5 1567.5,-504.5 1749.5,-504.5 1749.5,-468.5 1567.5,-468.5\"/>\n<text text-anchor=\"middle\" x=\"1577.5\" y=\"-482.8\" font-family=\"Times,serif\" font-size=\"14.00\"> </text>\n<polyline fill=\"none\" stroke=\"black\" points=\"1587.5,-468.5 1587.5,-504.5 \"/>\n<text text-anchor=\"middle\" x=\"1627.5\" y=\"-482.8\" font-family=\"Times,serif\" font-size=\"14.00\">data 0.0009</text>\n<polyline fill=\"none\" stroke=\"black\" points=\"1667.5,-468.5 1667.5,-504.5 \"/>\n<text text-anchor=\"middle\" x=\"1708.5\" y=\"-482.8\" font-family=\"Times,serif\" font-size=\"14.00\">grad 0.0000</text>\n</g>\n<!-- 138572755451088* -->\n<g id=\"node172\" class=\"node\">\n<title>138572755451088*</title>\n<ellipse fill=\"none\" stroke=\"black\" cx=\"1815\" cy=\"-486.5\" rx=\"27\" ry=\"18\"/>\n<text text-anchor=\"middle\" x=\"1815\" y=\"-482.8\" font-family=\"Times,serif\" font-size=\"14.00\">*</text>\n</g>\n<!-- 138572754470560&#45;&gt;138572755451088* -->\n<g id=\"edge138\" class=\"edge\">\n<title>138572754470560&#45;&gt;138572755451088*</title>\n<path fill=\"none\" stroke=\"black\" d=\"M1749.82,-486.5C1759.57,-486.5 1769.04,-486.5 1777.57,-486.5\"/>\n<polygon fill=\"black\" stroke=\"black\" points=\"1777.83,-490 1787.83,-486.5 1777.83,-483 1777.83,-490\"/>\n</g>\n<!-- 138572754470704 -->\n<g id=\"node46\" class=\"node\">\n<title>138572754470704</title>\n<polygon fill=\"none\" stroke=\"black\" points=\"2504,-826.5 2504,-862.5 2691,-862.5 2691,-826.5 2504,-826.5\"/>\n<text text-anchor=\"middle\" x=\"2514\" y=\"-840.8\" font-family=\"Times,serif\" font-size=\"14.00\"> </text>\n<polyline fill=\"none\" stroke=\"black\" points=\"2524,-826.5 2524,-862.5 \"/>\n<text text-anchor=\"middle\" x=\"2566.5\" y=\"-840.8\" font-family=\"Times,serif\" font-size=\"14.00\">data &#45;0.2191</text>\n<polyline fill=\"none\" stroke=\"black\" points=\"2609,-826.5 2609,-862.5 \"/>\n<text text-anchor=\"middle\" x=\"2650\" y=\"-840.8\" font-family=\"Times,serif\" font-size=\"14.00\">grad 0.0000</text>\n</g>\n<!-- 138572727368480* -->\n<g id=\"node153\" class=\"node\">\n<title>138572727368480*</title>\n<ellipse fill=\"none\" stroke=\"black\" cx=\"2754\" cy=\"-789.5\" rx=\"27\" ry=\"18\"/>\n<text text-anchor=\"middle\" x=\"2754\" y=\"-785.8\" font-family=\"Times,serif\" font-size=\"14.00\">*</text>\n</g>\n<!-- 138572754470704&#45;&gt;138572727368480* -->\n<g id=\"edge190\" class=\"edge\">\n<title>138572754470704&#45;&gt;138572727368480*</title>\n<path fill=\"none\" stroke=\"black\" d=\"M2664.56,-826.45C2673.51,-823.64 2682.53,-820.63 2691,-817.5 2701.49,-813.62 2712.71,-808.78 2722.68,-804.22\"/>\n<polygon fill=\"black\" stroke=\"black\" points=\"2724.2,-807.37 2731.79,-799.97 2721.25,-801.02 2724.2,-807.37\"/>\n</g>\n<!-- 138572727363392 -->\n<g id=\"node47\" class=\"node\">\n<title>138572727363392</title>\n<polygon fill=\"none\" stroke=\"black\" points=\"2193.5,-715.5 2193.5,-751.5 2375.5,-751.5 2375.5,-715.5 2193.5,-715.5\"/>\n<text text-anchor=\"middle\" x=\"2203.5\" y=\"-729.8\" font-family=\"Times,serif\" font-size=\"14.00\"> </text>\n<polyline fill=\"none\" stroke=\"black\" points=\"2213.5,-715.5 2213.5,-751.5 \"/>\n<text text-anchor=\"middle\" x=\"2253.5\" y=\"-729.8\" font-family=\"Times,serif\" font-size=\"14.00\">data 0.8051</text>\n<polyline fill=\"none\" stroke=\"black\" points=\"2293.5,-715.5 2293.5,-751.5 \"/>\n<text text-anchor=\"middle\" x=\"2334.5\" y=\"-729.8\" font-family=\"Times,serif\" font-size=\"14.00\">grad 0.0000</text>\n</g>\n<!-- 138572727366704+ -->\n<g id=\"node124\" class=\"node\">\n<title>138572727366704+</title>\n<ellipse fill=\"none\" stroke=\"black\" cx=\"2441\" cy=\"-733.5\" rx=\"27\" ry=\"18\"/>\n<text text-anchor=\"middle\" x=\"2441\" y=\"-729.8\" font-family=\"Times,serif\" font-size=\"14.00\">+</text>\n</g>\n<!-- 138572727363392&#45;&gt;138572727366704+ -->\n<g id=\"edge192\" class=\"edge\">\n<title>138572727363392&#45;&gt;138572727366704+</title>\n<path fill=\"none\" stroke=\"black\" d=\"M2375.82,-733.5C2385.57,-733.5 2395.04,-733.5 2403.57,-733.5\"/>\n<polygon fill=\"black\" stroke=\"black\" points=\"2403.83,-737 2413.83,-733.5 2403.83,-730 2403.83,-737\"/>\n</g>\n<!-- 138572727363392*&#45;&gt;138572727363392 -->\n<g id=\"edge16\" class=\"edge\">\n<title>138572727363392*&#45;&gt;138572727363392</title>\n<path fill=\"none\" stroke=\"black\" d=\"M2155.21,-733.5C2163.34,-733.5 2172.85,-733.5 2182.94,-733.5\"/>\n<polygon fill=\"black\" stroke=\"black\" points=\"2183.19,-737 2193.19,-733.5 2183.19,-730 2183.19,-737\"/>\n</g>\n<!-- 138572754470752 -->\n<g id=\"node49\" class=\"node\">\n<title>138572754470752</title>\n<polygon fill=\"none\" stroke=\"black\" points=\"1878,-935.5 1878,-971.5 2065,-971.5 2065,-935.5 1878,-935.5\"/>\n<text text-anchor=\"middle\" x=\"1888\" y=\"-949.8\" font-family=\"Times,serif\" font-size=\"14.00\"> </text>\n<polyline fill=\"none\" stroke=\"black\" points=\"1898,-935.5 1898,-971.5 \"/>\n<text text-anchor=\"middle\" x=\"1940.5\" y=\"-949.8\" font-family=\"Times,serif\" font-size=\"14.00\">data &#45;0.1204</text>\n<polyline fill=\"none\" stroke=\"black\" points=\"1983,-935.5 1983,-971.5 \"/>\n<text text-anchor=\"middle\" x=\"2024\" y=\"-949.8\" font-family=\"Times,serif\" font-size=\"14.00\">grad 0.0000</text>\n</g>\n<!-- 138572727366848+ -->\n<g id=\"node126\" class=\"node\">\n<title>138572727366848+</title>\n<ellipse fill=\"none\" stroke=\"black\" cx=\"2128\" cy=\"-890.5\" rx=\"27\" ry=\"18\"/>\n<text text-anchor=\"middle\" x=\"2128\" y=\"-886.8\" font-family=\"Times,serif\" font-size=\"14.00\">+</text>\n</g>\n<!-- 138572754470752&#45;&gt;138572727366848+ -->\n<g id=\"edge128\" class=\"edge\">\n<title>138572754470752&#45;&gt;138572727366848+</title>\n<path fill=\"none\" stroke=\"black\" d=\"M2041.35,-935.42C2049.43,-932.71 2057.47,-929.73 2065,-926.5 2076.77,-921.45 2089.09,-914.65 2099.62,-908.32\"/>\n<polygon fill=\"black\" stroke=\"black\" points=\"2101.68,-911.16 2108.35,-902.93 2098,-905.2 2101.68,-911.16\"/>\n</g>\n<!-- 138572754470848 -->\n<g id=\"node50\" class=\"node\">\n<title>138572754470848</title>\n<polygon fill=\"none\" stroke=\"black\" points=\"2193.5,-550.5 2193.5,-586.5 2375.5,-586.5 2375.5,-550.5 2193.5,-550.5\"/>\n<text text-anchor=\"middle\" x=\"2203.5\" y=\"-564.8\" font-family=\"Times,serif\" font-size=\"14.00\"> </text>\n<polyline fill=\"none\" stroke=\"black\" points=\"2213.5,-550.5 2213.5,-586.5 \"/>\n<text text-anchor=\"middle\" x=\"2253.5\" y=\"-564.8\" font-family=\"Times,serif\" font-size=\"14.00\">data 0.3316</text>\n<polyline fill=\"none\" stroke=\"black\" points=\"2293.5,-550.5 2293.5,-586.5 \"/>\n<text text-anchor=\"middle\" x=\"2334.5\" y=\"-564.8\" font-family=\"Times,serif\" font-size=\"14.00\">grad 0.0000</text>\n</g>\n<!-- 138572754470848&#45;&gt;138572727363152* -->\n<g id=\"edge193\" class=\"edge\">\n<title>138572754470848&#45;&gt;138572727363152*</title>\n<path fill=\"none\" stroke=\"black\" d=\"M2375.82,-568.5C2385.57,-568.5 2395.04,-568.5 2403.57,-568.5\"/>\n<polygon fill=\"black\" stroke=\"black\" points=\"2403.83,-572 2413.83,-568.5 2403.83,-565 2403.83,-572\"/>\n</g>\n<!-- 138572754479056 -->\n<g id=\"node51\" class=\"node\">\n<title>138572754479056</title>\n<polygon fill=\"none\" stroke=\"black\" points=\"2193.5,-330.5 2193.5,-366.5 2375.5,-366.5 2375.5,-330.5 2193.5,-330.5\"/>\n<text text-anchor=\"middle\" x=\"2203.5\" y=\"-344.8\" font-family=\"Times,serif\" font-size=\"14.00\"> </text>\n<polyline fill=\"none\" stroke=\"black\" points=\"2213.5,-330.5 2213.5,-366.5 \"/>\n<text text-anchor=\"middle\" x=\"2253.5\" y=\"-344.8\" font-family=\"Times,serif\" font-size=\"14.00\">data 0.3436</text>\n<polyline fill=\"none\" stroke=\"black\" points=\"2293.5,-330.5 2293.5,-366.5 \"/>\n<text text-anchor=\"middle\" x=\"2334.5\" y=\"-344.8\" font-family=\"Times,serif\" font-size=\"14.00\">grad 0.0000</text>\n</g>\n<!-- 138572754479056&#45;&gt;138572754477520+ -->\n<g id=\"edge186\" class=\"edge\">\n<title>138572754479056&#45;&gt;138572754477520+</title>\n<path fill=\"none\" stroke=\"black\" d=\"M2352.1,-366.6C2360.88,-369.38 2369.7,-372.37 2378,-375.5 2388.62,-379.51 2399.94,-384.56 2409.96,-389.32\"/>\n<polygon fill=\"black\" stroke=\"black\" points=\"2408.59,-392.54 2419.11,-393.75 2411.64,-386.24 2408.59,-392.54\"/>\n</g>\n<!-- 138572754479056+ -->\n<g id=\"node52\" class=\"node\">\n<title>138572754479056+</title>\n<ellipse fill=\"none\" stroke=\"black\" cx=\"2128\" cy=\"-348.5\" rx=\"27\" ry=\"18\"/>\n<text text-anchor=\"middle\" x=\"2128\" y=\"-344.8\" font-family=\"Times,serif\" font-size=\"14.00\">+</text>\n</g>\n<!-- 138572754479056+&#45;&gt;138572754479056 -->\n<g id=\"edge17\" class=\"edge\">\n<title>138572754479056+&#45;&gt;138572754479056</title>\n<path fill=\"none\" stroke=\"black\" d=\"M2155.21,-348.5C2163.34,-348.5 2172.85,-348.5 2182.94,-348.5\"/>\n<polygon fill=\"black\" stroke=\"black\" points=\"2183.19,-352 2193.19,-348.5 2183.19,-345 2183.19,-352\"/>\n</g>\n<!-- 138572727363584 -->\n<g id=\"node53\" class=\"node\">\n<title>138572727363584</title>\n<polygon fill=\"none\" stroke=\"black\" points=\"1254.5,-825.5 1254.5,-861.5 1436.5,-861.5 1436.5,-825.5 1254.5,-825.5\"/>\n<text text-anchor=\"middle\" x=\"1264.5\" y=\"-839.8\" font-family=\"Times,serif\" font-size=\"14.00\"> </text>\n<polyline fill=\"none\" stroke=\"black\" points=\"1274.5,-825.5 1274.5,-861.5 \"/>\n<text text-anchor=\"middle\" x=\"1314.5\" y=\"-839.8\" font-family=\"Times,serif\" font-size=\"14.00\">data 3.0000</text>\n<polyline fill=\"none\" stroke=\"black\" points=\"1354.5,-825.5 1354.5,-861.5 \"/>\n<text text-anchor=\"middle\" x=\"1395.5\" y=\"-839.8\" font-family=\"Times,serif\" font-size=\"14.00\">grad 0.0000</text>\n</g>\n<!-- 138572727363872* -->\n<g id=\"node62\" class=\"node\">\n<title>138572727363872*</title>\n<ellipse fill=\"none\" stroke=\"black\" cx=\"1502\" cy=\"-843.5\" rx=\"27\" ry=\"18\"/>\n<text text-anchor=\"middle\" x=\"1502\" y=\"-839.8\" font-family=\"Times,serif\" font-size=\"14.00\">*</text>\n</g>\n<!-- 138572727363584&#45;&gt;138572727363872* -->\n<g id=\"edge137\" class=\"edge\">\n<title>138572727363584&#45;&gt;138572727363872*</title>\n<path fill=\"none\" stroke=\"black\" d=\"M1436.82,-843.5C1446.57,-843.5 1456.04,-843.5 1464.57,-843.5\"/>\n<polygon fill=\"black\" stroke=\"black\" points=\"1464.83,-847 1474.83,-843.5 1464.83,-840 1464.83,-847\"/>\n</g>\n<!-- 138572754470944 -->\n<g id=\"node54\" class=\"node\">\n<title>138572754470944</title>\n<polygon fill=\"none\" stroke=\"black\" points=\"1880.5,-165.5 1880.5,-201.5 2062.5,-201.5 2062.5,-165.5 1880.5,-165.5\"/>\n<text text-anchor=\"middle\" x=\"1890.5\" y=\"-179.8\" font-family=\"Times,serif\" font-size=\"14.00\"> </text>\n<polyline fill=\"none\" stroke=\"black\" points=\"1900.5,-165.5 1900.5,-201.5 \"/>\n<text text-anchor=\"middle\" x=\"1940.5\" y=\"-179.8\" font-family=\"Times,serif\" font-size=\"14.00\">data 0.4083</text>\n<polyline fill=\"none\" stroke=\"black\" points=\"1980.5,-165.5 1980.5,-201.5 \"/>\n<text text-anchor=\"middle\" x=\"2021.5\" y=\"-179.8\" font-family=\"Times,serif\" font-size=\"14.00\">grad 0.0000</text>\n</g>\n<!-- 138572754470944&#45;&gt;138572754478048+ -->\n<g id=\"edge102\" class=\"edge\">\n<title>138572754470944&#45;&gt;138572754478048+</title>\n<path fill=\"none\" stroke=\"black\" d=\"M2038.56,-201.55C2047.51,-204.36 2056.53,-207.37 2065,-210.5 2075.49,-214.38 2086.71,-219.22 2096.68,-223.78\"/>\n<polygon fill=\"black\" stroke=\"black\" points=\"2095.25,-226.98 2105.79,-228.03 2098.2,-220.63 2095.25,-226.98\"/>\n</g>\n<!-- 138572754471088 -->\n<g id=\"node55\" class=\"node\">\n<title>138572754471088</title>\n<polygon fill=\"none\" stroke=\"black\" points=\"4505,-488.5 4505,-524.5 4687,-524.5 4687,-488.5 4505,-488.5\"/>\n<text text-anchor=\"middle\" x=\"4515\" y=\"-502.8\" font-family=\"Times,serif\" font-size=\"14.00\"> </text>\n<polyline fill=\"none\" stroke=\"black\" points=\"4525,-488.5 4525,-524.5 \"/>\n<text text-anchor=\"middle\" x=\"4565\" y=\"-502.8\" font-family=\"Times,serif\" font-size=\"14.00\">data 1.3920</text>\n<polyline fill=\"none\" stroke=\"black\" points=\"4605,-488.5 4605,-524.5 \"/>\n<text text-anchor=\"middle\" x=\"4646\" y=\"-502.8\" font-family=\"Times,serif\" font-size=\"14.00\">grad 0.0000</text>\n</g>\n<!-- 138572754471088&#45;&gt;138572754473056+ -->\n<g id=\"edge169\" class=\"edge\">\n<title>138572754471088&#45;&gt;138572754473056+</title>\n<path fill=\"none\" stroke=\"black\" d=\"M4651.02,-488.38C4672.72,-481.1 4697.03,-472.94 4716.01,-466.57\"/>\n<polygon fill=\"black\" stroke=\"black\" points=\"4717.31,-469.82 4725.68,-463.32 4715.09,-463.19 4717.31,-469.82\"/>\n</g>\n<!-- 138572754471088+&#45;&gt;138572754471088 -->\n<g id=\"edge18\" class=\"edge\">\n<title>138572754471088+&#45;&gt;138572754471088</title>\n<path fill=\"none\" stroke=\"black\" d=\"M4469.13,-513.12C4476.67,-512.73 4485.39,-512.27 4494.64,-511.78\"/>\n<polygon fill=\"black\" stroke=\"black\" points=\"4495.06,-515.26 4504.87,-511.24 4494.7,-508.27 4495.06,-515.26\"/>\n</g>\n<!-- 138572727363776 -->\n<g id=\"node57\" class=\"node\">\n<title>138572727363776</title>\n<polygon fill=\"none\" stroke=\"black\" points=\"1878,-825.5 1878,-861.5 2065,-861.5 2065,-825.5 1878,-825.5\"/>\n<text text-anchor=\"middle\" x=\"1888\" y=\"-839.8\" font-family=\"Times,serif\" font-size=\"14.00\"> </text>\n<polyline fill=\"none\" stroke=\"black\" points=\"1898,-825.5 1898,-861.5 \"/>\n<text text-anchor=\"middle\" x=\"1940.5\" y=\"-839.8\" font-family=\"Times,serif\" font-size=\"14.00\">data &#45;0.5995</text>\n<polyline fill=\"none\" stroke=\"black\" points=\"1983,-825.5 1983,-861.5 \"/>\n<text text-anchor=\"middle\" x=\"2024\" y=\"-839.8\" font-family=\"Times,serif\" font-size=\"14.00\">grad 0.0000</text>\n</g>\n<!-- 138572727360656+ -->\n<g id=\"node166\" class=\"node\">\n<title>138572727360656+</title>\n<ellipse fill=\"none\" stroke=\"black\" cx=\"2128\" cy=\"-836.5\" rx=\"27\" ry=\"18\"/>\n<text text-anchor=\"middle\" x=\"2128\" y=\"-832.8\" font-family=\"Times,serif\" font-size=\"14.00\">+</text>\n</g>\n<!-- 138572727363776&#45;&gt;138572727360656+ -->\n<g id=\"edge151\" class=\"edge\">\n<title>138572727363776&#45;&gt;138572727360656+</title>\n<path fill=\"none\" stroke=\"black\" d=\"M2065.05,-839.31C2074.06,-838.9 2082.79,-838.5 2090.7,-838.14\"/>\n<polygon fill=\"black\" stroke=\"black\" points=\"2091.12,-841.63 2100.95,-837.68 2090.8,-834.64 2091.12,-841.63\"/>\n</g>\n<!-- 138572727363776+ -->\n<g id=\"node58\" class=\"node\">\n<title>138572727363776+</title>\n<ellipse fill=\"none\" stroke=\"black\" cx=\"1815\" cy=\"-843.5\" rx=\"27\" ry=\"18\"/>\n<text text-anchor=\"middle\" x=\"1815\" y=\"-839.8\" font-family=\"Times,serif\" font-size=\"14.00\">+</text>\n</g>\n<!-- 138572727363776+&#45;&gt;138572727363776 -->\n<g id=\"edge19\" class=\"edge\">\n<title>138572727363776+&#45;&gt;138572727363776</title>\n<path fill=\"none\" stroke=\"black\" d=\"M1842.21,-843.5C1849.73,-843.5 1858.43,-843.5 1867.67,-843.5\"/>\n<polygon fill=\"black\" stroke=\"black\" points=\"1867.89,-847 1877.89,-843.5 1867.89,-840 1867.89,-847\"/>\n</g>\n<!-- 138572754479344 -->\n<g id=\"node59\" class=\"node\">\n<title>138572754479344</title>\n<polygon fill=\"none\" stroke=\"black\" points=\"2193.5,-495.5 2193.5,-531.5 2375.5,-531.5 2375.5,-495.5 2193.5,-495.5\"/>\n<text text-anchor=\"middle\" x=\"2203.5\" y=\"-509.8\" font-family=\"Times,serif\" font-size=\"14.00\"> </text>\n<polyline fill=\"none\" stroke=\"black\" points=\"2213.5,-495.5 2213.5,-531.5 \"/>\n<text text-anchor=\"middle\" x=\"2253.5\" y=\"-509.8\" font-family=\"Times,serif\" font-size=\"14.00\">data 0.1374</text>\n<polyline fill=\"none\" stroke=\"black\" points=\"2293.5,-495.5 2293.5,-531.5 \"/>\n<text text-anchor=\"middle\" x=\"2334.5\" y=\"-509.8\" font-family=\"Times,serif\" font-size=\"14.00\">grad 0.0000</text>\n</g>\n<!-- 138572754479344&#45;&gt;138572754477520+ -->\n<g id=\"edge144\" class=\"edge\">\n<title>138572754479344&#45;&gt;138572754477520+</title>\n<path fill=\"none\" stroke=\"black\" d=\"M2360.15,-495.5C2366.43,-492.63 2372.48,-489.32 2378,-485.5 2398.46,-471.33 2415.13,-448.32 2426.02,-430.43\"/>\n<polygon fill=\"black\" stroke=\"black\" points=\"2429.15,-432.02 2431.17,-421.62 2423.1,-428.49 2429.15,-432.02\"/>\n</g>\n<!-- 138572754479344* -->\n<g id=\"node60\" class=\"node\">\n<title>138572754479344*</title>\n<ellipse fill=\"none\" stroke=\"black\" cx=\"2128\" cy=\"-513.5\" rx=\"27\" ry=\"18\"/>\n<text text-anchor=\"middle\" x=\"2128\" y=\"-509.8\" font-family=\"Times,serif\" font-size=\"14.00\">*</text>\n</g>\n<!-- 138572754479344*&#45;&gt;138572754479344 -->\n<g id=\"edge20\" class=\"edge\">\n<title>138572754479344*&#45;&gt;138572754479344</title>\n<path fill=\"none\" stroke=\"black\" d=\"M2155.21,-513.5C2163.34,-513.5 2172.85,-513.5 2182.94,-513.5\"/>\n<polygon fill=\"black\" stroke=\"black\" points=\"2183.19,-517 2193.19,-513.5 2183.19,-510 2183.19,-517\"/>\n</g>\n<!-- 138572727363872 -->\n<g id=\"node61\" class=\"node\">\n<title>138572727363872</title>\n<polygon fill=\"none\" stroke=\"black\" points=\"1567.5,-825.5 1567.5,-861.5 1749.5,-861.5 1749.5,-825.5 1567.5,-825.5\"/>\n<text text-anchor=\"middle\" x=\"1577.5\" y=\"-839.8\" font-family=\"Times,serif\" font-size=\"14.00\"> </text>\n<polyline fill=\"none\" stroke=\"black\" points=\"1587.5,-825.5 1587.5,-861.5 \"/>\n<text text-anchor=\"middle\" x=\"1627.5\" y=\"-839.8\" font-family=\"Times,serif\" font-size=\"14.00\">data 0.3093</text>\n<polyline fill=\"none\" stroke=\"black\" points=\"1667.5,-825.5 1667.5,-861.5 \"/>\n<text text-anchor=\"middle\" x=\"1708.5\" y=\"-839.8\" font-family=\"Times,serif\" font-size=\"14.00\">grad 0.0000</text>\n</g>\n<!-- 138572727363872&#45;&gt;138572727363776+ -->\n<g id=\"edge94\" class=\"edge\">\n<title>138572727363872&#45;&gt;138572727363776+</title>\n<path fill=\"none\" stroke=\"black\" d=\"M1749.82,-843.5C1759.57,-843.5 1769.04,-843.5 1777.57,-843.5\"/>\n<polygon fill=\"black\" stroke=\"black\" points=\"1777.83,-847 1787.83,-843.5 1777.83,-840 1777.83,-847\"/>\n</g>\n<!-- 138572727363872*&#45;&gt;138572727363872 -->\n<g id=\"edge21\" class=\"edge\">\n<title>138572727363872*&#45;&gt;138572727363872</title>\n<path fill=\"none\" stroke=\"black\" d=\"M1529.21,-843.5C1537.34,-843.5 1546.85,-843.5 1556.94,-843.5\"/>\n<polygon fill=\"black\" stroke=\"black\" points=\"1557.19,-847 1567.19,-843.5 1557.19,-840 1557.19,-847\"/>\n</g>\n<!-- 138572727363920 -->\n<g id=\"node63\" class=\"node\">\n<title>138572727363920</title>\n<polygon fill=\"none\" stroke=\"black\" points=\"1565,-770.5 1565,-806.5 1752,-806.5 1752,-770.5 1565,-770.5\"/>\n<text text-anchor=\"middle\" x=\"1575\" y=\"-784.8\" font-family=\"Times,serif\" font-size=\"14.00\"> </text>\n<polyline fill=\"none\" stroke=\"black\" points=\"1585,-770.5 1585,-806.5 \"/>\n<text text-anchor=\"middle\" x=\"1627.5\" y=\"-784.8\" font-family=\"Times,serif\" font-size=\"14.00\">data &#45;0.9088</text>\n<polyline fill=\"none\" stroke=\"black\" points=\"1670,-770.5 1670,-806.5 \"/>\n<text text-anchor=\"middle\" x=\"1711\" y=\"-784.8\" font-family=\"Times,serif\" font-size=\"14.00\">grad 0.0000</text>\n</g>\n<!-- 138572727363920&#45;&gt;138572727363776+ -->\n<g id=\"edge125\" class=\"edge\">\n<title>138572727363920&#45;&gt;138572727363776+</title>\n<path fill=\"none\" stroke=\"black\" d=\"M1723.02,-806.65C1732.79,-809.76 1742.71,-813.08 1752,-816.5 1762.25,-820.27 1773.23,-824.86 1783.07,-829.18\"/>\n<polygon fill=\"black\" stroke=\"black\" points=\"1781.89,-832.49 1792.45,-833.37 1784.74,-826.1 1781.89,-832.49\"/>\n</g>\n<!-- 138572727363920+ -->\n<g id=\"node64\" class=\"node\">\n<title>138572727363920+</title>\n<ellipse fill=\"none\" stroke=\"black\" cx=\"1502\" cy=\"-788.5\" rx=\"27\" ry=\"18\"/>\n<text text-anchor=\"middle\" x=\"1502\" y=\"-784.8\" font-family=\"Times,serif\" font-size=\"14.00\">+</text>\n</g>\n<!-- 138572727363920+&#45;&gt;138572727363920 -->\n<g id=\"edge22\" class=\"edge\">\n<title>138572727363920+&#45;&gt;138572727363920</title>\n<path fill=\"none\" stroke=\"black\" d=\"M1529.21,-788.5C1536.73,-788.5 1545.43,-788.5 1554.67,-788.5\"/>\n<polygon fill=\"black\" stroke=\"black\" points=\"1554.89,-792 1564.89,-788.5 1554.89,-785 1554.89,-792\"/>\n</g>\n<!-- 138572754479536 -->\n<g id=\"node65\" class=\"node\">\n<title>138572754479536</title>\n<polygon fill=\"none\" stroke=\"black\" points=\"1878,-220.5 1878,-256.5 2065,-256.5 2065,-220.5 1878,-220.5\"/>\n<text text-anchor=\"middle\" x=\"1888\" y=\"-234.8\" font-family=\"Times,serif\" font-size=\"14.00\"> </text>\n<polyline fill=\"none\" stroke=\"black\" points=\"1898,-220.5 1898,-256.5 \"/>\n<text text-anchor=\"middle\" x=\"1940.5\" y=\"-234.8\" font-family=\"Times,serif\" font-size=\"14.00\">data &#45;0.5783</text>\n<polyline fill=\"none\" stroke=\"black\" points=\"1983,-220.5 1983,-256.5 \"/>\n<text text-anchor=\"middle\" x=\"2024\" y=\"-234.8\" font-family=\"Times,serif\" font-size=\"14.00\">grad 0.0000</text>\n</g>\n<!-- 138572754479536&#45;&gt;138572754478048+ -->\n<g id=\"edge165\" class=\"edge\">\n<title>138572754479536&#45;&gt;138572754478048+</title>\n<path fill=\"none\" stroke=\"black\" d=\"M2065.05,-238.5C2074.06,-238.5 2082.79,-238.5 2090.7,-238.5\"/>\n<polygon fill=\"black\" stroke=\"black\" points=\"2090.95,-242 2100.95,-238.5 2090.95,-235 2090.95,-242\"/>\n</g>\n<!-- 138572754479536*&#45;&gt;138572754479536 -->\n<g id=\"edge23\" class=\"edge\">\n<title>138572754479536*&#45;&gt;138572754479536</title>\n<path fill=\"none\" stroke=\"black\" d=\"M1841.51,-261.04C1849.21,-259.7 1858.17,-258.13 1867.73,-256.46\"/>\n<polygon fill=\"black\" stroke=\"black\" points=\"1868.62,-259.86 1877.86,-254.69 1867.41,-252.96 1868.62,-259.86\"/>\n</g>\n<!-- 138572754471520 -->\n<g id=\"node67\" class=\"node\">\n<title>138572754471520</title>\n<polygon fill=\"none\" stroke=\"black\" points=\"1878,-385.5 1878,-421.5 2065,-421.5 2065,-385.5 1878,-385.5\"/>\n<text text-anchor=\"middle\" x=\"1888\" y=\"-399.8\" font-family=\"Times,serif\" font-size=\"14.00\"> </text>\n<polyline fill=\"none\" stroke=\"black\" points=\"1898,-385.5 1898,-421.5 \"/>\n<text text-anchor=\"middle\" x=\"1940.5\" y=\"-399.8\" font-family=\"Times,serif\" font-size=\"14.00\">data &#45;0.7377</text>\n<polyline fill=\"none\" stroke=\"black\" points=\"1983,-385.5 1983,-421.5 \"/>\n<text text-anchor=\"middle\" x=\"2024\" y=\"-399.8\" font-family=\"Times,serif\" font-size=\"14.00\">grad 0.0000</text>\n</g>\n<!-- 138572754476560* -->\n<g id=\"node188\" class=\"node\">\n<title>138572754476560*</title>\n<ellipse fill=\"none\" stroke=\"black\" cx=\"2128\" cy=\"-403.5\" rx=\"27\" ry=\"18\"/>\n<text text-anchor=\"middle\" x=\"2128\" y=\"-399.8\" font-family=\"Times,serif\" font-size=\"14.00\">*</text>\n</g>\n<!-- 138572754471520&#45;&gt;138572754476560* -->\n<g id=\"edge176\" class=\"edge\">\n<title>138572754471520&#45;&gt;138572754476560*</title>\n<path fill=\"none\" stroke=\"black\" d=\"M2065.05,-403.5C2074.06,-403.5 2082.79,-403.5 2090.7,-403.5\"/>\n<polygon fill=\"black\" stroke=\"black\" points=\"2090.95,-407 2100.95,-403.5 2090.95,-400 2090.95,-407\"/>\n</g>\n<!-- 138572727364208 -->\n<g id=\"node68\" class=\"node\">\n<title>138572727364208</title>\n<polygon fill=\"none\" stroke=\"black\" points=\"2193.5,-220.5 2193.5,-256.5 2375.5,-256.5 2375.5,-220.5 2193.5,-220.5\"/>\n<text text-anchor=\"middle\" x=\"2203.5\" y=\"-234.8\" font-family=\"Times,serif\" font-size=\"14.00\"> </text>\n<polyline fill=\"none\" stroke=\"black\" points=\"2213.5,-220.5 2213.5,-256.5 \"/>\n<text text-anchor=\"middle\" x=\"2253.5\" y=\"-234.8\" font-family=\"Times,serif\" font-size=\"14.00\">data 0.9384</text>\n<polyline fill=\"none\" stroke=\"black\" points=\"2293.5,-220.5 2293.5,-256.5 \"/>\n<text text-anchor=\"middle\" x=\"2334.5\" y=\"-234.8\" font-family=\"Times,serif\" font-size=\"14.00\">grad 0.0000</text>\n</g>\n<!-- 138572727364208&#45;&gt;138572754477712* -->\n<g id=\"edge171\" class=\"edge\">\n<title>138572727364208&#45;&gt;138572754477712*</title>\n<path fill=\"none\" stroke=\"black\" d=\"M2375.82,-238.5C2385.57,-238.5 2395.04,-238.5 2403.57,-238.5\"/>\n<polygon fill=\"black\" stroke=\"black\" points=\"2403.83,-242 2413.83,-238.5 2403.83,-235 2403.83,-242\"/>\n</g>\n<!-- 138572727364208&#45;&gt;138572727363152* -->\n<g id=\"edge107\" class=\"edge\">\n<title>138572727364208&#45;&gt;138572727363152*</title>\n<path fill=\"none\" stroke=\"black\" d=\"M2367.78,-256.69C2371.5,-259.26 2374.94,-262.18 2378,-265.5 2382.71,-270.62 2420.45,-466.14 2434.64,-540.34\"/>\n<polygon fill=\"black\" stroke=\"black\" points=\"2431.24,-541.2 2436.55,-550.37 2438.11,-539.89 2431.24,-541.2\"/>\n</g>\n<!-- 138572754479776* -->\n<g id=\"node72\" class=\"node\">\n<title>138572754479776*</title>\n<ellipse fill=\"none\" stroke=\"black\" cx=\"2441\" cy=\"-184.5\" rx=\"27\" ry=\"18\"/>\n<text text-anchor=\"middle\" x=\"2441\" y=\"-180.8\" font-family=\"Times,serif\" font-size=\"14.00\">*</text>\n</g>\n<!-- 138572727364208&#45;&gt;138572754479776* -->\n<g id=\"edge129\" class=\"edge\">\n<title>138572727364208&#45;&gt;138572754479776*</title>\n<path fill=\"none\" stroke=\"black\" d=\"M2348.48,-220.39C2358.41,-217.26 2368.53,-213.91 2378,-210.5 2388.13,-206.85 2399.01,-202.46 2408.79,-198.33\"/>\n<polygon fill=\"black\" stroke=\"black\" points=\"2410.31,-201.48 2418.12,-194.32 2407.55,-195.05 2410.31,-201.48\"/>\n</g>\n<!-- 138572753735056* -->\n<g id=\"node83\" class=\"node\">\n<title>138572753735056*</title>\n<ellipse fill=\"none\" stroke=\"black\" cx=\"2441\" cy=\"-349.5\" rx=\"27\" ry=\"18\"/>\n<text text-anchor=\"middle\" x=\"2441\" y=\"-345.8\" font-family=\"Times,serif\" font-size=\"14.00\">*</text>\n</g>\n<!-- 138572727364208&#45;&gt;138572753735056* -->\n<g id=\"edge141\" class=\"edge\">\n<title>138572727364208&#45;&gt;138572753735056*</title>\n<path fill=\"none\" stroke=\"black\" d=\"M2363.26,-256.52C2368.47,-259.12 2373.44,-262.1 2378,-265.5 2401.7,-283.21 2395.86,-298.12 2414,-321.5 2415.39,-323.29 2416.87,-325.1 2418.39,-326.89\"/>\n<polygon fill=\"black\" stroke=\"black\" points=\"2415.92,-329.38 2425.19,-334.53 2421.15,-324.73 2415.92,-329.38\"/>\n</g>\n<!-- 138572727364208tanh -->\n<g id=\"node69\" class=\"node\">\n<title>138572727364208tanh</title>\n<ellipse fill=\"none\" stroke=\"black\" cx=\"2128\" cy=\"-156.5\" rx=\"27\" ry=\"18\"/>\n<text text-anchor=\"middle\" x=\"2128\" y=\"-152.8\" font-family=\"Times,serif\" font-size=\"14.00\">tanh</text>\n</g>\n<!-- 138572727364208tanh&#45;&gt;138572727364208 -->\n<g id=\"edge24\" class=\"edge\">\n<title>138572727364208tanh&#45;&gt;138572727364208</title>\n<path fill=\"none\" stroke=\"black\" d=\"M2142.92,-171.76C2154.68,-183.82 2172.51,-200.27 2191,-210.5 2194.9,-212.66 2199,-214.67 2203.19,-216.55\"/>\n<polygon fill=\"black\" stroke=\"black\" points=\"2201.94,-219.82 2212.52,-220.43 2204.63,-213.35 2201.94,-219.82\"/>\n</g>\n<!-- 138572727364256 -->\n<g id=\"node70\" class=\"node\">\n<title>138572727364256</title>\n<polygon fill=\"none\" stroke=\"black\" points=\"941.5,-770.5 941.5,-806.5 1123.5,-806.5 1123.5,-770.5 941.5,-770.5\"/>\n<text text-anchor=\"middle\" x=\"951.5\" y=\"-784.8\" font-family=\"Times,serif\" font-size=\"14.00\"> </text>\n<polyline fill=\"none\" stroke=\"black\" points=\"961.5,-770.5 961.5,-806.5 \"/>\n<text text-anchor=\"middle\" x=\"1001.5\" y=\"-784.8\" font-family=\"Times,serif\" font-size=\"14.00\">data 2.0000</text>\n<polyline fill=\"none\" stroke=\"black\" points=\"1041.5,-770.5 1041.5,-806.5 \"/>\n<text text-anchor=\"middle\" x=\"1082.5\" y=\"-784.8\" font-family=\"Times,serif\" font-size=\"14.00\">grad 0.0000</text>\n</g>\n<!-- 138572727364304* -->\n<g id=\"node74\" class=\"node\">\n<title>138572727364304*</title>\n<ellipse fill=\"none\" stroke=\"black\" cx=\"1189\" cy=\"-733.5\" rx=\"27\" ry=\"18\"/>\n<text text-anchor=\"middle\" x=\"1189\" y=\"-729.8\" font-family=\"Times,serif\" font-size=\"14.00\">*</text>\n</g>\n<!-- 138572727364256&#45;&gt;138572727364304* -->\n<g id=\"edge79\" class=\"edge\">\n<title>138572727364256&#45;&gt;138572727364304*</title>\n<path fill=\"none\" stroke=\"black\" d=\"M1099.56,-770.45C1108.51,-767.64 1117.53,-764.63 1126,-761.5 1136.49,-757.62 1147.71,-752.78 1157.68,-748.22\"/>\n<polygon fill=\"black\" stroke=\"black\" points=\"1159.2,-751.37 1166.79,-743.97 1156.25,-745.02 1159.2,-751.37\"/>\n</g>\n<!-- 138572754479776 -->\n<g id=\"node71\" class=\"node\">\n<title>138572754479776</title>\n<polygon fill=\"none\" stroke=\"black\" points=\"2506.5,-166.5 2506.5,-202.5 2688.5,-202.5 2688.5,-166.5 2506.5,-166.5\"/>\n<text text-anchor=\"middle\" x=\"2516.5\" y=\"-180.8\" font-family=\"Times,serif\" font-size=\"14.00\"> </text>\n<polyline fill=\"none\" stroke=\"black\" points=\"2526.5,-166.5 2526.5,-202.5 \"/>\n<text text-anchor=\"middle\" x=\"2566.5\" y=\"-180.8\" font-family=\"Times,serif\" font-size=\"14.00\">data 0.3756</text>\n<polyline fill=\"none\" stroke=\"black\" points=\"2606.5,-166.5 2606.5,-202.5 \"/>\n<text text-anchor=\"middle\" x=\"2647.5\" y=\"-180.8\" font-family=\"Times,serif\" font-size=\"14.00\">grad 0.0000</text>\n</g>\n<!-- 138572754479776&#45;&gt;138572754478288+ -->\n<g id=\"edge180\" class=\"edge\">\n<title>138572754479776&#45;&gt;138572754478288+</title>\n<path fill=\"none\" stroke=\"black\" d=\"M2675.53,-202.66C2680.97,-205.23 2686.19,-208.16 2691,-211.5 2712.11,-226.15 2728.97,-250.3 2739.74,-268.78\"/>\n<polygon fill=\"black\" stroke=\"black\" points=\"2736.74,-270.57 2744.68,-277.59 2742.85,-267.15 2736.74,-270.57\"/>\n</g>\n<!-- 138572754479776*&#45;&gt;138572754479776 -->\n<g id=\"edge25\" class=\"edge\">\n<title>138572754479776*&#45;&gt;138572754479776</title>\n<path fill=\"none\" stroke=\"black\" d=\"M2468.21,-184.5C2476.34,-184.5 2485.85,-184.5 2495.94,-184.5\"/>\n<polygon fill=\"black\" stroke=\"black\" points=\"2496.19,-188 2506.19,-184.5 2496.19,-181 2496.19,-188\"/>\n</g>\n<!-- 138572727364304 -->\n<g id=\"node73\" class=\"node\">\n<title>138572727364304</title>\n<polygon fill=\"none\" stroke=\"black\" points=\"1252,-715.5 1252,-751.5 1439,-751.5 1439,-715.5 1252,-715.5\"/>\n<text text-anchor=\"middle\" x=\"1262\" y=\"-729.8\" font-family=\"Times,serif\" font-size=\"14.00\"> </text>\n<polyline fill=\"none\" stroke=\"black\" points=\"1272,-715.5 1272,-751.5 \"/>\n<text text-anchor=\"middle\" x=\"1314.5\" y=\"-729.8\" font-family=\"Times,serif\" font-size=\"14.00\">data &#45;1.7735</text>\n<polyline fill=\"none\" stroke=\"black\" points=\"1357,-715.5 1357,-751.5 \"/>\n<text text-anchor=\"middle\" x=\"1398\" y=\"-729.8\" font-family=\"Times,serif\" font-size=\"14.00\">grad 0.0000</text>\n</g>\n<!-- 138572727364304&#45;&gt;138572727363920+ -->\n<g id=\"edge194\" class=\"edge\">\n<title>138572727364304&#45;&gt;138572727363920+</title>\n<path fill=\"none\" stroke=\"black\" d=\"M1410.02,-751.65C1419.79,-754.76 1429.71,-758.08 1439,-761.5 1449.25,-765.27 1460.23,-769.86 1470.07,-774.18\"/>\n<polygon fill=\"black\" stroke=\"black\" points=\"1468.89,-777.49 1479.45,-778.37 1471.74,-771.1 1468.89,-777.49\"/>\n</g>\n<!-- 138572727364304*&#45;&gt;138572727364304 -->\n<g id=\"edge26\" class=\"edge\">\n<title>138572727364304*&#45;&gt;138572727364304</title>\n<path fill=\"none\" stroke=\"black\" d=\"M1216.21,-733.5C1223.73,-733.5 1232.43,-733.5 1241.67,-733.5\"/>\n<polygon fill=\"black\" stroke=\"black\" points=\"1241.89,-737 1251.89,-733.5 1241.89,-730 1241.89,-737\"/>\n</g>\n<!-- 138572727364496 -->\n<g id=\"node75\" class=\"node\">\n<title>138572727364496</title>\n<polygon fill=\"none\" stroke=\"black\" points=\"1880.5,-110.5 1880.5,-146.5 2062.5,-146.5 2062.5,-110.5 1880.5,-110.5\"/>\n<text text-anchor=\"middle\" x=\"1890.5\" y=\"-124.8\" font-family=\"Times,serif\" font-size=\"14.00\"> </text>\n<polyline fill=\"none\" stroke=\"black\" points=\"1900.5,-110.5 1900.5,-146.5 \"/>\n<text text-anchor=\"middle\" x=\"1940.5\" y=\"-124.8\" font-family=\"Times,serif\" font-size=\"14.00\">data 1.7249</text>\n<polyline fill=\"none\" stroke=\"black\" points=\"1980.5,-110.5 1980.5,-146.5 \"/>\n<text text-anchor=\"middle\" x=\"2021.5\" y=\"-124.8\" font-family=\"Times,serif\" font-size=\"14.00\">grad 0.0000</text>\n</g>\n<!-- 138572727364496&#45;&gt;138572727364208tanh -->\n<g id=\"edge148\" class=\"edge\">\n<title>138572727364496&#45;&gt;138572727364208tanh</title>\n<path fill=\"none\" stroke=\"black\" d=\"M2062.82,-144.87C2073.07,-146.73 2083.01,-148.53 2091.88,-150.13\"/>\n<polygon fill=\"black\" stroke=\"black\" points=\"2091.29,-153.58 2101.75,-151.92 2092.54,-146.7 2091.29,-153.58\"/>\n</g>\n<!-- 138572727364496+ -->\n<g id=\"node76\" class=\"node\">\n<title>138572727364496+</title>\n<ellipse fill=\"none\" stroke=\"black\" cx=\"1815\" cy=\"-128.5\" rx=\"27\" ry=\"18\"/>\n<text text-anchor=\"middle\" x=\"1815\" y=\"-124.8\" font-family=\"Times,serif\" font-size=\"14.00\">+</text>\n</g>\n<!-- 138572727364496+&#45;&gt;138572727364496 -->\n<g id=\"edge27\" class=\"edge\">\n<title>138572727364496+&#45;&gt;138572727364496</title>\n<path fill=\"none\" stroke=\"black\" d=\"M1842.21,-128.5C1850.34,-128.5 1859.85,-128.5 1869.94,-128.5\"/>\n<polygon fill=\"black\" stroke=\"black\" points=\"1870.19,-132 1880.19,-128.5 1870.19,-125 1870.19,-132\"/>\n</g>\n<!-- 138572754471904 -->\n<g id=\"node77\" class=\"node\">\n<title>138572754471904</title>\n<polygon fill=\"none\" stroke=\"black\" points=\"2504,-771.5 2504,-807.5 2691,-807.5 2691,-771.5 2504,-771.5\"/>\n<text text-anchor=\"middle\" x=\"2514\" y=\"-785.8\" font-family=\"Times,serif\" font-size=\"14.00\"> </text>\n<polyline fill=\"none\" stroke=\"black\" points=\"2524,-771.5 2524,-807.5 \"/>\n<text text-anchor=\"middle\" x=\"2566.5\" y=\"-785.8\" font-family=\"Times,serif\" font-size=\"14.00\">data &#45;0.6376</text>\n<polyline fill=\"none\" stroke=\"black\" points=\"2609,-771.5 2609,-807.5 \"/>\n<text text-anchor=\"middle\" x=\"2650\" y=\"-785.8\" font-family=\"Times,serif\" font-size=\"14.00\">grad 0.0000</text>\n</g>\n<!-- 138572754475648* -->\n<g id=\"node147\" class=\"node\">\n<title>138572754475648*</title>\n<ellipse fill=\"none\" stroke=\"black\" cx=\"2754\" cy=\"-734.5\" rx=\"27\" ry=\"18\"/>\n<text text-anchor=\"middle\" x=\"2754\" y=\"-730.8\" font-family=\"Times,serif\" font-size=\"14.00\">*</text>\n</g>\n<!-- 138572754471904&#45;&gt;138572754475648* -->\n<g id=\"edge198\" class=\"edge\">\n<title>138572754471904&#45;&gt;138572754475648*</title>\n<path fill=\"none\" stroke=\"black\" d=\"M2664.56,-771.45C2673.51,-768.64 2682.53,-765.63 2691,-762.5 2701.49,-758.62 2712.71,-753.78 2722.68,-749.22\"/>\n<polygon fill=\"black\" stroke=\"black\" points=\"2724.2,-752.37 2731.79,-744.97 2721.25,-746.02 2724.2,-752.37\"/>\n</g>\n<!-- 138572727364736 -->\n<g id=\"node78\" class=\"node\">\n<title>138572727364736</title>\n<polygon fill=\"none\" stroke=\"black\" points=\"1254.5,-110.5 1254.5,-146.5 1436.5,-146.5 1436.5,-110.5 1254.5,-110.5\"/>\n<text text-anchor=\"middle\" x=\"1264.5\" y=\"-124.8\" font-family=\"Times,serif\" font-size=\"14.00\"> </text>\n<polyline fill=\"none\" stroke=\"black\" points=\"1274.5,-110.5 1274.5,-146.5 \"/>\n<text text-anchor=\"middle\" x=\"1314.5\" y=\"-124.8\" font-family=\"Times,serif\" font-size=\"14.00\">data 2.4370</text>\n<polyline fill=\"none\" stroke=\"black\" points=\"1354.5,-110.5 1354.5,-146.5 \"/>\n<text text-anchor=\"middle\" x=\"1395.5\" y=\"-124.8\" font-family=\"Times,serif\" font-size=\"14.00\">grad 0.0000</text>\n</g>\n<!-- 138572727365024+ -->\n<g id=\"node85\" class=\"node\">\n<title>138572727365024+</title>\n<ellipse fill=\"none\" stroke=\"black\" cx=\"1502\" cy=\"-128.5\" rx=\"27\" ry=\"18\"/>\n<text text-anchor=\"middle\" x=\"1502\" y=\"-124.8\" font-family=\"Times,serif\" font-size=\"14.00\">+</text>\n</g>\n<!-- 138572727364736&#45;&gt;138572727365024+ -->\n<g id=\"edge131\" class=\"edge\">\n<title>138572727364736&#45;&gt;138572727365024+</title>\n<path fill=\"none\" stroke=\"black\" d=\"M1436.82,-128.5C1446.57,-128.5 1456.04,-128.5 1464.57,-128.5\"/>\n<polygon fill=\"black\" stroke=\"black\" points=\"1464.83,-132 1474.83,-128.5 1464.83,-125 1464.83,-132\"/>\n</g>\n<!-- 138572727364736* -->\n<g id=\"node79\" class=\"node\">\n<title>138572727364736*</title>\n<ellipse fill=\"none\" stroke=\"black\" cx=\"1189\" cy=\"-128.5\" rx=\"27\" ry=\"18\"/>\n<text text-anchor=\"middle\" x=\"1189\" y=\"-124.8\" font-family=\"Times,serif\" font-size=\"14.00\">*</text>\n</g>\n<!-- 138572727364736*&#45;&gt;138572727364736 -->\n<g id=\"edge28\" class=\"edge\">\n<title>138572727364736*&#45;&gt;138572727364736</title>\n<path fill=\"none\" stroke=\"black\" d=\"M1216.21,-128.5C1224.34,-128.5 1233.85,-128.5 1243.94,-128.5\"/>\n<polygon fill=\"black\" stroke=\"black\" points=\"1244.19,-132 1254.19,-128.5 1244.19,-125 1244.19,-132\"/>\n</g>\n<!-- 138572727364832 -->\n<g id=\"node80\" class=\"node\">\n<title>138572727364832</title>\n<polygon fill=\"none\" stroke=\"black\" points=\"941.5,-110.5 941.5,-146.5 1123.5,-146.5 1123.5,-110.5 941.5,-110.5\"/>\n<text text-anchor=\"middle\" x=\"951.5\" y=\"-124.8\" font-family=\"Times,serif\" font-size=\"14.00\"> </text>\n<polyline fill=\"none\" stroke=\"black\" points=\"961.5,-110.5 961.5,-146.5 \"/>\n<text text-anchor=\"middle\" x=\"1001.5\" y=\"-124.8\" font-family=\"Times,serif\" font-size=\"14.00\">data 3.0000</text>\n<polyline fill=\"none\" stroke=\"black\" points=\"1041.5,-110.5 1041.5,-146.5 \"/>\n<text text-anchor=\"middle\" x=\"1082.5\" y=\"-124.8\" font-family=\"Times,serif\" font-size=\"14.00\">grad 0.0000</text>\n</g>\n<!-- 138572727364832&#45;&gt;138572727364736* -->\n<g id=\"edge206\" class=\"edge\">\n<title>138572727364832&#45;&gt;138572727364736*</title>\n<path fill=\"none\" stroke=\"black\" d=\"M1123.82,-128.5C1133.57,-128.5 1143.04,-128.5 1151.57,-128.5\"/>\n<polygon fill=\"black\" stroke=\"black\" points=\"1151.83,-132 1161.83,-128.5 1151.83,-125 1151.83,-132\"/>\n</g>\n<!-- 138572754472240 -->\n<g id=\"node81\" class=\"node\">\n<title>138572754472240</title>\n<polygon fill=\"none\" stroke=\"black\" points=\"1880.5,-660.5 1880.5,-696.5 2062.5,-696.5 2062.5,-660.5 1880.5,-660.5\"/>\n<text text-anchor=\"middle\" x=\"1890.5\" y=\"-674.8\" font-family=\"Times,serif\" font-size=\"14.00\"> </text>\n<polyline fill=\"none\" stroke=\"black\" points=\"1900.5,-660.5 1900.5,-696.5 \"/>\n<text text-anchor=\"middle\" x=\"1940.5\" y=\"-674.8\" font-family=\"Times,serif\" font-size=\"14.00\">data 0.5851</text>\n<polyline fill=\"none\" stroke=\"black\" points=\"1980.5,-660.5 1980.5,-696.5 \"/>\n<text text-anchor=\"middle\" x=\"2021.5\" y=\"-674.8\" font-family=\"Times,serif\" font-size=\"14.00\">grad 0.0000</text>\n</g>\n<!-- 138572753747344* -->\n<g id=\"node184\" class=\"node\">\n<title>138572753747344*</title>\n<ellipse fill=\"none\" stroke=\"black\" cx=\"2128\" cy=\"-678.5\" rx=\"27\" ry=\"18\"/>\n<text text-anchor=\"middle\" x=\"2128\" y=\"-674.8\" font-family=\"Times,serif\" font-size=\"14.00\">*</text>\n</g>\n<!-- 138572754472240&#45;&gt;138572753747344* -->\n<g id=\"edge82\" class=\"edge\">\n<title>138572754472240&#45;&gt;138572753747344*</title>\n<path fill=\"none\" stroke=\"black\" d=\"M2062.82,-678.5C2072.57,-678.5 2082.04,-678.5 2090.57,-678.5\"/>\n<polygon fill=\"black\" stroke=\"black\" points=\"2090.83,-682 2100.83,-678.5 2090.83,-675 2090.83,-682\"/>\n</g>\n<!-- 138572753735056 -->\n<g id=\"node82\" class=\"node\">\n<title>138572753735056</title>\n<polygon fill=\"none\" stroke=\"black\" points=\"2504,-331.5 2504,-367.5 2691,-367.5 2691,-331.5 2504,-331.5\"/>\n<text text-anchor=\"middle\" x=\"2514\" y=\"-345.8\" font-family=\"Times,serif\" font-size=\"14.00\"> </text>\n<polyline fill=\"none\" stroke=\"black\" points=\"2524,-331.5 2524,-367.5 \"/>\n<text text-anchor=\"middle\" x=\"2566.5\" y=\"-345.8\" font-family=\"Times,serif\" font-size=\"14.00\">data &#45;0.9180</text>\n<polyline fill=\"none\" stroke=\"black\" points=\"2609,-331.5 2609,-367.5 \"/>\n<text text-anchor=\"middle\" x=\"2650\" y=\"-345.8\" font-family=\"Times,serif\" font-size=\"14.00\">grad 0.0000</text>\n</g>\n<!-- 138572753735056&#45;&gt;138572754475600+ -->\n<g id=\"edge179\" class=\"edge\">\n<title>138572753735056&#45;&gt;138572754475600+</title>\n<path fill=\"none\" stroke=\"black\" d=\"M2671.94,-367.62C2678.54,-370.24 2685,-373.18 2691,-376.5 2706.14,-384.87 2720.74,-397.51 2731.96,-408.56\"/>\n<polygon fill=\"black\" stroke=\"black\" points=\"2729.65,-411.21 2739.16,-415.89 2734.65,-406.3 2729.65,-411.21\"/>\n</g>\n<!-- 138572753735056*&#45;&gt;138572753735056 -->\n<g id=\"edge29\" class=\"edge\">\n<title>138572753735056*&#45;&gt;138572753735056</title>\n<path fill=\"none\" stroke=\"black\" d=\"M2468.21,-349.5C2475.73,-349.5 2484.43,-349.5 2493.67,-349.5\"/>\n<polygon fill=\"black\" stroke=\"black\" points=\"2493.89,-353 2503.89,-349.5 2493.89,-346 2493.89,-353\"/>\n</g>\n<!-- 138572727365024 -->\n<g id=\"node84\" class=\"node\">\n<title>138572727365024</title>\n<polygon fill=\"none\" stroke=\"black\" points=\"1567.5,-110.5 1567.5,-146.5 1749.5,-146.5 1749.5,-110.5 1567.5,-110.5\"/>\n<text text-anchor=\"middle\" x=\"1577.5\" y=\"-124.8\" font-family=\"Times,serif\" font-size=\"14.00\"> </text>\n<polyline fill=\"none\" stroke=\"black\" points=\"1587.5,-110.5 1587.5,-146.5 \"/>\n<text text-anchor=\"middle\" x=\"1627.5\" y=\"-124.8\" font-family=\"Times,serif\" font-size=\"14.00\">data 1.2003</text>\n<polyline fill=\"none\" stroke=\"black\" points=\"1667.5,-110.5 1667.5,-146.5 \"/>\n<text text-anchor=\"middle\" x=\"1708.5\" y=\"-124.8\" font-family=\"Times,serif\" font-size=\"14.00\">grad 0.0000</text>\n</g>\n<!-- 138572727365024&#45;&gt;138572727364496+ -->\n<g id=\"edge83\" class=\"edge\">\n<title>138572727365024&#45;&gt;138572727364496+</title>\n<path fill=\"none\" stroke=\"black\" d=\"M1749.82,-128.5C1759.57,-128.5 1769.04,-128.5 1777.57,-128.5\"/>\n<polygon fill=\"black\" stroke=\"black\" points=\"1777.83,-132 1787.83,-128.5 1777.83,-125 1777.83,-132\"/>\n</g>\n<!-- 138572727365024+&#45;&gt;138572727365024 -->\n<g id=\"edge30\" class=\"edge\">\n<title>138572727365024+&#45;&gt;138572727365024</title>\n<path fill=\"none\" stroke=\"black\" d=\"M1529.21,-128.5C1537.34,-128.5 1546.85,-128.5 1556.94,-128.5\"/>\n<polygon fill=\"black\" stroke=\"black\" points=\"1557.19,-132 1567.19,-128.5 1557.19,-125 1557.19,-132\"/>\n</g>\n<!-- 138572754480544 -->\n<g id=\"node86\" class=\"node\">\n<title>138572754480544</title>\n<polygon fill=\"none\" stroke=\"black\" points=\"1880.5,-330.5 1880.5,-366.5 2062.5,-366.5 2062.5,-330.5 1880.5,-330.5\"/>\n<text text-anchor=\"middle\" x=\"1890.5\" y=\"-344.8\" font-family=\"Times,serif\" font-size=\"14.00\"> </text>\n<polyline fill=\"none\" stroke=\"black\" points=\"1900.5,-330.5 1900.5,-366.5 \"/>\n<text text-anchor=\"middle\" x=\"1940.5\" y=\"-344.8\" font-family=\"Times,serif\" font-size=\"14.00\">data 0.9571</text>\n<polyline fill=\"none\" stroke=\"black\" points=\"1980.5,-330.5 1980.5,-366.5 \"/>\n<text text-anchor=\"middle\" x=\"2021.5\" y=\"-344.8\" font-family=\"Times,serif\" font-size=\"14.00\">grad 0.0000</text>\n</g>\n<!-- 138572754480544&#45;&gt;138572754479056+ -->\n<g id=\"edge157\" class=\"edge\">\n<title>138572754480544&#45;&gt;138572754479056+</title>\n<path fill=\"none\" stroke=\"black\" d=\"M2062.82,-348.5C2072.57,-348.5 2082.04,-348.5 2090.57,-348.5\"/>\n<polygon fill=\"black\" stroke=\"black\" points=\"2090.83,-352 2100.83,-348.5 2090.83,-345 2090.83,-352\"/>\n</g>\n<!-- 138572754480544*&#45;&gt;138572754480544 -->\n<g id=\"edge31\" class=\"edge\">\n<title>138572754480544*&#45;&gt;138572754480544</title>\n<path fill=\"none\" stroke=\"black\" d=\"M1842.21,-348.5C1850.34,-348.5 1859.85,-348.5 1869.94,-348.5\"/>\n<polygon fill=\"black\" stroke=\"black\" points=\"1870.19,-352 1880.19,-348.5 1870.19,-345 1870.19,-352\"/>\n</g>\n<!-- 138572754472384 -->\n<g id=\"node88\" class=\"node\">\n<title>138572754472384</title>\n<polygon fill=\"none\" stroke=\"black\" points=\"3443,-606.5 3443,-642.5 3630,-642.5 3630,-606.5 3443,-606.5\"/>\n<text text-anchor=\"middle\" x=\"3453\" y=\"-620.8\" font-family=\"Times,serif\" font-size=\"14.00\"> </text>\n<polyline fill=\"none\" stroke=\"black\" points=\"3463,-606.5 3463,-642.5 \"/>\n<text text-anchor=\"middle\" x=\"3505.5\" y=\"-620.8\" font-family=\"Times,serif\" font-size=\"14.00\">data &#45;0.0490</text>\n<polyline fill=\"none\" stroke=\"black\" points=\"3548,-606.5 3548,-642.5 \"/>\n<text text-anchor=\"middle\" x=\"3589\" y=\"-620.8\" font-family=\"Times,serif\" font-size=\"14.00\">grad 0.0000</text>\n</g>\n<!-- 138572754472384&#45;&gt;138572754469840* -->\n<g id=\"edge182\" class=\"edge\">\n<title>138572754472384&#45;&gt;138572754469840*</title>\n<path fill=\"none\" stroke=\"black\" d=\"M3630.05,-624.5C3639.06,-624.5 3647.79,-624.5 3655.7,-624.5\"/>\n<polygon fill=\"black\" stroke=\"black\" points=\"3655.95,-628 3665.95,-624.5 3655.95,-621 3655.95,-628\"/>\n</g>\n<!-- 138572754472432 -->\n<g id=\"node89\" class=\"node\">\n<title>138572754472432</title>\n<polygon fill=\"none\" stroke=\"black\" points=\"3445.5,-441.5 3445.5,-477.5 3627.5,-477.5 3627.5,-441.5 3445.5,-441.5\"/>\n<text text-anchor=\"middle\" x=\"3455.5\" y=\"-455.8\" font-family=\"Times,serif\" font-size=\"14.00\"> </text>\n<polyline fill=\"none\" stroke=\"black\" points=\"3465.5,-441.5 3465.5,-477.5 \"/>\n<text text-anchor=\"middle\" x=\"3505.5\" y=\"-455.8\" font-family=\"Times,serif\" font-size=\"14.00\">data 0.3404</text>\n<polyline fill=\"none\" stroke=\"black\" points=\"3545.5,-441.5 3545.5,-477.5 \"/>\n<text text-anchor=\"middle\" x=\"3586.5\" y=\"-455.8\" font-family=\"Times,serif\" font-size=\"14.00\">grad 0.0000</text>\n</g>\n<!-- 138572754472432&#45;&gt;138572754469024* -->\n<g id=\"edge121\" class=\"edge\">\n<title>138572754472432&#45;&gt;138572754469024*</title>\n<path fill=\"none\" stroke=\"black\" d=\"M3627.82,-457.16C3637.57,-456.91 3647.04,-456.66 3655.57,-456.44\"/>\n<polygon fill=\"black\" stroke=\"black\" points=\"3655.92,-459.94 3665.83,-456.18 3655.74,-452.94 3655.92,-459.94\"/>\n</g>\n<!-- 138572754472480 -->\n<g id=\"node90\" class=\"node\">\n<title>138572754472480</title>\n<polygon fill=\"none\" stroke=\"black\" points=\"2191,-440.5 2191,-476.5 2378,-476.5 2378,-440.5 2191,-440.5\"/>\n<text text-anchor=\"middle\" x=\"2201\" y=\"-454.8\" font-family=\"Times,serif\" font-size=\"14.00\"> </text>\n<polyline fill=\"none\" stroke=\"black\" points=\"2211,-440.5 2211,-476.5 \"/>\n<text text-anchor=\"middle\" x=\"2253.5\" y=\"-454.8\" font-family=\"Times,serif\" font-size=\"14.00\">data &#45;0.9782</text>\n<polyline fill=\"none\" stroke=\"black\" points=\"2296,-440.5 2296,-476.5 \"/>\n<text text-anchor=\"middle\" x=\"2337\" y=\"-454.8\" font-family=\"Times,serif\" font-size=\"14.00\">grad 0.0000</text>\n</g>\n<!-- 138572754472480&#45;&gt;138572753735056* -->\n<g id=\"edge111\" class=\"edge\">\n<title>138572754472480&#45;&gt;138572753735056*</title>\n<path fill=\"none\" stroke=\"black\" d=\"M2361.32,-440.38C2367.21,-437.55 2372.86,-434.28 2378,-430.5 2400.94,-413.63 2396.26,-399.78 2414,-377.5 2415.41,-375.73 2416.91,-373.93 2418.44,-372.15\"/>\n<polygon fill=\"black\" stroke=\"black\" points=\"2421.2,-374.32 2425.26,-364.53 2415.98,-369.65 2421.2,-374.32\"/>\n</g>\n<!-- 138572754480688 -->\n<g id=\"node91\" class=\"node\">\n<title>138572754480688</title>\n<polygon fill=\"none\" stroke=\"black\" points=\"3443,-496.5 3443,-532.5 3630,-532.5 3630,-496.5 3443,-496.5\"/>\n<text text-anchor=\"middle\" x=\"3453\" y=\"-510.8\" font-family=\"Times,serif\" font-size=\"14.00\"> </text>\n<polyline fill=\"none\" stroke=\"black\" points=\"3463,-496.5 3463,-532.5 \"/>\n<text text-anchor=\"middle\" x=\"3505.5\" y=\"-510.8\" font-family=\"Times,serif\" font-size=\"14.00\">data &#45;0.9083</text>\n<polyline fill=\"none\" stroke=\"black\" points=\"3548,-496.5 3548,-532.5 \"/>\n<text text-anchor=\"middle\" x=\"3589\" y=\"-510.8\" font-family=\"Times,serif\" font-size=\"14.00\">grad 0.0000</text>\n</g>\n<!-- 138572754480688&#45;&gt;138572754470224* -->\n<g id=\"edge124\" class=\"edge\">\n<title>138572754480688&#45;&gt;138572754470224*</title>\n<path fill=\"none\" stroke=\"black\" d=\"M3630.05,-514.5C3639.06,-514.5 3647.79,-514.5 3655.7,-514.5\"/>\n<polygon fill=\"black\" stroke=\"black\" points=\"3655.95,-518 3665.95,-514.5 3655.95,-511 3655.95,-518\"/>\n</g>\n<!-- 138572754480688tanh -->\n<g id=\"node92\" class=\"node\">\n<title>138572754480688tanh</title>\n<ellipse fill=\"none\" stroke=\"black\" cx=\"3380\" cy=\"-514.5\" rx=\"27\" ry=\"18\"/>\n<text text-anchor=\"middle\" x=\"3380\" y=\"-510.8\" font-family=\"Times,serif\" font-size=\"14.00\">tanh</text>\n</g>\n<!-- 138572754480688tanh&#45;&gt;138572754480688 -->\n<g id=\"edge32\" class=\"edge\">\n<title>138572754480688tanh&#45;&gt;138572754480688</title>\n<path fill=\"none\" stroke=\"black\" d=\"M3407.21,-514.5C3414.73,-514.5 3423.43,-514.5 3432.67,-514.5\"/>\n<polygon fill=\"black\" stroke=\"black\" points=\"3432.89,-518 3442.89,-514.5 3432.89,-511 3432.89,-518\"/>\n</g>\n<!-- 138572754472624 -->\n<g id=\"node93\" class=\"node\">\n<title>138572754472624</title>\n<polygon fill=\"none\" stroke=\"black\" points=\"1878,-440.5 1878,-476.5 2065,-476.5 2065,-440.5 1878,-440.5\"/>\n<text text-anchor=\"middle\" x=\"1888\" y=\"-454.8\" font-family=\"Times,serif\" font-size=\"14.00\"> </text>\n<polyline fill=\"none\" stroke=\"black\" points=\"1898,-440.5 1898,-476.5 \"/>\n<text text-anchor=\"middle\" x=\"1940.5\" y=\"-454.8\" font-family=\"Times,serif\" font-size=\"14.00\">data &#45;0.1547</text>\n<polyline fill=\"none\" stroke=\"black\" points=\"1983,-440.5 1983,-476.5 \"/>\n<text text-anchor=\"middle\" x=\"2024\" y=\"-454.8\" font-family=\"Times,serif\" font-size=\"14.00\">grad 0.0000</text>\n</g>\n<!-- 138572754472624&#45;&gt;138572754479344* -->\n<g id=\"edge191\" class=\"edge\">\n<title>138572754472624&#45;&gt;138572754479344*</title>\n<path fill=\"none\" stroke=\"black\" d=\"M2038.56,-476.55C2047.51,-479.36 2056.53,-482.37 2065,-485.5 2075.49,-489.38 2086.71,-494.22 2096.68,-498.78\"/>\n<polygon fill=\"black\" stroke=\"black\" points=\"2095.25,-501.98 2105.79,-503.03 2098.2,-495.63 2095.25,-501.98\"/>\n</g>\n<!-- 138572727365312 -->\n<g id=\"node94\" class=\"node\">\n<title>138572727365312</title>\n<polygon fill=\"none\" stroke=\"black\" points=\"1252,-165.5 1252,-201.5 1439,-201.5 1439,-165.5 1252,-165.5\"/>\n<text text-anchor=\"middle\" x=\"1262\" y=\"-179.8\" font-family=\"Times,serif\" font-size=\"14.00\"> </text>\n<polyline fill=\"none\" stroke=\"black\" points=\"1272,-165.5 1272,-201.5 \"/>\n<text text-anchor=\"middle\" x=\"1314.5\" y=\"-179.8\" font-family=\"Times,serif\" font-size=\"14.00\">data &#45;1.2367</text>\n<polyline fill=\"none\" stroke=\"black\" points=\"1357,-165.5 1357,-201.5 \"/>\n<text text-anchor=\"middle\" x=\"1398\" y=\"-179.8\" font-family=\"Times,serif\" font-size=\"14.00\">grad 0.0000</text>\n</g>\n<!-- 138572727365312&#45;&gt;138572727365024+ -->\n<g id=\"edge115\" class=\"edge\">\n<title>138572727365312&#45;&gt;138572727365024+</title>\n<path fill=\"none\" stroke=\"black\" d=\"M1410.02,-165.35C1419.79,-162.24 1429.71,-158.92 1439,-155.5 1449.25,-151.73 1460.23,-147.14 1470.07,-142.82\"/>\n<polygon fill=\"black\" stroke=\"black\" points=\"1471.74,-145.9 1479.45,-138.63 1468.89,-139.51 1471.74,-145.9\"/>\n</g>\n<!-- 138572727365312+ -->\n<g id=\"node95\" class=\"node\">\n<title>138572727365312+</title>\n<ellipse fill=\"none\" stroke=\"black\" cx=\"1189\" cy=\"-183.5\" rx=\"27\" ry=\"18\"/>\n<text text-anchor=\"middle\" x=\"1189\" y=\"-179.8\" font-family=\"Times,serif\" font-size=\"14.00\">+</text>\n</g>\n<!-- 138572727365312+&#45;&gt;138572727365312 -->\n<g id=\"edge33\" class=\"edge\">\n<title>138572727365312+&#45;&gt;138572727365312</title>\n<path fill=\"none\" stroke=\"black\" d=\"M1216.21,-183.5C1223.73,-183.5 1232.43,-183.5 1241.67,-183.5\"/>\n<polygon fill=\"black\" stroke=\"black\" points=\"1241.89,-187 1251.89,-183.5 1241.89,-180 1241.89,-187\"/>\n</g>\n<!-- 138572754480928 -->\n<g id=\"node96\" class=\"node\">\n<title>138572754480928</title>\n<polygon fill=\"none\" stroke=\"black\" points=\"3445.5,-386.5 3445.5,-422.5 3627.5,-422.5 3627.5,-386.5 3445.5,-386.5\"/>\n<text text-anchor=\"middle\" x=\"3455.5\" y=\"-400.8\" font-family=\"Times,serif\" font-size=\"14.00\"> </text>\n<polyline fill=\"none\" stroke=\"black\" points=\"3465.5,-386.5 3465.5,-422.5 \"/>\n<text text-anchor=\"middle\" x=\"3505.5\" y=\"-400.8\" font-family=\"Times,serif\" font-size=\"14.00\">data 0.8367</text>\n<polyline fill=\"none\" stroke=\"black\" points=\"3545.5,-386.5 3545.5,-422.5 \"/>\n<text text-anchor=\"middle\" x=\"3586.5\" y=\"-400.8\" font-family=\"Times,serif\" font-size=\"14.00\">grad 0.0000</text>\n</g>\n<!-- 138572754480928&#45;&gt;138572754469024* -->\n<g id=\"edge74\" class=\"edge\">\n<title>138572754480928&#45;&gt;138572754469024*</title>\n<path fill=\"none\" stroke=\"black\" d=\"M3601.91,-422.53C3611.37,-425.4 3620.97,-428.44 3630,-431.5 3639.82,-434.83 3650.38,-438.77 3659.95,-442.49\"/>\n<polygon fill=\"black\" stroke=\"black\" points=\"3658.91,-445.85 3669.49,-446.26 3661.47,-439.33 3658.91,-445.85\"/>\n</g>\n<!-- 138572754480928tanh -->\n<g id=\"node97\" class=\"node\">\n<title>138572754480928tanh</title>\n<ellipse fill=\"none\" stroke=\"black\" cx=\"3380\" cy=\"-404.5\" rx=\"27\" ry=\"18\"/>\n<text text-anchor=\"middle\" x=\"3380\" y=\"-400.8\" font-family=\"Times,serif\" font-size=\"14.00\">tanh</text>\n</g>\n<!-- 138572754480928tanh&#45;&gt;138572754480928 -->\n<g id=\"edge34\" class=\"edge\">\n<title>138572754480928tanh&#45;&gt;138572754480928</title>\n<path fill=\"none\" stroke=\"black\" d=\"M3407.21,-404.5C3415.34,-404.5 3424.85,-404.5 3434.94,-404.5\"/>\n<polygon fill=\"black\" stroke=\"black\" points=\"3435.19,-408 3445.19,-404.5 3435.19,-401 3435.19,-408\"/>\n</g>\n<!-- 138572727365456 -->\n<g id=\"node98\" class=\"node\">\n<title>138572727365456</title>\n<polygon fill=\"none\" stroke=\"black\" points=\"1567.5,-55.5 1567.5,-91.5 1749.5,-91.5 1749.5,-55.5 1567.5,-55.5\"/>\n<text text-anchor=\"middle\" x=\"1577.5\" y=\"-69.8\" font-family=\"Times,serif\" font-size=\"14.00\"> </text>\n<polyline fill=\"none\" stroke=\"black\" points=\"1587.5,-55.5 1587.5,-91.5 \"/>\n<text text-anchor=\"middle\" x=\"1627.5\" y=\"-69.8\" font-family=\"Times,serif\" font-size=\"14.00\">data 0.5245</text>\n<polyline fill=\"none\" stroke=\"black\" points=\"1667.5,-55.5 1667.5,-91.5 \"/>\n<text text-anchor=\"middle\" x=\"1708.5\" y=\"-69.8\" font-family=\"Times,serif\" font-size=\"14.00\">grad 0.0000</text>\n</g>\n<!-- 138572727365456&#45;&gt;138572727364496+ -->\n<g id=\"edge210\" class=\"edge\">\n<title>138572727365456&#45;&gt;138572727364496+</title>\n<path fill=\"none\" stroke=\"black\" d=\"M1725.56,-91.55C1734.51,-94.36 1743.53,-97.37 1752,-100.5 1762.49,-104.38 1773.71,-109.22 1783.68,-113.78\"/>\n<polygon fill=\"black\" stroke=\"black\" points=\"1782.25,-116.98 1792.79,-118.03 1785.2,-110.63 1782.25,-116.98\"/>\n</g>\n<!-- 138572727365456* -->\n<g id=\"node99\" class=\"node\">\n<title>138572727365456*</title>\n<ellipse fill=\"none\" stroke=\"black\" cx=\"1502\" cy=\"-73.5\" rx=\"27\" ry=\"18\"/>\n<text text-anchor=\"middle\" x=\"1502\" y=\"-69.8\" font-family=\"Times,serif\" font-size=\"14.00\">*</text>\n</g>\n<!-- 138572727365456*&#45;&gt;138572727365456 -->\n<g id=\"edge35\" class=\"edge\">\n<title>138572727365456*&#45;&gt;138572727365456</title>\n<path fill=\"none\" stroke=\"black\" d=\"M1529.21,-73.5C1537.34,-73.5 1546.85,-73.5 1556.94,-73.5\"/>\n<polygon fill=\"black\" stroke=\"black\" points=\"1557.19,-77 1567.19,-73.5 1557.19,-70 1557.19,-77\"/>\n</g>\n<!-- 138572727365504 -->\n<g id=\"node100\" class=\"node\">\n<title>138572727365504</title>\n<polygon fill=\"none\" stroke=\"black\" points=\"1252,-0.5 1252,-36.5 1439,-36.5 1439,-0.5 1252,-0.5\"/>\n<text text-anchor=\"middle\" x=\"1262\" y=\"-14.8\" font-family=\"Times,serif\" font-size=\"14.00\"> </text>\n<polyline fill=\"none\" stroke=\"black\" points=\"1272,-0.5 1272,-36.5 \"/>\n<text text-anchor=\"middle\" x=\"1314.5\" y=\"-14.8\" font-family=\"Times,serif\" font-size=\"14.00\">data &#45;1.0000</text>\n<polyline fill=\"none\" stroke=\"black\" points=\"1357,-0.5 1357,-36.5 \"/>\n<text text-anchor=\"middle\" x=\"1398\" y=\"-14.8\" font-family=\"Times,serif\" font-size=\"14.00\">grad 0.0000</text>\n</g>\n<!-- 138572727365504&#45;&gt;138572727365456* -->\n<g id=\"edge103\" class=\"edge\">\n<title>138572727365504&#45;&gt;138572727365456*</title>\n<path fill=\"none\" stroke=\"black\" d=\"M1412.56,-36.55C1421.51,-39.36 1430.53,-42.37 1439,-45.5 1449.49,-49.38 1460.71,-54.22 1470.68,-58.78\"/>\n<polygon fill=\"black\" stroke=\"black\" points=\"1469.25,-61.98 1479.79,-63.03 1472.2,-55.63 1469.25,-61.98\"/>\n</g>\n<!-- 138572754473056 -->\n<g id=\"node101\" class=\"node\">\n<title>138572754473056</title>\n<polygon fill=\"none\" stroke=\"black\" points=\"4813,-433.5 4813,-469.5 4995,-469.5 4995,-433.5 4813,-433.5\"/>\n<text text-anchor=\"middle\" x=\"4823\" y=\"-447.8\" font-family=\"Times,serif\" font-size=\"14.00\"> </text>\n<polyline fill=\"none\" stroke=\"black\" points=\"4833,-433.5 4833,-469.5 \"/>\n<text text-anchor=\"middle\" x=\"4873\" y=\"-447.8\" font-family=\"Times,serif\" font-size=\"14.00\">data 1.6768</text>\n<polyline fill=\"none\" stroke=\"black\" points=\"4913,-433.5 4913,-469.5 \"/>\n<text text-anchor=\"middle\" x=\"4954\" y=\"-447.8\" font-family=\"Times,serif\" font-size=\"14.00\">grad 0.0000</text>\n</g>\n<!-- 138572754473056&#45;&gt;138572754470512+ -->\n<g id=\"edge110\" class=\"edge\">\n<title>138572754473056&#45;&gt;138572754470512+</title>\n<path fill=\"none\" stroke=\"black\" d=\"M4995.18,-434.89C5004.61,-433.15 5013.75,-431.47 5021.98,-429.95\"/>\n<polygon fill=\"black\" stroke=\"black\" points=\"5022.66,-433.39 5031.86,-428.13 5021.39,-426.5 5022.66,-433.39\"/>\n</g>\n<!-- 138572754473056+&#45;&gt;138572754473056 -->\n<g id=\"edge36\" class=\"edge\">\n<title>138572754473056+&#45;&gt;138572754473056</title>\n<path fill=\"none\" stroke=\"black\" d=\"M4777.13,-454.81C4784.67,-454.61 4793.39,-454.38 4802.64,-454.14\"/>\n<polygon fill=\"black\" stroke=\"black\" points=\"4802.96,-457.63 4812.87,-453.87 4802.78,-450.64 4802.96,-457.63\"/>\n</g>\n<!-- 138572754481360 -->\n<g id=\"node103\" class=\"node\">\n<title>138572754481360</title>\n<polygon fill=\"none\" stroke=\"black\" points=\"2506.5,-276.5 2506.5,-312.5 2688.5,-312.5 2688.5,-276.5 2506.5,-276.5\"/>\n<text text-anchor=\"middle\" x=\"2516.5\" y=\"-290.8\" font-family=\"Times,serif\" font-size=\"14.00\"> </text>\n<polyline fill=\"none\" stroke=\"black\" points=\"2526.5,-276.5 2526.5,-312.5 \"/>\n<text text-anchor=\"middle\" x=\"2566.5\" y=\"-290.8\" font-family=\"Times,serif\" font-size=\"14.00\">data 0.4853</text>\n<polyline fill=\"none\" stroke=\"black\" points=\"2606.5,-276.5 2606.5,-312.5 \"/>\n<text text-anchor=\"middle\" x=\"2647.5\" y=\"-290.8\" font-family=\"Times,serif\" font-size=\"14.00\">grad 0.0000</text>\n</g>\n<!-- 138572754481360&#45;&gt;138572754478288+ -->\n<g id=\"edge181\" class=\"edge\">\n<title>138572754481360&#45;&gt;138572754478288+</title>\n<path fill=\"none\" stroke=\"black\" d=\"M2688.82,-294.5C2698.57,-294.5 2708.04,-294.5 2716.57,-294.5\"/>\n<polygon fill=\"black\" stroke=\"black\" points=\"2716.83,-298 2726.83,-294.5 2716.83,-291 2716.83,-298\"/>\n</g>\n<!-- 138572754481360+&#45;&gt;138572754481360 -->\n<g id=\"edge37\" class=\"edge\">\n<title>138572754481360+&#45;&gt;138572754481360</title>\n<path fill=\"none\" stroke=\"black\" d=\"M2468.21,-294.5C2476.34,-294.5 2485.85,-294.5 2495.94,-294.5\"/>\n<polygon fill=\"black\" stroke=\"black\" points=\"2496.19,-298 2506.19,-294.5 2496.19,-291 2496.19,-298\"/>\n</g>\n<!-- 138572727365840 -->\n<g id=\"node105\" class=\"node\">\n<title>138572727365840</title>\n<polygon fill=\"none\" stroke=\"black\" points=\"1878,-550.5 1878,-586.5 2065,-586.5 2065,-550.5 1878,-550.5\"/>\n<text text-anchor=\"middle\" x=\"1888\" y=\"-564.8\" font-family=\"Times,serif\" font-size=\"14.00\"> </text>\n<polyline fill=\"none\" stroke=\"black\" points=\"1898,-550.5 1898,-586.5 \"/>\n<text text-anchor=\"middle\" x=\"1940.5\" y=\"-564.8\" font-family=\"Times,serif\" font-size=\"14.00\">data &#45;0.8883</text>\n<polyline fill=\"none\" stroke=\"black\" points=\"1983,-550.5 1983,-586.5 \"/>\n<text text-anchor=\"middle\" x=\"2024\" y=\"-564.8\" font-family=\"Times,serif\" font-size=\"14.00\">grad 0.0000</text>\n</g>\n<!-- 138572727365840&#45;&gt;138572727363392* -->\n<g id=\"edge133\" class=\"edge\">\n<title>138572727365840&#45;&gt;138572727363392*</title>\n<path fill=\"none\" stroke=\"black\" d=\"M2052.2,-586.69C2056.83,-589.5 2061.16,-592.75 2065,-596.5 2101.52,-632.12 2075.05,-661.58 2101,-705.5 2102.15,-707.45 2103.46,-709.38 2104.86,-711.25\"/>\n<polygon fill=\"black\" stroke=\"black\" points=\"2102.3,-713.64 2111.4,-719.06 2107.66,-709.15 2102.3,-713.64\"/>\n</g>\n<!-- 138572727365840&#45;&gt;138572754479344* -->\n<g id=\"edge209\" class=\"edge\">\n<title>138572727365840&#45;&gt;138572754479344*</title>\n<path fill=\"none\" stroke=\"black\" d=\"M2036.02,-550.35C2045.79,-547.24 2055.71,-543.92 2065,-540.5 2075.25,-536.73 2086.23,-532.14 2096.07,-527.82\"/>\n<polygon fill=\"black\" stroke=\"black\" points=\"2097.74,-530.9 2105.45,-523.63 2094.89,-524.51 2097.74,-530.9\"/>\n</g>\n<!-- 138572727365840&#45;&gt;138572753747344* -->\n<g id=\"edge96\" class=\"edge\">\n<title>138572727365840&#45;&gt;138572753747344*</title>\n<path fill=\"none\" stroke=\"black\" d=\"M2048.35,-586.57C2054.24,-589.41 2059.88,-592.7 2065,-596.5 2088.16,-613.69 2083.13,-627.86 2101,-650.5 2102.4,-652.28 2103.89,-654.08 2105.42,-655.86\"/>\n<polygon fill=\"black\" stroke=\"black\" points=\"2102.96,-658.36 2112.24,-663.49 2108.18,-653.7 2102.96,-658.36\"/>\n</g>\n<!-- 138572727365840&#45;&gt;138572754476560* -->\n<g id=\"edge173\" class=\"edge\">\n<title>138572727365840&#45;&gt;138572754476560*</title>\n<path fill=\"none\" stroke=\"black\" d=\"M2050.86,-550.34C2055.93,-547.52 2060.71,-544.26 2065,-540.5 2082.29,-525.34 2105.13,-466.2 2117.71,-430.77\"/>\n<polygon fill=\"black\" stroke=\"black\" points=\"2121.11,-431.63 2121.11,-421.03 2114.51,-429.31 2121.11,-431.63\"/>\n</g>\n<!-- 138572727365840tanh -->\n<g id=\"node106\" class=\"node\">\n<title>138572727365840tanh</title>\n<ellipse fill=\"none\" stroke=\"black\" cx=\"1815\" cy=\"-568.5\" rx=\"27\" ry=\"18\"/>\n<text text-anchor=\"middle\" x=\"1815\" y=\"-564.8\" font-family=\"Times,serif\" font-size=\"14.00\">tanh</text>\n</g>\n<!-- 138572727365840tanh&#45;&gt;138572727365840 -->\n<g id=\"edge38\" class=\"edge\">\n<title>138572727365840tanh&#45;&gt;138572727365840</title>\n<path fill=\"none\" stroke=\"black\" d=\"M1842.21,-568.5C1849.73,-568.5 1858.43,-568.5 1867.67,-568.5\"/>\n<polygon fill=\"black\" stroke=\"black\" points=\"1867.89,-572 1877.89,-568.5 1867.89,-565 1867.89,-572\"/>\n</g>\n<!-- 138572754473248 -->\n<g id=\"node107\" class=\"node\">\n<title>138572754473248</title>\n<polygon fill=\"none\" stroke=\"black\" points=\"5429,-405.5 5429,-441.5 5611,-441.5 5611,-405.5 5429,-405.5\"/>\n<text text-anchor=\"middle\" x=\"5439\" y=\"-419.8\" font-family=\"Times,serif\" font-size=\"14.00\"> </text>\n<polyline fill=\"none\" stroke=\"black\" points=\"5449,-405.5 5449,-441.5 \"/>\n<text text-anchor=\"middle\" x=\"5489\" y=\"-419.8\" font-family=\"Times,serif\" font-size=\"14.00\">data 0.9388</text>\n<polyline fill=\"none\" stroke=\"black\" points=\"5529,-405.5 5529,-441.5 \"/>\n<text text-anchor=\"middle\" x=\"5570\" y=\"-419.8\" font-family=\"Times,serif\" font-size=\"14.00\">grad 0.0000</text>\n</g>\n<!-- 138572754473248tanh&#45;&gt;138572754473248 -->\n<g id=\"edge39\" class=\"edge\">\n<title>138572754473248tanh&#45;&gt;138572754473248</title>\n<path fill=\"none\" stroke=\"black\" d=\"M5393.13,-423.5C5400.67,-423.5 5409.39,-423.5 5418.64,-423.5\"/>\n<polygon fill=\"black\" stroke=\"black\" points=\"5418.87,-427 5428.87,-423.5 5418.87,-420 5418.87,-427\"/>\n</g>\n<!-- 138572754473296 -->\n<g id=\"node109\" class=\"node\">\n<title>138572754473296</title>\n<polygon fill=\"none\" stroke=\"black\" points=\"3979,-366.5 3979,-402.5 4161,-402.5 4161,-366.5 3979,-366.5\"/>\n<text text-anchor=\"middle\" x=\"3989\" y=\"-380.8\" font-family=\"Times,serif\" font-size=\"14.00\"> </text>\n<polyline fill=\"none\" stroke=\"black\" points=\"3999,-366.5 3999,-402.5 \"/>\n<text text-anchor=\"middle\" x=\"4039\" y=\"-380.8\" font-family=\"Times,serif\" font-size=\"14.00\">data 0.0512</text>\n<polyline fill=\"none\" stroke=\"black\" points=\"4079,-366.5 4079,-402.5 \"/>\n<text text-anchor=\"middle\" x=\"4120\" y=\"-380.8\" font-family=\"Times,serif\" font-size=\"14.00\">grad 0.0000</text>\n</g>\n<!-- 138572754473296&#45;&gt;138572754470512+ -->\n<g id=\"edge86\" class=\"edge\">\n<title>138572754473296&#45;&gt;138572754470512+</title>\n<path fill=\"none\" stroke=\"black\" d=\"M4161.05,-390.57C4235.94,-395.1 4345.36,-400.5 4441,-400.5 4441,-400.5 4441,-400.5 4751,-400.5 4849.05,-400.5 4964.28,-412.39 5021.3,-419.07\"/>\n<polygon fill=\"black\" stroke=\"black\" points=\"5020.91,-422.55 5031.26,-420.25 5021.74,-415.6 5020.91,-422.55\"/>\n</g>\n<!-- 138572754473296*&#45;&gt;138572754473296 -->\n<g id=\"edge40\" class=\"edge\">\n<title>138572754473296*&#45;&gt;138572754473296</title>\n<path fill=\"none\" stroke=\"black\" d=\"M3719.78,-351.91C3770.26,-356.62 3884.58,-367.29 3968.74,-375.14\"/>\n<polygon fill=\"black\" stroke=\"black\" points=\"3968.56,-378.64 3978.84,-376.09 3969.21,-371.67 3968.56,-378.64\"/>\n</g>\n<!-- 138572754481504 -->\n<g id=\"node111\" class=\"node\">\n<title>138572754481504</title>\n<polygon fill=\"none\" stroke=\"black\" points=\"2506.5,-441.5 2506.5,-477.5 2688.5,-477.5 2688.5,-441.5 2506.5,-441.5\"/>\n<text text-anchor=\"middle\" x=\"2516.5\" y=\"-455.8\" font-family=\"Times,serif\" font-size=\"14.00\"> </text>\n<polyline fill=\"none\" stroke=\"black\" points=\"2526.5,-441.5 2526.5,-477.5 \"/>\n<text text-anchor=\"middle\" x=\"2566.5\" y=\"-455.8\" font-family=\"Times,serif\" font-size=\"14.00\">data 0.5867</text>\n<polyline fill=\"none\" stroke=\"black\" points=\"2606.5,-441.5 2606.5,-477.5 \"/>\n<text text-anchor=\"middle\" x=\"2647.5\" y=\"-455.8\" font-family=\"Times,serif\" font-size=\"14.00\">grad 0.0000</text>\n</g>\n<!-- 138572754476800* -->\n<g id=\"node197\" class=\"node\">\n<title>138572754476800*</title>\n<ellipse fill=\"none\" stroke=\"black\" cx=\"2754\" cy=\"-486.5\" rx=\"27\" ry=\"18\"/>\n<text text-anchor=\"middle\" x=\"2754\" y=\"-482.8\" font-family=\"Times,serif\" font-size=\"14.00\">*</text>\n</g>\n<!-- 138572754481504&#45;&gt;138572754476800* -->\n<g id=\"edge155\" class=\"edge\">\n<title>138572754481504&#45;&gt;138572754476800*</title>\n<path fill=\"none\" stroke=\"black\" d=\"M2688.82,-475.28C2699.07,-477.08 2709.01,-478.81 2717.88,-480.36\"/>\n<polygon fill=\"black\" stroke=\"black\" points=\"2717.3,-483.81 2727.75,-482.09 2718.5,-476.92 2717.3,-483.81\"/>\n</g>\n<!-- 138572727365984 -->\n<g id=\"node112\" class=\"node\">\n<title>138572727365984</title>\n<polygon fill=\"none\" stroke=\"black\" points=\"1565,-550.5 1565,-586.5 1752,-586.5 1752,-550.5 1565,-550.5\"/>\n<text text-anchor=\"middle\" x=\"1575\" y=\"-564.8\" font-family=\"Times,serif\" font-size=\"14.00\"> </text>\n<polyline fill=\"none\" stroke=\"black\" points=\"1585,-550.5 1585,-586.5 \"/>\n<text text-anchor=\"middle\" x=\"1627.5\" y=\"-564.8\" font-family=\"Times,serif\" font-size=\"14.00\">data &#45;1.4138</text>\n<polyline fill=\"none\" stroke=\"black\" points=\"1670,-550.5 1670,-586.5 \"/>\n<text text-anchor=\"middle\" x=\"1711\" y=\"-564.8\" font-family=\"Times,serif\" font-size=\"14.00\">grad 0.0000</text>\n</g>\n<!-- 138572727365984&#45;&gt;138572727365840tanh -->\n<g id=\"edge153\" class=\"edge\">\n<title>138572727365984&#45;&gt;138572727365840tanh</title>\n<path fill=\"none\" stroke=\"black\" d=\"M1752.05,-568.5C1761.06,-568.5 1769.79,-568.5 1777.7,-568.5\"/>\n<polygon fill=\"black\" stroke=\"black\" points=\"1777.95,-572 1787.95,-568.5 1777.95,-565 1777.95,-572\"/>\n</g>\n<!-- 138572727365984+ -->\n<g id=\"node113\" class=\"node\">\n<title>138572727365984+</title>\n<ellipse fill=\"none\" stroke=\"black\" cx=\"1502\" cy=\"-568.5\" rx=\"27\" ry=\"18\"/>\n<text text-anchor=\"middle\" x=\"1502\" y=\"-564.8\" font-family=\"Times,serif\" font-size=\"14.00\">+</text>\n</g>\n<!-- 138572727365984+&#45;&gt;138572727365984 -->\n<g id=\"edge41\" class=\"edge\">\n<title>138572727365984+&#45;&gt;138572727365984</title>\n<path fill=\"none\" stroke=\"black\" d=\"M1529.21,-568.5C1536.73,-568.5 1545.43,-568.5 1554.67,-568.5\"/>\n<polygon fill=\"black\" stroke=\"black\" points=\"1554.89,-572 1564.89,-568.5 1554.89,-565 1554.89,-572\"/>\n</g>\n<!-- 138572754481552 -->\n<g id=\"node114\" class=\"node\">\n<title>138572754481552</title>\n<polygon fill=\"none\" stroke=\"black\" points=\"2193.5,-110.5 2193.5,-146.5 2375.5,-146.5 2375.5,-110.5 2193.5,-110.5\"/>\n<text text-anchor=\"middle\" x=\"2203.5\" y=\"-124.8\" font-family=\"Times,serif\" font-size=\"14.00\"> </text>\n<polyline fill=\"none\" stroke=\"black\" points=\"2213.5,-110.5 2213.5,-146.5 \"/>\n<text text-anchor=\"middle\" x=\"2253.5\" y=\"-124.8\" font-family=\"Times,serif\" font-size=\"14.00\">data 0.4003</text>\n<polyline fill=\"none\" stroke=\"black\" points=\"2293.5,-110.5 2293.5,-146.5 \"/>\n<text text-anchor=\"middle\" x=\"2334.5\" y=\"-124.8\" font-family=\"Times,serif\" font-size=\"14.00\">grad 0.0000</text>\n</g>\n<!-- 138572754481552&#45;&gt;138572754479776* -->\n<g id=\"edge183\" class=\"edge\">\n<title>138572754481552&#45;&gt;138572754479776*</title>\n<path fill=\"none\" stroke=\"black\" d=\"M2352.1,-146.6C2360.88,-149.38 2369.7,-152.37 2378,-155.5 2388.62,-159.51 2399.94,-164.56 2409.96,-169.32\"/>\n<polygon fill=\"black\" stroke=\"black\" points=\"2408.59,-172.54 2419.11,-173.75 2411.64,-166.24 2408.59,-172.54\"/>\n</g>\n<!-- 138572727366080 -->\n<g id=\"node115\" class=\"node\">\n<title>138572727366080</title>\n<polygon fill=\"none\" stroke=\"black\" points=\"1254.5,-550.5 1254.5,-586.5 1436.5,-586.5 1436.5,-550.5 1254.5,-550.5\"/>\n<text text-anchor=\"middle\" x=\"1264.5\" y=\"-564.8\" font-family=\"Times,serif\" font-size=\"14.00\"> </text>\n<polyline fill=\"none\" stroke=\"black\" points=\"1274.5,-550.5 1274.5,-586.5 \"/>\n<text text-anchor=\"middle\" x=\"1314.5\" y=\"-564.8\" font-family=\"Times,serif\" font-size=\"14.00\">data 0.2618</text>\n<polyline fill=\"none\" stroke=\"black\" points=\"1354.5,-550.5 1354.5,-586.5 \"/>\n<text text-anchor=\"middle\" x=\"1395.5\" y=\"-564.8\" font-family=\"Times,serif\" font-size=\"14.00\">grad 0.0000</text>\n</g>\n<!-- 138572727366080&#45;&gt;138572727365984+ -->\n<g id=\"edge175\" class=\"edge\">\n<title>138572727366080&#45;&gt;138572727365984+</title>\n<path fill=\"none\" stroke=\"black\" d=\"M1436.82,-568.5C1446.57,-568.5 1456.04,-568.5 1464.57,-568.5\"/>\n<polygon fill=\"black\" stroke=\"black\" points=\"1464.83,-572 1474.83,-568.5 1464.83,-565 1464.83,-572\"/>\n</g>\n<!-- 138572727366080*&#45;&gt;138572727366080 -->\n<g id=\"edge42\" class=\"edge\">\n<title>138572727366080*&#45;&gt;138572727366080</title>\n<path fill=\"none\" stroke=\"black\" d=\"M1216.21,-568.5C1224.34,-568.5 1233.85,-568.5 1243.94,-568.5\"/>\n<polygon fill=\"black\" stroke=\"black\" points=\"1244.19,-572 1254.19,-568.5 1244.19,-565 1244.19,-572\"/>\n</g>\n<!-- 138572727366176 -->\n<g id=\"node117\" class=\"node\">\n<title>138572727366176</title>\n<polygon fill=\"none\" stroke=\"black\" points=\"939,-660.5 939,-696.5 1126,-696.5 1126,-660.5 939,-660.5\"/>\n<text text-anchor=\"middle\" x=\"949\" y=\"-674.8\" font-family=\"Times,serif\" font-size=\"14.00\"> </text>\n<polyline fill=\"none\" stroke=\"black\" points=\"959,-660.5 959,-696.5 \"/>\n<text text-anchor=\"middle\" x=\"1001.5\" y=\"-674.8\" font-family=\"Times,serif\" font-size=\"14.00\">data &#45;1.5125</text>\n<polyline fill=\"none\" stroke=\"black\" points=\"1044,-660.5 1044,-696.5 \"/>\n<text text-anchor=\"middle\" x=\"1085\" y=\"-674.8\" font-family=\"Times,serif\" font-size=\"14.00\">grad 0.0000</text>\n</g>\n<!-- 138572727366464+ -->\n<g id=\"node122\" class=\"node\">\n<title>138572727366464+</title>\n<ellipse fill=\"none\" stroke=\"black\" cx=\"1189\" cy=\"-623.5\" rx=\"27\" ry=\"18\"/>\n<text text-anchor=\"middle\" x=\"1189\" y=\"-619.8\" font-family=\"Times,serif\" font-size=\"14.00\">+</text>\n</g>\n<!-- 138572727366176&#45;&gt;138572727366464+ -->\n<g id=\"edge114\" class=\"edge\">\n<title>138572727366176&#45;&gt;138572727366464+</title>\n<path fill=\"none\" stroke=\"black\" d=\"M1099.56,-660.45C1108.51,-657.64 1117.53,-654.63 1126,-651.5 1136.49,-647.62 1147.71,-642.78 1157.68,-638.22\"/>\n<polygon fill=\"black\" stroke=\"black\" points=\"1159.2,-641.37 1166.79,-633.97 1156.25,-635.02 1159.2,-641.37\"/>\n</g>\n<!-- 138572727366176*&#45;&gt;138572727366176 -->\n<g id=\"edge43\" class=\"edge\">\n<title>138572727366176*&#45;&gt;138572727366176</title>\n<path fill=\"none\" stroke=\"black\" d=\"M903.21,-678.5C910.73,-678.5 919.43,-678.5 928.67,-678.5\"/>\n<polygon fill=\"black\" stroke=\"black\" points=\"928.89,-682 938.89,-678.5 928.89,-675 928.89,-682\"/>\n</g>\n<!-- 138572754473536 -->\n<g id=\"node119\" class=\"node\">\n<title>138572754473536</title>\n<polygon fill=\"none\" stroke=\"black\" points=\"1565,-660.5 1565,-696.5 1752,-696.5 1752,-660.5 1565,-660.5\"/>\n<text text-anchor=\"middle\" x=\"1575\" y=\"-674.8\" font-family=\"Times,serif\" font-size=\"14.00\"> </text>\n<polyline fill=\"none\" stroke=\"black\" points=\"1585,-660.5 1585,-696.5 \"/>\n<text text-anchor=\"middle\" x=\"1627.5\" y=\"-674.8\" font-family=\"Times,serif\" font-size=\"14.00\">data &#45;0.5051</text>\n<polyline fill=\"none\" stroke=\"black\" points=\"1670,-660.5 1670,-696.5 \"/>\n<text text-anchor=\"middle\" x=\"1711\" y=\"-674.8\" font-family=\"Times,serif\" font-size=\"14.00\">grad 0.0000</text>\n</g>\n<!-- 138572727367040* -->\n<g id=\"node128\" class=\"node\">\n<title>138572727367040*</title>\n<ellipse fill=\"none\" stroke=\"black\" cx=\"1815\" cy=\"-678.5\" rx=\"27\" ry=\"18\"/>\n<text text-anchor=\"middle\" x=\"1815\" y=\"-674.8\" font-family=\"Times,serif\" font-size=\"14.00\">*</text>\n</g>\n<!-- 138572754473536&#45;&gt;138572727367040* -->\n<g id=\"edge160\" class=\"edge\">\n<title>138572754473536&#45;&gt;138572727367040*</title>\n<path fill=\"none\" stroke=\"black\" d=\"M1752.05,-678.5C1761.06,-678.5 1769.79,-678.5 1777.7,-678.5\"/>\n<polygon fill=\"black\" stroke=\"black\" points=\"1777.95,-682 1787.95,-678.5 1777.95,-675 1777.95,-682\"/>\n</g>\n<!-- 138572727366224 -->\n<g id=\"node120\" class=\"node\">\n<title>138572727366224</title>\n<polygon fill=\"none\" stroke=\"black\" points=\"628.5,-660.5 628.5,-696.5 810.5,-696.5 810.5,-660.5 628.5,-660.5\"/>\n<text text-anchor=\"middle\" x=\"638.5\" y=\"-674.8\" font-family=\"Times,serif\" font-size=\"14.00\"> </text>\n<polyline fill=\"none\" stroke=\"black\" points=\"648.5,-660.5 648.5,-696.5 \"/>\n<text text-anchor=\"middle\" x=\"688.5\" y=\"-674.8\" font-family=\"Times,serif\" font-size=\"14.00\">data 3.0000</text>\n<polyline fill=\"none\" stroke=\"black\" points=\"728.5,-660.5 728.5,-696.5 \"/>\n<text text-anchor=\"middle\" x=\"769.5\" y=\"-674.8\" font-family=\"Times,serif\" font-size=\"14.00\">grad 0.0000</text>\n</g>\n<!-- 138572727366224&#45;&gt;138572727366176* -->\n<g id=\"edge130\" class=\"edge\">\n<title>138572727366224&#45;&gt;138572727366176*</title>\n<path fill=\"none\" stroke=\"black\" d=\"M810.82,-678.5C820.57,-678.5 830.04,-678.5 838.57,-678.5\"/>\n<polygon fill=\"black\" stroke=\"black\" points=\"838.83,-682 848.83,-678.5 838.83,-675 838.83,-682\"/>\n</g>\n<!-- 138572727366464 -->\n<g id=\"node121\" class=\"node\">\n<title>138572727366464</title>\n<polygon fill=\"none\" stroke=\"black\" points=\"1252,-605.5 1252,-641.5 1439,-641.5 1439,-605.5 1252,-605.5\"/>\n<text text-anchor=\"middle\" x=\"1262\" y=\"-619.8\" font-family=\"Times,serif\" font-size=\"14.00\"> </text>\n<polyline fill=\"none\" stroke=\"black\" points=\"1272,-605.5 1272,-641.5 \"/>\n<text text-anchor=\"middle\" x=\"1314.5\" y=\"-619.8\" font-family=\"Times,serif\" font-size=\"14.00\">data &#45;1.6756</text>\n<polyline fill=\"none\" stroke=\"black\" points=\"1357,-605.5 1357,-641.5 \"/>\n<text text-anchor=\"middle\" x=\"1398\" y=\"-619.8\" font-family=\"Times,serif\" font-size=\"14.00\">grad 0.0000</text>\n</g>\n<!-- 138572727366464&#45;&gt;138572727365984+ -->\n<g id=\"edge208\" class=\"edge\">\n<title>138572727366464&#45;&gt;138572727365984+</title>\n<path fill=\"none\" stroke=\"black\" d=\"M1412.56,-605.45C1421.51,-602.64 1430.53,-599.63 1439,-596.5 1449.49,-592.62 1460.71,-587.78 1470.68,-583.22\"/>\n<polygon fill=\"black\" stroke=\"black\" points=\"1472.2,-586.37 1479.79,-578.97 1469.25,-580.02 1472.2,-586.37\"/>\n</g>\n<!-- 138572727366464+&#45;&gt;138572727366464 -->\n<g id=\"edge44\" class=\"edge\">\n<title>138572727366464+&#45;&gt;138572727366464</title>\n<path fill=\"none\" stroke=\"black\" d=\"M1216.21,-623.5C1223.73,-623.5 1232.43,-623.5 1241.67,-623.5\"/>\n<polygon fill=\"black\" stroke=\"black\" points=\"1241.89,-627 1251.89,-623.5 1241.89,-620 1241.89,-627\"/>\n</g>\n<!-- 138572727366704 -->\n<g id=\"node123\" class=\"node\">\n<title>138572727366704</title>\n<polygon fill=\"none\" stroke=\"black\" points=\"2506.5,-661.5 2506.5,-697.5 2688.5,-697.5 2688.5,-661.5 2506.5,-661.5\"/>\n<text text-anchor=\"middle\" x=\"2516.5\" y=\"-675.8\" font-family=\"Times,serif\" font-size=\"14.00\"> </text>\n<polyline fill=\"none\" stroke=\"black\" points=\"2526.5,-661.5 2526.5,-697.5 \"/>\n<text text-anchor=\"middle\" x=\"2566.5\" y=\"-675.8\" font-family=\"Times,serif\" font-size=\"14.00\">data 0.1844</text>\n<polyline fill=\"none\" stroke=\"black\" points=\"2606.5,-661.5 2606.5,-697.5 \"/>\n<text text-anchor=\"middle\" x=\"2647.5\" y=\"-675.8\" font-family=\"Times,serif\" font-size=\"14.00\">grad 0.0000</text>\n</g>\n<!-- 138572727366704&#45;&gt;138572727360848+ -->\n<g id=\"edge119\" class=\"edge\">\n<title>138572727366704&#45;&gt;138572727360848+</title>\n<path fill=\"none\" stroke=\"black\" d=\"M2688.82,-679.5C2698.57,-679.5 2708.04,-679.5 2716.57,-679.5\"/>\n<polygon fill=\"black\" stroke=\"black\" points=\"2716.83,-683 2726.83,-679.5 2716.83,-676 2716.83,-683\"/>\n</g>\n<!-- 138572727366704+&#45;&gt;138572727366704 -->\n<g id=\"edge45\" class=\"edge\">\n<title>138572727366704+&#45;&gt;138572727366704</title>\n<path fill=\"none\" stroke=\"black\" d=\"M2463.88,-723.68C2475.65,-718.55 2490.49,-712.36 2504,-707.5 2510.36,-705.21 2517.02,-702.95 2523.71,-700.76\"/>\n<polygon fill=\"black\" stroke=\"black\" points=\"2525.07,-704 2533.52,-697.61 2522.93,-697.33 2525.07,-704\"/>\n</g>\n<!-- 138572727366848 -->\n<g id=\"node125\" class=\"node\">\n<title>138572727366848</title>\n<polygon fill=\"none\" stroke=\"black\" points=\"2191,-865.5 2191,-901.5 2378,-901.5 2378,-865.5 2191,-865.5\"/>\n<text text-anchor=\"middle\" x=\"2201\" y=\"-879.8\" font-family=\"Times,serif\" font-size=\"14.00\"> </text>\n<polyline fill=\"none\" stroke=\"black\" points=\"2211,-865.5 2211,-901.5 \"/>\n<text text-anchor=\"middle\" x=\"2253.5\" y=\"-879.8\" font-family=\"Times,serif\" font-size=\"14.00\">data &#45;0.6207</text>\n<polyline fill=\"none\" stroke=\"black\" points=\"2296,-865.5 2296,-901.5 \"/>\n<text text-anchor=\"middle\" x=\"2337\" y=\"-879.8\" font-family=\"Times,serif\" font-size=\"14.00\">grad 0.0000</text>\n</g>\n<!-- 138572727366848&#45;&gt;138572727366704+ -->\n<g id=\"edge116\" class=\"edge\">\n<title>138572727366848&#45;&gt;138572727366704+</title>\n<path fill=\"none\" stroke=\"black\" d=\"M2343.94,-865.41C2356.15,-859.76 2368.26,-852.55 2378,-843.5 2403.33,-819.95 2396.72,-804.47 2414,-774.5 2417.02,-769.26 2420.39,-763.74 2423.68,-758.5\"/>\n<polygon fill=\"black\" stroke=\"black\" points=\"2426.63,-760.38 2429.05,-750.06 2420.73,-756.62 2426.63,-760.38\"/>\n</g>\n<!-- 138572727366848+&#45;&gt;138572727366848 -->\n<g id=\"edge46\" class=\"edge\">\n<title>138572727366848+&#45;&gt;138572727366848</title>\n<path fill=\"none\" stroke=\"black\" d=\"M2155.21,-889.31C2162.73,-888.97 2171.43,-888.58 2180.67,-888.16\"/>\n<polygon fill=\"black\" stroke=\"black\" points=\"2181.06,-891.65 2190.89,-887.7 2180.74,-884.65 2181.06,-891.65\"/>\n</g>\n<!-- 138572727367040 -->\n<g id=\"node127\" class=\"node\">\n<title>138572727367040</title>\n<polygon fill=\"none\" stroke=\"black\" points=\"1878,-770.5 1878,-806.5 2065,-806.5 2065,-770.5 1878,-770.5\"/>\n<text text-anchor=\"middle\" x=\"1888\" y=\"-784.8\" font-family=\"Times,serif\" font-size=\"14.00\"> </text>\n<polyline fill=\"none\" stroke=\"black\" points=\"1898,-770.5 1898,-806.5 \"/>\n<text text-anchor=\"middle\" x=\"1940.5\" y=\"-784.8\" font-family=\"Times,serif\" font-size=\"14.00\">data &#45;0.5003</text>\n<polyline fill=\"none\" stroke=\"black\" points=\"1983,-770.5 1983,-806.5 \"/>\n<text text-anchor=\"middle\" x=\"2024\" y=\"-784.8\" font-family=\"Times,serif\" font-size=\"14.00\">grad 0.0000</text>\n</g>\n<!-- 138572727367040&#45;&gt;138572727366848+ -->\n<g id=\"edge101\" class=\"edge\">\n<title>138572727367040&#45;&gt;138572727366848+</title>\n<path fill=\"none\" stroke=\"black\" d=\"M2047.15,-806.5C2053.43,-809.37 2059.48,-812.68 2065,-816.5 2086.63,-831.48 2083.85,-843.55 2101,-863.5 2102.3,-865.02 2103.67,-866.56 2105.07,-868.1\"/>\n<polygon fill=\"black\" stroke=\"black\" points=\"2102.73,-870.73 2112.12,-875.64 2107.84,-865.95 2102.73,-870.73\"/>\n</g>\n<!-- 138572727367040*&#45;&gt;138572727367040 -->\n<g id=\"edge47\" class=\"edge\">\n<title>138572727367040*&#45;&gt;138572727367040</title>\n<path fill=\"none\" stroke=\"black\" d=\"M1824.32,-695.41C1834.46,-714.27 1853.32,-744.38 1878,-761.5 1880.1,-762.96 1882.29,-764.34 1884.53,-765.65\"/>\n<polygon fill=\"black\" stroke=\"black\" points=\"1882.99,-768.79 1893.47,-770.34 1886.24,-762.59 1882.99,-768.79\"/>\n</g>\n<!-- 138572727367184 -->\n<g id=\"node129\" class=\"node\">\n<title>138572727367184</title>\n<polygon fill=\"none\" stroke=\"black\" points=\"939,-495.5 939,-531.5 1126,-531.5 1126,-495.5 939,-495.5\"/>\n<text text-anchor=\"middle\" x=\"949\" y=\"-509.8\" font-family=\"Times,serif\" font-size=\"14.00\"> </text>\n<polyline fill=\"none\" stroke=\"black\" points=\"959,-495.5 959,-531.5 \"/>\n<text text-anchor=\"middle\" x=\"1001.5\" y=\"-509.8\" font-family=\"Times,serif\" font-size=\"14.00\">data &#45;1.0000</text>\n<polyline fill=\"none\" stroke=\"black\" points=\"1044,-495.5 1044,-531.5 \"/>\n<text text-anchor=\"middle\" x=\"1085\" y=\"-509.8\" font-family=\"Times,serif\" font-size=\"14.00\">grad 0.0000</text>\n</g>\n<!-- 138572727367184&#45;&gt;138572727366080* -->\n<g id=\"edge127\" class=\"edge\">\n<title>138572727367184&#45;&gt;138572727366080*</title>\n<path fill=\"none\" stroke=\"black\" d=\"M1099.56,-531.55C1108.51,-534.36 1117.53,-537.37 1126,-540.5 1136.49,-544.38 1147.71,-549.22 1157.68,-553.78\"/>\n<polygon fill=\"black\" stroke=\"black\" points=\"1156.25,-556.98 1166.79,-558.03 1159.2,-550.63 1156.25,-556.98\"/>\n</g>\n<!-- 138572727367280 -->\n<g id=\"node130\" class=\"node\">\n<title>138572727367280</title>\n<polygon fill=\"none\" stroke=\"black\" points=\"939,-605.5 939,-641.5 1126,-641.5 1126,-605.5 939,-605.5\"/>\n<text text-anchor=\"middle\" x=\"949\" y=\"-619.8\" font-family=\"Times,serif\" font-size=\"14.00\"> </text>\n<polyline fill=\"none\" stroke=\"black\" points=\"959,-605.5 959,-641.5 \"/>\n<text text-anchor=\"middle\" x=\"1001.5\" y=\"-619.8\" font-family=\"Times,serif\" font-size=\"14.00\">data &#45;0.1631</text>\n<polyline fill=\"none\" stroke=\"black\" points=\"1044,-605.5 1044,-641.5 \"/>\n<text text-anchor=\"middle\" x=\"1085\" y=\"-619.8\" font-family=\"Times,serif\" font-size=\"14.00\">grad 0.0000</text>\n</g>\n<!-- 138572727367280&#45;&gt;138572727366464+ -->\n<g id=\"edge207\" class=\"edge\">\n<title>138572727367280&#45;&gt;138572727366464+</title>\n<path fill=\"none\" stroke=\"black\" d=\"M1126.05,-623.5C1135.06,-623.5 1143.79,-623.5 1151.7,-623.5\"/>\n<polygon fill=\"black\" stroke=\"black\" points=\"1151.95,-627 1161.95,-623.5 1151.95,-620 1151.95,-627\"/>\n</g>\n<!-- 138572727367280+&#45;&gt;138572727367280 -->\n<g id=\"edge48\" class=\"edge\">\n<title>138572727367280+&#45;&gt;138572727367280</title>\n<path fill=\"none\" stroke=\"black\" d=\"M903.21,-623.5C910.73,-623.5 919.43,-623.5 928.67,-623.5\"/>\n<polygon fill=\"black\" stroke=\"black\" points=\"928.89,-627 938.89,-623.5 928.89,-620 928.89,-627\"/>\n</g>\n<!-- 138572727367568 -->\n<g id=\"node132\" class=\"node\">\n<title>138572727367568</title>\n<polygon fill=\"none\" stroke=\"black\" points=\"939,-220.5 939,-256.5 1126,-256.5 1126,-220.5 939,-220.5\"/>\n<text text-anchor=\"middle\" x=\"949\" y=\"-234.8\" font-family=\"Times,serif\" font-size=\"14.00\"> </text>\n<polyline fill=\"none\" stroke=\"black\" points=\"959,-220.5 959,-256.5 \"/>\n<text text-anchor=\"middle\" x=\"1001.5\" y=\"-234.8\" font-family=\"Times,serif\" font-size=\"14.00\">data &#45;0.7709</text>\n<polyline fill=\"none\" stroke=\"black\" points=\"1044,-220.5 1044,-256.5 \"/>\n<text text-anchor=\"middle\" x=\"1085\" y=\"-234.8\" font-family=\"Times,serif\" font-size=\"14.00\">grad 0.0000</text>\n</g>\n<!-- 138572727367568&#45;&gt;138572727365312+ -->\n<g id=\"edge149\" class=\"edge\">\n<title>138572727367568&#45;&gt;138572727365312+</title>\n<path fill=\"none\" stroke=\"black\" d=\"M1097.02,-220.35C1106.79,-217.24 1116.71,-213.92 1126,-210.5 1136.25,-206.73 1147.23,-202.14 1157.07,-197.82\"/>\n<polygon fill=\"black\" stroke=\"black\" points=\"1158.74,-200.9 1166.45,-193.63 1155.89,-194.51 1158.74,-200.9\"/>\n</g>\n<!-- 138572727367568* -->\n<g id=\"node133\" class=\"node\">\n<title>138572727367568*</title>\n<ellipse fill=\"none\" stroke=\"black\" cx=\"876\" cy=\"-238.5\" rx=\"27\" ry=\"18\"/>\n<text text-anchor=\"middle\" x=\"876\" y=\"-234.8\" font-family=\"Times,serif\" font-size=\"14.00\">*</text>\n</g>\n<!-- 138572727367568*&#45;&gt;138572727367568 -->\n<g id=\"edge49\" class=\"edge\">\n<title>138572727367568*&#45;&gt;138572727367568</title>\n<path fill=\"none\" stroke=\"black\" d=\"M903.21,-238.5C910.73,-238.5 919.43,-238.5 928.67,-238.5\"/>\n<polygon fill=\"black\" stroke=\"black\" points=\"928.89,-242 938.89,-238.5 928.89,-235 928.89,-242\"/>\n</g>\n<!-- 138572727367616 -->\n<g id=\"node134\" class=\"node\">\n<title>138572727367616</title>\n<polygon fill=\"none\" stroke=\"black\" points=\"628.5,-220.5 628.5,-256.5 810.5,-256.5 810.5,-220.5 628.5,-220.5\"/>\n<text text-anchor=\"middle\" x=\"638.5\" y=\"-234.8\" font-family=\"Times,serif\" font-size=\"14.00\"> </text>\n<polyline fill=\"none\" stroke=\"black\" points=\"648.5,-220.5 648.5,-256.5 \"/>\n<text text-anchor=\"middle\" x=\"688.5\" y=\"-234.8\" font-family=\"Times,serif\" font-size=\"14.00\">data 2.0000</text>\n<polyline fill=\"none\" stroke=\"black\" points=\"728.5,-220.5 728.5,-256.5 \"/>\n<text text-anchor=\"middle\" x=\"769.5\" y=\"-234.8\" font-family=\"Times,serif\" font-size=\"14.00\">grad 0.0000</text>\n</g>\n<!-- 138572727367616&#45;&gt;138572727367568* -->\n<g id=\"edge168\" class=\"edge\">\n<title>138572727367616&#45;&gt;138572727367568*</title>\n<path fill=\"none\" stroke=\"black\" d=\"M810.82,-238.5C820.57,-238.5 830.04,-238.5 838.57,-238.5\"/>\n<polygon fill=\"black\" stroke=\"black\" points=\"838.83,-242 848.83,-238.5 838.83,-235 838.83,-242\"/>\n</g>\n<!-- 138572754475024 -->\n<g id=\"node135\" class=\"node\">\n<title>138572754475024</title>\n<polygon fill=\"none\" stroke=\"black\" points=\"2504,-496.5 2504,-532.5 2691,-532.5 2691,-496.5 2504,-496.5\"/>\n<text text-anchor=\"middle\" x=\"2514\" y=\"-510.8\" font-family=\"Times,serif\" font-size=\"14.00\"> </text>\n<polyline fill=\"none\" stroke=\"black\" points=\"2524,-496.5 2524,-532.5 \"/>\n<text text-anchor=\"middle\" x=\"2566.5\" y=\"-510.8\" font-family=\"Times,serif\" font-size=\"14.00\">data &#45;0.4664</text>\n<polyline fill=\"none\" stroke=\"black\" points=\"2609,-496.5 2609,-532.5 \"/>\n<text text-anchor=\"middle\" x=\"2650\" y=\"-510.8\" font-family=\"Times,serif\" font-size=\"14.00\">grad 0.0000</text>\n</g>\n<!-- 138572754476416* -->\n<g id=\"node182\" class=\"node\">\n<title>138572754476416*</title>\n<ellipse fill=\"none\" stroke=\"black\" cx=\"2754\" cy=\"-541.5\" rx=\"27\" ry=\"18\"/>\n<text text-anchor=\"middle\" x=\"2754\" y=\"-537.8\" font-family=\"Times,serif\" font-size=\"14.00\">*</text>\n</g>\n<!-- 138572754475024&#45;&gt;138572754476416* -->\n<g id=\"edge189\" class=\"edge\">\n<title>138572754475024&#45;&gt;138572754476416*</title>\n<path fill=\"none\" stroke=\"black\" d=\"M2691.05,-530.67C2700.34,-532.3 2709.33,-533.87 2717.44,-535.29\"/>\n<polygon fill=\"black\" stroke=\"black\" points=\"2717.1,-538.78 2727.55,-537.05 2718.3,-531.88 2717.1,-538.78\"/>\n</g>\n<!-- 138572727367760 -->\n<g id=\"node136\" class=\"node\">\n<title>138572727367760</title>\n<polygon fill=\"none\" stroke=\"black\" points=\"1254.5,-385.5 1254.5,-421.5 1436.5,-421.5 1436.5,-385.5 1254.5,-385.5\"/>\n<text text-anchor=\"middle\" x=\"1264.5\" y=\"-399.8\" font-family=\"Times,serif\" font-size=\"14.00\"> </text>\n<polyline fill=\"none\" stroke=\"black\" points=\"1274.5,-385.5 1274.5,-421.5 \"/>\n<text text-anchor=\"middle\" x=\"1314.5\" y=\"-399.8\" font-family=\"Times,serif\" font-size=\"14.00\">data 2.6779</text>\n<polyline fill=\"none\" stroke=\"black\" points=\"1354.5,-385.5 1354.5,-421.5 \"/>\n<text text-anchor=\"middle\" x=\"1395.5\" y=\"-399.8\" font-family=\"Times,serif\" font-size=\"14.00\">grad 0.0000</text>\n</g>\n<!-- 138572727368528tanh -->\n<g id=\"node156\" class=\"node\">\n<title>138572727368528tanh</title>\n<ellipse fill=\"none\" stroke=\"black\" cx=\"1502\" cy=\"-403.5\" rx=\"27\" ry=\"18\"/>\n<text text-anchor=\"middle\" x=\"1502\" y=\"-399.8\" font-family=\"Times,serif\" font-size=\"14.00\">tanh</text>\n</g>\n<!-- 138572727367760&#45;&gt;138572727368528tanh -->\n<g id=\"edge104\" class=\"edge\">\n<title>138572727367760&#45;&gt;138572727368528tanh</title>\n<path fill=\"none\" stroke=\"black\" d=\"M1436.82,-403.5C1446.57,-403.5 1456.04,-403.5 1464.57,-403.5\"/>\n<polygon fill=\"black\" stroke=\"black\" points=\"1464.83,-407 1474.83,-403.5 1464.83,-400 1464.83,-407\"/>\n</g>\n<!-- 138572727367760+ -->\n<g id=\"node137\" class=\"node\">\n<title>138572727367760+</title>\n<ellipse fill=\"none\" stroke=\"black\" cx=\"1189\" cy=\"-403.5\" rx=\"27\" ry=\"18\"/>\n<text text-anchor=\"middle\" x=\"1189\" y=\"-399.8\" font-family=\"Times,serif\" font-size=\"14.00\">+</text>\n</g>\n<!-- 138572727367760+&#45;&gt;138572727367760 -->\n<g id=\"edge50\" class=\"edge\">\n<title>138572727367760+&#45;&gt;138572727367760</title>\n<path fill=\"none\" stroke=\"black\" d=\"M1216.21,-403.5C1224.34,-403.5 1233.85,-403.5 1243.94,-403.5\"/>\n<polygon fill=\"black\" stroke=\"black\" points=\"1244.19,-407 1254.19,-403.5 1244.19,-400 1244.19,-407\"/>\n</g>\n<!-- 138572754475168 -->\n<g id=\"node138\" class=\"node\">\n<title>138572754475168</title>\n<polygon fill=\"none\" stroke=\"black\" points=\"2193.5,-165.5 2193.5,-201.5 2375.5,-201.5 2375.5,-165.5 2193.5,-165.5\"/>\n<text text-anchor=\"middle\" x=\"2203.5\" y=\"-179.8\" font-family=\"Times,serif\" font-size=\"14.00\"> </text>\n<polyline fill=\"none\" stroke=\"black\" points=\"2213.5,-165.5 2213.5,-201.5 \"/>\n<text text-anchor=\"middle\" x=\"2253.5\" y=\"-179.8\" font-family=\"Times,serif\" font-size=\"14.00\">data 0.5281</text>\n<polyline fill=\"none\" stroke=\"black\" points=\"2293.5,-165.5 2293.5,-201.5 \"/>\n<text text-anchor=\"middle\" x=\"2334.5\" y=\"-179.8\" font-family=\"Times,serif\" font-size=\"14.00\">grad 0.0000</text>\n</g>\n<!-- 138572754475168&#45;&gt;138572754477712* -->\n<g id=\"edge93\" class=\"edge\">\n<title>138572754475168&#45;&gt;138572754477712*</title>\n<path fill=\"none\" stroke=\"black\" d=\"M2351.56,-201.55C2360.51,-204.36 2369.53,-207.37 2378,-210.5 2388.49,-214.38 2399.71,-219.22 2409.68,-223.78\"/>\n<polygon fill=\"black\" stroke=\"black\" points=\"2408.25,-226.98 2418.79,-228.03 2411.2,-220.63 2408.25,-226.98\"/>\n</g>\n<!-- 138572754475216 -->\n<g id=\"node139\" class=\"node\">\n<title>138572754475216</title>\n<polygon fill=\"none\" stroke=\"black\" points=\"1878,-275.5 1878,-311.5 2065,-311.5 2065,-275.5 1878,-275.5\"/>\n<text text-anchor=\"middle\" x=\"1888\" y=\"-289.8\" font-family=\"Times,serif\" font-size=\"14.00\"> </text>\n<polyline fill=\"none\" stroke=\"black\" points=\"1898,-275.5 1898,-311.5 \"/>\n<text text-anchor=\"middle\" x=\"1940.5\" y=\"-289.8\" font-family=\"Times,serif\" font-size=\"14.00\">data &#45;0.6134</text>\n<polyline fill=\"none\" stroke=\"black\" points=\"1983,-275.5 1983,-311.5 \"/>\n<text text-anchor=\"middle\" x=\"2024\" y=\"-289.8\" font-family=\"Times,serif\" font-size=\"14.00\">grad 0.0000</text>\n</g>\n<!-- 138572754475216&#45;&gt;138572754479056+ -->\n<g id=\"edge99\" class=\"edge\">\n<title>138572754475216&#45;&gt;138572754479056+</title>\n<path fill=\"none\" stroke=\"black\" d=\"M2038.56,-311.55C2047.51,-314.36 2056.53,-317.37 2065,-320.5 2075.49,-324.38 2086.71,-329.22 2096.68,-333.78\"/>\n<polygon fill=\"black\" stroke=\"black\" points=\"2095.25,-336.98 2105.79,-338.03 2098.2,-330.63 2095.25,-336.98\"/>\n</g>\n<!-- 138572727368000 -->\n<g id=\"node140\" class=\"node\">\n<title>138572727368000</title>\n<polygon fill=\"none\" stroke=\"black\" points=\"1252,-55.5 1252,-91.5 1439,-91.5 1439,-55.5 1252,-55.5\"/>\n<text text-anchor=\"middle\" x=\"1262\" y=\"-69.8\" font-family=\"Times,serif\" font-size=\"14.00\"> </text>\n<polyline fill=\"none\" stroke=\"black\" points=\"1272,-55.5 1272,-91.5 \"/>\n<text text-anchor=\"middle\" x=\"1314.5\" y=\"-69.8\" font-family=\"Times,serif\" font-size=\"14.00\">data &#45;0.5245</text>\n<polyline fill=\"none\" stroke=\"black\" points=\"1357,-55.5 1357,-91.5 \"/>\n<text text-anchor=\"middle\" x=\"1398\" y=\"-69.8\" font-family=\"Times,serif\" font-size=\"14.00\">grad 0.0000</text>\n</g>\n<!-- 138572727368000&#45;&gt;138572727365456* -->\n<g id=\"edge146\" class=\"edge\">\n<title>138572727368000&#45;&gt;138572727365456*</title>\n<path fill=\"none\" stroke=\"black\" d=\"M1439.05,-73.5C1448.06,-73.5 1456.79,-73.5 1464.7,-73.5\"/>\n<polygon fill=\"black\" stroke=\"black\" points=\"1464.95,-77 1474.95,-73.5 1464.95,-70 1464.95,-77\"/>\n</g>\n<!-- 138572727368048 -->\n<g id=\"node141\" class=\"node\">\n<title>138572727368048</title>\n<polygon fill=\"none\" stroke=\"black\" points=\"939,-165.5 939,-201.5 1126,-201.5 1126,-165.5 939,-165.5\"/>\n<text text-anchor=\"middle\" x=\"949\" y=\"-179.8\" font-family=\"Times,serif\" font-size=\"14.00\"> </text>\n<polyline fill=\"none\" stroke=\"black\" points=\"959,-165.5 959,-201.5 \"/>\n<text text-anchor=\"middle\" x=\"1001.5\" y=\"-179.8\" font-family=\"Times,serif\" font-size=\"14.00\">data &#45;0.4658</text>\n<polyline fill=\"none\" stroke=\"black\" points=\"1044,-165.5 1044,-201.5 \"/>\n<text text-anchor=\"middle\" x=\"1085\" y=\"-179.8\" font-family=\"Times,serif\" font-size=\"14.00\">grad 0.0000</text>\n</g>\n<!-- 138572727368048&#45;&gt;138572727365312+ -->\n<g id=\"edge164\" class=\"edge\">\n<title>138572727368048&#45;&gt;138572727365312+</title>\n<path fill=\"none\" stroke=\"black\" d=\"M1126.05,-183.5C1135.06,-183.5 1143.79,-183.5 1151.7,-183.5\"/>\n<polygon fill=\"black\" stroke=\"black\" points=\"1151.95,-187 1161.95,-183.5 1151.95,-180 1151.95,-187\"/>\n</g>\n<!-- 138572727368096 -->\n<g id=\"node142\" class=\"node\">\n<title>138572727368096</title>\n<polygon fill=\"none\" stroke=\"black\" points=\"939,-715.5 939,-751.5 1126,-751.5 1126,-715.5 939,-715.5\"/>\n<text text-anchor=\"middle\" x=\"949\" y=\"-729.8\" font-family=\"Times,serif\" font-size=\"14.00\"> </text>\n<polyline fill=\"none\" stroke=\"black\" points=\"959,-715.5 959,-751.5 \"/>\n<text text-anchor=\"middle\" x=\"1001.5\" y=\"-729.8\" font-family=\"Times,serif\" font-size=\"14.00\">data &#45;0.8867</text>\n<polyline fill=\"none\" stroke=\"black\" points=\"1044,-715.5 1044,-751.5 \"/>\n<text text-anchor=\"middle\" x=\"1085\" y=\"-729.8\" font-family=\"Times,serif\" font-size=\"14.00\">grad 0.0000</text>\n</g>\n<!-- 138572727368096&#45;&gt;138572727364304* -->\n<g id=\"edge140\" class=\"edge\">\n<title>138572727368096&#45;&gt;138572727364304*</title>\n<path fill=\"none\" stroke=\"black\" d=\"M1126.05,-733.5C1135.06,-733.5 1143.79,-733.5 1151.7,-733.5\"/>\n<polygon fill=\"black\" stroke=\"black\" points=\"1151.95,-737 1161.95,-733.5 1151.95,-730 1151.95,-737\"/>\n</g>\n<!-- 138572727368240 -->\n<g id=\"node143\" class=\"node\">\n<title>138572727368240</title>\n<polygon fill=\"none\" stroke=\"black\" points=\"1254.5,-880.5 1254.5,-916.5 1436.5,-916.5 1436.5,-880.5 1254.5,-880.5\"/>\n<text text-anchor=\"middle\" x=\"1264.5\" y=\"-894.8\" font-family=\"Times,serif\" font-size=\"14.00\"> </text>\n<polyline fill=\"none\" stroke=\"black\" points=\"1274.5,-880.5 1274.5,-916.5 \"/>\n<text text-anchor=\"middle\" x=\"1314.5\" y=\"-894.8\" font-family=\"Times,serif\" font-size=\"14.00\">data 0.1031</text>\n<polyline fill=\"none\" stroke=\"black\" points=\"1354.5,-880.5 1354.5,-916.5 \"/>\n<text text-anchor=\"middle\" x=\"1395.5\" y=\"-894.8\" font-family=\"Times,serif\" font-size=\"14.00\">grad 0.0000</text>\n</g>\n<!-- 138572727368240&#45;&gt;138572727363872* -->\n<g id=\"edge167\" class=\"edge\">\n<title>138572727368240&#45;&gt;138572727363872*</title>\n<path fill=\"none\" stroke=\"black\" d=\"M1412.56,-880.45C1421.51,-877.64 1430.53,-874.63 1439,-871.5 1449.49,-867.62 1460.71,-862.78 1470.68,-858.22\"/>\n<polygon fill=\"black\" stroke=\"black\" points=\"1472.2,-861.37 1479.79,-853.97 1469.25,-855.02 1472.2,-861.37\"/>\n</g>\n<!-- 138572754475600 -->\n<g id=\"node144\" class=\"node\">\n<title>138572754475600</title>\n<polygon fill=\"none\" stroke=\"black\" points=\"2817,-413.5 2817,-449.5 3004,-449.5 3004,-413.5 2817,-413.5\"/>\n<text text-anchor=\"middle\" x=\"2827\" y=\"-427.8\" font-family=\"Times,serif\" font-size=\"14.00\"> </text>\n<polyline fill=\"none\" stroke=\"black\" points=\"2837,-413.5 2837,-449.5 \"/>\n<text text-anchor=\"middle\" x=\"2879.5\" y=\"-427.8\" font-family=\"Times,serif\" font-size=\"14.00\">data &#45;1.8370</text>\n<polyline fill=\"none\" stroke=\"black\" points=\"2922,-413.5 2922,-449.5 \"/>\n<text text-anchor=\"middle\" x=\"2963\" y=\"-427.8\" font-family=\"Times,serif\" font-size=\"14.00\">grad 0.0000</text>\n</g>\n<!-- 138572754475888+ -->\n<g id=\"node159\" class=\"node\">\n<title>138572754475888+</title>\n<ellipse fill=\"none\" stroke=\"black\" cx=\"3067\" cy=\"-514.5\" rx=\"27\" ry=\"18\"/>\n<text text-anchor=\"middle\" x=\"3067\" y=\"-510.8\" font-family=\"Times,serif\" font-size=\"14.00\">+</text>\n</g>\n<!-- 138572754475600&#45;&gt;138572754475888+ -->\n<g id=\"edge202\" class=\"edge\">\n<title>138572754475600&#45;&gt;138572754475888+</title>\n<path fill=\"none\" stroke=\"black\" d=\"M2984.97,-449.57C2991.57,-452.19 2998.01,-455.16 3004,-458.5 3019.43,-467.12 3034.22,-480.22 3045.49,-491.59\"/>\n<polygon fill=\"black\" stroke=\"black\" points=\"3043.24,-494.3 3052.68,-499.1 3048.29,-489.46 3043.24,-494.3\"/>\n</g>\n<!-- 138572754475600+&#45;&gt;138572754475600 -->\n<g id=\"edge51\" class=\"edge\">\n<title>138572754475600+&#45;&gt;138572754475600</title>\n<path fill=\"none\" stroke=\"black\" d=\"M2781.21,-431.5C2788.73,-431.5 2797.43,-431.5 2806.67,-431.5\"/>\n<polygon fill=\"black\" stroke=\"black\" points=\"2806.89,-435 2816.89,-431.5 2806.89,-428 2806.89,-435\"/>\n</g>\n<!-- 138572754475648 -->\n<g id=\"node146\" class=\"node\">\n<title>138572754475648</title>\n<polygon fill=\"none\" stroke=\"black\" points=\"2819.5,-716.5 2819.5,-752.5 3001.5,-752.5 3001.5,-716.5 2819.5,-716.5\"/>\n<text text-anchor=\"middle\" x=\"2829.5\" y=\"-730.8\" font-family=\"Times,serif\" font-size=\"14.00\"> </text>\n<polyline fill=\"none\" stroke=\"black\" points=\"2839.5,-716.5 2839.5,-752.5 \"/>\n<text text-anchor=\"middle\" x=\"2879.5\" y=\"-730.8\" font-family=\"Times,serif\" font-size=\"14.00\">data 0.3191</text>\n<polyline fill=\"none\" stroke=\"black\" points=\"2919.5,-716.5 2919.5,-752.5 \"/>\n<text text-anchor=\"middle\" x=\"2960.5\" y=\"-730.8\" font-family=\"Times,serif\" font-size=\"14.00\">grad 0.0000</text>\n</g>\n<!-- 138572754475648&#45;&gt;138572754475888+ -->\n<g id=\"edge88\" class=\"edge\">\n<title>138572754475648&#45;&gt;138572754475888+</title>\n<path fill=\"none\" stroke=\"black\" d=\"M2992.51,-716.44C2996.65,-713.85 3000.52,-710.88 3004,-707.5 3027.85,-684.28 3050.31,-589.97 3060.41,-542.33\"/>\n<polygon fill=\"black\" stroke=\"black\" points=\"3063.87,-542.87 3062.48,-532.37 3057.02,-541.45 3063.87,-542.87\"/>\n</g>\n<!-- 138572754475648*&#45;&gt;138572754475648 -->\n<g id=\"edge52\" class=\"edge\">\n<title>138572754475648*&#45;&gt;138572754475648</title>\n<path fill=\"none\" stroke=\"black\" d=\"M2781.21,-734.5C2789.34,-734.5 2798.85,-734.5 2808.94,-734.5\"/>\n<polygon fill=\"black\" stroke=\"black\" points=\"2809.19,-738 2819.19,-734.5 2809.19,-731 2809.19,-738\"/>\n</g>\n<!-- 138572727368336 -->\n<g id=\"node148\" class=\"node\">\n<title>138572727368336</title>\n<polygon fill=\"none\" stroke=\"black\" points=\"1565,-935.5 1565,-971.5 1752,-971.5 1752,-935.5 1565,-935.5\"/>\n<text text-anchor=\"middle\" x=\"1575\" y=\"-949.8\" font-family=\"Times,serif\" font-size=\"14.00\"> </text>\n<polyline fill=\"none\" stroke=\"black\" points=\"1585,-935.5 1585,-971.5 \"/>\n<text text-anchor=\"middle\" x=\"1627.5\" y=\"-949.8\" font-family=\"Times,serif\" font-size=\"14.00\">data &#45;0.0495</text>\n<polyline fill=\"none\" stroke=\"black\" points=\"1670,-935.5 1670,-971.5 \"/>\n<text text-anchor=\"middle\" x=\"1711\" y=\"-949.8\" font-family=\"Times,serif\" font-size=\"14.00\">grad 0.0000</text>\n</g>\n<!-- 138572727361040* -->\n<g id=\"node186\" class=\"node\">\n<title>138572727361040*</title>\n<ellipse fill=\"none\" stroke=\"black\" cx=\"1815\" cy=\"-898.5\" rx=\"27\" ry=\"18\"/>\n<text text-anchor=\"middle\" x=\"1815\" y=\"-894.8\" font-family=\"Times,serif\" font-size=\"14.00\">*</text>\n</g>\n<!-- 138572727368336&#45;&gt;138572727361040* -->\n<g id=\"edge108\" class=\"edge\">\n<title>138572727368336&#45;&gt;138572727361040*</title>\n<path fill=\"none\" stroke=\"black\" d=\"M1725.56,-935.45C1734.51,-932.64 1743.53,-929.63 1752,-926.5 1762.49,-922.62 1773.71,-917.78 1783.68,-913.22\"/>\n<polygon fill=\"black\" stroke=\"black\" points=\"1785.2,-916.37 1792.79,-908.97 1782.25,-910.02 1785.2,-916.37\"/>\n</g>\n<!-- 138572727360176 -->\n<g id=\"node149\" class=\"node\">\n<title>138572727360176</title>\n<polygon fill=\"none\" stroke=\"black\" points=\"0,-358.5 0,-394.5 187,-394.5 187,-358.5 0,-358.5\"/>\n<text text-anchor=\"middle\" x=\"10\" y=\"-372.8\" font-family=\"Times,serif\" font-size=\"14.00\"> </text>\n<polyline fill=\"none\" stroke=\"black\" points=\"20,-358.5 20,-394.5 \"/>\n<text text-anchor=\"middle\" x=\"62.5\" y=\"-372.8\" font-family=\"Times,serif\" font-size=\"14.00\">data &#45;0.4558</text>\n<polyline fill=\"none\" stroke=\"black\" points=\"105,-358.5 105,-394.5 \"/>\n<text text-anchor=\"middle\" x=\"146\" y=\"-372.8\" font-family=\"Times,serif\" font-size=\"14.00\">grad 0.0000</text>\n</g>\n<!-- 138572727360176&#45;&gt;138572727362288* -->\n<g id=\"edge118\" class=\"edge\">\n<title>138572727360176&#45;&gt;138572727362288*</title>\n<path fill=\"none\" stroke=\"black\" d=\"M187.05,-392.67C196.34,-394.3 205.33,-395.87 213.44,-397.29\"/>\n<polygon fill=\"black\" stroke=\"black\" points=\"213.1,-400.78 223.55,-399.05 214.3,-393.88 213.1,-400.78\"/>\n</g>\n<!-- 138572727368384 -->\n<g id=\"node150\" class=\"node\">\n<title>138572727368384</title>\n<polygon fill=\"none\" stroke=\"black\" points=\"1254.5,-770.5 1254.5,-806.5 1436.5,-806.5 1436.5,-770.5 1254.5,-770.5\"/>\n<text text-anchor=\"middle\" x=\"1264.5\" y=\"-784.8\" font-family=\"Times,serif\" font-size=\"14.00\"> </text>\n<polyline fill=\"none\" stroke=\"black\" points=\"1274.5,-770.5 1274.5,-806.5 \"/>\n<text text-anchor=\"middle\" x=\"1314.5\" y=\"-784.8\" font-family=\"Times,serif\" font-size=\"14.00\">data 0.8647</text>\n<polyline fill=\"none\" stroke=\"black\" points=\"1354.5,-770.5 1354.5,-806.5 \"/>\n<text text-anchor=\"middle\" x=\"1395.5\" y=\"-784.8\" font-family=\"Times,serif\" font-size=\"14.00\">grad 0.0000</text>\n</g>\n<!-- 138572727368384&#45;&gt;138572727363920+ -->\n<g id=\"edge158\" class=\"edge\">\n<title>138572727368384&#45;&gt;138572727363920+</title>\n<path fill=\"none\" stroke=\"black\" d=\"M1436.82,-788.5C1446.57,-788.5 1456.04,-788.5 1464.57,-788.5\"/>\n<polygon fill=\"black\" stroke=\"black\" points=\"1464.83,-792 1474.83,-788.5 1464.83,-785 1464.83,-792\"/>\n</g>\n<!-- 138572727360272 -->\n<g id=\"node151\" class=\"node\">\n<title>138572727360272</title>\n<polygon fill=\"none\" stroke=\"black\" points=\"315.5,-495.5 315.5,-531.5 497.5,-531.5 497.5,-495.5 315.5,-495.5\"/>\n<text text-anchor=\"middle\" x=\"325.5\" y=\"-509.8\" font-family=\"Times,serif\" font-size=\"14.00\"> </text>\n<polyline fill=\"none\" stroke=\"black\" points=\"335.5,-495.5 335.5,-531.5 \"/>\n<text text-anchor=\"middle\" x=\"375.5\" y=\"-509.8\" font-family=\"Times,serif\" font-size=\"14.00\">data 0.8685</text>\n<polyline fill=\"none\" stroke=\"black\" points=\"415.5,-495.5 415.5,-531.5 \"/>\n<text text-anchor=\"middle\" x=\"456.5\" y=\"-509.8\" font-family=\"Times,serif\" font-size=\"14.00\">grad 0.0000</text>\n</g>\n<!-- 138572727368720* -->\n<g id=\"node162\" class=\"node\">\n<title>138572727368720*</title>\n<ellipse fill=\"none\" stroke=\"black\" cx=\"563\" cy=\"-458.5\" rx=\"27\" ry=\"18\"/>\n<text text-anchor=\"middle\" x=\"563\" y=\"-454.8\" font-family=\"Times,serif\" font-size=\"14.00\">*</text>\n</g>\n<!-- 138572727360272&#45;&gt;138572727368720* -->\n<g id=\"edge136\" class=\"edge\">\n<title>138572727360272&#45;&gt;138572727368720*</title>\n<path fill=\"none\" stroke=\"black\" d=\"M471.02,-495.35C480.79,-492.24 490.71,-488.92 500,-485.5 510.25,-481.73 521.23,-477.14 531.07,-472.82\"/>\n<polygon fill=\"black\" stroke=\"black\" points=\"532.74,-475.9 540.45,-468.63 529.89,-469.51 532.74,-475.9\"/>\n</g>\n<!-- 138572727368480 -->\n<g id=\"node152\" class=\"node\">\n<title>138572727368480</title>\n<polygon fill=\"none\" stroke=\"black\" points=\"2819.5,-771.5 2819.5,-807.5 3001.5,-807.5 3001.5,-771.5 2819.5,-771.5\"/>\n<text text-anchor=\"middle\" x=\"2829.5\" y=\"-785.8\" font-family=\"Times,serif\" font-size=\"14.00\"> </text>\n<polyline fill=\"none\" stroke=\"black\" points=\"2839.5,-771.5 2839.5,-807.5 \"/>\n<text text-anchor=\"middle\" x=\"2879.5\" y=\"-785.8\" font-family=\"Times,serif\" font-size=\"14.00\">data 0.1097</text>\n<polyline fill=\"none\" stroke=\"black\" points=\"2919.5,-771.5 2919.5,-807.5 \"/>\n<text text-anchor=\"middle\" x=\"2960.5\" y=\"-785.8\" font-family=\"Times,serif\" font-size=\"14.00\">grad 0.0000</text>\n</g>\n<!-- 138572727368864+ -->\n<g id=\"node170\" class=\"node\">\n<title>138572727368864+</title>\n<ellipse fill=\"none\" stroke=\"black\" cx=\"3067\" cy=\"-679.5\" rx=\"27\" ry=\"18\"/>\n<text text-anchor=\"middle\" x=\"3067\" y=\"-675.8\" font-family=\"Times,serif\" font-size=\"14.00\">+</text>\n</g>\n<!-- 138572727368480&#45;&gt;138572727368864+ -->\n<g id=\"edge135\" class=\"edge\">\n<title>138572727368480&#45;&gt;138572727368864+</title>\n<path fill=\"none\" stroke=\"black\" d=\"M2988.53,-771.34C2993.97,-768.77 2999.19,-765.84 3004,-762.5 3025.11,-747.85 3041.97,-723.7 3052.74,-705.22\"/>\n<polygon fill=\"black\" stroke=\"black\" points=\"3055.85,-706.85 3057.68,-696.41 3049.74,-703.43 3055.85,-706.85\"/>\n</g>\n<!-- 138572727368480*&#45;&gt;138572727368480 -->\n<g id=\"edge53\" class=\"edge\">\n<title>138572727368480*&#45;&gt;138572727368480</title>\n<path fill=\"none\" stroke=\"black\" d=\"M2781.21,-789.5C2789.34,-789.5 2798.85,-789.5 2808.94,-789.5\"/>\n<polygon fill=\"black\" stroke=\"black\" points=\"2809.19,-793 2819.19,-789.5 2809.19,-786 2809.19,-793\"/>\n</g>\n<!-- 138572727360320 -->\n<g id=\"node154\" class=\"node\">\n<title>138572727360320</title>\n<polygon fill=\"none\" stroke=\"black\" points=\"626,-275.5 626,-311.5 813,-311.5 813,-275.5 626,-275.5\"/>\n<text text-anchor=\"middle\" x=\"636\" y=\"-289.8\" font-family=\"Times,serif\" font-size=\"14.00\"> </text>\n<polyline fill=\"none\" stroke=\"black\" points=\"646,-275.5 646,-311.5 \"/>\n<text text-anchor=\"middle\" x=\"688.5\" y=\"-289.8\" font-family=\"Times,serif\" font-size=\"14.00\">data &#45;0.6168</text>\n<polyline fill=\"none\" stroke=\"black\" points=\"731,-275.5 731,-311.5 \"/>\n<text text-anchor=\"middle\" x=\"772\" y=\"-289.8\" font-family=\"Times,serif\" font-size=\"14.00\">grad 0.0000</text>\n</g>\n<!-- 138572727360320&#45;&gt;138572727369440* -->\n<g id=\"edge200\" class=\"edge\">\n<title>138572727360320&#45;&gt;138572727369440*</title>\n<path fill=\"none\" stroke=\"black\" d=\"M786.56,-311.55C795.51,-314.36 804.53,-317.37 813,-320.5 823.49,-324.38 834.71,-329.22 844.68,-333.78\"/>\n<polygon fill=\"black\" stroke=\"black\" points=\"843.25,-336.98 853.79,-338.03 846.2,-330.63 843.25,-336.98\"/>\n</g>\n<!-- 138572727368528 -->\n<g id=\"node155\" class=\"node\">\n<title>138572727368528</title>\n<polygon fill=\"none\" stroke=\"black\" points=\"1567.5,-385.5 1567.5,-421.5 1749.5,-421.5 1749.5,-385.5 1567.5,-385.5\"/>\n<text text-anchor=\"middle\" x=\"1577.5\" y=\"-399.8\" font-family=\"Times,serif\" font-size=\"14.00\"> </text>\n<polyline fill=\"none\" stroke=\"black\" points=\"1587.5,-385.5 1587.5,-421.5 \"/>\n<text text-anchor=\"middle\" x=\"1627.5\" y=\"-399.8\" font-family=\"Times,serif\" font-size=\"14.00\">data 0.9906</text>\n<polyline fill=\"none\" stroke=\"black\" points=\"1667.5,-385.5 1667.5,-421.5 \"/>\n<text text-anchor=\"middle\" x=\"1708.5\" y=\"-399.8\" font-family=\"Times,serif\" font-size=\"14.00\">grad 0.0000</text>\n</g>\n<!-- 138572727368528&#45;&gt;138572754479536* -->\n<g id=\"edge166\" class=\"edge\">\n<title>138572727368528&#45;&gt;138572754479536*</title>\n<path fill=\"none\" stroke=\"black\" d=\"M1736.58,-385.38C1742.07,-382.55 1747.29,-379.28 1752,-375.5 1766.29,-364.04 1788.34,-320.67 1801.93,-291.93\"/>\n<polygon fill=\"black\" stroke=\"black\" points=\"1805.13,-293.36 1806.2,-282.82 1798.79,-290.39 1805.13,-293.36\"/>\n</g>\n<!-- 138572727368528&#45;&gt;138572754480544* -->\n<g id=\"edge75\" class=\"edge\">\n<title>138572727368528&#45;&gt;138572754480544*</title>\n<path fill=\"none\" stroke=\"black\" d=\"M1723.02,-385.35C1732.79,-382.24 1742.71,-378.92 1752,-375.5 1762.25,-371.73 1773.23,-367.14 1783.07,-362.82\"/>\n<polygon fill=\"black\" stroke=\"black\" points=\"1784.74,-365.9 1792.45,-358.63 1781.89,-359.51 1784.74,-365.9\"/>\n</g>\n<!-- 138572727368528&#45;&gt;138572727367040* -->\n<g id=\"edge162\" class=\"edge\">\n<title>138572727368528&#45;&gt;138572727367040*</title>\n<path fill=\"none\" stroke=\"black\" d=\"M1705.28,-421.73C1722.18,-430.53 1740.08,-442.68 1752,-458.5 1789.88,-508.78 1770.59,-535 1788,-595.5 1793.35,-614.07 1799.84,-634.81 1805.01,-650.92\"/>\n<polygon fill=\"black\" stroke=\"black\" points=\"1801.78,-652.32 1808.18,-660.76 1808.44,-650.17 1801.78,-652.32\"/>\n</g>\n<!-- 138572727368528&#45;&gt;138572755451088* -->\n<g id=\"edge90\" class=\"edge\">\n<title>138572727368528&#45;&gt;138572755451088*</title>\n<path fill=\"none\" stroke=\"black\" d=\"M1693.02,-421.51C1720.21,-436.12 1758.18,-456.51 1784.29,-470.54\"/>\n<polygon fill=\"black\" stroke=\"black\" points=\"1782.87,-473.75 1793.33,-475.4 1786.18,-467.58 1782.87,-473.75\"/>\n</g>\n<!-- 138572727368528tanh&#45;&gt;138572727368528 -->\n<g id=\"edge54\" class=\"edge\">\n<title>138572727368528tanh&#45;&gt;138572727368528</title>\n<path fill=\"none\" stroke=\"black\" d=\"M1529.21,-403.5C1537.34,-403.5 1546.85,-403.5 1556.94,-403.5\"/>\n<polygon fill=\"black\" stroke=\"black\" points=\"1557.19,-407 1567.19,-403.5 1557.19,-400 1557.19,-407\"/>\n</g>\n<!-- 138572727360368 -->\n<g id=\"node157\" class=\"node\">\n<title>138572727360368</title>\n<polygon fill=\"none\" stroke=\"black\" points=\"315.5,-330.5 315.5,-366.5 497.5,-366.5 497.5,-330.5 315.5,-330.5\"/>\n<text text-anchor=\"middle\" x=\"325.5\" y=\"-344.8\" font-family=\"Times,serif\" font-size=\"14.00\"> </text>\n<polyline fill=\"none\" stroke=\"black\" points=\"335.5,-330.5 335.5,-366.5 \"/>\n<text text-anchor=\"middle\" x=\"375.5\" y=\"-344.8\" font-family=\"Times,serif\" font-size=\"14.00\">data 0.3673</text>\n<polyline fill=\"none\" stroke=\"black\" points=\"415.5,-330.5 415.5,-366.5 \"/>\n<text text-anchor=\"middle\" x=\"456.5\" y=\"-344.8\" font-family=\"Times,serif\" font-size=\"14.00\">grad 0.0000</text>\n</g>\n<!-- 138572727360368&#45;&gt;138572727369296+ -->\n<g id=\"edge81\" class=\"edge\">\n<title>138572727360368&#45;&gt;138572727369296+</title>\n<path fill=\"none\" stroke=\"black\" d=\"M473.56,-366.55C482.51,-369.36 491.53,-372.37 500,-375.5 510.49,-379.38 521.71,-384.22 531.68,-388.78\"/>\n<polygon fill=\"black\" stroke=\"black\" points=\"530.25,-391.98 540.79,-393.03 533.2,-385.63 530.25,-391.98\"/>\n</g>\n<!-- 138572754475888 -->\n<g id=\"node158\" class=\"node\">\n<title>138572754475888</title>\n<polygon fill=\"none\" stroke=\"black\" points=\"3130,-496.5 3130,-532.5 3317,-532.5 3317,-496.5 3130,-496.5\"/>\n<text text-anchor=\"middle\" x=\"3140\" y=\"-510.8\" font-family=\"Times,serif\" font-size=\"14.00\"> </text>\n<polyline fill=\"none\" stroke=\"black\" points=\"3150,-496.5 3150,-532.5 \"/>\n<text text-anchor=\"middle\" x=\"3192.5\" y=\"-510.8\" font-family=\"Times,serif\" font-size=\"14.00\">data &#45;1.5179</text>\n<polyline fill=\"none\" stroke=\"black\" points=\"3235,-496.5 3235,-532.5 \"/>\n<text text-anchor=\"middle\" x=\"3276\" y=\"-510.8\" font-family=\"Times,serif\" font-size=\"14.00\">grad 0.0000</text>\n</g>\n<!-- 138572754475888&#45;&gt;138572754480688tanh -->\n<g id=\"edge123\" class=\"edge\">\n<title>138572754475888&#45;&gt;138572754480688tanh</title>\n<path fill=\"none\" stroke=\"black\" d=\"M3317.05,-514.5C3326.06,-514.5 3334.79,-514.5 3342.7,-514.5\"/>\n<polygon fill=\"black\" stroke=\"black\" points=\"3342.95,-518 3352.95,-514.5 3342.95,-511 3342.95,-518\"/>\n</g>\n<!-- 138572754475888+&#45;&gt;138572754475888 -->\n<g id=\"edge55\" class=\"edge\">\n<title>138572754475888+&#45;&gt;138572754475888</title>\n<path fill=\"none\" stroke=\"black\" d=\"M3094.21,-514.5C3101.73,-514.5 3110.43,-514.5 3119.67,-514.5\"/>\n<polygon fill=\"black\" stroke=\"black\" points=\"3119.89,-518 3129.89,-514.5 3119.89,-511 3119.89,-518\"/>\n</g>\n<!-- 138572727368624 -->\n<g id=\"node160\" class=\"node\">\n<title>138572727368624</title>\n<polygon fill=\"none\" stroke=\"black\" points=\"315.5,-440.5 315.5,-476.5 497.5,-476.5 497.5,-440.5 315.5,-440.5\"/>\n<text text-anchor=\"middle\" x=\"325.5\" y=\"-454.8\" font-family=\"Times,serif\" font-size=\"14.00\"> </text>\n<polyline fill=\"none\" stroke=\"black\" points=\"335.5,-440.5 335.5,-476.5 \"/>\n<text text-anchor=\"middle\" x=\"375.5\" y=\"-454.8\" font-family=\"Times,serif\" font-size=\"14.00\">data 3.0000</text>\n<polyline fill=\"none\" stroke=\"black\" points=\"415.5,-440.5 415.5,-476.5 \"/>\n<text text-anchor=\"middle\" x=\"456.5\" y=\"-454.8\" font-family=\"Times,serif\" font-size=\"14.00\">grad 0.0000</text>\n</g>\n<!-- 138572727368624&#45;&gt;138572727368720* -->\n<g id=\"edge161\" class=\"edge\">\n<title>138572727368624&#45;&gt;138572727368720*</title>\n<path fill=\"none\" stroke=\"black\" d=\"M497.82,-458.5C507.57,-458.5 517.04,-458.5 525.57,-458.5\"/>\n<polygon fill=\"black\" stroke=\"black\" points=\"525.83,-462 535.83,-458.5 525.83,-455 525.83,-462\"/>\n</g>\n<!-- 138572727368720 -->\n<g id=\"node161\" class=\"node\">\n<title>138572727368720</title>\n<polygon fill=\"none\" stroke=\"black\" points=\"628.5,-440.5 628.5,-476.5 810.5,-476.5 810.5,-440.5 628.5,-440.5\"/>\n<text text-anchor=\"middle\" x=\"638.5\" y=\"-454.8\" font-family=\"Times,serif\" font-size=\"14.00\"> </text>\n<polyline fill=\"none\" stroke=\"black\" points=\"648.5,-440.5 648.5,-476.5 \"/>\n<text text-anchor=\"middle\" x=\"688.5\" y=\"-454.8\" font-family=\"Times,serif\" font-size=\"14.00\">data 2.6054</text>\n<polyline fill=\"none\" stroke=\"black\" points=\"728.5,-440.5 728.5,-476.5 \"/>\n<text text-anchor=\"middle\" x=\"769.5\" y=\"-454.8\" font-family=\"Times,serif\" font-size=\"14.00\">grad 0.0000</text>\n</g>\n<!-- 138572727368768+ -->\n<g id=\"node164\" class=\"node\">\n<title>138572727368768+</title>\n<ellipse fill=\"none\" stroke=\"black\" cx=\"876\" cy=\"-403.5\" rx=\"27\" ry=\"18\"/>\n<text text-anchor=\"middle\" x=\"876\" y=\"-399.8\" font-family=\"Times,serif\" font-size=\"14.00\">+</text>\n</g>\n<!-- 138572727368720&#45;&gt;138572727368768+ -->\n<g id=\"edge97\" class=\"edge\">\n<title>138572727368720&#45;&gt;138572727368768+</title>\n<path fill=\"none\" stroke=\"black\" d=\"M784.02,-440.35C793.79,-437.24 803.71,-433.92 813,-430.5 823.25,-426.73 834.23,-422.14 844.07,-417.82\"/>\n<polygon fill=\"black\" stroke=\"black\" points=\"845.74,-420.9 853.45,-413.63 842.89,-414.51 845.74,-420.9\"/>\n</g>\n<!-- 138572727368720*&#45;&gt;138572727368720 -->\n<g id=\"edge56\" class=\"edge\">\n<title>138572727368720*&#45;&gt;138572727368720</title>\n<path fill=\"none\" stroke=\"black\" d=\"M590.21,-458.5C598.34,-458.5 607.85,-458.5 617.94,-458.5\"/>\n<polygon fill=\"black\" stroke=\"black\" points=\"618.19,-462 628.19,-458.5 618.19,-455 618.19,-462\"/>\n</g>\n<!-- 138572727368768 -->\n<g id=\"node163\" class=\"node\">\n<title>138572727368768</title>\n<polygon fill=\"none\" stroke=\"black\" points=\"941.5,-385.5 941.5,-421.5 1123.5,-421.5 1123.5,-385.5 941.5,-385.5\"/>\n<text text-anchor=\"middle\" x=\"951.5\" y=\"-399.8\" font-family=\"Times,serif\" font-size=\"14.00\"> </text>\n<polyline fill=\"none\" stroke=\"black\" points=\"961.5,-385.5 961.5,-421.5 \"/>\n<text text-anchor=\"middle\" x=\"1001.5\" y=\"-399.8\" font-family=\"Times,serif\" font-size=\"14.00\">data 2.0611</text>\n<polyline fill=\"none\" stroke=\"black\" points=\"1041.5,-385.5 1041.5,-421.5 \"/>\n<text text-anchor=\"middle\" x=\"1082.5\" y=\"-399.8\" font-family=\"Times,serif\" font-size=\"14.00\">grad 0.0000</text>\n</g>\n<!-- 138572727368768&#45;&gt;138572727367760+ -->\n<g id=\"edge184\" class=\"edge\">\n<title>138572727368768&#45;&gt;138572727367760+</title>\n<path fill=\"none\" stroke=\"black\" d=\"M1123.82,-403.5C1133.57,-403.5 1143.04,-403.5 1151.57,-403.5\"/>\n<polygon fill=\"black\" stroke=\"black\" points=\"1151.83,-407 1161.83,-403.5 1151.83,-400 1151.83,-407\"/>\n</g>\n<!-- 138572727368768+&#45;&gt;138572727368768 -->\n<g id=\"edge57\" class=\"edge\">\n<title>138572727368768+&#45;&gt;138572727368768</title>\n<path fill=\"none\" stroke=\"black\" d=\"M903.21,-403.5C911.34,-403.5 920.85,-403.5 930.94,-403.5\"/>\n<polygon fill=\"black\" stroke=\"black\" points=\"931.19,-407 941.19,-403.5 931.19,-400 931.19,-407\"/>\n</g>\n<!-- 138572727360656 -->\n<g id=\"node165\" class=\"node\">\n<title>138572727360656</title>\n<polygon fill=\"none\" stroke=\"black\" points=\"2191,-797.5 2191,-833.5 2378,-833.5 2378,-797.5 2191,-797.5\"/>\n<text text-anchor=\"middle\" x=\"2201\" y=\"-811.8\" font-family=\"Times,serif\" font-size=\"14.00\"> </text>\n<polyline fill=\"none\" stroke=\"black\" points=\"2211,-797.5 2211,-833.5 \"/>\n<text text-anchor=\"middle\" x=\"2253.5\" y=\"-811.8\" font-family=\"Times,serif\" font-size=\"14.00\">data &#45;0.5500</text>\n<polyline fill=\"none\" stroke=\"black\" points=\"2296,-797.5 2296,-833.5 \"/>\n<text text-anchor=\"middle\" x=\"2337\" y=\"-811.8\" font-family=\"Times,serif\" font-size=\"14.00\">grad 0.0000</text>\n</g>\n<!-- 138572727360752tanh -->\n<g id=\"node174\" class=\"node\">\n<title>138572727360752tanh</title>\n<ellipse fill=\"none\" stroke=\"black\" cx=\"2441\" cy=\"-801.5\" rx=\"27\" ry=\"18\"/>\n<text text-anchor=\"middle\" x=\"2441\" y=\"-797.8\" font-family=\"Times,serif\" font-size=\"14.00\">tanh</text>\n</g>\n<!-- 138572727360656&#45;&gt;138572727360752tanh -->\n<g id=\"edge109\" class=\"edge\">\n<title>138572727360656&#45;&gt;138572727360752tanh</title>\n<path fill=\"none\" stroke=\"black\" d=\"M2378.05,-807.11C2387.16,-806.29 2395.98,-805.49 2403.97,-804.76\"/>\n<polygon fill=\"black\" stroke=\"black\" points=\"2404.31,-808.25 2413.95,-803.86 2403.67,-801.28 2404.31,-808.25\"/>\n</g>\n<!-- 138572727360656+&#45;&gt;138572727360656 -->\n<g id=\"edge58\" class=\"edge\">\n<title>138572727360656+&#45;&gt;138572727360656</title>\n<path fill=\"none\" stroke=\"black\" d=\"M2154.51,-833.03C2162.21,-831.99 2171.17,-830.77 2180.73,-829.47\"/>\n<polygon fill=\"black\" stroke=\"black\" points=\"2181.43,-832.91 2190.86,-828.09 2180.48,-825.97 2181.43,-832.91\"/>\n</g>\n<!-- 138572754476176 -->\n<g id=\"node167\" class=\"node\">\n<title>138572754476176</title>\n<polygon fill=\"none\" stroke=\"black\" points=\"2819.5,-358.5 2819.5,-394.5 3001.5,-394.5 3001.5,-358.5 2819.5,-358.5\"/>\n<text text-anchor=\"middle\" x=\"2829.5\" y=\"-372.8\" font-family=\"Times,serif\" font-size=\"14.00\"> </text>\n<polyline fill=\"none\" stroke=\"black\" points=\"2839.5,-358.5 2839.5,-394.5 \"/>\n<text text-anchor=\"middle\" x=\"2879.5\" y=\"-372.8\" font-family=\"Times,serif\" font-size=\"14.00\">data 0.9766</text>\n<polyline fill=\"none\" stroke=\"black\" points=\"2919.5,-358.5 2919.5,-394.5 \"/>\n<text text-anchor=\"middle\" x=\"2960.5\" y=\"-372.8\" font-family=\"Times,serif\" font-size=\"14.00\">grad 0.0000</text>\n</g>\n<!-- 138572754476320+ -->\n<g id=\"node176\" class=\"node\">\n<title>138572754476320+</title>\n<ellipse fill=\"none\" stroke=\"black\" cx=\"3067\" cy=\"-404.5\" rx=\"27\" ry=\"18\"/>\n<text text-anchor=\"middle\" x=\"3067\" y=\"-400.8\" font-family=\"Times,serif\" font-size=\"14.00\">+</text>\n</g>\n<!-- 138572754476176&#45;&gt;138572754476320+ -->\n<g id=\"edge196\" class=\"edge\">\n<title>138572754476176&#45;&gt;138572754476320+</title>\n<path fill=\"none\" stroke=\"black\" d=\"M3001.82,-392.87C3012.07,-394.73 3022.01,-396.53 3030.88,-398.13\"/>\n<polygon fill=\"black\" stroke=\"black\" points=\"3030.29,-401.58 3040.75,-399.92 3031.54,-394.7 3030.29,-401.58\"/>\n</g>\n<!-- 138572754476176+&#45;&gt;138572754476176 -->\n<g id=\"edge59\" class=\"edge\">\n<title>138572754476176+&#45;&gt;138572754476176</title>\n<path fill=\"none\" stroke=\"black\" d=\"M2781.21,-376.5C2789.34,-376.5 2798.85,-376.5 2808.94,-376.5\"/>\n<polygon fill=\"black\" stroke=\"black\" points=\"2809.19,-380 2819.19,-376.5 2809.19,-373 2809.19,-380\"/>\n</g>\n<!-- 138572727368864 -->\n<g id=\"node169\" class=\"node\">\n<title>138572727368864</title>\n<polygon fill=\"none\" stroke=\"black\" points=\"3132.5,-661.5 3132.5,-697.5 3314.5,-697.5 3314.5,-661.5 3132.5,-661.5\"/>\n<text text-anchor=\"middle\" x=\"3142.5\" y=\"-675.8\" font-family=\"Times,serif\" font-size=\"14.00\"> </text>\n<polyline fill=\"none\" stroke=\"black\" points=\"3152.5,-661.5 3152.5,-697.5 \"/>\n<text text-anchor=\"middle\" x=\"3192.5\" y=\"-675.8\" font-family=\"Times,serif\" font-size=\"14.00\">data 0.6052</text>\n<polyline fill=\"none\" stroke=\"black\" points=\"3232.5,-661.5 3232.5,-697.5 \"/>\n<text text-anchor=\"middle\" x=\"3273.5\" y=\"-675.8\" font-family=\"Times,serif\" font-size=\"14.00\">grad 0.0000</text>\n</g>\n<!-- 138572727368864&#45;&gt;138572727361856tanh -->\n<g id=\"edge122\" class=\"edge\">\n<title>138572727368864&#45;&gt;138572727361856tanh</title>\n<path fill=\"none\" stroke=\"black\" d=\"M3314.82,-679.5C3324.57,-679.5 3334.04,-679.5 3342.57,-679.5\"/>\n<polygon fill=\"black\" stroke=\"black\" points=\"3342.83,-683 3352.83,-679.5 3342.83,-676 3342.83,-683\"/>\n</g>\n<!-- 138572727368864+&#45;&gt;138572727368864 -->\n<g id=\"edge60\" class=\"edge\">\n<title>138572727368864+&#45;&gt;138572727368864</title>\n<path fill=\"none\" stroke=\"black\" d=\"M3094.21,-679.5C3102.34,-679.5 3111.85,-679.5 3121.94,-679.5\"/>\n<polygon fill=\"black\" stroke=\"black\" points=\"3122.19,-683 3132.19,-679.5 3122.19,-676 3122.19,-683\"/>\n</g>\n<!-- 138572755451088 -->\n<g id=\"node171\" class=\"node\">\n<title>138572755451088</title>\n<polygon fill=\"none\" stroke=\"black\" points=\"1880.5,-495.5 1880.5,-531.5 2062.5,-531.5 2062.5,-495.5 1880.5,-495.5\"/>\n<text text-anchor=\"middle\" x=\"1890.5\" y=\"-509.8\" font-family=\"Times,serif\" font-size=\"14.00\"> </text>\n<polyline fill=\"none\" stroke=\"black\" points=\"1900.5,-495.5 1900.5,-531.5 \"/>\n<text text-anchor=\"middle\" x=\"1940.5\" y=\"-509.8\" font-family=\"Times,serif\" font-size=\"14.00\">data 0.0009</text>\n<polyline fill=\"none\" stroke=\"black\" points=\"1980.5,-495.5 1980.5,-531.5 \"/>\n<text text-anchor=\"middle\" x=\"2021.5\" y=\"-509.8\" font-family=\"Times,serif\" font-size=\"14.00\">grad 0.0000</text>\n</g>\n<!-- 138572755451088&#45;&gt;138572753739040+ -->\n<g id=\"edge199\" class=\"edge\">\n<title>138572755451088&#45;&gt;138572753739040+</title>\n<path fill=\"none\" stroke=\"black\" d=\"M2049.53,-531.66C2054.97,-534.23 2060.19,-537.16 2065,-540.5 2086.11,-555.15 2102.97,-579.3 2113.74,-597.78\"/>\n<polygon fill=\"black\" stroke=\"black\" points=\"2110.74,-599.57 2118.68,-606.59 2116.85,-596.15 2110.74,-599.57\"/>\n</g>\n<!-- 138572755451088*&#45;&gt;138572755451088 -->\n<g id=\"edge61\" class=\"edge\">\n<title>138572755451088*&#45;&gt;138572755451088</title>\n<path fill=\"none\" stroke=\"black\" d=\"M1841.51,-490.96C1849.83,-492.41 1859.62,-494.12 1870.03,-495.94\"/>\n<polygon fill=\"black\" stroke=\"black\" points=\"1869.73,-499.44 1880.18,-497.72 1870.93,-492.55 1869.73,-499.44\"/>\n</g>\n<!-- 138572727360752 -->\n<g id=\"node173\" class=\"node\">\n<title>138572727360752</title>\n<polygon fill=\"none\" stroke=\"black\" points=\"2504,-716.5 2504,-752.5 2691,-752.5 2691,-716.5 2504,-716.5\"/>\n<text text-anchor=\"middle\" x=\"2514\" y=\"-730.8\" font-family=\"Times,serif\" font-size=\"14.00\"> </text>\n<polyline fill=\"none\" stroke=\"black\" points=\"2524,-716.5 2524,-752.5 \"/>\n<text text-anchor=\"middle\" x=\"2566.5\" y=\"-730.8\" font-family=\"Times,serif\" font-size=\"14.00\">data &#45;0.5005</text>\n<polyline fill=\"none\" stroke=\"black\" points=\"2609,-716.5 2609,-752.5 \"/>\n<text text-anchor=\"middle\" x=\"2650\" y=\"-730.8\" font-family=\"Times,serif\" font-size=\"14.00\">grad 0.0000</text>\n</g>\n<!-- 138572727360752&#45;&gt;138572754475648* -->\n<g id=\"edge113\" class=\"edge\">\n<title>138572727360752&#45;&gt;138572754475648*</title>\n<path fill=\"none\" stroke=\"black\" d=\"M2691.05,-734.5C2700.06,-734.5 2708.79,-734.5 2716.7,-734.5\"/>\n<polygon fill=\"black\" stroke=\"black\" points=\"2716.95,-738 2726.95,-734.5 2716.95,-731 2716.95,-738\"/>\n</g>\n<!-- 138572727360752&#45;&gt;138572727368480* -->\n<g id=\"edge178\" class=\"edge\">\n<title>138572727360752&#45;&gt;138572727368480*</title>\n<path fill=\"none\" stroke=\"black\" d=\"M2662.02,-752.65C2671.79,-755.76 2681.71,-759.08 2691,-762.5 2701.25,-766.27 2712.23,-770.86 2722.07,-775.18\"/>\n<polygon fill=\"black\" stroke=\"black\" points=\"2720.89,-778.49 2731.45,-779.37 2723.74,-772.1 2720.89,-778.49\"/>\n</g>\n<!-- 138572727360752&#45;&gt;138572754476416* -->\n<g id=\"edge126\" class=\"edge\">\n<title>138572727360752&#45;&gt;138572754476416*</title>\n<path fill=\"none\" stroke=\"black\" d=\"M2679.32,-716.25C2683.51,-713.7 2687.45,-710.8 2691,-707.5 2711.72,-688.24 2734.67,-610.98 2745.95,-568.99\"/>\n<polygon fill=\"black\" stroke=\"black\" points=\"2749.38,-569.7 2748.56,-559.14 2742.62,-567.91 2749.38,-569.7\"/>\n</g>\n<!-- 138572727360752&#45;&gt;138572754476800* -->\n<g id=\"edge197\" class=\"edge\">\n<title>138572727360752&#45;&gt;138572754476800*</title>\n<path fill=\"none\" stroke=\"black\" d=\"M2680.85,-716.38C2684.55,-713.79 2687.97,-710.85 2691,-707.5 2749.55,-642.81 2687.76,-592.44 2727,-514.5 2728.02,-512.48 2729.23,-510.5 2730.56,-508.58\"/>\n<polygon fill=\"black\" stroke=\"black\" points=\"2733.37,-510.67 2736.95,-500.69 2727.94,-506.26 2733.37,-510.67\"/>\n</g>\n<!-- 138572727360752tanh&#45;&gt;138572727360752 -->\n<g id=\"edge62\" class=\"edge\">\n<title>138572727360752tanh&#45;&gt;138572727360752</title>\n<path fill=\"none\" stroke=\"black\" d=\"M2459.99,-788.37C2471.99,-780.08 2488.38,-769.62 2504,-762.5 2508.96,-760.24 2514.15,-758.1 2519.44,-756.09\"/>\n<polygon fill=\"black\" stroke=\"black\" points=\"2520.82,-759.31 2529.02,-752.61 2518.43,-752.73 2520.82,-759.31\"/>\n</g>\n<!-- 138572754476320 -->\n<g id=\"node175\" class=\"node\">\n<title>138572754476320</title>\n<polygon fill=\"none\" stroke=\"black\" points=\"3132.5,-386.5 3132.5,-422.5 3314.5,-422.5 3314.5,-386.5 3132.5,-386.5\"/>\n<text text-anchor=\"middle\" x=\"3142.5\" y=\"-400.8\" font-family=\"Times,serif\" font-size=\"14.00\"> </text>\n<polyline fill=\"none\" stroke=\"black\" points=\"3152.5,-386.5 3152.5,-422.5 \"/>\n<text text-anchor=\"middle\" x=\"3192.5\" y=\"-400.8\" font-family=\"Times,serif\" font-size=\"14.00\">data 1.2101</text>\n<polyline fill=\"none\" stroke=\"black\" points=\"3232.5,-386.5 3232.5,-422.5 \"/>\n<text text-anchor=\"middle\" x=\"3273.5\" y=\"-400.8\" font-family=\"Times,serif\" font-size=\"14.00\">grad 0.0000</text>\n</g>\n<!-- 138572754476320&#45;&gt;138572754480928tanh -->\n<g id=\"edge106\" class=\"edge\">\n<title>138572754476320&#45;&gt;138572754480928tanh</title>\n<path fill=\"none\" stroke=\"black\" d=\"M3314.82,-404.5C3324.57,-404.5 3334.04,-404.5 3342.57,-404.5\"/>\n<polygon fill=\"black\" stroke=\"black\" points=\"3342.83,-408 3352.83,-404.5 3342.83,-401 3342.83,-408\"/>\n</g>\n<!-- 138572754476320+&#45;&gt;138572754476320 -->\n<g id=\"edge63\" class=\"edge\">\n<title>138572754476320+&#45;&gt;138572754476320</title>\n<path fill=\"none\" stroke=\"black\" d=\"M3094.21,-404.5C3102.34,-404.5 3111.85,-404.5 3121.94,-404.5\"/>\n<polygon fill=\"black\" stroke=\"black\" points=\"3122.19,-408 3132.19,-404.5 3122.19,-401 3122.19,-408\"/>\n</g>\n<!-- 138572753739040 -->\n<g id=\"node177\" class=\"node\">\n<title>138572753739040</title>\n<polygon fill=\"none\" stroke=\"black\" points=\"2191,-605.5 2191,-641.5 2378,-641.5 2378,-605.5 2191,-605.5\"/>\n<text text-anchor=\"middle\" x=\"2201\" y=\"-619.8\" font-family=\"Times,serif\" font-size=\"14.00\"> </text>\n<polyline fill=\"none\" stroke=\"black\" points=\"2211,-605.5 2211,-641.5 \"/>\n<text text-anchor=\"middle\" x=\"2253.5\" y=\"-619.8\" font-family=\"Times,serif\" font-size=\"14.00\">data &#45;0.3992</text>\n<polyline fill=\"none\" stroke=\"black\" points=\"2296,-605.5 2296,-641.5 \"/>\n<text text-anchor=\"middle\" x=\"2337\" y=\"-619.8\" font-family=\"Times,serif\" font-size=\"14.00\">grad 0.0000</text>\n</g>\n<!-- 138572753739040&#45;&gt;138572753732368+ -->\n<g id=\"edge170\" class=\"edge\">\n<title>138572753739040&#45;&gt;138572753732368+</title>\n<path fill=\"none\" stroke=\"black\" d=\"M2378.05,-624.1C2387.06,-624.16 2395.79,-624.21 2403.7,-624.27\"/>\n<polygon fill=\"black\" stroke=\"black\" points=\"2403.93,-627.77 2413.95,-624.33 2403.97,-620.77 2403.93,-627.77\"/>\n</g>\n<!-- 138572753739040+&#45;&gt;138572753739040 -->\n<g id=\"edge64\" class=\"edge\">\n<title>138572753739040+&#45;&gt;138572753739040</title>\n<path fill=\"none\" stroke=\"black\" d=\"M2155.21,-623.5C2162.73,-623.5 2171.43,-623.5 2180.67,-623.5\"/>\n<polygon fill=\"black\" stroke=\"black\" points=\"2180.89,-627 2190.89,-623.5 2180.89,-620 2180.89,-627\"/>\n</g>\n<!-- 138572727360848 -->\n<g id=\"node179\" class=\"node\">\n<title>138572727360848</title>\n<polygon fill=\"none\" stroke=\"black\" points=\"2819.5,-661.5 2819.5,-697.5 3001.5,-697.5 3001.5,-661.5 2819.5,-661.5\"/>\n<text text-anchor=\"middle\" x=\"2829.5\" y=\"-675.8\" font-family=\"Times,serif\" font-size=\"14.00\"> </text>\n<polyline fill=\"none\" stroke=\"black\" points=\"2839.5,-661.5 2839.5,-697.5 \"/>\n<text text-anchor=\"middle\" x=\"2879.5\" y=\"-675.8\" font-family=\"Times,serif\" font-size=\"14.00\">data 0.4956</text>\n<polyline fill=\"none\" stroke=\"black\" points=\"2919.5,-661.5 2919.5,-697.5 \"/>\n<text text-anchor=\"middle\" x=\"2960.5\" y=\"-675.8\" font-family=\"Times,serif\" font-size=\"14.00\">grad 0.0000</text>\n</g>\n<!-- 138572727360848&#45;&gt;138572727368864+ -->\n<g id=\"edge89\" class=\"edge\">\n<title>138572727360848&#45;&gt;138572727368864+</title>\n<path fill=\"none\" stroke=\"black\" d=\"M3001.82,-679.5C3011.57,-679.5 3021.04,-679.5 3029.57,-679.5\"/>\n<polygon fill=\"black\" stroke=\"black\" points=\"3029.83,-683 3039.83,-679.5 3029.83,-676 3029.83,-683\"/>\n</g>\n<!-- 138572727360848+&#45;&gt;138572727360848 -->\n<g id=\"edge65\" class=\"edge\">\n<title>138572727360848+&#45;&gt;138572727360848</title>\n<path fill=\"none\" stroke=\"black\" d=\"M2781.21,-679.5C2789.34,-679.5 2798.85,-679.5 2808.94,-679.5\"/>\n<polygon fill=\"black\" stroke=\"black\" points=\"2809.19,-683 2819.19,-679.5 2809.19,-676 2809.19,-683\"/>\n</g>\n<!-- 138572754476416 -->\n<g id=\"node181\" class=\"node\">\n<title>138572754476416</title>\n<polygon fill=\"none\" stroke=\"black\" points=\"2819.5,-523.5 2819.5,-559.5 3001.5,-559.5 3001.5,-523.5 2819.5,-523.5\"/>\n<text text-anchor=\"middle\" x=\"2829.5\" y=\"-537.8\" font-family=\"Times,serif\" font-size=\"14.00\"> </text>\n<polyline fill=\"none\" stroke=\"black\" points=\"2839.5,-523.5 2839.5,-559.5 \"/>\n<text text-anchor=\"middle\" x=\"2879.5\" y=\"-537.8\" font-family=\"Times,serif\" font-size=\"14.00\">data 0.2334</text>\n<polyline fill=\"none\" stroke=\"black\" points=\"2919.5,-523.5 2919.5,-559.5 \"/>\n<text text-anchor=\"middle\" x=\"2960.5\" y=\"-537.8\" font-family=\"Times,serif\" font-size=\"14.00\">grad 0.0000</text>\n</g>\n<!-- 138572754476416&#45;&gt;138572754476320+ -->\n<g id=\"edge100\" class=\"edge\">\n<title>138572754476416&#45;&gt;138572754476320+</title>\n<path fill=\"none\" stroke=\"black\" d=\"M2988.57,-523.36C2994.06,-520.53 2999.28,-517.27 3004,-513.5 3030.47,-492.37 3047.66,-456.67 3057.08,-431.91\"/>\n<polygon fill=\"black\" stroke=\"black\" points=\"3060.42,-432.96 3060.53,-422.36 3053.84,-430.58 3060.42,-432.96\"/>\n</g>\n<!-- 138572754476416*&#45;&gt;138572754476416 -->\n<g id=\"edge66\" class=\"edge\">\n<title>138572754476416*&#45;&gt;138572754476416</title>\n<path fill=\"none\" stroke=\"black\" d=\"M2781.21,-541.5C2789.34,-541.5 2798.85,-541.5 2808.94,-541.5\"/>\n<polygon fill=\"black\" stroke=\"black\" points=\"2809.19,-545 2819.19,-541.5 2809.19,-538 2809.19,-545\"/>\n</g>\n<!-- 138572753747344 -->\n<g id=\"node183\" class=\"node\">\n<title>138572753747344</title>\n<polygon fill=\"none\" stroke=\"black\" points=\"2191,-660.5 2191,-696.5 2378,-696.5 2378,-660.5 2191,-660.5\"/>\n<text text-anchor=\"middle\" x=\"2201\" y=\"-674.8\" font-family=\"Times,serif\" font-size=\"14.00\"> </text>\n<polyline fill=\"none\" stroke=\"black\" points=\"2211,-660.5 2211,-696.5 \"/>\n<text text-anchor=\"middle\" x=\"2253.5\" y=\"-674.8\" font-family=\"Times,serif\" font-size=\"14.00\">data &#45;0.5198</text>\n<polyline fill=\"none\" stroke=\"black\" points=\"2296,-660.5 2296,-696.5 \"/>\n<text text-anchor=\"middle\" x=\"2337\" y=\"-674.8\" font-family=\"Times,serif\" font-size=\"14.00\">grad 0.0000</text>\n</g>\n<!-- 138572753747344&#45;&gt;138572753732368+ -->\n<g id=\"edge139\" class=\"edge\">\n<title>138572753747344&#45;&gt;138572753732368+</title>\n<path fill=\"none\" stroke=\"black\" d=\"M2351.03,-660.5C2360.14,-657.66 2369.35,-654.63 2378,-651.5 2388.27,-647.78 2399.26,-643.2 2409.09,-638.88\"/>\n<polygon fill=\"black\" stroke=\"black\" points=\"2410.77,-641.96 2418.47,-634.68 2407.91,-635.57 2410.77,-641.96\"/>\n</g>\n<!-- 138572753747344*&#45;&gt;138572753747344 -->\n<g id=\"edge67\" class=\"edge\">\n<title>138572753747344*&#45;&gt;138572753747344</title>\n<path fill=\"none\" stroke=\"black\" d=\"M2155.21,-678.5C2162.73,-678.5 2171.43,-678.5 2180.67,-678.5\"/>\n<polygon fill=\"black\" stroke=\"black\" points=\"2180.89,-682 2190.89,-678.5 2180.89,-675 2180.89,-682\"/>\n</g>\n<!-- 138572727361040 -->\n<g id=\"node185\" class=\"node\">\n<title>138572727361040</title>\n<polygon fill=\"none\" stroke=\"black\" points=\"1880.5,-880.5 1880.5,-916.5 2062.5,-916.5 2062.5,-880.5 1880.5,-880.5\"/>\n<text text-anchor=\"middle\" x=\"1890.5\" y=\"-894.8\" font-family=\"Times,serif\" font-size=\"14.00\"> </text>\n<polyline fill=\"none\" stroke=\"black\" points=\"1900.5,-880.5 1900.5,-916.5 \"/>\n<text text-anchor=\"middle\" x=\"1940.5\" y=\"-894.8\" font-family=\"Times,serif\" font-size=\"14.00\">data 0.0495</text>\n<polyline fill=\"none\" stroke=\"black\" points=\"1980.5,-880.5 1980.5,-916.5 \"/>\n<text text-anchor=\"middle\" x=\"2021.5\" y=\"-894.8\" font-family=\"Times,serif\" font-size=\"14.00\">grad 0.0000</text>\n</g>\n<!-- 138572727361040&#45;&gt;138572727360656+ -->\n<g id=\"edge78\" class=\"edge\">\n<title>138572727361040&#45;&gt;138572727360656+</title>\n<path fill=\"none\" stroke=\"black\" d=\"M2040.82,-880.5C2049.07,-877.76 2057.29,-874.75 2065,-871.5 2076.63,-866.6 2088.84,-860.04 2099.33,-853.92\"/>\n<polygon fill=\"black\" stroke=\"black\" points=\"2101.25,-856.85 2108.03,-848.72 2097.66,-850.85 2101.25,-856.85\"/>\n</g>\n<!-- 138572727361040*&#45;&gt;138572727361040 -->\n<g id=\"edge68\" class=\"edge\">\n<title>138572727361040*&#45;&gt;138572727361040</title>\n<path fill=\"none\" stroke=\"black\" d=\"M1842.21,-898.5C1850.34,-898.5 1859.85,-898.5 1869.94,-898.5\"/>\n<polygon fill=\"black\" stroke=\"black\" points=\"1870.19,-902 1880.19,-898.5 1870.19,-895 1870.19,-902\"/>\n</g>\n<!-- 138572754476560 -->\n<g id=\"node187\" class=\"node\">\n<title>138572754476560</title>\n<polygon fill=\"none\" stroke=\"black\" points=\"2193.5,-385.5 2193.5,-421.5 2375.5,-421.5 2375.5,-385.5 2193.5,-385.5\"/>\n<text text-anchor=\"middle\" x=\"2203.5\" y=\"-399.8\" font-family=\"Times,serif\" font-size=\"14.00\"> </text>\n<polyline fill=\"none\" stroke=\"black\" points=\"2213.5,-385.5 2213.5,-421.5 \"/>\n<text text-anchor=\"middle\" x=\"2253.5\" y=\"-399.8\" font-family=\"Times,serif\" font-size=\"14.00\">data 0.6553</text>\n<polyline fill=\"none\" stroke=\"black\" points=\"2293.5,-385.5 2293.5,-421.5 \"/>\n<text text-anchor=\"middle\" x=\"2334.5\" y=\"-399.8\" font-family=\"Times,serif\" font-size=\"14.00\">grad 0.0000</text>\n</g>\n<!-- 138572754476560&#45;&gt;138572754481360+ -->\n<g id=\"edge156\" class=\"edge\">\n<title>138572754476560&#45;&gt;138572754481360+</title>\n<path fill=\"none\" stroke=\"black\" d=\"M2361.32,-385.38C2367.21,-382.55 2372.86,-379.28 2378,-375.5 2400.94,-358.63 2396.26,-344.78 2414,-322.5 2415.41,-320.73 2416.91,-318.93 2418.44,-317.15\"/>\n<polygon fill=\"black\" stroke=\"black\" points=\"2421.2,-319.32 2425.26,-309.53 2415.98,-314.65 2421.2,-319.32\"/>\n</g>\n<!-- 138572754476560*&#45;&gt;138572754476560 -->\n<g id=\"edge69\" class=\"edge\">\n<title>138572754476560*&#45;&gt;138572754476560</title>\n<path fill=\"none\" stroke=\"black\" d=\"M2155.21,-403.5C2163.34,-403.5 2172.85,-403.5 2182.94,-403.5\"/>\n<polygon fill=\"black\" stroke=\"black\" points=\"2183.19,-407 2193.19,-403.5 2183.19,-400 2183.19,-407\"/>\n</g>\n<!-- 138572727361088 -->\n<g id=\"node189\" class=\"node\">\n<title>138572727361088</title>\n<polygon fill=\"none\" stroke=\"black\" points=\"1565,-880.5 1565,-916.5 1752,-916.5 1752,-880.5 1565,-880.5\"/>\n<text text-anchor=\"middle\" x=\"1575\" y=\"-894.8\" font-family=\"Times,serif\" font-size=\"14.00\"> </text>\n<polyline fill=\"none\" stroke=\"black\" points=\"1585,-880.5 1585,-916.5 \"/>\n<text text-anchor=\"middle\" x=\"1627.5\" y=\"-894.8\" font-family=\"Times,serif\" font-size=\"14.00\">data &#45;1.0000</text>\n<polyline fill=\"none\" stroke=\"black\" points=\"1670,-880.5 1670,-916.5 \"/>\n<text text-anchor=\"middle\" x=\"1711\" y=\"-894.8\" font-family=\"Times,serif\" font-size=\"14.00\">grad 0.0000</text>\n</g>\n<!-- 138572727361088&#45;&gt;138572727361040* -->\n<g id=\"edge204\" class=\"edge\">\n<title>138572727361088&#45;&gt;138572727361040*</title>\n<path fill=\"none\" stroke=\"black\" d=\"M1752.05,-898.5C1761.06,-898.5 1769.79,-898.5 1777.7,-898.5\"/>\n<polygon fill=\"black\" stroke=\"black\" points=\"1777.95,-902 1787.95,-898.5 1777.95,-895 1777.95,-902\"/>\n</g>\n<!-- 138572727369296 -->\n<g id=\"node190\" class=\"node\">\n<title>138572727369296</title>\n<polygon fill=\"none\" stroke=\"black\" points=\"626,-385.5 626,-421.5 813,-421.5 813,-385.5 626,-385.5\"/>\n<text text-anchor=\"middle\" x=\"636\" y=\"-399.8\" font-family=\"Times,serif\" font-size=\"14.00\"> </text>\n<polyline fill=\"none\" stroke=\"black\" points=\"646,-385.5 646,-421.5 \"/>\n<text text-anchor=\"middle\" x=\"688.5\" y=\"-399.8\" font-family=\"Times,serif\" font-size=\"14.00\">data &#45;0.5443</text>\n<polyline fill=\"none\" stroke=\"black\" points=\"731,-385.5 731,-421.5 \"/>\n<text text-anchor=\"middle\" x=\"772\" y=\"-399.8\" font-family=\"Times,serif\" font-size=\"14.00\">grad 0.0000</text>\n</g>\n<!-- 138572727369296&#45;&gt;138572727368768+ -->\n<g id=\"edge152\" class=\"edge\">\n<title>138572727369296&#45;&gt;138572727368768+</title>\n<path fill=\"none\" stroke=\"black\" d=\"M813.05,-403.5C822.06,-403.5 830.79,-403.5 838.7,-403.5\"/>\n<polygon fill=\"black\" stroke=\"black\" points=\"838.95,-407 848.95,-403.5 838.95,-400 838.95,-407\"/>\n</g>\n<!-- 138572727369296+&#45;&gt;138572727369296 -->\n<g id=\"edge70\" class=\"edge\">\n<title>138572727369296+&#45;&gt;138572727369296</title>\n<path fill=\"none\" stroke=\"black\" d=\"M590.21,-403.5C597.73,-403.5 606.43,-403.5 615.67,-403.5\"/>\n<polygon fill=\"black\" stroke=\"black\" points=\"615.89,-407 625.89,-403.5 615.89,-400 615.89,-407\"/>\n</g>\n<!-- 138572754476656 -->\n<g id=\"node192\" class=\"node\">\n<title>138572754476656</title>\n<polygon fill=\"none\" stroke=\"black\" points=\"3132.5,-276.5 3132.5,-312.5 3314.5,-312.5 3314.5,-276.5 3132.5,-276.5\"/>\n<text text-anchor=\"middle\" x=\"3142.5\" y=\"-290.8\" font-family=\"Times,serif\" font-size=\"14.00\"> </text>\n<polyline fill=\"none\" stroke=\"black\" points=\"3152.5,-276.5 3152.5,-312.5 \"/>\n<text text-anchor=\"middle\" x=\"3192.5\" y=\"-290.8\" font-family=\"Times,serif\" font-size=\"14.00\">data 0.5673</text>\n<polyline fill=\"none\" stroke=\"black\" points=\"3232.5,-276.5 3232.5,-312.5 \"/>\n<text text-anchor=\"middle\" x=\"3273.5\" y=\"-290.8\" font-family=\"Times,serif\" font-size=\"14.00\">grad 0.0000</text>\n</g>\n<!-- 138572754476656&#45;&gt;138572754469552tanh -->\n<g id=\"edge91\" class=\"edge\">\n<title>138572754476656&#45;&gt;138572754469552tanh</title>\n<path fill=\"none\" stroke=\"black\" d=\"M3314.82,-294.5C3324.57,-294.5 3334.04,-294.5 3342.57,-294.5\"/>\n<polygon fill=\"black\" stroke=\"black\" points=\"3342.83,-298 3352.83,-294.5 3342.83,-291 3342.83,-298\"/>\n</g>\n<!-- 138572754476656+&#45;&gt;138572754476656 -->\n<g id=\"edge71\" class=\"edge\">\n<title>138572754476656+&#45;&gt;138572754476656</title>\n<path fill=\"none\" stroke=\"black\" d=\"M3094.21,-294.5C3102.34,-294.5 3111.85,-294.5 3121.94,-294.5\"/>\n<polygon fill=\"black\" stroke=\"black\" points=\"3122.19,-298 3132.19,-294.5 3122.19,-291 3122.19,-298\"/>\n</g>\n<!-- 138572727369440 -->\n<g id=\"node194\" class=\"node\">\n<title>138572727369440</title>\n<polygon fill=\"none\" stroke=\"black\" points=\"941.5,-330.5 941.5,-366.5 1123.5,-366.5 1123.5,-330.5 941.5,-330.5\"/>\n<text text-anchor=\"middle\" x=\"951.5\" y=\"-344.8\" font-family=\"Times,serif\" font-size=\"14.00\"> </text>\n<polyline fill=\"none\" stroke=\"black\" points=\"961.5,-330.5 961.5,-366.5 \"/>\n<text text-anchor=\"middle\" x=\"1001.5\" y=\"-344.8\" font-family=\"Times,serif\" font-size=\"14.00\">data 0.6168</text>\n<polyline fill=\"none\" stroke=\"black\" points=\"1041.5,-330.5 1041.5,-366.5 \"/>\n<text text-anchor=\"middle\" x=\"1082.5\" y=\"-344.8\" font-family=\"Times,serif\" font-size=\"14.00\">grad 0.0000</text>\n</g>\n<!-- 138572727369440&#45;&gt;138572727367760+ -->\n<g id=\"edge177\" class=\"edge\">\n<title>138572727369440&#45;&gt;138572727367760+</title>\n<path fill=\"none\" stroke=\"black\" d=\"M1099.56,-366.55C1108.51,-369.36 1117.53,-372.37 1126,-375.5 1136.49,-379.38 1147.71,-384.22 1157.68,-388.78\"/>\n<polygon fill=\"black\" stroke=\"black\" points=\"1156.25,-391.98 1166.79,-393.03 1159.2,-385.63 1156.25,-391.98\"/>\n</g>\n<!-- 138572727369440*&#45;&gt;138572727369440 -->\n<g id=\"edge72\" class=\"edge\">\n<title>138572727369440*&#45;&gt;138572727369440</title>\n<path fill=\"none\" stroke=\"black\" d=\"M903.21,-348.5C911.34,-348.5 920.85,-348.5 930.94,-348.5\"/>\n<polygon fill=\"black\" stroke=\"black\" points=\"931.19,-352 941.19,-348.5 931.19,-345 931.19,-352\"/>\n</g>\n<!-- 138572754476800 -->\n<g id=\"node196\" class=\"node\">\n<title>138572754476800</title>\n<polygon fill=\"none\" stroke=\"black\" points=\"2817,-468.5 2817,-504.5 3004,-504.5 3004,-468.5 2817,-468.5\"/>\n<text text-anchor=\"middle\" x=\"2827\" y=\"-482.8\" font-family=\"Times,serif\" font-size=\"14.00\"> </text>\n<polyline fill=\"none\" stroke=\"black\" points=\"2837,-468.5 2837,-504.5 \"/>\n<text text-anchor=\"middle\" x=\"2879.5\" y=\"-482.8\" font-family=\"Times,serif\" font-size=\"14.00\">data &#45;0.2936</text>\n<polyline fill=\"none\" stroke=\"black\" points=\"2922,-468.5 2922,-504.5 \"/>\n<text text-anchor=\"middle\" x=\"2963\" y=\"-482.8\" font-family=\"Times,serif\" font-size=\"14.00\">grad 0.0000</text>\n</g>\n<!-- 138572754476800&#45;&gt;138572754476656+ -->\n<g id=\"edge105\" class=\"edge\">\n<title>138572754476800&#45;&gt;138572754476656+</title>\n<path fill=\"none\" stroke=\"black\" d=\"M2990.58,-468.38C2995.42,-465.55 2999.95,-462.28 3004,-458.5 3014.39,-448.79 3042.67,-365.81 3057.17,-321.75\"/>\n<polygon fill=\"black\" stroke=\"black\" points=\"3060.5,-322.8 3060.29,-312.21 3053.85,-320.62 3060.5,-322.8\"/>\n</g>\n<!-- 138572754476800*&#45;&gt;138572754476800 -->\n<g id=\"edge73\" class=\"edge\">\n<title>138572754476800*&#45;&gt;138572754476800</title>\n<path fill=\"none\" stroke=\"black\" d=\"M2781.21,-486.5C2788.73,-486.5 2797.43,-486.5 2806.67,-486.5\"/>\n<polygon fill=\"black\" stroke=\"black\" points=\"2806.89,-490 2816.89,-486.5 2806.89,-483 2806.89,-490\"/>\n</g>\n<!-- 138572727361376 -->\n<g id=\"node198\" class=\"node\">\n<title>138572727361376</title>\n<polygon fill=\"none\" stroke=\"black\" points=\"941.5,-55.5 941.5,-91.5 1123.5,-91.5 1123.5,-55.5 941.5,-55.5\"/>\n<text text-anchor=\"middle\" x=\"951.5\" y=\"-69.8\" font-family=\"Times,serif\" font-size=\"14.00\"> </text>\n<polyline fill=\"none\" stroke=\"black\" points=\"961.5,-55.5 961.5,-91.5 \"/>\n<text text-anchor=\"middle\" x=\"1001.5\" y=\"-69.8\" font-family=\"Times,serif\" font-size=\"14.00\">data 0.8123</text>\n<polyline fill=\"none\" stroke=\"black\" points=\"1041.5,-55.5 1041.5,-91.5 \"/>\n<text text-anchor=\"middle\" x=\"1082.5\" y=\"-69.8\" font-family=\"Times,serif\" font-size=\"14.00\">grad 0.0000</text>\n</g>\n<!-- 138572727361376&#45;&gt;138572727364736* -->\n<g id=\"edge145\" class=\"edge\">\n<title>138572727361376&#45;&gt;138572727364736*</title>\n<path fill=\"none\" stroke=\"black\" d=\"M1099.56,-91.55C1108.51,-94.36 1117.53,-97.37 1126,-100.5 1136.49,-104.38 1147.71,-109.22 1157.68,-113.78\"/>\n<polygon fill=\"black\" stroke=\"black\" points=\"1156.25,-116.98 1166.79,-118.03 1159.2,-110.63 1156.25,-116.98\"/>\n</g>\n<!-- 138572727361472 -->\n<g id=\"node199\" class=\"node\">\n<title>138572727361472</title>\n<polygon fill=\"none\" stroke=\"black\" points=\"626,-165.5 626,-201.5 813,-201.5 813,-165.5 626,-165.5\"/>\n<text text-anchor=\"middle\" x=\"636\" y=\"-179.8\" font-family=\"Times,serif\" font-size=\"14.00\"> </text>\n<polyline fill=\"none\" stroke=\"black\" points=\"646,-165.5 646,-201.5 \"/>\n<text text-anchor=\"middle\" x=\"688.5\" y=\"-179.8\" font-family=\"Times,serif\" font-size=\"14.00\">data &#45;0.3854</text>\n<polyline fill=\"none\" stroke=\"black\" points=\"731,-165.5 731,-201.5 \"/>\n<text text-anchor=\"middle\" x=\"772\" y=\"-179.8\" font-family=\"Times,serif\" font-size=\"14.00\">grad 0.0000</text>\n</g>\n<!-- 138572727361472&#45;&gt;138572727367568* -->\n<g id=\"edge85\" class=\"edge\">\n<title>138572727361472&#45;&gt;138572727367568*</title>\n<path fill=\"none\" stroke=\"black\" d=\"M786.56,-201.55C795.51,-204.36 804.53,-207.37 813,-210.5 823.49,-214.38 834.71,-219.22 844.68,-223.78\"/>\n<polygon fill=\"black\" stroke=\"black\" points=\"843.25,-226.98 853.79,-228.03 846.2,-220.63 843.25,-226.98\"/>\n</g>\n</g>\n</svg>\n",
            "text/plain": [
              "<graphviz.graphs.Digraph at 0x7e07fbde45b0>"
            ]
          },
          "metadata": {},
          "execution_count": 199
        }
      ]
    },
    {
      "cell_type": "code",
      "source": [
        "xs = [\n",
        "  [2.0, 3.0, -1.0],\n",
        "  [3.0, -1.0, 0.5],\n",
        "  [0.5, 1.0, 1.0],\n",
        "  [1.0, 1.0, -1.0],\n",
        "]\n",
        "ys = [1.0, -1.0, -1.0, 1.0] # desired targets\n",
        "\n",
        "ypred = [n(x) for x in xs]\n",
        "ypred"
      ],
      "metadata": {
        "colab": {
          "base_uri": "https://localhost:8080/"
        },
        "id": "pqTCdcI6Y5D9",
        "outputId": "c4029f9d-1432-444e-ab1d-6e9446b29398"
      },
      "execution_count": null,
      "outputs": [
        {
          "output_type": "execute_result",
          "data": {
            "text/plain": [
              "[Value(data=0.9783011677192919),\n",
              " Value(data=0.7633063530413098),\n",
              " Value(data=0.9746716310373805),\n",
              " Value(data=0.870268022848909)]"
            ]
          },
          "metadata": {},
          "execution_count": 307
        }
      ]
    },
    {
      "cell_type": "code",
      "source": [
        "ypred = [n(x) for x in xs]\n",
        "loss = sum((yout - ygt)**2 for ygt, yout in zip(ys,ypred))#mse\n",
        "loss"
      ],
      "metadata": {
        "colab": {
          "base_uri": "https://localhost:8080/"
        },
        "id": "HXCOVd7ilk3i",
        "outputId": "594c9c18-1672-4d83-89fd-970bfac48c6d"
      },
      "execution_count": null,
      "outputs": [
        {
          "output_type": "execute_result",
          "data": {
            "text/plain": [
              "Value(data=6.552470948941119)"
            ]
          },
          "metadata": {},
          "execution_count": 215
        }
      ]
    },
    {
      "cell_type": "code",
      "source": [
        "ypred = [n(x) for x in xs]\n",
        "loss = sum((yout - ygt)**2 for ygt, yout in zip(ys,ypred))#mse\n",
        "loss"
      ],
      "metadata": {
        "colab": {
          "base_uri": "https://localhost:8080/"
        },
        "id": "JZz_kXLzrdeP",
        "outputId": "1016ad1c-eaa2-4ecf-b5c3-9c5fdb3e6a79"
      },
      "execution_count": null,
      "outputs": [
        {
          "output_type": "execute_result",
          "data": {
            "text/plain": [
              "Value(data=6.405714217691994)"
            ]
          },
          "metadata": {},
          "execution_count": 221
        }
      ]
    },
    {
      "cell_type": "code",
      "source": [
        "loss.backward()"
      ],
      "metadata": {
        "id": "gsFXV6PlmV3K"
      },
      "execution_count": null,
      "outputs": []
    },
    {
      "cell_type": "code",
      "source": [
        "n.layers[0].neurons[0].w[0].grad"
      ],
      "metadata": {
        "colab": {
          "base_uri": "https://localhost:8080/"
        },
        "id": "LXBIep21msAj",
        "outputId": "fd7e7285-6783-4144-d049-2d15761ef2ff"
      },
      "execution_count": null,
      "outputs": [
        {
          "output_type": "execute_result",
          "data": {
            "text/plain": [
              "-0.38773329289314556"
            ]
          },
          "metadata": {},
          "execution_count": 217
        }
      ]
    },
    {
      "cell_type": "code",
      "source": [
        "n.layers[0].neurons[0].w[0].data"
      ],
      "metadata": {
        "colab": {
          "base_uri": "https://localhost:8080/"
        },
        "id": "m0l827eLpCuJ",
        "outputId": "462ce481-6f1b-4945-f75e-cdcfe1bcb5fd"
      },
      "execution_count": null,
      "outputs": [
        {
          "output_type": "execute_result",
          "data": {
            "text/plain": [
              "-0.5396199160024089"
            ]
          },
          "metadata": {},
          "execution_count": 218
        }
      ]
    },
    {
      "cell_type": "code",
      "source": [
        "for p in n.parameters():\n",
        "  p.data+= -0.01*p.grad"
      ],
      "metadata": {
        "id": "0smtVs7LpEb0"
      },
      "execution_count": null,
      "outputs": []
    },
    {
      "cell_type": "code",
      "source": [
        "n.layers[0].neurons[0].w[0].data"
      ],
      "metadata": {
        "colab": {
          "base_uri": "https://localhost:8080/"
        },
        "id": "ISMyGipWrIUY",
        "outputId": "5b27dc02-7bae-4eb3-ee23-cd2e3f403fba"
      },
      "execution_count": null,
      "outputs": [
        {
          "output_type": "execute_result",
          "data": {
            "text/plain": [
              "-0.5357425830734774"
            ]
          },
          "metadata": {},
          "execution_count": 220
        }
      ]
    },
    {
      "cell_type": "code",
      "source": [
        "ypred = [n(x) for x in xs]\n",
        "loss = sum((yout - ygt)**2 for ygt, yout in zip(ys,ypred))#mse\n",
        "loss"
      ],
      "metadata": {
        "colab": {
          "base_uri": "https://localhost:8080/"
        },
        "id": "8eKQWxLYrKFn",
        "outputId": "e9e3e7bd-4d02-40e3-b33b-8b745d9b0bdb"
      },
      "execution_count": null,
      "outputs": [
        {
          "output_type": "execute_result",
          "data": {
            "text/plain": [
              "Value(data=0.012450341968040894)"
            ]
          },
          "metadata": {},
          "execution_count": 273
        }
      ]
    },
    {
      "cell_type": "code",
      "source": [
        "loss.backward()"
      ],
      "metadata": {
        "id": "sxj4JF57r0Xg"
      },
      "execution_count": null,
      "outputs": []
    },
    {
      "cell_type": "code",
      "source": [
        "for p in n.parameters():\n",
        "  p.data+= -0.01*p.grad"
      ],
      "metadata": {
        "id": "aR-FfDPDr1xC"
      },
      "execution_count": null,
      "outputs": []
    },
    {
      "cell_type": "code",
      "source": [
        " [n(x) for x in xs]"
      ],
      "metadata": {
        "colab": {
          "base_uri": "https://localhost:8080/"
        },
        "id": "MlMcZhexsK-3",
        "outputId": "1f28e4b1-eb59-4dbe-c67f-af9b3e4ff6c6"
      },
      "execution_count": null,
      "outputs": [
        {
          "output_type": "execute_result",
          "data": {
            "text/plain": [
              "[Value(data=0.9830892671592163),\n",
              " Value(data=-0.9941345264688695),\n",
              " Value(data=-0.9887074413985512),\n",
              " Value(data=0.9005367826797178)]"
            ]
          },
          "metadata": {},
          "execution_count": 276
        }
      ]
    },
    {
      "cell_type": "code",
      "source": [
        "loss_arr = [ ]\n",
        "for k in range(1000):\n",
        "\n",
        "  # forward pass\n",
        "  ypred = [n(x) for x in xs]\n",
        "  loss = sum((yout - ygt)**2 for ygt, yout in zip(ys, ypred))\n",
        "\n",
        "  #backward pass\n",
        "  for p in n.parameters():\n",
        "    p.grad = 0.0\n",
        "  loss.backward()\n",
        "\n",
        "  # update\n",
        "  for p in n.parameters():\n",
        "    p.data += -0.001 * p.grad\n",
        "\n",
        "  print(k, loss.data)\n",
        "  loss_arr.append(loss.data)\n"
      ],
      "metadata": {
        "colab": {
          "base_uri": "https://localhost:8080/"
        },
        "id": "bKGspZczsLKI",
        "outputId": "c5df2d07-e4b1-4e82-f0dc-c33d281ebf3d"
      },
      "execution_count": null,
      "outputs": [
        {
          "output_type": "stream",
          "name": "stdout",
          "text": [
            "0 7.02587857031755\n",
            "1 6.985475028289913\n",
            "2 6.943171850785056\n",
            "3 6.898967603754232\n",
            "4 6.852878197867387\n",
            "5 6.804938696923227\n",
            "6 6.755204848652958\n",
            "7 6.703754236301576\n",
            "8 6.650686953785981\n",
            "9 6.5961257190850215\n",
            "10 6.5402153599707376\n",
            "11 6.4831216326262755\n",
            "12 6.425029365689323\n",
            "13 6.366139957655578\n",
            "14 6.306668291680335\n",
            "15 6.246839165672479\n",
            "16 6.18688336429825\n",
            "17 6.1270335206177\n",
            "18 6.067519926767552\n",
            "19 6.008566454471304\n",
            "20 5.950386737266718\n",
            "21 5.893180748202007\n",
            "22 5.837131881171937\n",
            "23 5.782404613416468\n",
            "24 5.729142793639582\n",
            "25 5.677468567359573\n",
            "26 5.627481920824823\n",
            "27 5.579260798979684\n",
            "28 5.532861732788494\n",
            "29 5.488320897316119\n",
            "30 5.445655514309912\n",
            "31 5.404865511118795\n",
            "32 5.365935350749256\n",
            "33 5.3288359546165855\n",
            "34 5.293526648957087\n",
            "35 5.259957076827043\n",
            "36 5.228069029162611\n",
            "37 5.197798159727856\n",
            "38 5.169075559351748\n",
            "39 5.1418291742585405\n",
            "40 5.115985061312067\n",
            "41 5.091468479546685\n",
            "42 5.068204822478118\n",
            "43 5.046120399483216\n",
            "44 5.025143077162242\n",
            "45 5.005202793226903\n",
            "46 4.986231956272961\n",
            "47 4.9681657449711\n",
            "48 4.950942319900784\n",
            "49 4.934502960596265\n",
            "50 4.91879213948617\n",
            "51 4.903757543381719\n",
            "52 4.88935005207665\n",
            "53 4.8755236825196935\n",
            "54 4.862235505948322\n",
            "55 4.849445544358002\n",
            "56 4.837116651742236\n",
            "57 4.825214384684869\n",
            "58 4.8137068661215014\n",
            "59 4.802564645411142\n",
            "60 4.791760557268787\n",
            "61 4.781269581599447\n",
            "62 4.7710687058373615\n",
            "63 4.76113679102408\n",
            "64 4.751454442548061\n",
            "65 4.742003886209798\n",
            "66 4.732768850063211\n",
            "67 4.723734452310117\n",
            "68 4.714887095384248\n",
            "69 4.70621436624959\n",
            "70 4.697704942850064\n",
            "71 4.6893485065800675\n",
            "72 4.6811356605945145\n",
            "73 4.67305785374001\n",
            "74 4.665107309862885\n",
            "75 4.657276962233173\n",
            "76 4.649560392814212\n",
            "77 4.641951776103888\n",
            "78 4.634445827274528\n",
            "79 4.62703775434286\n",
            "80 4.619723214108477\n",
            "81 4.612498271608283\n",
            "82 4.605359362844701\n",
            "83 4.598303260556723\n",
            "84 4.591327042814646\n",
            "85 4.5844280642314015\n",
            "86 4.577603929595456\n",
            "87 4.570852469742176\n",
            "88 4.564171719492217\n",
            "89 4.557559897496734\n",
            "90 4.5510153878400805\n",
            "91 4.544536723260978\n",
            "92 4.538122569862959\n",
            "93 4.531771713194211\n",
            "94 4.525483045585679\n",
            "95 4.519255554644523\n",
            "96 4.513088312807782\n",
            "97 4.5069804678682335\n",
            "98 4.500931234391255\n",
            "99 4.494939885947711\n",
            "100 4.48900574809375\n",
            "101 4.483128192033808\n",
            "102 4.477306628908136\n",
            "103 4.471540504650872\n",
            "104 4.465829295368933\n",
            "105 4.460172503196064\n",
            "106 4.454569652580034\n",
            "107 4.449020286964386\n",
            "108 4.443523965829345\n",
            "109 4.438080262059346\n",
            "110 4.432688759607349\n",
            "111 4.427349051428607\n",
            "112 4.422060737658817\n",
            "113 4.416823424013678\n",
            "114 4.411636720388837\n",
            "115 4.4065002396409945\n",
            "116 4.401413596532545\n",
            "117 4.396376406823698\n",
            "118 4.391388286497339\n",
            "119 4.386448851103256\n",
            "120 4.381557715209436\n",
            "121 4.37671449194931\n",
            "122 4.371918792654729\n",
            "123 4.367170226565416\n",
            "124 4.3624684006064625\n",
            "125 4.357812919226196\n",
            "126 4.353203384287432\n",
            "127 4.348639395005827\n",
            "128 4.344120547929532\n",
            "129 4.339646436955018\n",
            "130 4.335216653374306\n",
            "131 4.330830785949395\n",
            "132 4.326488421010031\n",
            "133 4.322189142571341\n",
            "134 4.317932532468244\n",
            "135 4.313718170503811\n",
            "136 4.309545634609074\n",
            "137 4.305414501012018\n",
            "138 4.301324344413766\n",
            "139 4.297274738170116\n",
            "140 4.293265254476884\n",
            "141 4.289295464557592\n",
            "142 4.285364938852261\n",
            "143 4.2814732472062165\n",
            "144 4.277619959057895\n",
            "145 4.2738046436248425\n",
            "146 4.27002687008715\n",
            "147 4.266286207767665\n",
            "148 4.262582226308473\n",
            "149 4.258914495843135\n",
            "150 4.25528258716432\n",
            "151 4.251686071886489\n",
            "152 4.248124522603363\n",
            "153 4.2445975130399605\n",
            "154 4.241104618199035\n",
            "155 4.237645414501789\n",
            "156 4.234219479922774\n",
            "157 4.230826394118928\n",
            "158 4.2274657385527075\n",
            "159 4.224137096609351\n",
            "160 4.2208400537082635\n",
            "161 4.217574197408591\n",
            "162 4.214339117509032\n",
            "163 4.211134406141983\n",
            "164 4.207959657862099\n",
            "165 4.204814469729368\n",
            "166 4.201698441386822\n",
            "167 4.19861117513301\n",
            "168 4.195552275989341\n",
            "169 4.1925213517624575\n",
            "170 4.189518013101748\n",
            "171 4.186541873552168\n",
            "172 4.183592549602491\n",
            "173 4.1806696607291425\n",
            "174 4.177772829435769\n",
            "175 4.174901681288672\n",
            "176 4.1720558449482725\n",
            "177 4.169234952196725\n",
            "178 4.166438637961867\n",
            "179 4.163666540337572\n",
            "180 4.160918300600747\n",
            "181 4.15819356322501\n",
            "182 4.155491975891253\n",
            "183 4.152813189495189\n",
            "184 4.150156858152033\n",
            "185 4.147522639198409\n",
            "186 4.144910193191647\n",
            "187 4.14231918390657\n",
            "188 4.1397492783298695\n",
            "189 4.137200146652229\n",
            "190 4.134671462258249\n",
            "191 4.132162901714328\n",
            "192 4.129674144754567\n",
            "193 4.127204874264819\n",
            "194 4.124754776264967\n",
            "195 4.122323539889533\n",
            "196 4.119910857366688\n",
            "197 4.117516423995776\n",
            "198 4.115139938123413\n",
            "199 4.112781101118238\n",
            "200 4.110439617344422\n",
            "201 4.108115194133966\n",
            "202 4.105807541757889\n",
            "203 4.103516373396363\n",
            "204 4.101241405107851\n",
            "205 4.098982355797326\n",
            "206 4.096738947183616\n",
            "207 4.094510903765931\n",
            "208 4.092297952789637\n",
            "209 4.090099824211313\n",
            "210 4.0879162506631515\n",
            "211 4.085746967416736\n",
            "212 4.083591712346261\n",
            "213 4.081450225891192\n",
            "214 4.079322251018471\n",
            "215 4.077207533184228\n",
            "216 4.075105820295105\n",
            "217 4.073016862669176\n",
            "218 4.070940412996511\n",
            "219 4.068876226299413\n",
            "220 4.066824059892374\n",
            "221 4.06478367334172\n",
            "222 4.06275482842505\n",
            "223 4.060737289090413\n",
            "224 4.058730821415308\n",
            "225 4.0567351935654665\n",
            "226 4.054750175753496\n",
            "227 4.052775540197358\n",
            "228 4.050811061078715\n",
            "229 4.048856514501141\n",
            "230 4.046911678448253\n",
            "231 4.044976332741709\n",
            "232 4.04305025899915\n",
            "233 4.041133240592049\n",
            "234 4.039225062603486\n",
            "235 4.037325511785879\n",
            "236 4.0354343765186425\n",
            "237 4.033551446765801\n",
            "238 4.031676514033563\n",
            "239 4.02980937132784\n",
            "240 4.027949813111736\n",
            "241 4.0260976352629925\n",
            "242 4.024252635031399\n",
            "243 4.022414610996165\n",
            "244 4.0205833630232535\n",
            "245 4.018758692222672\n",
            "246 4.01694040090573\n",
            "247 4.015128292542241\n",
            "248 4.013322171717685\n",
            "249 4.011521844090312\n",
            "250 4.009727116348196\n",
            "251 4.007937796166207\n",
            "252 4.006153692162943\n",
            "253 4.00437461385756\n",
            "254 4.002600371626528\n",
            "255 4.000830776660296\n",
            "256 3.9990656409198535\n",
            "257 3.9973047770931927\n",
            "258 3.9955479985516256\n",
            "259 3.9937951193060024\n",
            "260 3.99204595396277\n",
            "261 3.9903003176798797\n",
            "262 3.988558026122537\n",
            "263 3.9868188954187698\n",
            "264 3.9850827421148063\n",
            "265 3.9833493831302533\n",
            "266 3.9816186357130454\n",
            "267 3.9798903173941826\n",
            "268 3.978164245942192\n",
            "269 3.9764402393173452\n",
            "270 3.97471811562559\n",
            "271 3.972997693072182\n",
            "272 3.971278789915\n",
            "273 3.9695612244175313\n",
            "274 3.9678448148015026\n",
            "275 3.9661293791991366\n",
            "276 3.964414735605021\n",
            "277 3.9627007018275635\n",
            "278 3.9609870954400064\n",
            "279 3.9592737337309996\n",
            "280 3.9575604336546735\n",
            "281 3.9558470117802385\n",
            "282 3.954133284241029\n",
            "283 3.9524190666830163\n",
            "284 3.9507041742127402\n",
            "285 3.948988421344636\n",
            "286 3.9472716219477357\n",
            "287 3.9455535891917113\n",
            "288 3.9438341354922324\n",
            "289 3.942113072455607\n",
            "290 3.9403902108226796\n",
            "291 3.9386653604119566\n",
            "292 3.9369383300619125\n",
            "293 3.9352089275724715\n",
            "294 3.9334769596455907\n",
            "295 3.9317422318249604\n",
            "296 3.9300045484347312\n",
            "297 3.9282637125172815\n",
            "298 3.9265195257699426\n",
            "299 3.9247717884806774\n",
            "300 3.9230202994626517\n",
            "301 3.9212648559876593\n",
            "302 3.919505253718364\n",
            "303 3.91774128663931\n",
            "304 3.9159727469866596\n",
            "305 3.914199425176591\n",
            "306 3.9124211097323442\n",
            "307 3.910637587209829\n",
            "308 3.9088486421217667\n",
            "309 3.907054056860294\n",
            "310 3.905253611617993\n",
            "311 3.9034470843072775\n",
            "312 3.901634250478076\n",
            "313 3.8998148832337605\n",
            "314 3.897988753145256\n",
            "315 3.896155628163249\n",
            "316 3.8943152735284596\n",
            "317 3.8924674516798787\n",
            "318 3.8906119221609194\n",
            "319 3.8887484415233993\n",
            "320 3.886876763229273\n",
            "321 3.884996637550058\n",
            "322 3.8831078114638387\n",
            "323 3.881210028549803\n",
            "324 3.879303028880193\n",
            "325 3.877386548909597\n",
            "326 3.8754603213614875\n",
            "327 3.873524075111905\n",
            "328 3.8715775350701978\n",
            "329 3.8696204220566948\n",
            "330 3.8676524526772424\n",
            "331 3.8656733391944496\n",
            "332 3.8636827893955634\n",
            "333 3.8616805064568465\n",
            "334 3.859666188804324\n",
            "335 3.8576395299707924\n",
            "336 3.855600218448946\n",
            "337 3.8535479375404975\n",
            "338 3.8514823652011367\n",
            "339 3.8494031738812002\n",
            "340 3.847310030361896\n",
            "341 3.845202595586922\n",
            "342 3.8430805244893254\n",
            "343 3.840943465813436\n",
            "344 3.838791061931698\n",
            "345 3.83662294865622\n",
            "346 3.834438755044866\n",
            "347 3.8322381032016883\n",
            "348 3.8300206080715156\n",
            "349 3.8277858772284628\n",
            "350 3.825533510658195\n",
            "351 3.8232631005336826\n",
            "352 3.820974230984229\n",
            "353 3.8186664778575676\n",
            "354 3.8163394084747253\n",
            "355 3.813992581377451\n",
            "356 3.81162554606791\n",
            "357 3.809237842740391\n",
            "358 3.806829002004738\n",
            "359 3.8043985446012063\n",
            "360 3.8019459811064555\n",
            "361 3.7994708116303433\n",
            "362 3.7969725255032176\n",
            "363 3.7944506009533536\n",
            "364 3.7919045047741924\n",
            "365 3.789333691981014\n",
            "366 3.786737605456686\n",
            "367 3.7841156755860768\n",
            "368 3.7814673198787525\n",
            "369 3.778791942579526\n",
            "370 3.776088934266447\n",
            "371 3.7733576714357664\n",
            "372 3.770597516073432\n",
            "373 3.767807815212632\n",
            "374 3.7649879004769007\n",
            "375 3.7621370876082647\n",
            "376 3.759254675979923\n",
            "377 3.756339948092907\n",
            "378 3.753392169056159\n",
            "379 3.7504105860494583\n",
            "380 3.7473944277685995\n",
            "381 3.7443429038521994\n",
            "382 3.741255204289507\n",
            "383 3.7381304988085584\n",
            "384 3.7349679362440225\n",
            "385 3.731766643884015\n",
            "386 3.728525726795206\n",
            "387 3.725244267125464\n",
            "388 3.721921323383316\n",
            "389 3.7185559296934274\n",
            "390 3.715147095027348\n",
            "391 3.711693802408689\n",
            "392 3.7081950080919523\n",
            "393 3.704649640714134\n",
            "394 3.7010566004182825\n",
            "395 3.697414757948131\n",
            "396 3.693722953712935\n",
            "397 3.6899799968216156\n",
            "398 3.6861846640853364\n",
            "399 3.6823356989875746\n",
            "400 3.678431810620813\n",
            "401 3.6744716725889313\n",
            "402 3.6704539218743983\n",
            "403 3.6663771576693582\n",
            "404 3.6622399401697474\n",
            "405 3.6580407893315625\n",
            "406 3.65377818358844\n",
            "407 3.6494505585297454\n",
            "408 3.6450563055383904\n",
            "409 3.640593770387662\n",
            "410 3.636061251796388\n",
            "411 3.6314569999418658\n",
            "412 3.6267792149299938\n",
            "413 3.6220260452222366\n",
            "414 3.617195586019067\n",
            "415 3.612285877599731\n",
            "416 3.607294903618284\n",
            "417 3.602220589356034\n",
            "418 3.5970607999307074\n",
            "419 3.5918133384628934\n",
            "420 3.586475944200523\n",
            "421 3.581046290602485\n",
            "422 3.5755219833827168\n",
            "423 3.569900558516531\n",
            "424 3.5641794802112896\n",
            "425 3.5583561388439904\n",
            "426 3.5524278488688323\n",
            "427 3.5463918466983717\n",
            "428 3.540245288562493\n",
            "429 3.533985248350096\n",
            "430 3.527608715439171\n",
            "431 3.521112592521747\n",
            "432 3.514493693431146\n",
            "433 3.5077487409799857\n",
            "434 3.5008743648184875\n",
            "435 3.4938670993239156\n",
            "436 3.486723381533301\n",
            "437 3.4794395491331147\n",
            "438 3.4720118385211776\n",
            "439 3.464436382957896\n",
            "440 3.456709210825838\n",
            "441 3.4488262440188\n",
            "442 3.4407832964838065\n",
            "443 3.4325760729420205\n",
            "444 3.4242001678171734\n",
            "445 3.4156510644031117\n",
            "446 3.4069241343051586\n",
            "447 3.39801463719336\n",
            "448 3.3889177209092884\n",
            "449 3.3796284219719155\n",
            "450 3.3701416665321378\n",
            "451 3.360452271829863\n",
            "452 3.3505549482120434\n",
            "453 3.340444301774874\n",
            "454 3.330114837698188\n",
            "455 3.319560964345288\n",
            "456 3.3087769982065534\n",
            "457 3.2977571697705153\n",
            "458 3.286495630411351\n",
            "459 3.2749864603869296\n",
            "460 3.2632236780466686\n",
            "461 3.251201250353143\n",
            "462 3.2389131048257918\n",
            "463 3.22635314301884\n",
            "464 3.213515255648575\n",
            "465 3.200393339487154\n",
            "466 3.1869813161409644\n",
            "467 3.1732731528309315\n",
            "468 3.159262885289685\n",
            "469 3.1449446428859575\n",
            "470 3.1303126760795017\n",
            "471 3.115361386299873\n",
            "472 3.1000853583291104\n",
            "473 3.084479395251377\n",
            "474 3.0685385560113656\n",
            "475 3.0522581955974273\n",
            "476 3.0356340078345143\n",
            "477 3.018662070735619\n",
            "478 3.0013388943183394\n",
            "479 2.983661470745069\n",
            "480 2.9656273265910986\n",
            "481 2.9472345769846675\n",
            "482 2.928481981296809\n",
            "483 2.909368999987418\n",
            "484 2.8898958521377756\n",
            "485 2.8700635731200226\n",
            "486 2.8498740717721915\n",
            "487 2.8293301863649556\n",
            "488 2.8084357385656418\n",
            "489 2.787195584528665\n",
            "490 2.7656156621723063\n",
            "491 2.743703033643059\n",
            "492 2.7214659219239494\n",
            "493 2.698913740516115\n",
            "494 2.6760571151172368\n",
            "495 2.6529078962395602\n",
            "496 2.6294791617578195\n",
            "497 2.605785208455721\n",
            "498 2.5818415317511185\n",
            "499 2.5576647929252534\n",
            "500 2.5332727733604306\n",
            "501 2.5086843155014042\n",
            "502 2.4839192504955365\n",
            "503 2.4589983127305053\n",
            "504 2.4339430417696293\n",
            "505 2.4087756724758873\n",
            "506 2.3835190144072893\n",
            "507 2.3581963218482915\n",
            "508 2.3328311561040787\n",
            "509 2.3074472419160283\n",
            "510 2.282068320047723\n",
            "511 2.2567179982326944\n",
            "512 2.2314196027603517\n",
            "513 2.2061960330005594\n",
            "514 2.1810696211273863\n",
            "515 2.1560619991989722\n",
            "516 2.1311939755863922\n",
            "517 2.1064854225253855\n",
            "518 2.081955176299036\n",
            "519 2.057620951257016\n",
            "520 2.033499268549098\n",
            "521 2.0096054001097228\n",
            "522 1.9859533280885608\n",
            "523 1.962555719591185\n",
            "524 1.9394239162847748\n",
            "525 1.9165679381453766\n",
            "526 1.8939965003828367\n",
            "527 1.8717170423822873\n",
            "528 1.8497357673497867\n",
            "529 1.8280576912454114\n",
            "530 1.806686699528433\n",
            "531 1.7856256102235704\n",
            "532 1.764876241840439\n",
            "533 1.7444394847351683\n",
            "534 1.7243153745879778\n",
            "535 1.7045031667771944\n",
            "536 1.685001410552882\n",
            "537 1.6658080220460694\n",
            "538 1.6469203552873903\n",
            "539 1.628335270547032\n",
            "540 1.6100491994424728\n",
            "541 1.592058206388216\n",
            "542 1.5743580460803623\n",
            "543 1.5569442168165433\n",
            "544 1.539812009547504\n",
            "545 1.52295655263982\n",
            "546 1.5063728524000495\n",
            "547 1.4900558294691386\n",
            "548 1.4740003512430258\n",
            "549 1.4582012605117725\n",
            "550 1.4426534005364031\n",
            "551 1.4273516368008603\n",
            "552 1.4122908756873152\n",
            "553 1.3974660803276322\n",
            "554 1.3828722838829781\n",
            "555 1.3685046004985828\n",
            "556 1.354358234172228\n",
            "557 1.3404284857640674\n",
            "558 1.3267107583625306\n",
            "559 1.3132005612069944\n",
            "560 1.29989351235302\n",
            "561 1.2867853402508724\n",
            "562 1.2738718843928956\n",
            "563 1.261149095170571\n",
            "564 1.2486130330678\n",
            "565 1.2362598673034395\n",
            "566 1.224085874023297\n",
            "567 1.2120874341299517\n",
            "568 1.2002610308277397\n",
            "569 1.1886032469501904\n",
            "570 1.1771107621280372\n",
            "571 1.1657803498476296\n",
            "572 1.154608874442172\n",
            "573 1.1435932880515471\n",
            "574 1.1327306275806273\n",
            "575 1.1220180116807745\n",
            "576 1.11145263777468\n",
            "577 1.1010317791407382\n",
            "578 1.090752782069707\n",
            "579 1.0806130631034454\n",
            "580 1.0706101063629847\n",
            "581 1.060741460971046\n",
            "582 1.051004738572281\n",
            "583 1.0413976109530156\n",
            "584 1.0319178077609863\n",
            "585 1.022563114324552\n",
            "586 1.013331369570011\n",
            "587 1.0042204640349846\n",
            "588 0.9952283379753126\n",
            "589 0.9863529795625027\n",
            "590 0.9775924231684782\n",
            "591 0.9689447477341879\n",
            "592 0.960408075218468\n",
            "593 0.951980569123526\n",
            "594 0.9436604330933664\n",
            "595 0.9354459095815107\n",
            "596 0.9273352785844351\n",
            "597 0.9193268564371957\n",
            "598 0.9114189946678618\n",
            "599 0.9036100789074565\n",
            "600 0.89589852785225\n",
            "601 0.8882827922753873\n",
            "602 0.8807613540849725\n",
            "603 0.8733327254258577\n",
            "604 0.8659954478225675\n",
            "605 0.858748091360879\n",
            "606 0.8515892539057639\n",
            "607 0.8445175603534969\n",
            "608 0.8375316619158969\n",
            "609 0.8306302354347606\n",
            "610 0.823811982724708\n",
            "611 0.8170756299427229\n",
            "612 0.8104199269828362\n",
            "613 0.8038436468944574\n",
            "614 0.7973455853229837\n",
            "615 0.7909245599714008\n",
            "616 0.7845794100816652\n",
            "617 0.7783089959347619\n",
            "618 0.7721121983683856\n",
            "619 0.7659879183112717\n",
            "620 0.7599350763332721\n",
            "621 0.753952612210341\n",
            "622 0.7480394845036209\n",
            "623 0.7421946701519222\n",
            "624 0.7364171640768914\n",
            "625 0.7307059788002402\n",
            "626 0.7250601440724452\n",
            "627 0.7194787065123505\n",
            "628 0.7139607292571686\n",
            "629 0.708505291622391\n",
            "630 0.7031114887711575\n",
            "631 0.6977784313926625\n",
            "632 0.6925052453892048\n",
            "633 0.6872910715715096\n",
            "634 0.6821350653619804\n",
            "635 0.677036396505553\n",
            "636 0.6719942487878507\n",
            "637 0.6670078197603527\n",
            "638 0.662076320472307\n",
            "639 0.6571989752091434\n",
            "640 0.6523750212371351\n",
            "641 0.6476037085540969\n",
            "642 0.6428842996459074\n",
            "643 0.6382160692486487\n",
            "644 0.6335983041161837\n",
            "645 0.6290303027929868\n",
            "646 0.6245113753920658\n",
            "647 0.6200408433778045\n",
            "648 0.6156180393535882\n",
            "649 0.6112423068540509\n",
            "650 0.606913000141826\n",
            "651 0.6026294840086518\n",
            "652 0.5983911335807189\n",
            "653 0.5941973341281374\n",
            "654 0.590047480878408\n",
            "655 0.5859409788337876\n",
            "656 0.5818772425924557\n",
            "657 0.5778556961733669\n",
            "658 0.573875772844703\n",
            "659 0.5699369149558318\n",
            "660 0.5660385737726847\n",
            "661 0.5621802093164645\n",
            "662 0.5583612902056067\n",
            "663 0.554581293500913\n",
            "664 0.5508397045537797\n",
            "665 0.5471360168574513\n",
            "666 0.5434697319012285\n",
            "667 0.5398403590275556\n",
            "668 0.53624741529193\n",
            "669 0.5326904253255657\n",
            "670 0.5291689212007464\n",
            "671 0.5256824422988134\n",
            "672 0.5222305351807243\n",
            "673 0.5188127534601307\n",
            "674 0.5154286576789185\n",
            "675 0.5120778151851542\n",
            "676 0.5087598000133905\n",
            "677 0.5054741927672773\n",
            "678 0.5022205805044294\n",
            "679 0.4989985566235031\n",
            "680 0.4958077207534387\n",
            "681 0.49264767864481607\n",
            "682 0.48951804206328714\n",
            "683 0.48641842868503576\n",
            "684 0.4833484619942268\n",
            "685 0.4803077711824052\n",
            "686 0.4772959910497951\n",
            "687 0.4743127619084747\n",
            "688 0.47135772948737736\n",
            "689 0.4684305448390843\n",
            "690 0.46553086424837714\n",
            "691 0.46265834914250686\n",
            "692 0.4598126660031544\n",
            "693 0.4569934862800367\n",
            "694 0.45420048630613896\n",
            "695 0.45143334721452605\n",
            "696 0.44869175485671453\n",
            "697 0.4459753997225665\n",
            "698 0.4432839768616737\n",
            "699 0.4406171858062117\n",
            "700 0.43797473049522173\n",
            "701 0.4353563192003042\n",
            "702 0.43276166445268577\n",
            "703 0.4301904829716433\n",
            "704 0.4276424955942447\n",
            "705 0.42511742720639445\n",
            "706 0.4226150066751503\n",
            "707 0.4201349667822832\n",
            "708 0.41767704415906776\n",
            "709 0.4152409792222653\n",
            "710 0.4128265161112855\n",
            "711 0.4104334026265023\n",
            "712 0.4080613901686943\n",
            "713 0.4057102336795999\n",
            "714 0.4033796915835535\n",
            "715 0.4010695257301893\n",
            "716 0.39877950133818874\n",
            "717 0.39650938694005256\n",
            "718 0.39425895432787583\n",
            "719 0.39202797850010895\n",
            "720 0.3898162376092822\n",
            "721 0.3876235129106799\n",
            "722 0.3854495887119392\n",
            "723 0.3832942523235618\n",
            "724 0.3811572940103185\n",
            "725 0.3790385069435271\n",
            "726 0.37693768715419107\n",
            "727 0.3748546334869787\n",
            "728 0.3727891475550289\n",
            "729 0.37074103369556544\n",
            "730 0.36871009892630774\n",
            "731 0.36669615290265695\n",
            "732 0.36469900787564935\n",
            "733 0.3627184786506574\n",
            "734 0.3607543825468268\n",
            "735 0.35880653935722967\n",
            "736 0.3568747713097322\n",
            "737 0.35495890302854993\n",
            "738 0.3530587614964852\n",
            "739 0.3511741760178293\n",
            "740 0.34930497818192485\n",
            "741 0.34745100182736266\n",
            "742 0.345612083006814\n",
            "743 0.343788059952475\n",
            "744 0.34197877304212443\n",
            "745 0.3401840647657675\n",
            "746 0.3384037796928685\n",
            "747 0.33663776444015314\n",
            "748 0.33488586763997175\n",
            "749 0.33314793990921443\n",
            "750 0.33142383381876456\n",
            "751 0.32971340386348325\n",
            "752 0.32801650643271346\n",
            "753 0.32633299978129393\n",
            "754 0.32466274400107364\n",
            "755 0.3230056009929165\n",
            "756 0.32136143443919\n",
            "757 0.31973010977672356\n",
            "758 0.3181114941702336\n",
            "759 0.3165054564862012\n",
            "760 0.3149118672671981\n",
            "761 0.3133305987066507\n",
            "762 0.3117615246240325\n",
            "763 0.3102045204404818\n",
            "764 0.30865946315483067\n",
            "765 0.30712623132004047\n",
            "766 0.3056047050200389\n",
            "767 0.3040947658469454\n",
            "768 0.3025962968786836\n",
            "769 0.30110918265696784\n",
            "770 0.2996333091656624\n",
            "771 0.2981685638095024\n",
            "772 0.29671483539317295\n",
            "773 0.29527201410073634\n",
            "774 0.2938399914754035\n",
            "775 0.292418660399644\n",
            "776 0.29100791507562485\n",
            "777 0.289607651005976\n",
            "778 0.2882177649748739\n",
            "779 0.28683815502943877\n",
            "780 0.28546872046143945\n",
            "781 0.28410936178929913\n",
            "782 0.282759980740398\n",
            "783 0.2814204802336689\n",
            "784 0.28009076436247304\n",
            "785 0.2787707383777632\n",
            "786 0.27746030867151755\n",
            "787 0.2761593827604451\n",
            "788 0.27486786926995704\n",
            "789 0.2735856779183992\n",
            "790 0.2723127195015401\n",
            "791 0.27104890587730796\n",
            "792 0.26979414995078155\n",
            "793 0.26854836565941426\n",
            "794 0.2673114679585037\n",
            "795 0.2660833728068927\n",
            "796 0.26486399715289805\n",
            "797 0.26365325892046837\n",
            "798 0.26245107699556064\n",
            "799 0.26125737121273657\n",
            "800 0.2600720623419712\n",
            "801 0.2588950720756719\n",
            "802 0.2577263230159048\n",
            "803 0.2565657386618211\n",
            "804 0.255413243397286\n",
            "805 0.2542687624787007\n",
            "806 0.25313222202301683\n",
            "807 0.2520035489959408\n",
            "808 0.2508826712003218\n",
            "809 0.24976951726472404\n",
            "810 0.24866401663217616\n",
            "811 0.2475660995490969\n",
            "812 0.24647569705439534\n",
            "813 0.24539274096873798\n",
            "814 0.244317163883985\n",
            "815 0.2432488991527896\n",
            "816 0.24218788087835857\n",
            "817 0.2411340439043712\n",
            "818 0.24008732380505338\n",
            "819 0.23904765687540508\n",
            "820 0.2380149801215783\n",
            "821 0.23698923125140264\n",
            "822 0.23597034866505498\n",
            "823 0.23495827144587375\n",
            "824 0.23395293935131123\n",
            "825 0.23295429280402583\n",
            "826 0.23196227288310858\n",
            "827 0.23097682131544262\n",
            "828 0.22999788046719513\n",
            "829 0.22902539333543695\n",
            "830 0.22805930353988657\n",
            "831 0.227099555314784\n",
            "832 0.22614609350088136\n",
            "833 0.22519886353755666\n",
            "834 0.22425781145504514\n",
            "835 0.22332288386678723\n",
            "836 0.2223940279618893\n",
            "837 0.22147119149769873\n",
            "838 0.22055432279248866\n",
            "839 0.21964337071825007\n",
            "840 0.21873828469359458\n",
            "841 0.2178390146767558\n",
            "842 0.216945511158702\n",
            "843 0.21605772515634314\n",
            "844 0.21517560820584253\n",
            "845 0.21429911235602475\n",
            "846 0.21342819016188014\n",
            "847 0.21256279467816647\n",
            "848 0.21170287945310023\n",
            "849 0.21084839852214418\n",
            "850 0.20999930640188222\n",
            "851 0.20915555808398412\n",
            "852 0.20831710902925973\n",
            "853 0.20748391516179554\n",
            "854 0.20665593286317854\n",
            "855 0.20583311896680445\n",
            "856 0.2050154307522637\n",
            "857 0.20420282593981293\n",
            "858 0.20339526268492195\n",
            "859 0.20259269957290177\n",
            "860 0.20179509561360698\n",
            "861 0.2010024102362156\n",
            "862 0.20021460328408208\n",
            "863 0.19943163500966354\n",
            "864 0.19865346606951945\n",
            "865 0.19788005751937954\n",
            "866 0.19711137080928393\n",
            "867 0.19634736777879122\n",
            "868 0.19558801065225218\n",
            "869 0.19483326203415308\n",
            "870 0.1940830849045223\n",
            "871 0.19333744261440072\n",
            "872 0.19259629888137852\n",
            "873 0.1918596177851903\n",
            "874 0.19112736376337483\n",
            "875 0.19039950160699384\n",
            "876 0.18967599645640923\n",
            "877 0.18895681379712204\n",
            "878 0.18824191945566487\n",
            "879 0.1875312795955541\n",
            "880 0.18682486071329674\n",
            "881 0.18612262963445284\n",
            "882 0.18542455350974982\n",
            "883 0.18473059981125436\n",
            "884 0.1840407363285924\n",
            "885 0.18335493116522267\n",
            "886 0.18267315273476187\n",
            "887 0.1819953697573577\n",
            "888 0.1813215512561136\n",
            "889 0.18065166655356002\n",
            "890 0.1799856852681746\n",
            "891 0.17932357731094906\n",
            "892 0.17866531288200244\n",
            "893 0.17801086246724\n",
            "894 0.17736019683505685\n",
            "895 0.1767132870330862\n",
            "896 0.17607010438499082\n",
            "897 0.17543062048729824\n",
            "898 0.17479480720627621\n",
            "899 0.1741626366748527\n",
            "900 0.17353408128957346\n",
            "901 0.17290911370760376\n",
            "902 0.1722877068437675\n",
            "903 0.17166983386762444\n",
            "904 0.17105546820058992\n",
            "905 0.17044458351308853\n",
            "906 0.1698371537217476\n",
            "907 0.16923315298662694\n",
            "908 0.16863255570848495\n",
            "909 0.16803533652607952\n",
            "910 0.16744147031350748\n",
            "911 0.16685093217757402\n",
            "912 0.1662636974551998\n",
            "913 0.1656797417108614\n",
            "914 0.16509904073406312\n",
            "915 0.16452157053684452\n",
            "916 0.1639473073513165\n",
            "917 0.1633762276272327\n",
            "918 0.16280830802959048\n",
            "919 0.16224352543626236\n",
            "920 0.16168185693565937\n",
            "921 0.16112327982442284\n",
            "922 0.16056777160514646\n",
            "923 0.1600153099841277\n",
            "924 0.1594658728691483\n",
            "925 0.15891943836728026\n",
            "926 0.15837598478272377\n",
            "927 0.15783549061466984\n",
            "928 0.1572979345551912\n",
            "929 0.15676329548715834\n",
            "930 0.15623155248218445\n",
            "931 0.15570268479859345\n",
            "932 0.15517667187941572\n",
            "933 0.15465349335040796\n",
            "934 0.1541331290180979\n",
            "935 0.15361555886785372\n",
            "936 0.1531007630619779\n",
            "937 0.15258872193782397\n",
            "938 0.15207941600593736\n",
            "939 0.15157282594821958\n",
            "940 0.1510689326161141\n",
            "941 0.15056771702881613\n",
            "942 0.15006916037150317\n",
            "943 0.14957324399358854\n",
            "944 0.14907994940699584\n",
            "945 0.14858925828445416\n",
            "946 0.14810115245781558\n",
            "947 0.14761561391639186\n",
            "948 0.14713262480531303\n",
            "949 0.14665216742390322\n",
            "950 0.14617422422408072\n",
            "951 0.14569877780877294\n",
            "952 0.14522581093035397\n",
            "953 0.14475530648909865\n",
            "954 0.14428724753165786\n",
            "955 0.14382161724954962\n",
            "956 0.14335839897767094\n",
            "957 0.14289757619282498\n",
            "958 0.14243913251226847\n",
            "959 0.14198305169227485\n",
            "960 0.14152931762671536\n",
            "961 0.14107791434565647\n",
            "962 0.14062882601397567\n",
            "963 0.1401820369299908\n",
            "964 0.13973753152410964\n",
            "965 0.13929529435749174\n",
            "966 0.1388553101207289\n",
            "967 0.13841756363253926\n",
            "968 0.1379820398384791\n",
            "969 0.1375487238096669\n",
            "970 0.13711760074152535\n",
            "971 0.13668865595253654\n",
            "972 0.13626187488301184\n",
            "973 0.1358372430938764\n",
            "974 0.13541474626546857\n",
            "975 0.13499437019635205\n",
            "976 0.13457610080214277\n",
            "977 0.13415992411435\n",
            "978 0.1337458262792286\n",
            "979 0.1333337935566475\n",
            "980 0.1329238123189697\n",
            "981 0.13251586904994478\n",
            "982 0.13210995034361597\n",
            "983 0.1317060429032376\n",
            "984 0.1313041335402072\n",
            "985 0.1309042091730082\n",
            "986 0.13050625682616565\n",
            "987 0.13011026362921319\n",
            "988 0.12971621681567347\n",
            "989 0.12932410372204714\n",
            "990 0.12893391178681707\n",
            "991 0.12854562854946092\n",
            "992 0.12815924164947645\n",
            "993 0.1277747388254173\n",
            "994 0.12739210791394037\n",
            "995 0.12701133684886318\n",
            "996 0.12663241366023123\n",
            "997 0.12625532647339868\n",
            "998 0.1258800635081162\n",
            "999 0.12550661307763014\n"
          ]
        }
      ]
    },
    {
      "cell_type": "code",
      "source": [
        "x_values = np.arange(0, 1000)\n",
        "\n",
        "# Create the plot\n",
        "plt.plot(x_values, loss_arr)\n",
        "\n",
        "# Label the axes\n",
        "plt.xlabel('Epochs')  # Change this to your x-axis label\n",
        "plt.ylabel('Loss')    # Change this to your y-axis label\n",
        "\n",
        "# Title of the plot\n",
        "plt.title('Loss over Epochs')\n",
        "\n",
        "# Show the plot\n",
        "plt.show()"
      ],
      "metadata": {
        "colab": {
          "base_uri": "https://localhost:8080/",
          "height": 472
        },
        "id": "0Kzev4a1tFMa",
        "outputId": "d1636504-a0ee-4fc9-9f04-749f75d80642"
      },
      "execution_count": null,
      "outputs": [
        {
          "output_type": "display_data",
          "data": {
            "text/plain": [
              "<Figure size 640x480 with 1 Axes>"
            ],
            "image/png": "[encoded data removed]"
          },
          "metadata": {}
        }
      ]
    },
    {
      "cell_type": "code",
      "source": [],
      "metadata": {
        "id": "aIdDqLaWtbzR"
      },
      "execution_count": null,
      "outputs": []
    }
  ]
}